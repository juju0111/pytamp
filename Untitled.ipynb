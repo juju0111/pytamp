{
 "cells": [
  {
   "cell_type": "code",
   "execution_count": 7,
   "id": "3448a743",
   "metadata": {},
   "outputs": [
    {
     "data": {
      "text/plain": [
       "['/home/juju/pytamp',\n",
       " '/home/juju/pytamp',\n",
       " '/home/juju/contact_graspnet',\n",
       " '/home/juju/anaconda3/lib/python39.zip',\n",
       " '/home/juju/anaconda3/lib/python3.9',\n",
       " '/home/juju/anaconda3/lib/python3.9/lib-dynload',\n",
       " '',\n",
       " '/home/juju/anaconda3/lib/python3.9/site-packages']"
      ]
     },
     "execution_count": 7,
     "metadata": {},
     "output_type": "execute_result"
    }
   ],
   "source": [
    "# import pykin\n",
    "# import pytamp \n",
    "# import graspnetAPI\n",
    "import sys\n",
    "sys.path"
   ]
  },
  {
   "cell_type": "code",
   "execution_count": 8,
   "id": "6d1706cd",
   "metadata": {},
   "outputs": [
    {
     "data": {
      "text/plain": [
       "'1.7.1'"
      ]
     },
     "execution_count": 8,
     "metadata": {},
     "output_type": "execute_result"
    }
   ],
   "source": [
    "import torch\n",
    "torch.__version__\n",
    "\n"
   ]
  }
 ],
 "metadata": {
  "kernelspec": {
   "display_name": "scale_balance_grasp",
   "language": "python",
   "name": "scale_balance_grasp"
  },
  "language_info": {
   "codemirror_mode": {
    "name": "ipython",
    "version": 3
   },
   "file_extension": ".py",
   "mimetype": "text/x-python",
   "name": "python",
   "nbconvert_exporter": "python",
   "pygments_lexer": "ipython3",
   "version": "3.9.7"
  }
 },
 "nbformat": 4,
 "nbformat_minor": 5
}
