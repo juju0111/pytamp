{
 "cells": [
  {
   "cell_type": "code",
   "execution_count": 3,
   "id": "dc5b5b04",
   "metadata": {
    "scrolled": true
   },
   "outputs": [
    {
     "name": "stdout",
     "output_type": "stream",
     "text": [
      "*********************** \u001b[92mLogical States\u001b[0m ***********************\n",
      "OrderedDict([('shelf_0', {'static': True}),\n",
      "             ('bin_0', {'static': True}),\n",
      "             ('shelf_1', {'static': True}),\n",
      "             ('bin_1', {'static': True}),\n",
      "             ('shelf_2', {'static': True}),\n",
      "             ('bin_2', {'static': True}),\n",
      "             ('shelf_3', {'static': True}),\n",
      "             ('bin_3', {'static': True}),\n",
      "             ('shelf_4', {'static': True}),\n",
      "             ('bin_4', {'static': True}),\n",
      "             ('shelf_5', {'static': True}),\n",
      "             ('bin_5', {'static': True}),\n",
      "             ('shelf_6', {'static': True}),\n",
      "             ('bin_6', {'static': True}),\n",
      "             ('shelf_7', {'static': True}),\n",
      "             ('bin_7', {'static': True}),\n",
      "             ('shelf_8', {'static': True}),\n",
      "             ('bin_8', {'static': True}),\n",
      "             ('shelf_9',\n",
      "              {'static': True,\n",
      "               'support': [\u001b[95mObject\u001b[0m(name=goal_bottle, pos=[1.04 0.   1.29])]}),\n",
      "             ('bin_9', {'static': True}),\n",
      "             ('shelf_10', {'static': True}),\n",
      "             ('bin_10', {'static': True}),\n",
      "             ('shelf_11', {'static': True}),\n",
      "             ('bin_11', {'static': True}),\n",
      "             ('shelf_12', {'static': True}),\n",
      "             ('bin_12', {'static': True}),\n",
      "             ('shelf_13', {'static': True}),\n",
      "             ('bin_13', {'static': True}),\n",
      "             ('shelf_14', {'static': True}),\n",
      "             ('bin_14', {'static': True}),\n",
      "             ('shelf_15', {'static': True}),\n",
      "             ('bin_15', {'static': True}),\n",
      "             ('shelf_16', {'static': True}),\n",
      "             ('bin_16', {'static': True}),\n",
      "             ('shelf_17', {'static': True}),\n",
      "             ('bin_17', {'static': True}),\n",
      "             ('shelf_18', {'static': True}),\n",
      "             ('bin_18', {'static': True}),\n",
      "             ('shelf_19', {'static': True}),\n",
      "             ('bin_19', {'static': True}),\n",
      "             ('goal_bottle',\n",
      "              {'on': \u001b[95mObject\u001b[0m(name=shelf_9, pos=[0.9        0.         1.41725156])}),\n",
      "             ('robotiq140_gripper', {'holding': None})])\n",
      "***************************************************************\n",
      "\n"
     ]
    }
   ],
   "source": [
    "from pytamp.action.pick import PickAction\n",
    "from pytamp.action.place import PlaceAction\n",
    "from pytamp.benchmark import Benchmark2\n",
    "\n",
    "benchmark2 = Benchmark2(\n",
    "    robot_name=\"doosan\", geom=\"visual\", is_pyplot=True, bottle_num=1\n",
    ")\n",
    "pick = PickAction(\n",
    "    benchmark2.scene_mngr, n_contacts=10, n_directions=10, retreat_distance=0.1\n",
    ")\n",
    "place = PlaceAction(\n",
    "    benchmark2.scene_mngr, n_samples_held_obj=20, n_samples_support_obj=10\n",
    ")\n",
    "pick_actions = list(pick.get_possible_actions_level_1())\n",
    "\n",
    "pnp_all_joint_path = []\n",
    "pick_all_objects = []\n",
    "place_all_object_poses = []\n"
   ]
  },
  {
   "cell_type": "code",
   "execution_count": 4,
   "id": "a3cb9b3c",
   "metadata": {
    "scrolled": false
   },
   "outputs": [
    {
     "name": "stderr",
     "output_type": "stream",
     "text": [
      "\u001b[1;32m[INFO] [RRT Star Planner]: Start to compute RRT-star Planning\u001b[0m\n"
     ]
    },
    {
     "name": "stdout",
     "output_type": "stream",
     "text": [
      "solve the problem using LM2!! \n"
     ]
    },
    {
     "name": "stderr",
     "output_type": "stream",
     "text": [
      "\u001b[1;32m[INFO] [RRT Star Planner]: The joint limit has been successfully checked. Pose error is 0.000000\u001b[0m\n",
      "\u001b[33;21m[WARNING] [RRT Star Planner]: Occur Collision for goal joints\u001b[0m\n"
     ]
    },
    {
     "name": "stdout",
     "output_type": "stream",
     "text": [
      "Iterators : 8\n",
      "WorkingTime[inverse_kinematics]: 0.0070 sec\n",
      "\n",
      "{('link4', 'shelf_4')}\n",
      "*********************** \u001b[92mScene\u001b[0m ***********************\n",
      "{'bin_0': \u001b[95mObject\u001b[0m(name=bin_0, pos=[0.        1.        0.3864222]),\n",
      " 'bin_1': \u001b[95mObject\u001b[0m(name=bin_1, pos=[0.        1.        0.3864222]),\n",
      " 'bin_10': \u001b[95mObject\u001b[0m(name=bin_10, pos=[0.        1.        0.3864222]),\n",
      " 'bin_11': \u001b[95mObject\u001b[0m(name=bin_11, pos=[0.        1.        0.3864222]),\n",
      " 'bin_12': \u001b[95mObject\u001b[0m(name=bin_12, pos=[0.        1.        0.3864222]),\n",
      " 'bin_13': \u001b[95mObject\u001b[0m(name=bin_13, pos=[0.        1.        0.3864222]),\n",
      " 'bin_14': \u001b[95mObject\u001b[0m(name=bin_14, pos=[0.        1.        0.3864222]),\n",
      " 'bin_15': \u001b[95mObject\u001b[0m(name=bin_15, pos=[0.        1.        0.3864222]),\n",
      " 'bin_16': \u001b[95mObject\u001b[0m(name=bin_16, pos=[0.        1.        0.3864222]),\n",
      " 'bin_17': \u001b[95mObject\u001b[0m(name=bin_17, pos=[0.        1.        0.3864222]),\n",
      " 'bin_18': \u001b[95mObject\u001b[0m(name=bin_18, pos=[0.        1.        0.3864222]),\n",
      " 'bin_19': \u001b[95mObject\u001b[0m(name=bin_19, pos=[0.        1.        0.3864222]),\n",
      " 'bin_2': \u001b[95mObject\u001b[0m(name=bin_2, pos=[0.        1.        0.3864222]),\n",
      " 'bin_3': \u001b[95mObject\u001b[0m(name=bin_3, pos=[0.        1.        0.3864222]),\n",
      " 'bin_4': \u001b[95mObject\u001b[0m(name=bin_4, pos=[0.        1.        0.3864222]),\n",
      " 'bin_5': \u001b[95mObject\u001b[0m(name=bin_5, pos=[0.        1.        0.3864222]),\n",
      " 'bin_6': \u001b[95mObject\u001b[0m(name=bin_6, pos=[0.        1.        0.3864222]),\n",
      " 'bin_7': \u001b[95mObject\u001b[0m(name=bin_7, pos=[0.        1.        0.3864222]),\n",
      " 'bin_8': \u001b[95mObject\u001b[0m(name=bin_8, pos=[0.        1.        0.3864222]),\n",
      " 'bin_9': \u001b[95mObject\u001b[0m(name=bin_9, pos=[0.        1.        0.3864222]),\n",
      " 'goal_bottle': \u001b[95mObject\u001b[0m(name=goal_bottle, pos=[1.04 0.   1.29]),\n",
      " 'shelf_0': \u001b[95mObject\u001b[0m(name=shelf_0, pos=[0.9        0.         1.41725156]),\n",
      " 'shelf_1': \u001b[95mObject\u001b[0m(name=shelf_1, pos=[0.9        0.         1.41725156]),\n",
      " 'shelf_10': \u001b[95mObject\u001b[0m(name=shelf_10, pos=[0.9        0.         1.41725156]),\n",
      " 'shelf_11': \u001b[95mObject\u001b[0m(name=shelf_11, pos=[0.9        0.         1.41725156]),\n",
      " 'shelf_12': \u001b[95mObject\u001b[0m(name=shelf_12, pos=[0.9        0.         1.41725156]),\n",
      " 'shelf_13': \u001b[95mObject\u001b[0m(name=shelf_13, pos=[0.9        0.         1.41725156]),\n",
      " 'shelf_14': \u001b[95mObject\u001b[0m(name=shelf_14, pos=[0.9        0.         1.41725156]),\n",
      " 'shelf_15': \u001b[95mObject\u001b[0m(name=shelf_15, pos=[0.9        0.         1.41725156]),\n",
      " 'shelf_16': \u001b[95mObject\u001b[0m(name=shelf_16, pos=[0.9        0.         1.41725156]),\n",
      " 'shelf_17': \u001b[95mObject\u001b[0m(name=shelf_17, pos=[0.9        0.         1.41725156]),\n",
      " 'shelf_18': \u001b[95mObject\u001b[0m(name=shelf_18, pos=[0.9        0.         1.41725156]),\n",
      " 'shelf_19': \u001b[95mObject\u001b[0m(name=shelf_19, pos=[0.9        0.         1.41725156]),\n",
      " 'shelf_2': \u001b[95mObject\u001b[0m(name=shelf_2, pos=[0.9        0.         1.41725156]),\n",
      " 'shelf_3': \u001b[95mObject\u001b[0m(name=shelf_3, pos=[0.9        0.         1.41725156]),\n",
      " 'shelf_4': \u001b[95mObject\u001b[0m(name=shelf_4, pos=[0.9        0.         1.41725156]),\n",
      " 'shelf_5': \u001b[95mObject\u001b[0m(name=shelf_5, pos=[0.9        0.         1.41725156]),\n",
      " 'shelf_6': \u001b[95mObject\u001b[0m(name=shelf_6, pos=[0.9        0.         1.41725156]),\n",
      " 'shelf_7': \u001b[95mObject\u001b[0m(name=shelf_7, pos=[0.9        0.         1.41725156]),\n",
      " 'shelf_8': \u001b[95mObject\u001b[0m(name=shelf_8, pos=[0.9        0.         1.41725156]),\n",
      " 'shelf_9': \u001b[95mObject\u001b[0m(name=shelf_9, pos=[0.9        0.         1.41725156])}\n",
      "doosan Transform(\u001b[95mpos\u001b[0m=[0.3   0.    0.913], \u001b[95mrot\u001b[0m=[1. 0. 0. 0.])\n",
      "robotiq140_gripper [[ 2.21903777e-08  4.83633877e-01  8.75270400e-01  7.68461527e-01]\n",
      " [ 8.26020883e-02  8.72279257e-01 -4.81981112e-01  1.50115726e-01]\n",
      " [-9.96582608e-01  7.22991736e-02 -3.99491488e-02  1.30615169e+00]\n",
      " [ 0.00000000e+00  0.00000000e+00  0.00000000e+00  1.00000000e+00]]\n",
      "***************************************************************\n",
      "\n",
      "******************** \u001b[92mRobot Collision Info\u001b[0m ********************\n",
      "base_0 [0.3   0.    0.913]\n",
      "doosan_pedestal [ 0.56     0.345   -0.00188]\n",
      "link1 [0.3   0.    1.108]\n",
      "link2 [0.28359142 0.0353802  1.108     ]\n",
      "link3 [0.32050629 0.05261678 1.66651606]\n",
      "link4 [0.65991823 0.20986502 1.31108882]\n",
      "link5 [0.65991823 0.20986502 1.31108882]\n",
      "link6 [0.76846153 0.15011573 1.30615169]\n",
      "right_gripper [0.76760814 0.15058566 1.30619064]\n",
      "left_outer_knuckle [0.80086518 0.09742785 1.3018092 ]\n",
      "left_outer_finger [0.78245373 0.07164757 1.29969771]\n",
      "left_inner_finger [ 0.81797888 -0.02151433  1.29202787]\n",
      "left_inner_finger_pad [ 0.87119188 -0.019822    1.29214631]\n",
      "right_outer_knuckle [0.83046454 0.15081712 1.30618527]\n",
      "right_outer_finger [0.84256522 0.18007252 1.30858477]\n",
      "right_inner_finger [0.94061122 0.19968142 1.31015809]\n",
      "right_inner_finger_pad [0.96749485 0.15388265 1.3063839 ]\n",
      "right_inner_knuckle [0.8275094  0.13206116 1.30464504]\n",
      "left_inner_knuckle [0.8152251  0.10990359 1.30282889]\n",
      "***************************************************************\n",
      "\n",
      "******************** \u001b[92mObject Collision Info\u001b[0m ********************\n",
      "shelf_0 [0.9        0.         1.41725156]\n",
      "shelf_1 [0.9        0.         1.41725156]\n",
      "shelf_2 [0.9        0.         1.41725156]\n",
      "shelf_3 [0.9        0.         1.41725156]\n",
      "shelf_4 [0.9        0.         1.41725156]\n",
      "shelf_5 [0.9        0.         1.41725156]\n",
      "shelf_6 [0.9        0.         1.41725156]\n",
      "shelf_7 [0.9        0.         1.41725156]\n",
      "shelf_8 [0.9        0.         1.41725156]\n",
      "shelf_9 [0.9        0.         1.41725156]\n",
      "shelf_10 [0.9        0.         1.41725156]\n",
      "shelf_11 [0.9        0.         1.41725156]\n",
      "shelf_12 [0.9        0.         1.41725156]\n",
      "shelf_13 [0.9        0.         1.41725156]\n",
      "shelf_14 [0.9        0.         1.41725156]\n",
      "shelf_15 [0.9        0.         1.41725156]\n",
      "shelf_16 [0.9        0.         1.41725156]\n",
      "shelf_17 [0.9        0.         1.41725156]\n",
      "shelf_18 [0.9        0.         1.41725156]\n",
      "shelf_19 [0.9        0.         1.41725156]\n",
      "bin_0 [0.        1.        0.3864222]\n",
      "bin_1 [0.        1.        0.3864222]\n",
      "bin_2 [0.        1.        0.3864222]\n",
      "bin_3 [0.        1.        0.3864222]\n",
      "bin_4 [0.        1.        0.3864222]\n",
      "bin_5 [0.        1.        0.3864222]\n",
      "bin_6 [0.        1.        0.3864222]\n",
      "bin_7 [0.        1.        0.3864222]\n",
      "bin_8 [0.        1.        0.3864222]\n",
      "bin_9 [0.        1.        0.3864222]\n",
      "bin_10 [0.        1.        0.3864222]\n",
      "bin_11 [0.        1.        0.3864222]\n",
      "bin_12 [0.        1.        0.3864222]\n",
      "bin_13 [0.        1.        0.3864222]\n",
      "bin_14 [0.        1.        0.3864222]\n",
      "bin_15 [0.        1.        0.3864222]\n",
      "bin_16 [0.        1.        0.3864222]\n",
      "bin_17 [0.        1.        0.3864222]\n",
      "bin_18 [0.        1.        0.3864222]\n",
      "bin_19 [0.        1.        0.3864222]\n",
      "goal_bottle [1.04 0.   1.29]\n",
      "***************************************************************\n",
      "\n"
     ]
    },
    {
     "data": {
      "image/png": "[encoded data removed]",
      "text/plain": [
       "<Figure size 1200x800 with 1 Axes>"
      ]
     },
     "metadata": {},
     "output_type": "display_data"
    },
    {
     "name": "stderr",
     "output_type": "stream",
     "text": [
      "\u001b[1;32m[INFO] [RRT Star Planner]: The joint limit has been successfully checked. Pose error is 0.000000\u001b[0m\n"
     ]
    },
    {
     "name": "stdout",
     "output_type": "stream",
     "text": [
      "solve the problem using LM2!! \n",
      "Iterators : 13\n",
      "WorkingTime[inverse_kinematics]: 0.0101 sec\n",
      "\n"
     ]
    },
    {
     "name": "stderr",
     "output_type": "stream",
     "text": [
      "\u001b[1;32m[INFO] [RRT Star Planner]: Generate Path Successfully!!\u001b[0m\n",
      "\u001b[1;32m[INFO] [RRT Star Planner]: Path length 5 --> 40\u001b[0m\n",
      "\u001b[1;32m[INFO] [Cartesian Planner]: Start to compute Cartesian Planning\u001b[0m\n",
      "\u001b[1;32m[INFO] [Cartesian Planner]: Generate Path Successfully!! Error is 0.000001\u001b[0m\n",
      "\u001b[1;32m[INFO] [Cartesian Planner]: Start to compute Cartesian Planning\u001b[0m\n",
      "\u001b[1;32m[INFO] [Cartesian Planner]: Generate Path Successfully!! Error is 0.000001\u001b[0m\n",
      "\u001b[1;32m[INFO] [RRT Star Planner]: Start to compute RRT-star Planning\u001b[0m\n"
     ]
    },
    {
     "name": "stdout",
     "output_type": "stream",
     "text": [
      "Cost is 3.5\n",
      "WorkingTime[run]: 10.5117 sec\n",
      "\n",
      "WorkingTime[run]: 0.0803 sec\n",
      "\n",
      "WorkingTime[run]: 0.0766 sec\n",
      "\n"
     ]
    },
    {
     "name": "stderr",
     "output_type": "stream",
     "text": [
      "\u001b[1;32m[INFO] [RRT Star Planner]: Generate Path Successfully!!\u001b[0m\n",
      "\u001b[1;32m[INFO] [RRT Star Planner]: Path length 4 --> 30\u001b[0m\n"
     ]
    },
    {
     "name": "stdout",
     "output_type": "stream",
     "text": [
      "Cost is 3.366\n",
      "WorkingTime[run]: 3.0374 sec\n",
      "\n"
     ]
    }
   ],
   "source": [
    "pnp_path = []\n",
    "pick_objects = []\n",
    "place_object_poses = []\n",
    "\n",
    "success_joint_path = False\n",
    "cnt = 0\n",
    "for pick_action in pick_actions:\n",
    "    for pick_scene in pick.get_possible_transitions(\n",
    "        pick.scene_mngr.init_scene, action=pick_action\n",
    "    ):\n",
    "        pick_joint_path = pick.get_possible_joint_path_level_2(\n",
    "            scene=pick_scene, grasp_poses=pick_scene.grasp_poses\n",
    "        )\n",
    "        if pick_joint_path:\n",
    "            place_actions = list(place.get_possible_actions_level_1(pick_scene))\n",
    "            for place_action in place_actions:\n",
    "                for place_scene in place.get_possible_transitions(\n",
    "                    scene=pick_scene, action=place_action\n",
    "                ):\n",
    "                    place_joint_path = place.get_possible_joint_path_level_2(\n",
    "                        scene=place_scene,\n",
    "                        release_poses=place_scene.release_poses,\n",
    "                        init_thetas=pick_joint_path[-1][\n",
    "                            place.move_data.MOVE_default_grasp\n",
    "                        ][-1],\n",
    "                    )\n",
    "                    if place_joint_path:\n",
    "                        success_joint_path = True\n",
    "                        pnp_path += pick_joint_path + place_joint_path\n",
    "                        pick_objects.append(pick_scene.robot.gripper.attached_obj_name)\n",
    "                        place_object_poses.append(\n",
    "                            place_scene.objs[place_scene.pick_obj_name].h_mat\n",
    "                        )\n",
    "                        break\n",
    "                if success_joint_path:\n",
    "                    break\n",
    "        if success_joint_path:\n",
    "            break\n",
    "    if success_joint_path:\n",
    "        break\n",
    "pnp_all_joint_path.append(pnp_path)\n",
    "pick_all_objects.append(pick_objects)\n",
    "place_all_object_poses.append(place_object_poses)\n"
   ]
  },
  {
   "cell_type": "code",
   "execution_count": 5,
   "id": "c650a025",
   "metadata": {},
   "outputs": [
    {
     "ename": "NameError",
     "evalue": "name 'mcts' is not defined",
     "output_type": "error",
     "traceback": [
      "\u001b[0;31m---------------------------------------------------------------------------\u001b[0m",
      "\u001b[0;31mNameError\u001b[0m                                 Traceback (most recent call last)",
      "Cell \u001b[0;32mIn[5], line 1\u001b[0m\n\u001b[0;32m----> 1\u001b[0m \u001b[43mmcts\u001b[49m\u001b[38;5;241m.\u001b[39mplace_action\u001b[38;5;241m.\u001b[39msimulate_path(\n\u001b[1;32m      2\u001b[0m     final_pnp_all_joint_paths[\u001b[38;5;241m0\u001b[39m],\n\u001b[1;32m      3\u001b[0m     pick_all_objects,\n\u001b[1;32m      4\u001b[0m     place_all_object_poses,\n\u001b[1;32m      5\u001b[0m     is_save\u001b[38;5;241m=\u001b[39m\u001b[38;5;28;01mTrue\u001b[39;00m,\n\u001b[1;32m      6\u001b[0m     video_name\u001b[38;5;241m=\u001b[39m\u001b[38;5;124m\"\u001b[39m\u001b[38;5;124mMCTS_origin_pytamp_benchmark2\u001b[39m\u001b[38;5;124m\"\u001b[39m,\n\u001b[1;32m      7\u001b[0m \u001b[38;5;66;03m#     gif=False,\u001b[39;00m\n\u001b[1;32m      8\u001b[0m )\n",
      "\u001b[0;31mNameError\u001b[0m: name 'mcts' is not defined"
     ]
    }
   ],
   "source": [
    "mcts.place_action.simulate_path(\n",
    "    final_pnp_all_joint_paths[0],\n",
    "    pick_all_objects,\n",
    "    place_all_object_poses,\n",
    "    is_save=True,\n",
    "    video_name=\"MCTS_origin_pytamp_benchmark2\",\n",
    "#     gif=False,\n",
    ")\n"
   ]
  },
  {
   "cell_type": "code",
   "execution_count": null,
   "id": "429bc235",
   "metadata": {},
   "outputs": [],
   "source": []
  },
  {
   "cell_type": "code",
   "execution_count": 3,
   "id": "adf0c4f7",
   "metadata": {
    "scrolled": true
   },
   "outputs": [
    {
     "name": "stdout",
     "output_type": "stream",
     "text": [
      "*********************** \u001b[92mLogical States\u001b[0m ***********************\n",
      "OrderedDict([('shelf_0', {'static': True}),\n",
      "             ('bin_0', {'static': True}),\n",
      "             ('shelf_1', {'static': True}),\n",
      "             ('bin_1', {'static': True}),\n",
      "             ('shelf_2', {'static': True}),\n",
      "             ('bin_2', {'static': True}),\n",
      "             ('shelf_3', {'static': True}),\n",
      "             ('bin_3', {'static': True}),\n",
      "             ('shelf_4', {'static': True}),\n",
      "             ('bin_4', {'static': True}),\n",
      "             ('shelf_5', {'static': True}),\n",
      "             ('bin_5', {'static': True}),\n",
      "             ('shelf_6', {'static': True}),\n",
      "             ('bin_6', {'static': True}),\n",
      "             ('shelf_7', {'static': True}),\n",
      "             ('bin_7', {'static': True}),\n",
      "             ('shelf_8', {'static': True}),\n",
      "             ('bin_8', {'static': True}),\n",
      "             ('shelf_9',\n",
      "              {'static': True,\n",
      "               'support': [\u001b[95mObject\u001b[0m(name=bottle_1, pos=[0.98 0.08 1.29]),\n",
      "                           \u001b[95mObject\u001b[0m(name=bottle_2, pos=[ 0.98 -0.08  1.29]),\n",
      "                           \u001b[95mObject\u001b[0m(name=bottle_3, pos=[0.98 0.   1.29]),\n",
      "                           \u001b[95mObject\u001b[0m(name=bottle_4, pos=[1.04 0.08 1.29]),\n",
      "                           \u001b[95mObject\u001b[0m(name=bottle_5, pos=[ 1.04 -0.08  1.29]),\n",
      "                           \u001b[95mObject\u001b[0m(name=goal_bottle, pos=[1.04 0.   1.29])]}),\n",
      "             ('bin_9', {'static': True}),\n",
      "             ('shelf_10', {'static': True}),\n",
      "             ('bin_10', {'static': True}),\n",
      "             ('shelf_11', {'static': True}),\n",
      "             ('bin_11', {'static': True}),\n",
      "             ('shelf_12', {'static': True}),\n",
      "             ('bin_12', {'static': True}),\n",
      "             ('shelf_13', {'static': True}),\n",
      "             ('bin_13', {'static': True}),\n",
      "             ('shelf_14', {'static': True}),\n",
      "             ('bin_14', {'static': True}),\n",
      "             ('shelf_15', {'static': True}),\n",
      "             ('bin_15', {'static': True}),\n",
      "             ('shelf_16', {'static': True}),\n",
      "             ('bin_16', {'static': True}),\n",
      "             ('shelf_17', {'static': True}),\n",
      "             ('bin_17', {'static': True}),\n",
      "             ('shelf_18', {'static': True}),\n",
      "             ('bin_18', {'static': True}),\n",
      "             ('shelf_19', {'static': True}),\n",
      "             ('bin_19', {'static': True}),\n",
      "             ('bottle_1',\n",
      "              {'on': \u001b[95mObject\u001b[0m(name=shelf_9, pos=[0.9        0.         1.41725156])}),\n",
      "             ('bottle_2',\n",
      "              {'on': \u001b[95mObject\u001b[0m(name=shelf_9, pos=[0.9        0.         1.41725156])}),\n",
      "             ('bottle_3',\n",
      "              {'on': \u001b[95mObject\u001b[0m(name=shelf_9, pos=[0.9        0.         1.41725156])}),\n",
      "             ('bottle_4',\n",
      "              {'on': \u001b[95mObject\u001b[0m(name=shelf_9, pos=[0.9        0.         1.41725156])}),\n",
      "             ('bottle_5',\n",
      "              {'on': \u001b[95mObject\u001b[0m(name=shelf_9, pos=[0.9        0.         1.41725156])}),\n",
      "             ('goal_bottle',\n",
      "              {'on': \u001b[95mObject\u001b[0m(name=shelf_9, pos=[0.9        0.         1.41725156])}),\n",
      "             ('robotiq140_gripper', {'holding': None})])\n",
      "***************************************************************\n",
      "\n"
     ]
    },
    {
     "name": "stderr",
     "output_type": "stream",
     "text": [
      "\u001b[1;32m[INFO] [RRT Star Planner]: Start to compute RRT-star Planning\u001b[0m\n",
      "\u001b[1;32m[INFO] [RRT Star Planner]: The joint limit has been successfully checked. Pose error is 0.000001\u001b[0m\n"
     ]
    },
    {
     "name": "stdout",
     "output_type": "stream",
     "text": [
      "solve the problem using LM2!! \n",
      "Iterators : 8\n",
      "WorkingTime[inverse_kinematics]: 0.0085 sec\n",
      "\n"
     ]
    },
    {
     "name": "stderr",
     "output_type": "stream",
     "text": [
      "\u001b[1;32m[INFO] [RRT Star Planner]: Generate Path Successfully!!\u001b[0m\n",
      "\u001b[1;32m[INFO] [RRT Star Planner]: Path length 4 --> 30\u001b[0m\n",
      "\u001b[1;32m[INFO] [Cartesian Planner]: Start to compute Cartesian Planning\u001b[0m\n",
      "\u001b[1;32m[INFO] [Cartesian Planner]: Generate Path Successfully!! Error is 0.000001\u001b[0m\n",
      "\u001b[1;32m[INFO] [Cartesian Planner]: Start to compute Cartesian Planning\u001b[0m\n",
      "\u001b[1;32m[INFO] [Cartesian Planner]: Generate Path Successfully!! Error is 0.000002\u001b[0m\n",
      "\u001b[1;32m[INFO] [RRT Star Planner]: Start to compute RRT-star Planning\u001b[0m\n"
     ]
    },
    {
     "name": "stdout",
     "output_type": "stream",
     "text": [
      "Cost is 2.4\n",
      "WorkingTime[run]: 2.9385 sec\n",
      "\n",
      "WorkingTime[run]: 0.0787 sec\n",
      "\n",
      "WorkingTime[run]: 0.0768 sec\n",
      "\n"
     ]
    },
    {
     "name": "stderr",
     "output_type": "stream",
     "text": [
      "\u001b[1;32m[INFO] [RRT Star Planner]: Generate Path Successfully!!\u001b[0m\n",
      "\u001b[1;32m[INFO] [RRT Star Planner]: Path length 3 --> 20\u001b[0m\n"
     ]
    },
    {
     "name": "stdout",
     "output_type": "stream",
     "text": [
      "Cost is 2.225\n",
      "WorkingTime[run]: 3.0173 sec\n",
      "\n"
     ]
    },
    {
     "data": {
      "image/png": "[encoded data removed]",
      "text/plain": [
       "<Figure size 1200x800 with 1 Axes>"
      ]
     },
     "metadata": {},
     "output_type": "display_data"
    }
   ],
   "source": [
    "from pykin.utils import plot_utils as p_utils\n",
    "from pytamp.action.pick import PickAction\n",
    "from pytamp.benchmark import Benchmark2\n",
    "\n",
    "benchmark2 = Benchmark2(\n",
    "    robot_name=\"doosan\", geom=\"visual\", is_pyplot=True, bottle_num=6\n",
    ")\n",
    "pick = PickAction(\n",
    "    benchmark2.scene_mngr, n_contacts=10, n_directions=10, retreat_distance=0.1\n",
    ")\n",
    "\n",
    "################# Action Test ##################\n",
    "actions = list(pick.get_possible_actions_level_1())\n",
    "\n",
    "pick_all_joint_path = []\n",
    "pick_all_objects = []\n",
    "pick_all_object_poses = []\n",
    "\n",
    "pick_path = []\n",
    "pick_objects = []\n",
    "pick_object_poses = []\n",
    "\n",
    "success_joint_path = False\n",
    "for pick_action in actions:\n",
    "    for idx, pick_scene in enumerate(\n",
    "        pick.get_possible_transitions(pick.scene_mngr.scene, action=pick_action)\n",
    "    ):\n",
    "        pick_joint_path = pick.get_possible_joint_path_level_2(\n",
    "            scene=pick_scene, grasp_poses=pick_scene.grasp_poses\n",
    "        )\n",
    "        if pick_joint_path:\n",
    "            success_joint_path = True\n",
    "            pick_path += pick_joint_path\n",
    "            pick_objects.append(pick.scene_mngr.attached_obj_name)\n",
    "            pick_object_poses.append(pick.scene_mngr.scene.robot.gripper.pick_obj_pose)\n",
    "        if success_joint_path:\n",
    "            break\n",
    "    if success_joint_path:\n",
    "        break\n",
    "\n",
    "pick_all_joint_path.append(pick_path)\n",
    "pick_all_objects.append(pick_objects)\n",
    "pick_all_object_poses.append(pick_object_poses)\n",
    "fig, ax = p_utils.init_3d_figure(name=\"Level wise 2\")\n",
    "pick.simulate_path(\n",
    "    pick_all_joint_path, pick_all_objects, pick_all_object_poses, fig=fig, ax=ax\n",
    ")\n"
   ]
  },
  {
   "cell_type": "code",
   "execution_count": null,
   "id": "125981e5",
   "metadata": {},
   "outputs": [],
   "source": []
  }
 ],
 "metadata": {
  "kernelspec": {
   "display_name": "TAMP_39",
   "language": "python",
   "name": "tamp_39"
  },
  "language_info": {
   "codemirror_mode": {
    "name": "ipython",
    "version": 3
   },
   "file_extension": ".py",
   "mimetype": "text/x-python",
   "name": "python",
   "nbconvert_exporter": "python",
   "pygments_lexer": "ipython3",
   "version": "3.9.0"
  }
 },
 "nbformat": 4,
 "nbformat_minor": 5
}
