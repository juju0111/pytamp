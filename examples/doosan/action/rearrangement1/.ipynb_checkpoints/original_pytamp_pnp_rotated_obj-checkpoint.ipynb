{
 "cells": [
  {
   "cell_type": "code",
   "execution_count": 1,
   "id": "07160a6a",
   "metadata": {},
   "outputs": [],
   "source": [
    "from pytamp_jh.benchmark import Benchmark1\n",
    "from pytamp_jh.action.pick import PickAction\n",
    "from pytamp_jh.action.place import PlaceAction"
   ]
  },
  {
   "cell_type": "code",
   "execution_count": 2,
   "id": "87e96758",
   "metadata": {},
   "outputs": [
    {
     "name": "stdout",
     "output_type": "stream",
     "text": [
      "box_pose [Transform(\u001b[95mpos\u001b[0m=[0.6        0.         0.93129998], \u001b[95mrot\u001b[0m=[0.96592583 0.1830127  0.1830127  0.        ]), Transform(\u001b[95mpos\u001b[0m=[ 0.6        -0.2         0.85829998], \u001b[95mrot\u001b[0m=[1. 0. 0. 0.]), Transform(\u001b[95mpos\u001b[0m=[0.6        0.2        0.85829998], \u001b[95mrot\u001b[0m=[1. 0. 0. 0.]), Transform(\u001b[95mpos\u001b[0m=[0.6        0.2        0.95829998], \u001b[95mrot\u001b[0m=[1. 0. 0. 0.]), Transform(\u001b[95mpos\u001b[0m=[ 0.6        -0.2         0.95829998], \u001b[95mrot\u001b[0m=[1. 0. 0. 0.]), Transform(\u001b[95mpos\u001b[0m=[ 0.6        -0.2         1.05829998], \u001b[95mrot\u001b[0m=[1. 0. 0. 0.]), Transform(\u001b[95mpos\u001b[0m=[ 0.6        -0.2         1.15829998], \u001b[95mrot\u001b[0m=[1. 0. 0. 0.]), Transform(\u001b[95mpos\u001b[0m=[0.8        0.2        0.85829998], \u001b[95mrot\u001b[0m=[1. 0. 0. 0.])]\n",
      "*********************** \u001b[92mLogical States\u001b[0m ***********************\n",
      "OrderedDict([('A_box',\n",
      "              {'on': \u001b[95mObject\u001b[0m(name=table, pos=[ 1.    -0.6    0.043])}),\n",
      "             ('B_box',\n",
      "              {'on': \u001b[95mObject\u001b[0m(name=table, pos=[ 1.    -0.6    0.043])}),\n",
      "             ('C_box',\n",
      "              {'on': \u001b[95mObject\u001b[0m(name=table, pos=[ 1.    -0.6    0.043])}),\n",
      "             ('tray_red', {'static': True}),\n",
      "             ('table',\n",
      "              {'static': True,\n",
      "               'support': [\u001b[95mObject\u001b[0m(name=A_box, pos=[0.6        0.         0.93129998]),\n",
      "                           \u001b[95mObject\u001b[0m(name=B_box, pos=[ 0.6        -0.2         0.85829998]),\n",
      "                           \u001b[95mObject\u001b[0m(name=C_box, pos=[0.6        0.2        0.85829998])]}),\n",
      "             ('robotiq140_gripper', {'holding': None})])\n",
      "***************************************************************\n",
      "\n"
     ]
    }
   ],
   "source": [
    "benchmark1 = Benchmark1(robot_name=\"doosan\", geom=\"visual\", is_pyplot=True, box_num=3)\n",
    "pick = PickAction(benchmark1.scene_mngr, n_contacts=20, n_directions=2)\n",
    "place = PlaceAction(\n",
    "    benchmark1.scene_mngr, n_samples_held_obj=20, n_samples_support_obj=0\n",
    ")\n",
    "pick_actions = list(pick.get_possible_actions_level_1())"
   ]
  },
  {
   "cell_type": "code",
   "execution_count": 3,
   "id": "73cb0d6f",
   "metadata": {},
   "outputs": [],
   "source": [
    "pnp_all_joint_path = []\n",
    "pick_all_objects = []\n",
    "place_all_object_poses = []\n",
    "\n",
    "pnp_path = []\n",
    "pick_objects = []\n",
    "place_object_poses = []\n",
    "\n",
    "success_joint_path = False\n",
    "cnt = 0\n",
    "cnt_place = 0"
   ]
  },
  {
   "cell_type": "code",
   "execution_count": 4,
   "id": "c5fc6978",
   "metadata": {
    "scrolled": true
   },
   "outputs": [
    {
     "name": "stderr",
     "output_type": "stream",
     "text": [
      "\u001b[1;32m[INFO] [RRT Star Planner]: Start to compute RRT-star Planning\u001b[0m\n",
      "\u001b[1;32m[INFO] [RRT Star Planner]: The joint limit has been successfully checked. Pose error is 0.000000\u001b[0m\n"
     ]
    },
    {
     "name": "stdout",
     "output_type": "stream",
     "text": [
      "solve the problem using LM2!! \n",
      "Iterators : 6\n",
      "WorkingTime[inverse_kinematics]: 0.0095 sec\n",
      "\n"
     ]
    },
    {
     "name": "stderr",
     "output_type": "stream",
     "text": [
      "\u001b[1;32m[INFO] [RRT Star Planner]: Generate Path Successfully!!\u001b[0m\n",
      "\u001b[1;32m[INFO] [RRT Star Planner]: Path length 3 --> 20\u001b[0m\n",
      "\u001b[1;32m[INFO] [Cartesian Planner]: Start to compute Cartesian Planning\u001b[0m\n",
      "\u001b[1;32m[INFO] [Cartesian Planner]: Generate Path Successfully!! Error is 0.000001\u001b[0m\n",
      "\u001b[1;32m[INFO] [Cartesian Planner]: Start to compute Cartesian Planning\u001b[0m\n"
     ]
    },
    {
     "name": "stdout",
     "output_type": "stream",
     "text": [
      "Cost is 1.826\n",
      "WorkingTime[run]: 3.8103 sec\n",
      "\n",
      "WorkingTime[run]: 0.1002 sec\n",
      "\n"
     ]
    },
    {
     "name": "stderr",
     "output_type": "stream",
     "text": [
      "\u001b[1;32m[INFO] [Cartesian Planner]: Generate Path Successfully!! Error is 0.000001\u001b[0m\n",
      "\u001b[1;32m[INFO] [RRT Star Planner]: Start to compute RRT-star Planning\u001b[0m\n"
     ]
    },
    {
     "name": "stdout",
     "output_type": "stream",
     "text": [
      "WorkingTime[run]: 0.1042 sec\n",
      "\n"
     ]
    },
    {
     "name": "stderr",
     "output_type": "stream",
     "text": [
      "\u001b[1;32m[INFO] [RRT Star Planner]: Generate Path Successfully!!\u001b[0m\n",
      "\u001b[1;32m[INFO] [RRT Star Planner]: Path length 3 --> 20\u001b[0m\n",
      "\u001b[1;32m[INFO] [RRT Star Planner]: Start to compute RRT-star Planning\u001b[0m\n",
      "\u001b[1;32m[INFO] [RRT Star Planner]: The joint limit has been successfully checked. Pose error is 0.000000\u001b[0m\n"
     ]
    },
    {
     "name": "stdout",
     "output_type": "stream",
     "text": [
      "Cost is 1.801\n",
      "WorkingTime[run]: 4.1072 sec\n",
      "\n",
      "solve the problem using LM2!! \n",
      "Iterators : 10\n",
      "WorkingTime[inverse_kinematics]: 0.0107 sec\n",
      "\n"
     ]
    },
    {
     "name": "stderr",
     "output_type": "stream",
     "text": [
      "\u001b[31;21m[ERROR] [RRT Star Planner]: Failed Generate Path..\u001b[0m\n",
      "\u001b[1;32m[INFO] [RRT Star Planner]: The joint limit has been successfully checked. Pose error is 0.000001\u001b[0m\n"
     ]
    },
    {
     "name": "stdout",
     "output_type": "stream",
     "text": [
      "\u001b[1mRetry Generate Path, the number of retries is 1/5 \u001b[0m\n",
      "\n",
      "solve the problem using LM2!! \n",
      "Iterators : 18\n",
      "WorkingTime[inverse_kinematics]: 0.0158 sec\n",
      "\n"
     ]
    },
    {
     "name": "stderr",
     "output_type": "stream",
     "text": [
      "\u001b[1;32m[INFO] [RRT Star Planner]: iter : 500\u001b[0m\n",
      "\u001b[31;21m[ERROR] [RRT Star Planner]: Failed Generate Path..\u001b[0m\n",
      "\u001b[1;32m[INFO] [RRT Star Planner]: The joint limit has been successfully checked. Pose error is 0.000000\u001b[0m\n"
     ]
    },
    {
     "name": "stdout",
     "output_type": "stream",
     "text": [
      "\u001b[1mRetry Generate Path, the number of retries is 2/5 \u001b[0m\n",
      "\n",
      "solve the problem using LM2!! \n",
      "Iterators : 7\n",
      "WorkingTime[inverse_kinematics]: 0.0066 sec\n",
      "\n"
     ]
    },
    {
     "name": "stderr",
     "output_type": "stream",
     "text": [
      "\u001b[1;32m[INFO] [RRT Star Planner]: iter : 500\u001b[0m\n",
      "\u001b[31;21m[ERROR] [RRT Star Planner]: Failed Generate Path..\u001b[0m\n",
      "\u001b[1;32m[INFO] [RRT Star Planner]: The joint limit has been successfully checked. Pose error is 0.000000\u001b[0m\n"
     ]
    },
    {
     "name": "stdout",
     "output_type": "stream",
     "text": [
      "\u001b[1mRetry Generate Path, the number of retries is 3/5 \u001b[0m\n",
      "\n",
      "solve the problem using LM2!! \n",
      "Iterators : 27\n",
      "WorkingTime[inverse_kinematics]: 0.0278 sec\n",
      "\n"
     ]
    },
    {
     "name": "stderr",
     "output_type": "stream",
     "text": [
      "\u001b[1;32m[INFO] [RRT Star Planner]: iter : 500\u001b[0m\n",
      "\u001b[1;32m[INFO] [RRT Star Planner]: iter : 1000\u001b[0m\n",
      "\u001b[31;21m[ERROR] [RRT Star Planner]: Failed Generate Path..\u001b[0m\n",
      "\u001b[1;32m[INFO] [RRT Star Planner]: The joint limit has been successfully checked. Pose error is 0.000001\u001b[0m\n"
     ]
    },
    {
     "name": "stdout",
     "output_type": "stream",
     "text": [
      "\u001b[1mRetry Generate Path, the number of retries is 4/5 \u001b[0m\n",
      "\n",
      "solve the problem using LM2!! \n",
      "Iterators : 19\n",
      "WorkingTime[inverse_kinematics]: 0.0244 sec\n",
      "\n"
     ]
    },
    {
     "name": "stderr",
     "output_type": "stream",
     "text": [
      "\u001b[1;32m[INFO] [RRT Star Planner]: iter : 500\u001b[0m\n",
      "\u001b[1;32m[INFO] [RRT Star Planner]: iter : 1000\u001b[0m\n",
      "\u001b[31;21m[ERROR] [RRT Star Planner]: Failed Generate Path..\u001b[0m\n",
      "\u001b[1;32m[INFO] [RRT Star Planner]: The joint limit has been successfully checked. Pose error is 0.000001\u001b[0m\n"
     ]
    },
    {
     "name": "stdout",
     "output_type": "stream",
     "text": [
      "\u001b[1mRetry Generate Path, the number of retries is 5/5 \u001b[0m\n",
      "\n",
      "solve the problem using LM2!! \n",
      "Iterators : 12\n",
      "WorkingTime[inverse_kinematics]: 0.0118 sec\n",
      "\n"
     ]
    },
    {
     "name": "stderr",
     "output_type": "stream",
     "text": [
      "\u001b[1;32m[INFO] [RRT Star Planner]: iter : 500\u001b[0m\n",
      "\u001b[1;32m[INFO] [RRT Star Planner]: iter : 1000\u001b[0m\n",
      "\u001b[31;21m[ERROR] [RRT Star Planner]: Failed Generate Path.. The number of retries of 6 exceeded\u001b[0m\n"
     ]
    },
    {
     "data": {
      "image/png": "[encoded data removed]",
      "text/plain": [
       "<Figure size 1200x800 with 1 Axes>"
      ]
     },
     "metadata": {},
     "output_type": "display_data"
    },
    {
     "name": "stderr",
     "output_type": "stream",
     "text": [
      "\u001b[1;32m[INFO] [RRT Star Planner]: Start to compute RRT-star Planning\u001b[0m\n",
      "\u001b[1;32m[INFO] [RRT Star Planner]: The joint limit has been successfully checked. Pose error is 0.000000\u001b[0m\n"
     ]
    },
    {
     "name": "stdout",
     "output_type": "stream",
     "text": [
      "WorkingTime[run]: 59.6585 sec\n",
      "\n",
      "solve the problem using LM2!! \n",
      "Iterators : 9\n",
      "WorkingTime[inverse_kinematics]: 0.0093 sec\n",
      "\n"
     ]
    },
    {
     "name": "stderr",
     "output_type": "stream",
     "text": [
      "\u001b[1;32m[INFO] [RRT Star Planner]: Generate Path Successfully!!\u001b[0m\n",
      "\u001b[1;32m[INFO] [RRT Star Planner]: Path length 3 --> 20\u001b[0m\n",
      "\u001b[1;32m[INFO] [Cartesian Planner]: Start to compute Cartesian Planning\u001b[0m\n",
      "\u001b[1;32m[INFO] [Cartesian Planner]: Generate Path Successfully!! Error is 0.000001\u001b[0m\n",
      "\u001b[1;32m[INFO] [Cartesian Planner]: Start to compute Cartesian Planning\u001b[0m\n"
     ]
    },
    {
     "name": "stdout",
     "output_type": "stream",
     "text": [
      "Cost is 2.142\n",
      "WorkingTime[run]: 3.9135 sec\n",
      "\n",
      "WorkingTime[run]: 0.1027 sec\n",
      "\n"
     ]
    },
    {
     "name": "stderr",
     "output_type": "stream",
     "text": [
      "\u001b[1;32m[INFO] [Cartesian Planner]: Generate Path Successfully!! Error is 0.000001\u001b[0m\n",
      "\u001b[1;32m[INFO] [RRT Star Planner]: Start to compute RRT-star Planning\u001b[0m\n"
     ]
    },
    {
     "name": "stdout",
     "output_type": "stream",
     "text": [
      "WorkingTime[run]: 0.1019 sec\n",
      "\n"
     ]
    },
    {
     "name": "stderr",
     "output_type": "stream",
     "text": [
      "\u001b[1;32m[INFO] [RRT Star Planner]: Generate Path Successfully!!\u001b[0m\n",
      "\u001b[1;32m[INFO] [RRT Star Planner]: Path length 3 --> 20\u001b[0m\n",
      "\u001b[1;32m[INFO] [RRT Star Planner]: Start to compute RRT-star Planning\u001b[0m\n",
      "\u001b[1;32m[INFO] [RRT Star Planner]: The joint limit has been successfully checked. Pose error is 0.000000\u001b[0m\n"
     ]
    },
    {
     "name": "stdout",
     "output_type": "stream",
     "text": [
      "Cost is 1.656\n",
      "WorkingTime[run]: 3.7732 sec\n",
      "\n",
      "solve the problem using LM2!! \n",
      "Iterators : 8\n",
      "WorkingTime[inverse_kinematics]: 0.0090 sec\n",
      "\n"
     ]
    },
    {
     "name": "stderr",
     "output_type": "stream",
     "text": [
      "\u001b[1;32m[INFO] [RRT Star Planner]: Generate Path Successfully!!\u001b[0m\n",
      "\u001b[1;32m[INFO] [RRT Star Planner]: Path length 4 --> 30\u001b[0m\n",
      "\u001b[1;32m[INFO] [Cartesian Planner]: Start to compute Cartesian Planning\u001b[0m\n",
      "\u001b[1;32m[INFO] [Cartesian Planner]: Generate Path Successfully!! Error is 0.000001\u001b[0m\n",
      "\u001b[1;32m[INFO] [Cartesian Planner]: Start to compute Cartesian Planning\u001b[0m\n"
     ]
    },
    {
     "name": "stdout",
     "output_type": "stream",
     "text": [
      "Cost is 1.713\n",
      "WorkingTime[run]: 3.8213 sec\n",
      "\n",
      "WorkingTime[run]: 0.0999 sec\n",
      "\n"
     ]
    },
    {
     "name": "stderr",
     "output_type": "stream",
     "text": [
      "\u001b[1;32m[INFO] [Cartesian Planner]: Generate Path Successfully!! Error is 0.000012\u001b[0m\n",
      "\u001b[1;32m[INFO] [RRT Star Planner]: Start to compute RRT-star Planning\u001b[0m\n"
     ]
    },
    {
     "name": "stdout",
     "output_type": "stream",
     "text": [
      "WorkingTime[run]: 0.1063 sec\n",
      "\n"
     ]
    },
    {
     "name": "stderr",
     "output_type": "stream",
     "text": [
      "\u001b[1;32m[INFO] [RRT Star Planner]: Generate Path Successfully!!\u001b[0m\n",
      "\u001b[1;32m[INFO] [RRT Star Planner]: Path length 3 --> 20\u001b[0m\n"
     ]
    },
    {
     "name": "stdout",
     "output_type": "stream",
     "text": [
      "Cost is 2.241\n",
      "WorkingTime[run]: 3.8520 sec\n",
      "\n"
     ]
    },
    {
     "ename": "TypeError",
     "evalue": "simulate_path() got an unexpected keyword argument 'gif'",
     "output_type": "error",
     "traceback": [
      "\u001b[0;31m---------------------------------------------------------------------------\u001b[0m",
      "\u001b[0;31mTypeError\u001b[0m                                 Traceback (most recent call last)",
      "Cell \u001b[0;32mIn[4], line 40\u001b[0m\n\u001b[1;32m     38\u001b[0m pick_all_objects\u001b[38;5;241m.\u001b[39mappend(pick_objects)\n\u001b[1;32m     39\u001b[0m place_all_object_poses\u001b[38;5;241m.\u001b[39mappend(place_object_poses)\n\u001b[0;32m---> 40\u001b[0m \u001b[43mplace\u001b[49m\u001b[38;5;241;43m.\u001b[39;49m\u001b[43msimulate_path\u001b[49m\u001b[43m(\u001b[49m\n\u001b[1;32m     41\u001b[0m \u001b[43m    \u001b[49m\u001b[43mpnp_all_joint_path\u001b[49m\u001b[43m,\u001b[49m\n\u001b[1;32m     42\u001b[0m \u001b[43m    \u001b[49m\u001b[43mpick_all_objects\u001b[49m\u001b[43m,\u001b[49m\n\u001b[1;32m     43\u001b[0m \u001b[43m    \u001b[49m\u001b[43mplace_all_object_poses\u001b[49m\u001b[43m,\u001b[49m\n\u001b[1;32m     44\u001b[0m \u001b[43m    \u001b[49m\u001b[43mis_save\u001b[49m\u001b[38;5;241;43m=\u001b[39;49m\u001b[38;5;28;43;01mTrue\u001b[39;49;00m\u001b[43m,\u001b[49m\n\u001b[1;32m     45\u001b[0m \u001b[43m    \u001b[49m\u001b[43mvideo_name\u001b[49m\u001b[38;5;241;43m=\u001b[39;49m\u001b[38;5;124;43m\"\u001b[39;49m\u001b[38;5;124;43mpnp_level_2_jh_test_4\u001b[39;49m\u001b[38;5;124;43m\"\u001b[39;49m\u001b[43m,\u001b[49m\n\u001b[1;32m     46\u001b[0m \u001b[43m    \u001b[49m\u001b[43mgif\u001b[49m\u001b[38;5;241;43m=\u001b[39;49m\u001b[38;5;28;43;01mFalse\u001b[39;49;00m\u001b[43m,\u001b[49m\n\u001b[1;32m     47\u001b[0m \u001b[43m)\u001b[49m\n",
      "\u001b[0;31mTypeError\u001b[0m: simulate_path() got an unexpected keyword argument 'gif'"
     ]
    }
   ],
   "source": [
    "failed_n = 0\n",
    "for pick_action in pick_actions:\n",
    "    for pick_scene in pick.get_possible_transitions(\n",
    "        pick.scene_mngr.init_scene, action=pick_action\n",
    "    ):\n",
    "        pick_joint_path = pick.get_possible_joint_path_level_2(\n",
    "            scene=pick_scene, grasp_poses=pick_scene.grasp_poses\n",
    "        )\n",
    "\n",
    "        if pick_joint_path:\n",
    "            place_actions = list(place.get_possible_actions_level_1(pick_scene))\n",
    "            for place_action in place_actions:\n",
    "                for place_scene in place.get_possible_transitions(\n",
    "                    scene=pick_scene, action=place_action\n",
    "                ):\n",
    "                    place_joint_path = place.get_possible_joint_path_level_2(\n",
    "                        scene=place_scene,\n",
    "                        release_poses=place_scene.release_poses,\n",
    "                        init_thetas=pick_joint_path[-1][\n",
    "                            place.move_data.MOVE_default_grasp\n",
    "                        ][-1],\n",
    "                    )\n",
    "                    if place_joint_path:\n",
    "                        success_joint_path = True\n",
    "                        pnp_path += pick_joint_path + place_joint_path\n",
    "                        pick_objects.append(pick_scene.robot.gripper.attached_obj_name)\n",
    "                        place_object_poses.append(\n",
    "                            place_scene.objs[place_scene.pick_obj_name].h_mat\n",
    "                        )\n",
    "                        break\n",
    "                if success_joint_path:\n",
    "                    break\n",
    "        if success_joint_path:\n",
    "            break\n",
    "    if success_joint_path:\n",
    "        break\n",
    "pnp_all_joint_path.append(pnp_path)\n",
    "pick_all_objects.append(pick_objects)\n",
    "place_all_object_poses.append(place_object_poses)\n",
    "place.simulate_path(\n",
    "    pnp_all_joint_path,\n",
    "    pick_all_objects,\n",
    "    place_all_object_poses,\n",
    "    is_save=True,\n",
    "    video_name=\"pnp_level_2_jh_test_4\",\n",
    "    gif=False,\n",
    ")\n"
   ]
  },
  {
   "cell_type": "code",
   "execution_count": 5,
   "id": "a3f15e79",
   "metadata": {},
   "outputs": [
    {
     "name": "stdout",
     "output_type": "stream",
     "text": [
      "Animation Finished..\n",
      "Save finished..\n"
     ]
    },
    {
     "data": {
      "image/png": "[encoded data removed]",
      "text/plain": [
       "<Figure size 1200x800 with 1 Axes>"
      ]
     },
     "metadata": {},
     "output_type": "display_data"
    }
   ],
   "source": [
    "place.simulate_path(\n",
    "    pnp_all_joint_path,\n",
    "    pick_all_objects,\n",
    "    place_all_object_poses,\n",
    "    is_save=False,\n",
    "    video_name=\"pnp_level_2_jh_test_4\",\n",
    "#     gif=False,\n",
    ")\n"
   ]
  },
  {
   "cell_type": "code",
   "execution_count": null,
   "id": "f6c5aa2b",
   "metadata": {},
   "outputs": [],
   "source": []
  },
  {
   "cell_type": "code",
   "execution_count": null,
   "id": "48df5c16",
   "metadata": {},
   "outputs": [],
   "source": []
  }
 ],
 "metadata": {
  "kernelspec": {
   "display_name": "contact_graspnet",
   "language": "python",
   "name": "contact_graspnet"
  },
  "language_info": {
   "codemirror_mode": {
    "name": "ipython",
    "version": 3
   },
   "file_extension": ".py",
   "mimetype": "text/x-python",
   "name": "python",
   "nbconvert_exporter": "python",
   "pygments_lexer": "ipython3",
   "version": "3.8.16"
  }
 },
 "nbformat": 4,
 "nbformat_minor": 5
}
