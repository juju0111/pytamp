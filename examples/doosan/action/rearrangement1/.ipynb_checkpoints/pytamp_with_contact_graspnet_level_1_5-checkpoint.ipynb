{
 "cells": [
  {
   "cell_type": "code",
   "execution_count": 1,
   "id": "9b065c0e",
   "metadata": {
    "scrolled": true
   },
   "outputs": [
    {
     "name": "stderr",
     "output_type": "stream",
     "text": [
      "2023-07-19 02:51:05.857484: I tensorflow/stream_executor/platform/default/dso_loader.cc:53] Successfully opened dynamic library libcudart.so.11.0\n",
      "usage: ipykernel_launcher.py [-h] [--budgets T] [--max_depth H] [--seed i]\n",
      "                             [--algo alg] [--debug_mode DEBUG_MODE]\n",
      "ipykernel_launcher.py: error: unrecognized arguments: -f /home/juju/.local/share/jupyter/runtime/kernel-30605b64-ccd4-4b04-9bdd-82a8a9620914.json\n"
     ]
    },
    {
     "name": "stdout",
     "output_type": "stream",
     "text": [
      "*********************** \u001b[92mLogical States\u001b[0m ***********************\n",
      "OrderedDict([('ben_cube0',\n",
      "              {'on': \u001b[95mObject\u001b[0m(name=table, pos=[ 0.9   -0.6    0.043])}),\n",
      "             ('can0',\n",
      "              {'on': \u001b[95mObject\u001b[0m(name=table, pos=[ 0.9   -0.6    0.043])}),\n",
      "             ('cereal0',\n",
      "              {'on': \u001b[95mObject\u001b[0m(name=table, pos=[ 0.9   -0.6    0.043])}),\n",
      "             ('table',\n",
      "              {'static': True,\n",
      "               'support': [\u001b[95mObject\u001b[0m(name=ben_cube0, pos=[0.39587317 0.02541839 0.83529998]),\n",
      "                           \u001b[95mObject\u001b[0m(name=can0, pos=[0.66714729 0.06273526 0.85059666]),\n",
      "                           \u001b[95mObject\u001b[0m(name=cereal0, pos=[ 0.31638119 -0.11948705  0.88526188])]}),\n",
      "             ('panda_gripper', {'holding': None})])\n",
      "***************************************************************\n",
      "\n",
      "*********************** \u001b[92mLogical States\u001b[0m ***********************\n",
      "OrderedDict([('ben_cube0',\n",
      "              {'on': \u001b[95mObject\u001b[0m(name=table, pos=[ 0.9   -0.6    0.043])}),\n",
      "             ('can0',\n",
      "              {'on': \u001b[95mObject\u001b[0m(name=table, pos=[ 0.9   -0.6    0.043])}),\n",
      "             ('cereal0',\n",
      "              {'on': \u001b[95mObject\u001b[0m(name=table, pos=[ 0.9   -0.6    0.043])}),\n",
      "             ('table',\n",
      "              {'static': True,\n",
      "               'support': [\u001b[95mObject\u001b[0m(name=ben_cube0, pos=[ 0.51564123 -0.04591909  0.83529998]),\n",
      "                           \u001b[95mObject\u001b[0m(name=can0, pos=[0.60391191 0.0657071  0.85059666]),\n",
      "                           \u001b[95mObject\u001b[0m(name=cereal0, pos=[ 0.41679136 -0.14025348  0.88526188])]}),\n",
      "             ('panda_gripper', {'holding': None})])\n",
      "***************************************************************\n",
      "\n"
     ]
    }
   ],
   "source": [
    "import numpy as np\n",
    "import argparse\n",
    "import os, time\n",
    "\n",
    "from pykin.utils import plot_utils as p_utils\n",
    "\n",
    "from pytamp.benchmark import Rearrange1\n",
    "from pytamp.benchmark.rearrange1 import make_scene\n",
    "from pytamp.search.mcts_for_rearragement import MCTS_rearrangement\n",
    "from pytamp.utils import point_cloud_utils as pc_utils\n",
    "\n",
    "def get_parser():\n",
    "    parser = argparse.ArgumentParser(description=\"Test Rearragement 1.\")\n",
    "    parser.add_argument(\"--budgets\", metavar=\"T\", type=int, default=10, help=\"Horizon\")\n",
    "    parser.add_argument(\"--max_depth\", metavar=\"H\", type=int, default=10, help=\"Max depth\")\n",
    "#     parser.add_argument(\"--seed\", metavar=\"i\", type=int, default=7, help=\"A random seed\")\n",
    "    parser.add_argument(\"--seed\", metavar=\"i\", type=int, default=17, help=\"A random seed\")\n",
    "#     parser.add_argument(\"--seed\", metavar=\"i\", type=int, default=144, help=\"A random seed\")\n",
    "    parser.add_argument(\n",
    "        \"--algo\",\n",
    "        metavar=\"alg\",\n",
    "        type=str,\n",
    "        default=\"bai_perturb\",\n",
    "        choices=[\"bai_perturb\", \"bai_ucb\", \"uct\", \"random\", \"greedy\"],\n",
    "        help=\"Choose one (bai_perturb, bai_ucb, uct)\",\n",
    "    )\n",
    "    parser.add_argument(\n",
    "        \"--debug_mode\", default=False, type=lambda x: (str(x).lower() == \"true\"), help=\"Debug mode\"\n",
    "    )\n",
    "#     parser.add_argument(\"--box_number\", metavar=\"N\", type=int, default=6, help=\"Box Number(6 or less)\")\n",
    "    try:\n",
    "        args = parser.parse_args() #call from command line\n",
    "    except:\n",
    "        args = parser.parse_args(args=[]) #call from notebook\n",
    "    return args \n",
    "\n",
    "args = get_parser() \n",
    "\n",
    "debug_mode = args.debug_mode\n",
    "budgets = args.budgets\n",
    "max_depth = args.max_depth\n",
    "algo = args.algo\n",
    "seed = args.seed\n",
    "np.random.seed(seed)\n",
    "\n",
    "object_names, init_scene, goal_scene = make_scene()\n",
    "rearrangement1 = Rearrange1('panda', object_names, init_scene, goal_scene, is_pyplot=False)\n",
    "\n",
    "final_level_1_values = []\n",
    "final_level_2_values = []\n",
    "final_optimal_nodes = []\n",
    "final_pnp_all_joint_paths = []\n",
    "final_pick_all_objects = []\n",
    "final_place_all_object_poses = []\n",
    "\n",
    "# final_optimal_trees = []\n",
    "c_list = 10 ** np.linspace(-2, 2.0, 10)\n"
   ]
  },
  {
   "cell_type": "code",
   "execution_count": 2,
   "id": "63d1d7cd",
   "metadata": {
    "scrolled": true
   },
   "outputs": [
    {
     "name": "stderr",
     "output_type": "stream",
     "text": [
      "2023-07-19 02:51:08.520285: I tensorflow/stream_executor/platform/default/dso_loader.cc:53] Successfully opened dynamic library libcuda.so.1\n",
      "2023-07-19 02:51:08.604472: I tensorflow/stream_executor/cuda/cuda_gpu_executor.cc:937] successful NUMA node read from SysFS had negative value (-1), but there must be at least one NUMA node, so returning NUMA node zero\n",
      "2023-07-19 02:51:08.604604: I tensorflow/core/common_runtime/gpu/gpu_device.cc:1733] Found device 0 with properties: \n",
      "pciBusID: 0000:01:00.0 name: NVIDIA GeForce RTX 3050 Ti Laptop GPU computeCapability: 8.6\n",
      "coreClock: 1.485GHz coreCount: 20 deviceMemorySize: 3.81GiB deviceMemoryBandwidth: 178.84GiB/s\n",
      "2023-07-19 02:51:08.604623: I tensorflow/stream_executor/platform/default/dso_loader.cc:53] Successfully opened dynamic library libcudart.so.11.0\n",
      "2023-07-19 02:51:08.607067: I tensorflow/stream_executor/platform/default/dso_loader.cc:53] Successfully opened dynamic library libcublas.so.11\n",
      "2023-07-19 02:51:08.607100: I tensorflow/stream_executor/platform/default/dso_loader.cc:53] Successfully opened dynamic library libcublasLt.so.11\n",
      "2023-07-19 02:51:08.607619: I tensorflow/stream_executor/platform/default/dso_loader.cc:53] Successfully opened dynamic library libcufft.so.10\n",
      "2023-07-19 02:51:08.607747: I tensorflow/stream_executor/platform/default/dso_loader.cc:53] Successfully opened dynamic library libcurand.so.10\n",
      "2023-07-19 02:51:08.608023: I tensorflow/stream_executor/platform/default/dso_loader.cc:53] Successfully opened dynamic library libcusolver.so.11\n",
      "2023-07-19 02:51:08.608481: I tensorflow/stream_executor/platform/default/dso_loader.cc:53] Successfully opened dynamic library libcusparse.so.11\n",
      "2023-07-19 02:51:08.608557: I tensorflow/stream_executor/platform/default/dso_loader.cc:53] Successfully opened dynamic library libcudnn.so.8\n",
      "2023-07-19 02:51:08.608635: I tensorflow/stream_executor/cuda/cuda_gpu_executor.cc:937] successful NUMA node read from SysFS had negative value (-1), but there must be at least one NUMA node, so returning NUMA node zero\n",
      "2023-07-19 02:51:08.608757: I tensorflow/stream_executor/cuda/cuda_gpu_executor.cc:937] successful NUMA node read from SysFS had negative value (-1), but there must be at least one NUMA node, so returning NUMA node zero\n",
      "2023-07-19 02:51:08.608831: I tensorflow/core/common_runtime/gpu/gpu_device.cc:1871] Adding visible gpu devices: 0\n"
     ]
    },
    {
     "name": "stdout",
     "output_type": "stream",
     "text": [
      "/home/juju/contact_graspnet/pointnet2/tf_ops/sampling\n",
      "<module 'contact_graspnet' from '/home/juju/contact_graspnet/contact_graspnet/contact_graspnet.py'>\n",
      "--- Get model\n",
      "WARNING:tensorflow:From /home/juju/anaconda3/envs/contact_graspnet/lib/python3.8/site-packages/tensorflow/python/keras/layers/normalization.py:534: _colocate_with (from tensorflow.python.framework.ops) is deprecated and will be removed in a future version.\n",
      "Instructions for updating:\n",
      "Colocations handled automatically by placer.\n"
     ]
    },
    {
     "name": "stderr",
     "output_type": "stream",
     "text": [
      "/home/juju/contact_graspnet/contact_graspnet/config_utils.py:42: YAMLLoadWarning: calling yaml.load() without Loader=... is deprecated, as the default Loader is unsafe. Please read https://msg.pyyaml.org/load for full details.\n",
      "  global_config = yaml.load(f)\n",
      "/home/juju/anaconda3/envs/contact_graspnet/lib/python3.8/site-packages/tensorflow/python/keras/legacy_tf_layers/normalization.py:307: UserWarning: `tf.layers.batch_normalization` is deprecated and will be removed in a future version. Please use `tf.keras.layers.BatchNormalization` instead. In particular, `tf.control_dependencies(tf.GraphKeys.UPDATE_OPS)` should not be used (consult the `tf.keras.layers.BatchNormalization` documentation).\n",
      "  warnings.warn(\n",
      "/home/juju/anaconda3/envs/contact_graspnet/lib/python3.8/site-packages/tensorflow/python/keras/engine/base_layer_v1.py:1692: UserWarning: `layer.apply` is deprecated and will be removed in a future version. Please use `layer.__call__` method instead.\n",
      "  warnings.warn('`layer.apply` is deprecated and '\n"
     ]
    },
    {
     "name": "stdout",
     "output_type": "stream",
     "text": [
      "WARNING:tensorflow:From /home/juju/anaconda3/envs/contact_graspnet/lib/python3.8/site-packages/tensorflow/python/util/deprecation.py:602: calling conv1d (from tensorflow.python.ops.nn_ops) with data_format=NHWC is deprecated and will be removed in a future version.\n",
      "Instructions for updating:\n",
      "`NHWC` for data_format is deprecated, use `NWC` instead\n",
      "WARNING:tensorflow:From /home/juju/anaconda3/envs/contact_graspnet/lib/python3.8/site-packages/tensorflow/python/util/dispatch.py:206: calling dropout (from tensorflow.python.ops.nn_ops) with keep_prob is deprecated and will be removed in a future version.\n",
      "Instructions for updating:\n",
      "Please use `rate` instead of `keep_prob`. Rate should be set to `rate = 1 - keep_prob`.\n"
     ]
    },
    {
     "name": "stderr",
     "output_type": "stream",
     "text": [
      "2023-07-19 02:51:11.840559: I tensorflow/core/platform/cpu_feature_guard.cc:142] This TensorFlow binary is optimized with oneAPI Deep Neural Network Library (oneDNN) to use the following CPU instructions in performance-critical operations:  AVX2 FMA\n",
      "To enable them in other operations, rebuild TensorFlow with the appropriate compiler flags.\n",
      "2023-07-19 02:51:11.841383: I tensorflow/stream_executor/cuda/cuda_gpu_executor.cc:937] successful NUMA node read from SysFS had negative value (-1), but there must be at least one NUMA node, so returning NUMA node zero\n",
      "2023-07-19 02:51:11.841527: I tensorflow/core/common_runtime/gpu/gpu_device.cc:1733] Found device 0 with properties: \n",
      "pciBusID: 0000:01:00.0 name: NVIDIA GeForce RTX 3050 Ti Laptop GPU computeCapability: 8.6\n",
      "coreClock: 1.485GHz coreCount: 20 deviceMemorySize: 3.81GiB deviceMemoryBandwidth: 178.84GiB/s\n",
      "2023-07-19 02:51:11.841631: I tensorflow/stream_executor/cuda/cuda_gpu_executor.cc:937] successful NUMA node read from SysFS had negative value (-1), but there must be at least one NUMA node, so returning NUMA node zero\n",
      "2023-07-19 02:51:11.841790: I tensorflow/stream_executor/cuda/cuda_gpu_executor.cc:937] successful NUMA node read from SysFS had negative value (-1), but there must be at least one NUMA node, so returning NUMA node zero\n",
      "2023-07-19 02:51:11.841877: I tensorflow/core/common_runtime/gpu/gpu_device.cc:1871] Adding visible gpu devices: 0\n",
      "2023-07-19 02:51:11.841937: I tensorflow/stream_executor/platform/default/dso_loader.cc:53] Successfully opened dynamic library libcudart.so.11.0\n"
     ]
    },
    {
     "name": "stdout",
     "output_type": "stream",
     "text": [
      "INFO:tensorflow:Restoring parameters from /home/juju/contact_graspnet/checkpoints/scene_test_2048_bs3_hor_sigma_001/model.ckpt-144144\n"
     ]
    },
    {
     "name": "stderr",
     "output_type": "stream",
     "text": [
      "2023-07-19 02:51:12.151331: I tensorflow/core/common_runtime/gpu/gpu_device.cc:1258] Device interconnect StreamExecutor with strength 1 edge matrix:\n",
      "2023-07-19 02:51:12.151366: I tensorflow/core/common_runtime/gpu/gpu_device.cc:1264]      0 \n",
      "2023-07-19 02:51:12.151373: I tensorflow/core/common_runtime/gpu/gpu_device.cc:1277] 0:   N \n",
      "2023-07-19 02:51:12.151595: I tensorflow/stream_executor/cuda/cuda_gpu_executor.cc:937] successful NUMA node read from SysFS had negative value (-1), but there must be at least one NUMA node, so returning NUMA node zero\n",
      "2023-07-19 02:51:12.151739: I tensorflow/stream_executor/cuda/cuda_gpu_executor.cc:937] successful NUMA node read from SysFS had negative value (-1), but there must be at least one NUMA node, so returning NUMA node zero\n",
      "2023-07-19 02:51:12.151900: I tensorflow/stream_executor/cuda/cuda_gpu_executor.cc:937] successful NUMA node read from SysFS had negative value (-1), but there must be at least one NUMA node, so returning NUMA node zero\n",
      "2023-07-19 02:51:12.152021: I tensorflow/core/common_runtime/gpu/gpu_device.cc:1418] Created TensorFlow device (/job:localhost/replica:0/task:0/device:GPU:0 with 1772 MB memory) -> physical GPU (device: 0, name: NVIDIA GeForce RTX 3050 Ti Laptop GPU, pci bus id: 0000:01:00.0, compute capability: 8.6)\n",
      "2023-07-19 02:51:12.274382: I tensorflow/core/platform/profile_utils/cpu_utils.cc:114] CPU Frequency: 3193965000 Hz\n"
     ]
    }
   ],
   "source": [
    "c = 2.5\n",
    "idx = 0\n",
    "mcts = MCTS_rearrangement(\n",
    "        scene_mngr=rearrangement1.scene_mngr,\n",
    "        init_scene=rearrangement1.init_scene,\n",
    "        sampling_method=args.algo,\n",
    "        budgets=args.budgets,\n",
    "        max_depth=args.max_depth,\n",
    "        c=c,\n",
    "        debug_mode=args.debug_mode,\n",
    "        use_pick_action=False,\n",
    "        consider_next_scene=True\n",
    "    )\n",
    "mcts.only_optimize_1 = False"
   ]
  },
  {
   "cell_type": "code",
   "execution_count": 3,
   "id": "5460afd4",
   "metadata": {
    "scrolled": true
   },
   "outputs": [
    {
     "name": "stdout",
     "output_type": "stream",
     "text": [
      "\n",
      "[1/10] Benchmark: 0, Algo: bai_perturb, C: 2.5, Seed: 17\n",
      "\u001b[95m=========== Search iteration : 1 ===========\u001b[0m\n",
      "\u001b[0;33m[Action]\u001b[0m \u001b[92mRearr ben_cube0\u001b[0m\n",
      "\u001b[0;34mplaced another place not goal\u001b[0m\n",
      "\u001b[95m[Reward]\u001b[0m S(0) -> A(1) -> S'(7) Reward : \u001b[4m-1\u001b[0m\n",
      "\u001b[0;33m[Action]\u001b[0m \u001b[92mRearr cereal0\u001b[0m\n",
      "\u001b[0;34mplaced another place not goal\u001b[0m\n",
      "\u001b[95m[Reward]\u001b[0m S(7) -> A(10) -> S'(12) Reward : \u001b[4m-1\u001b[0m\n",
      "\u001b[0;33m[Action]\u001b[0m \u001b[92mRearr can0\u001b[0m\n",
      "\u001b[0;36mGood Action\u001b[0m\n",
      "\u001b[95m[Reward]\u001b[0m S(12) -> A(16) -> S'(17) Reward : \u001b[4m2.5\u001b[0m\n",
      "\u001b[0;33m[Action]\u001b[0m \u001b[92mRearr cereal0\u001b[0m\n",
      "\u001b[0;34mplaced another place not goal\u001b[0m\n",
      "\u001b[95m[Reward]\u001b[0m S(17) -> A(20) -> S'(22) Reward : \u001b[4m-1\u001b[0m\n",
      "\u001b[0;33m[Action]\u001b[0m \u001b[92mRearr ben_cube0\u001b[0m\n",
      "\u001b[0;34mplaced another place not goal\u001b[0m\n",
      "\u001b[95m[Reward]\u001b[0m S(22) -> A(23) -> S'(26) Reward : \u001b[4m-1\u001b[0m\n",
      "\u001b[0;33m[Action]\u001b[0m \u001b[92mRearr cereal0\u001b[0m\n",
      "\u001b[0;34mplaced another place not goal\u001b[0m\n",
      "\u001b[95m[Reward]\u001b[0m S(26) -> A(28) -> S'(30) Reward : \u001b[4m-1\u001b[0m\n",
      "\u001b[0;33m[Action]\u001b[0m \u001b[92mRearr ben_cube0\u001b[0m\n",
      "\u001b[0;34mplaced another place not goal\u001b[0m\n",
      "\u001b[95m[Reward]\u001b[0m S(30) -> A(31) -> S'(33) Reward : \u001b[4m-1\u001b[0m\n",
      "\u001b[0;33m[Action]\u001b[0m \u001b[92mRearr can0\u001b[0m\n",
      "\u001b[91mBad Action\u001b[0m\n",
      "\u001b[95m[Reward]\u001b[0m S(33) -> A(34) -> S'(37) Reward : \u001b[4m-2.5\u001b[0m\n",
      "\u001b[0;33m[Action]\u001b[0m \u001b[92mRearr ben_cube0\u001b[0m\n",
      "\u001b[0;36mGood Action\u001b[0m\n",
      "\u001b[95m[Reward]\u001b[0m S(37) -> A(39) -> S'(42) Reward : \u001b[4m1.0\u001b[0m\n",
      "\u001b[0;33m[Action]\u001b[0m \u001b[92mRearr cereal0\u001b[0m\n",
      "\u001b[0;34mplaced another place not goal\u001b[0m\n",
      "\u001b[95m[Reward]\u001b[0m S(42) -> A(45) -> S'(47) Reward : \u001b[4m-1\u001b[0m\n",
      "\u001b[93mExceeded the maximum depth!!\u001b[0m\n",
      "########### Running time :  1.0044071674346924 ##############\n",
      "\n",
      "[1/10] Benchmark: 0, Algo: bai_perturb, C: 2.5, Seed: 17\n",
      "\u001b[95m=========== Search iteration : 2 ===========\u001b[0m\n",
      "\u001b[0;33m[Action]\u001b[0m \u001b[92mRearr ben_cube0\u001b[0m\n",
      "\u001b[0;36mGood Action\u001b[0m\n",
      "\u001b[95m[Reward]\u001b[0m S(0) -> A(2) -> S'(48) Reward : \u001b[4m5.0\u001b[0m\n",
      "\u001b[0;33m[Action]\u001b[0m \u001b[92mRearr cereal0\u001b[0m\n",
      "\u001b[0;36mGood Action\u001b[0m\n",
      "\u001b[95m[Reward]\u001b[0m S(48) -> A(52) -> S'(53) Reward : \u001b[4m3.333\u001b[0m\n",
      "\u001b[0;33m[Action]\u001b[0m \u001b[92mRearr can0\u001b[0m\n",
      "\u001b[0;36mGood Action\u001b[0m\n",
      "\u001b[95m[Reward]\u001b[0m S(53) -> A(56) -> S'(57) Reward : \u001b[4m2.5\u001b[0m\n",
      "##########['ben_cube0', 'cereal0', 'can0']#############\n",
      "\u001b[94mSuccess!!!!!\u001b[0m\n",
      "Terminal State! Reward is 5\n",
      "\u001b[0;33mben_cube0\u001b[0m\n",
      "Extracted Region Cube Size:  0.4\n"
     ]
    },
    {
     "name": "stderr",
     "output_type": "stream",
     "text": [
      "2023-07-19 02:51:14.160956: I tensorflow/stream_executor/platform/default/dso_loader.cc:53] Successfully opened dynamic library libcudnn.so.8\n",
      "2023-07-19 02:51:14.605328: I tensorflow/stream_executor/cuda/cuda_dnn.cc:359] Loaded cuDNN version 8201\n",
      "2023-07-19 02:51:15.414617: I tensorflow/stream_executor/platform/default/dso_loader.cc:53] Successfully opened dynamic library libcublas.so.11\n",
      "2023-07-19 02:51:15.959763: I tensorflow/stream_executor/platform/default/dso_loader.cc:53] Successfully opened dynamic library libcublasLt.so.11\n",
      "2023-07-19 02:51:16.481391: W tensorflow/core/common_runtime/bfc_allocator.cc:271] Allocator (GPU_0_bfc) ran out of memory trying to allocate 2.06GiB with freed_by_count=0. The caller indicates that this is not a failure, but may mean that there could be performance gains if more memory were available.\n",
      "2023-07-19 02:51:16.481439: W tensorflow/core/common_runtime/bfc_allocator.cc:271] Allocator (GPU_0_bfc) ran out of memory trying to allocate 2.06GiB with freed_by_count=0. The caller indicates that this is not a failure, but may mean that there could be performance gains if more memory were available.\n",
      "2023-07-19 02:51:16.490950: W tensorflow/core/common_runtime/bfc_allocator.cc:271] Allocator (GPU_0_bfc) ran out of memory trying to allocate 2.06GiB with freed_by_count=0. The caller indicates that this is not a failure, but may mean that there could be performance gains if more memory were available.\n",
      "2023-07-19 02:51:16.490980: W tensorflow/core/common_runtime/bfc_allocator.cc:271] Allocator (GPU_0_bfc) ran out of memory trying to allocate 2.06GiB with freed_by_count=0. The caller indicates that this is not a failure, but may mean that there could be performance gains if more memory were available.\n",
      "2023-07-19 02:51:16.500617: W tensorflow/core/common_runtime/bfc_allocator.cc:337] Garbage collection: deallocate free memory regions (i.e., allocations) so that we can re-allocate a larger region to avoid OOM due to memory fragmentation. If you see this message frequently, you are running near the threshold of the available device memory and re-allocation may incur great performance overhead. You may try smaller batch sizes to observe the performance impact. Set TF_ENABLE_GPU_GARBAGE_COLLECTION=false if you'd like to disable this feature.\n"
     ]
    },
    {
     "name": "stdout",
     "output_type": "stream",
     "text": [
      "Generated 6 grasps for object ben_cube0\n",
      "\u001b[0;33mcereal0\u001b[0m\n",
      "Extracted Region Cube Size:  0.4\n",
      "Generated 147 grasps for object cereal0\n",
      "\u001b[0;33mcan0\u001b[0m\n",
      "Extracted Region Cube Size:  0.4\n"
     ]
    },
    {
     "name": "stderr",
     "output_type": "stream",
     "text": [
      "\u001b[1;32m[INFO] [RRT Star Planner]: Start to compute RRT-star Planning\u001b[0m\n",
      "\u001b[1;32m[INFO] [RRT Star Planner]: The joint limit has been successfully checked. Pose error is 0.000005\u001b[0m\n"
     ]
    },
    {
     "name": "stdout",
     "output_type": "stream",
     "text": [
      "Generated 117 grasps for object can0\n",
      "\u001b[1;33mpick ben_cube0\u001b[0m\n",
      "solve the problem using LM2!! \n",
      "Iterators : 8\n",
      "WorkingTime[inverse_kinematics]: 0.0137 sec\n",
      "\n"
     ]
    },
    {
     "name": "stderr",
     "output_type": "stream",
     "text": [
      "\u001b[1;32m[INFO] [RRT Star Planner]: Generate Path Successfully!!\u001b[0m\n",
      "\u001b[1;32m[INFO] [RRT Star Planner]: Path length 2 --> 10\u001b[0m\n",
      "\u001b[1;32m[INFO] [Cartesian Planner]: Start to compute Cartesian Planning\u001b[0m\n",
      "\u001b[1;32m[INFO] [Cartesian Planner]: Generate Path Successfully!! Error is 0.000001\u001b[0m\n",
      "\u001b[1;32m[INFO] [Cartesian Planner]: Start to compute Cartesian Planning\u001b[0m\n"
     ]
    },
    {
     "name": "stdout",
     "output_type": "stream",
     "text": [
      "Cost is 1.103\n",
      "WorkingTime[run]: 5.8729 sec\n",
      "\n",
      "WorkingTime[run]: 0.1133 sec\n",
      "\n"
     ]
    },
    {
     "name": "stderr",
     "output_type": "stream",
     "text": [
      "\u001b[1;32m[INFO] [Cartesian Planner]: Generate Path Successfully!! Error is 0.000003\u001b[0m\n",
      "\u001b[1;32m[INFO] [RRT Star Planner]: Start to compute RRT-star Planning\u001b[0m\n"
     ]
    },
    {
     "name": "stdout",
     "output_type": "stream",
     "text": [
      "WorkingTime[run]: 0.1393 sec\n",
      "\n"
     ]
    },
    {
     "name": "stderr",
     "output_type": "stream",
     "text": [
      "\u001b[1;32m[INFO] [RRT Star Planner]: Generate Path Successfully!!\u001b[0m\n",
      "\u001b[1;32m[INFO] [RRT Star Planner]: Path length 2 --> 10\u001b[0m\n",
      "\u001b[1;32m[INFO] [RRT Star Planner]: Start to compute RRT-star Planning\u001b[0m\n",
      "\u001b[1;32m[INFO] [RRT Star Planner]: The joint limit has been successfully checked. Pose error is 0.000002\u001b[0m\n"
     ]
    },
    {
     "name": "stdout",
     "output_type": "stream",
     "text": [
      "Cost is 1.096\n",
      "WorkingTime[run]: 7.6904 sec\n",
      "\n",
      "solve the problem using LM2!! \n",
      "Iterators : 6\n",
      "WorkingTime[inverse_kinematics]: 0.0066 sec\n",
      "\n"
     ]
    },
    {
     "name": "stderr",
     "output_type": "stream",
     "text": [
      "\u001b[1;32m[INFO] [RRT Star Planner]: Generate Path Successfully!!\u001b[0m\n",
      "\u001b[1;32m[INFO] [RRT Star Planner]: Path length 3 --> 20\u001b[0m\n",
      "\u001b[1;32m[INFO] [Cartesian Planner]: Start to compute Cartesian Planning\u001b[0m\n",
      "\u001b[1;32m[INFO] [Cartesian Planner]: Generate Path Successfully!! Error is 0.000001\u001b[0m\n",
      "\u001b[1;32m[INFO] [Cartesian Planner]: Start to compute Cartesian Planning\u001b[0m\n"
     ]
    },
    {
     "name": "stdout",
     "output_type": "stream",
     "text": [
      "Cost is 1.774\n",
      "WorkingTime[run]: 7.1166 sec\n",
      "\n",
      "WorkingTime[run]: 0.1254 sec\n",
      "\n"
     ]
    },
    {
     "name": "stderr",
     "output_type": "stream",
     "text": [
      "\u001b[1;32m[INFO] [Cartesian Planner]: Generate Path Successfully!! Error is 0.000001\u001b[0m\n",
      "\u001b[1;32m[INFO] [RRT Star Planner]: Start to compute RRT-star Planning\u001b[0m\n"
     ]
    },
    {
     "name": "stdout",
     "output_type": "stream",
     "text": [
      "WorkingTime[run]: 0.1321 sec\n",
      "\n"
     ]
    },
    {
     "name": "stderr",
     "output_type": "stream",
     "text": [
      "\u001b[1;32m[INFO] [RRT Star Planner]: Generate Path Successfully!!\u001b[0m\n",
      "\u001b[1;32m[INFO] [RRT Star Planner]: Path length 3 --> 20\u001b[0m\n",
      "\u001b[1;32m[INFO] [RRT Star Planner]: Start to compute RRT-star Planning\u001b[0m\n",
      "\u001b[1;32m[INFO] [RRT Star Planner]: The joint limit has been successfully checked. Pose error is 0.000000\u001b[0m\n"
     ]
    },
    {
     "name": "stdout",
     "output_type": "stream",
     "text": [
      "Cost is 1.788\n",
      "WorkingTime[run]: 5.5848 sec\n",
      "\n",
      "Success pnp\n",
      "\u001b[1;33mpick cereal0\u001b[0m\n",
      "solve the problem using LM2!! \n",
      "Iterators : 11\n",
      "WorkingTime[inverse_kinematics]: 0.0115 sec\n",
      "\n",
      "solve the problem using LM2!! \n",
      "Iterators : 16\n",
      "WorkingTime[inverse_kinematics]: 0.0179 sec\n",
      "\n"
     ]
    },
    {
     "name": "stderr",
     "output_type": "stream",
     "text": [
      "\u001b[1;32m[INFO] [RRT Star Planner]: Generate Path Successfully!!\u001b[0m\n",
      "\u001b[1;32m[INFO] [RRT Star Planner]: Path length 10 --> 90\u001b[0m\n",
      "\u001b[1;32m[INFO] [Cartesian Planner]: Start to compute Cartesian Planning\u001b[0m\n",
      "\u001b[1;32m[INFO] [Cartesian Planner]: Generate Path Successfully!! Error is 0.000007\u001b[0m\n",
      "\u001b[1;32m[INFO] [Cartesian Planner]: Start to compute Cartesian Planning\u001b[0m\n"
     ]
    },
    {
     "name": "stdout",
     "output_type": "stream",
     "text": [
      "Cost is 3.327\n",
      "WorkingTime[run]: 5.3260 sec\n",
      "\n",
      "WorkingTime[run]: 0.1176 sec\n",
      "\n"
     ]
    },
    {
     "name": "stderr",
     "output_type": "stream",
     "text": [
      "\u001b[1;32m[INFO] [Cartesian Planner]: Generate Path Successfully!! Error is 0.000057\u001b[0m\n",
      "\u001b[1;32m[INFO] [RRT Star Planner]: Start to compute RRT-star Planning\u001b[0m\n"
     ]
    },
    {
     "name": "stdout",
     "output_type": "stream",
     "text": [
      "WorkingTime[run]: 0.1231 sec\n",
      "\n",
      "rewire\n",
      "rewire\n"
     ]
    },
    {
     "name": "stderr",
     "output_type": "stream",
     "text": [
      "\u001b[1;32m[INFO] [RRT Star Planner]: Generate Path Successfully!!\u001b[0m\n",
      "\u001b[1;32m[INFO] [RRT Star Planner]: Path length 5 --> 40\u001b[0m\n",
      "\u001b[1;32m[INFO] [RRT Star Planner]: Start to compute RRT-star Planning\u001b[0m\n",
      "\u001b[1;32m[INFO] [RRT Star Planner]: The joint limit has been successfully checked. Pose error is 0.000002\u001b[0m\n"
     ]
    },
    {
     "name": "stdout",
     "output_type": "stream",
     "text": [
      "Cost is 3.607\n",
      "WorkingTime[run]: 7.0635 sec\n",
      "\n",
      "solve the problem using LM2!! \n",
      "Iterators : 7\n",
      "WorkingTime[inverse_kinematics]: 0.0105 sec\n",
      "\n"
     ]
    },
    {
     "name": "stderr",
     "output_type": "stream",
     "text": [
      "\u001b[1;32m[INFO] [RRT Star Planner]: Generate Path Successfully!!\u001b[0m\n",
      "\u001b[1;32m[INFO] [RRT Star Planner]: Path length 6 --> 50\u001b[0m\n",
      "\u001b[1;32m[INFO] [Cartesian Planner]: Start to compute Cartesian Planning\u001b[0m\n",
      "\u001b[1;32m[INFO] [Cartesian Planner]: Generate Path Successfully!! Error is 0.000001\u001b[0m\n",
      "\u001b[1;32m[INFO] [Cartesian Planner]: Start to compute Cartesian Planning\u001b[0m\n"
     ]
    },
    {
     "name": "stdout",
     "output_type": "stream",
     "text": [
      "Cost is 1.843\n",
      "WorkingTime[run]: 6.9224 sec\n",
      "\n",
      "WorkingTime[run]: 0.1206 sec\n",
      "\n"
     ]
    },
    {
     "name": "stderr",
     "output_type": "stream",
     "text": [
      "\u001b[1;32m[INFO] [Cartesian Planner]: Generate Path Successfully!! Error is 0.000002\u001b[0m\n",
      "\u001b[1;32m[INFO] [RRT Star Planner]: Start to compute RRT-star Planning\u001b[0m\n"
     ]
    },
    {
     "name": "stdout",
     "output_type": "stream",
     "text": [
      "WorkingTime[run]: 0.1248 sec\n",
      "\n"
     ]
    },
    {
     "name": "stderr",
     "output_type": "stream",
     "text": [
      "\u001b[1;32m[INFO] [RRT Star Planner]: Generate Path Successfully!!\u001b[0m\n",
      "\u001b[1;32m[INFO] [RRT Star Planner]: Path length 6 --> 50\u001b[0m\n",
      "\u001b[1;32m[INFO] [RRT Star Planner]: Start to compute RRT-star Planning\u001b[0m\n",
      "\u001b[1;32m[INFO] [RRT Star Planner]: The joint limit has been successfully checked. Pose error is 0.000003\u001b[0m\n"
     ]
    },
    {
     "name": "stdout",
     "output_type": "stream",
     "text": [
      "Cost is 1.906\n",
      "WorkingTime[run]: 5.5207 sec\n",
      "\n",
      "Success pnp\n",
      "\u001b[1;33mpick can0\u001b[0m\n",
      "solve the problem using LM2!! \n",
      "Iterators : 6\n",
      "WorkingTime[inverse_kinematics]: 0.0064 sec\n",
      "\n"
     ]
    },
    {
     "name": "stderr",
     "output_type": "stream",
     "text": [
      "\u001b[1;32m[INFO] [RRT Star Planner]: Generate Path Successfully!!\u001b[0m\n",
      "\u001b[1;32m[INFO] [RRT Star Planner]: Path length 2 --> 10\u001b[0m\n",
      "\u001b[1;32m[INFO] [Cartesian Planner]: Start to compute Cartesian Planning\u001b[0m\n",
      "\u001b[1;32m[INFO] [Cartesian Planner]: Generate Path Successfully!! Error is 0.000001\u001b[0m\n",
      "\u001b[1;32m[INFO] [Cartesian Planner]: Start to compute Cartesian Planning\u001b[0m\n"
     ]
    },
    {
     "name": "stdout",
     "output_type": "stream",
     "text": [
      "Cost is 1.044\n",
      "WorkingTime[run]: 5.6226 sec\n",
      "\n",
      "WorkingTime[run]: 0.1150 sec\n",
      "\n"
     ]
    },
    {
     "name": "stderr",
     "output_type": "stream",
     "text": [
      "\u001b[1;32m[INFO] [Cartesian Planner]: Generate Path Successfully!! Error is 0.000000\u001b[0m\n",
      "\u001b[1;32m[INFO] [RRT Star Planner]: Start to compute RRT-star Planning\u001b[0m\n"
     ]
    },
    {
     "name": "stdout",
     "output_type": "stream",
     "text": [
      "WorkingTime[run]: 0.1247 sec\n",
      "\n"
     ]
    },
    {
     "name": "stderr",
     "output_type": "stream",
     "text": [
      "\u001b[1;32m[INFO] [RRT Star Planner]: Generate Path Successfully!!\u001b[0m\n",
      "\u001b[1;32m[INFO] [RRT Star Planner]: Path length 2 --> 10\u001b[0m\n",
      "\u001b[1;32m[INFO] [RRT Star Planner]: Start to compute RRT-star Planning\u001b[0m\n",
      "\u001b[1;32m[INFO] [RRT Star Planner]: The joint limit has been successfully checked. Pose error is 0.000001\u001b[0m\n"
     ]
    },
    {
     "name": "stdout",
     "output_type": "stream",
     "text": [
      "Cost is 1.074\n",
      "WorkingTime[run]: 7.1180 sec\n",
      "\n",
      "solve the problem using LM2!! \n",
      "Iterators : 6\n",
      "WorkingTime[inverse_kinematics]: 0.0097 sec\n",
      "\n"
     ]
    },
    {
     "name": "stderr",
     "output_type": "stream",
     "text": [
      "\u001b[1;32m[INFO] [RRT Star Planner]: Generate Path Successfully!!\u001b[0m\n",
      "\u001b[1;32m[INFO] [RRT Star Planner]: Path length 2 --> 10\u001b[0m\n",
      "\u001b[1;32m[INFO] [Cartesian Planner]: Start to compute Cartesian Planning\u001b[0m\n",
      "\u001b[1;32m[INFO] [Cartesian Planner]: Generate Path Successfully!! Error is 0.000001\u001b[0m\n",
      "\u001b[1;32m[INFO] [Cartesian Planner]: Start to compute Cartesian Planning\u001b[0m\n"
     ]
    },
    {
     "name": "stdout",
     "output_type": "stream",
     "text": [
      "Cost is 1.228\n",
      "WorkingTime[run]: 6.8103 sec\n",
      "\n",
      "WorkingTime[run]: 0.1157 sec\n",
      "\n"
     ]
    },
    {
     "name": "stderr",
     "output_type": "stream",
     "text": [
      "\u001b[1;32m[INFO] [Cartesian Planner]: Generate Path Successfully!! Error is 0.000001\u001b[0m\n",
      "\u001b[1;32m[INFO] [RRT Star Planner]: Start to compute RRT-star Planning\u001b[0m\n"
     ]
    },
    {
     "name": "stdout",
     "output_type": "stream",
     "text": [
      "WorkingTime[run]: 0.1225 sec\n",
      "\n"
     ]
    },
    {
     "name": "stderr",
     "output_type": "stream",
     "text": [
      "\u001b[1;32m[INFO] [RRT Star Planner]: Generate Path Successfully!!\u001b[0m\n",
      "\u001b[1;32m[INFO] [RRT Star Planner]: Path length 2 --> 10\u001b[0m\n"
     ]
    },
    {
     "name": "stdout",
     "output_type": "stream",
     "text": [
      "Cost is 1.21\n",
      "WorkingTime[run]: 5.5631 sec\n",
      "\n",
      "Success pnp\n",
      "\u001b[0;36mUpdate Sub optimal Nodes!! Value is 15.736233.\u001b[0m\n",
      "Add level_1_node!\n",
      "########### Running time :  83.03465414047241 ##############\n",
      "\n",
      "[1/10] Benchmark: 0, Algo: bai_perturb, C: 2.5, Seed: 17\n",
      "\u001b[95m=========== Search iteration : 3 ===========\u001b[0m\n",
      "\u001b[0;33m[Action]\u001b[0m \u001b[92mRearr can0\u001b[0m\n",
      "\u001b[0;34mplaced another place not goal\u001b[0m\n",
      "\u001b[95m[Reward]\u001b[0m S(0) -> A(3) -> S'(58) Reward : \u001b[4m-1\u001b[0m\n",
      "\u001b[0;33m[Action]\u001b[0m \u001b[92mRearr cereal0\u001b[0m\n",
      "\u001b[0;34mplaced another place not goal\u001b[0m\n",
      "\u001b[95m[Reward]\u001b[0m S(58) -> A(61) -> S'(63) Reward : \u001b[4m-1\u001b[0m\n",
      "\u001b[0;33m[Action]\u001b[0m \u001b[92mRearr can0\u001b[0m\n",
      "\u001b[0;36mGood Action\u001b[0m\n",
      "\u001b[95m[Reward]\u001b[0m S(63) -> A(67) -> S'(68) Reward : \u001b[4m2.5\u001b[0m\n",
      "\u001b[0;33m[Action]\u001b[0m \u001b[92mRearr ben_cube0\u001b[0m\n",
      "\u001b[0;36mGood Action\u001b[0m\n",
      "\u001b[95m[Reward]\u001b[0m S(68) -> A(69) -> S'(72) Reward : \u001b[4m2.0\u001b[0m\n",
      "\u001b[0;33m[Action]\u001b[0m \u001b[92mRearr cereal0\u001b[0m\n",
      "\u001b[0;34mplaced another place not goal\u001b[0m\n",
      "\u001b[95m[Reward]\u001b[0m S(72) -> A(74) -> S'(76) Reward : \u001b[4m-1\u001b[0m\n",
      "\u001b[0;33m[Action]\u001b[0m \u001b[92mRearr ben_cube0\u001b[0m\n",
      "\u001b[91mBad Action\u001b[0m\n",
      "\u001b[95m[Reward]\u001b[0m S(76) -> A(77) -> S'(79) Reward : \u001b[4m-3.333\u001b[0m\n",
      "\u001b[0;33m[Action]\u001b[0m \u001b[92mRearr cereal0\u001b[0m\n",
      "\u001b[0;34mplaced another place not goal\u001b[0m\n",
      "\u001b[95m[Reward]\u001b[0m S(79) -> A(81) -> S'(83) Reward : \u001b[4m-1\u001b[0m\n",
      "\u001b[0;33m[Action]\u001b[0m \u001b[92mRearr can0\u001b[0m\n",
      "\u001b[91mBad Action\u001b[0m\n",
      "\u001b[95m[Reward]\u001b[0m S(83) -> A(86) -> S'(87) Reward : \u001b[4m-2.5\u001b[0m\n",
      "\u001b[0;33m[Action]\u001b[0m \u001b[92mRearr ben_cube0\u001b[0m\n",
      "\u001b[0;34mplaced another place not goal\u001b[0m\n",
      "\u001b[95m[Reward]\u001b[0m S(87) -> A(88) -> S'(92) Reward : \u001b[4m-1\u001b[0m\n",
      "\u001b[0;33m[Action]\u001b[0m \u001b[92mRearr can0\u001b[0m\n",
      "\u001b[0;36mGood Action\u001b[0m\n",
      "\u001b[95m[Reward]\u001b[0m S(92) -> A(94) -> S'(97) Reward : \u001b[4m0.909\u001b[0m\n",
      "\u001b[93mExceeded the maximum depth!!\u001b[0m\n",
      "########### Running time :  83.9026710987091 ##############\n",
      "\n",
      "[1/10] Benchmark: 0, Algo: bai_perturb, C: 2.5, Seed: 17\n",
      "\u001b[95m=========== Search iteration : 4 ===========\u001b[0m\n",
      "\u001b[0;33m[Action]\u001b[0m \u001b[92mRearr can0\u001b[0m\n",
      "\u001b[0;36mGood Action\u001b[0m\n",
      "\u001b[95m[Reward]\u001b[0m S(0) -> A(4) -> S'(98) Reward : \u001b[4m5.0\u001b[0m\n",
      "\u001b[0;33m[Action]\u001b[0m \u001b[92mRearr cereal0\u001b[0m\n",
      "\u001b[0;36mGood Action\u001b[0m\n",
      "\u001b[95m[Reward]\u001b[0m S(98) -> A(102) -> S'(103) Reward : \u001b[4m3.333\u001b[0m\n",
      "\u001b[0;33m[Action]\u001b[0m \u001b[92mRearr can0\u001b[0m\n",
      "\u001b[91mBad Action\u001b[0m\n",
      "\u001b[95m[Reward]\u001b[0m S(103) -> A(106) -> S'(107) Reward : \u001b[4m-6.667\u001b[0m\n",
      "\u001b[0;33m[Action]\u001b[0m \u001b[92mRearr cereal0\u001b[0m\n",
      "\u001b[91mBad Action\u001b[0m\n",
      "\u001b[95m[Reward]\u001b[0m S(107) -> A(110) -> S'(111) Reward : \u001b[4m-5.0\u001b[0m\n",
      "\u001b[0;33m[Action]\u001b[0m \u001b[92mRearr can0\u001b[0m\n",
      "\u001b[0;36mGood Action\u001b[0m\n",
      "\u001b[95m[Reward]\u001b[0m S(111) -> A(113) -> S'(114) Reward : \u001b[4m1.667\u001b[0m\n",
      "\u001b[0;33m[Action]\u001b[0m \u001b[92mRearr ben_cube0\u001b[0m\n",
      "\u001b[0;34mplaced another place not goal\u001b[0m\n",
      "\u001b[95m[Reward]\u001b[0m S(114) -> A(115) -> S'(119) Reward : \u001b[4m-1\u001b[0m\n",
      "\u001b[0;33m[Action]\u001b[0m \u001b[92mRearr cereal0\u001b[0m\n",
      "\u001b[0;36mGood Action\u001b[0m\n",
      "\u001b[95m[Reward]\u001b[0m S(119) -> A(122) -> S'(123) Reward : \u001b[4m1.25\u001b[0m\n",
      "\u001b[0;33m[Action]\u001b[0m \u001b[92mRearr can0\u001b[0m\n",
      "\u001b[91mBad Action\u001b[0m\n",
      "\u001b[95m[Reward]\u001b[0m S(123) -> A(126) -> S'(127) Reward : \u001b[4m-2.5\u001b[0m\n",
      "\u001b[0;33m[Action]\u001b[0m \u001b[92mRearr ben_cube0\u001b[0m\n",
      "\u001b[0;36mGood Action\u001b[0m\n",
      "\u001b[95m[Reward]\u001b[0m S(127) -> A(129) -> S'(131) Reward : \u001b[4m1.0\u001b[0m\n",
      "\u001b[0;33m[Action]\u001b[0m \u001b[92mRearr cereal0\u001b[0m\n",
      "\u001b[91mBad Action\u001b[0m\n",
      "\u001b[95m[Reward]\u001b[0m S(131) -> A(134) -> S'(135) Reward : \u001b[4m-2.0\u001b[0m\n",
      "\u001b[93mExceeded the maximum depth!!\u001b[0m\n",
      "########### Running time :  84.96122360229492 ##############\n",
      "\n",
      "[1/10] Benchmark: 0, Algo: bai_perturb, C: 2.5, Seed: 17\n",
      "\u001b[95m=========== Search iteration : 5 ===========\u001b[0m\n",
      "\u001b[0;33m[Action]\u001b[0m \u001b[92mRearr cereal0\u001b[0m\n",
      "\u001b[0;34mplaced another place not goal\u001b[0m\n",
      "\u001b[95m[Reward]\u001b[0m S(0) -> A(5) -> S'(136) Reward : \u001b[4m-1\u001b[0m\n",
      "\u001b[0;33m[Action]\u001b[0m \u001b[92mRearr ben_cube0\u001b[0m\n",
      "\u001b[0;36mGood Action\u001b[0m\n",
      "\u001b[95m[Reward]\u001b[0m S(136) -> A(138) -> S'(141) Reward : \u001b[4m3.333\u001b[0m\n",
      "\u001b[0;33m[Action]\u001b[0m \u001b[92mRearr can0\u001b[0m\n",
      "\u001b[0;36mGood Action\u001b[0m\n",
      "\u001b[95m[Reward]\u001b[0m S(141) -> A(143) -> S'(146) Reward : \u001b[4m2.5\u001b[0m\n",
      "\u001b[0;33m[Action]\u001b[0m \u001b[92mRearr cereal0\u001b[0m\n",
      "\u001b[0;36mGood Action\u001b[0m\n",
      "\u001b[95m[Reward]\u001b[0m S(146) -> A(149) -> S'(150) Reward : \u001b[4m2.0\u001b[0m\n",
      "##########['ben_cube0', 'can0', 'cereal0']#############\n",
      "\u001b[94mSuccess!!!!!\u001b[0m\n",
      "Terminal State! Reward is 5\n",
      "\u001b[0;33mcereal0\u001b[0m\n",
      "Extracted Region Cube Size:  0.4\n",
      "Generated 154 grasps for object cereal0\n",
      "\u001b[0;33mben_cube0\u001b[0m\n",
      "Extracted Region Cube Size:  0.4\n",
      "Generated 58 grasps for object ben_cube0\n",
      "\u001b[0;33mcan0\u001b[0m\n",
      "Extracted Region Cube Size:  0.4\n",
      "Generated 186 grasps for object can0\n",
      "\u001b[0;33mcereal0\u001b[0m\n",
      "Extracted Region Cube Size:  0.4\n",
      "Generated 150 grasps for object cereal0\n",
      "\u001b[91mA value of this optimal nodes is lower than maximum value.\u001b[0m\n",
      "Add level_1_node!\n",
      "########### Running time :  86.72057604789734 ##############\n",
      "\n",
      "[1/10] Benchmark: 0, Algo: bai_perturb, C: 2.5, Seed: 17\n",
      "\u001b[95m=========== Search iteration : 6 ===========\u001b[0m\n",
      "\u001b[0;33m[Action]\u001b[0m \u001b[92mRearr cereal0\u001b[0m\n",
      "\u001b[0;36mGood Action\u001b[0m\n",
      "\u001b[95m[Reward]\u001b[0m S(0) -> A(6) -> S'(151) Reward : \u001b[4m5.0\u001b[0m\n",
      "\u001b[0;33m[Action]\u001b[0m \u001b[92mRearr can0\u001b[0m\n",
      "\u001b[0;34mplaced another place not goal\u001b[0m\n",
      "\u001b[95m[Reward]\u001b[0m S(151) -> A(154) -> S'(156) Reward : \u001b[4m-1\u001b[0m\n",
      "\u001b[0;33m[Action]\u001b[0m \u001b[92mRearr ben_cube0\u001b[0m\n",
      "\u001b[0;34mplaced another place not goal\u001b[0m\n",
      "\u001b[95m[Reward]\u001b[0m S(156) -> A(157) -> S'(160) Reward : \u001b[4m-1\u001b[0m\n",
      "\u001b[0;33m[Action]\u001b[0m \u001b[92mRearr can0\u001b[0m\n",
      "\u001b[0;36mGood Action\u001b[0m\n",
      "\u001b[95m[Reward]\u001b[0m S(160) -> A(162) -> S'(164) Reward : \u001b[4m2.0\u001b[0m\n",
      "\u001b[0;33m[Action]\u001b[0m \u001b[92mRearr cereal0\u001b[0m\n",
      "\u001b[91mBad Action\u001b[0m\n",
      "\u001b[95m[Reward]\u001b[0m S(164) -> A(167) -> S'(168) Reward : \u001b[4m-4.0\u001b[0m\n",
      "\u001b[0;33m[Action]\u001b[0m \u001b[92mRearr can0\u001b[0m\n",
      "\u001b[91mBad Action\u001b[0m\n",
      "\u001b[95m[Reward]\u001b[0m S(168) -> A(171) -> S'(172) Reward : \u001b[4m-3.333\u001b[0m\n",
      "\u001b[0;33m[Action]\u001b[0m \u001b[92mRearr cereal0\u001b[0m\n",
      "\u001b[0;36mGood Action\u001b[0m\n",
      "\u001b[95m[Reward]\u001b[0m S(172) -> A(176) -> S'(177) Reward : \u001b[4m1.25\u001b[0m\n",
      "\u001b[0;33m[Action]\u001b[0m \u001b[92mRearr ben_cube0\u001b[0m\n",
      "\u001b[0;34mplaced another place not goal\u001b[0m\n",
      "\u001b[95m[Reward]\u001b[0m S(177) -> A(178) -> S'(182) Reward : \u001b[4m-1\u001b[0m\n",
      "\u001b[0;33m[Action]\u001b[0m \u001b[92mRearr can0\u001b[0m\n",
      "\u001b[0;34mplaced another place not goal\u001b[0m\n",
      "\u001b[95m[Reward]\u001b[0m S(182) -> A(183) -> S'(186) Reward : \u001b[4m-1\u001b[0m\n",
      "\u001b[0;33m[Action]\u001b[0m \u001b[92mRearr ben_cube0\u001b[0m\n",
      "\u001b[0;34mplaced another place not goal\u001b[0m\n",
      "\u001b[95m[Reward]\u001b[0m S(186) -> A(187) -> S'(190) Reward : \u001b[4m-1\u001b[0m\n",
      "\u001b[93mExceeded the maximum depth!!\u001b[0m\n",
      "########### Running time :  87.51626539230347 ##############\n",
      "\n",
      "[1/10] Benchmark: 0, Algo: bai_perturb, C: 2.5, Seed: 17\n",
      "\u001b[95m=========== Search iteration : 7 ===========\u001b[0m\n",
      "\u001b[0;33m[Action]\u001b[0m \u001b[92mRearr cereal0\u001b[0m\n",
      "\u001b[0;34mplaced another place not goal\u001b[0m\n",
      "\u001b[95m[Reward]\u001b[0m S(0) -> A(5) -> S'(136) Reward : \u001b[4m-1\u001b[0m\n",
      "\u001b[0;33m[Action]\u001b[0m \u001b[92mRearr ben_cube0\u001b[0m\n",
      "\u001b[0;34mplaced another place not goal\u001b[0m\n",
      "\u001b[95m[Reward]\u001b[0m S(136) -> A(137) -> S'(191) Reward : \u001b[4m-1\u001b[0m\n",
      "\u001b[0;33m[Action]\u001b[0m \u001b[92mRearr can0\u001b[0m\n",
      "\u001b[0;34mplaced another place not goal\u001b[0m\n",
      "\u001b[95m[Reward]\u001b[0m S(191) -> A(192) -> S'(196) Reward : \u001b[4m-1\u001b[0m\n",
      "\u001b[0;33m[Action]\u001b[0m \u001b[92mRearr ben_cube0\u001b[0m\n",
      "\u001b[0;34mplaced another place not goal\u001b[0m\n",
      "\u001b[95m[Reward]\u001b[0m S(196) -> A(197) -> S'(201) Reward : \u001b[4m-1\u001b[0m\n",
      "\u001b[0;33m[Action]\u001b[0m \u001b[92mRearr cereal0\u001b[0m\n",
      "\u001b[0;34mplaced another place not goal\u001b[0m\n",
      "\u001b[95m[Reward]\u001b[0m S(201) -> A(204) -> S'(206) Reward : \u001b[4m-1\u001b[0m\n",
      "\u001b[0;33m[Action]\u001b[0m \u001b[92mRearr ben_cube0\u001b[0m\n",
      "\u001b[0;36mGood Action\u001b[0m\n",
      "\u001b[95m[Reward]\u001b[0m S(206) -> A(207) -> S'(209) Reward : \u001b[4m1.429\u001b[0m\n",
      "\u001b[0;33m[Action]\u001b[0m \u001b[92mRearr cereal0\u001b[0m\n",
      "\u001b[0;34mplaced another place not goal\u001b[0m\n",
      "\u001b[95m[Reward]\u001b[0m S(209) -> A(212) -> S'(214) Reward : \u001b[4m-1\u001b[0m\n",
      "\u001b[0;33m[Action]\u001b[0m \u001b[92mRearr can0\u001b[0m\n",
      "\u001b[0;36mGood Action\u001b[0m\n",
      "\u001b[95m[Reward]\u001b[0m S(214) -> A(217) -> S'(218) Reward : \u001b[4m1.111\u001b[0m\n",
      "\u001b[0;33m[Action]\u001b[0m \u001b[92mRearr cereal0\u001b[0m\n",
      "\u001b[0;36mGood Action\u001b[0m\n",
      "\u001b[95m[Reward]\u001b[0m S(218) -> A(221) -> S'(222) Reward : \u001b[4m1.0\u001b[0m\n",
      "##########['ben_cube0', 'can0', 'cereal0']#############\n",
      "\u001b[94mSuccess!!!!!\u001b[0m\n",
      "Terminal State! Reward is 5\n",
      "\u001b[0;33mcereal0\u001b[0m\n",
      "Extracted Region Cube Size:  0.4\n",
      "Generated 152 grasps for object cereal0\n",
      "\u001b[0;33mben_cube0\u001b[0m\n",
      "Extracted Region Cube Size:  0.4\n",
      "Generated 111 grasps for object ben_cube0\n",
      "\u001b[0;33mcan0\u001b[0m\n",
      "Extracted Region Cube Size:  0.4\n",
      "Generated 87 grasps for object can0\n",
      "\u001b[0;33mben_cube0\u001b[0m\n",
      "Extracted Region Cube Size:  0.4\n",
      "Generated 49 grasps for object ben_cube0\n",
      "\u001b[0;33mcereal0\u001b[0m\n",
      "Extracted Region Cube Size:  0.4\n",
      "Generated 164 grasps for object cereal0\n",
      "\u001b[0;33mben_cube0\u001b[0m\n",
      "Extracted Region Cube Size:  0.4\n"
     ]
    },
    {
     "name": "stdout",
     "output_type": "stream",
     "text": [
      "Generated 4 grasps for object ben_cube0\n",
      "\u001b[0;33mcereal0\u001b[0m\n",
      "Extracted Region Cube Size:  0.4\n",
      "Generated 127 grasps for object cereal0\n",
      "\u001b[0;33mcan0\u001b[0m\n",
      "Extracted Region Cube Size:  0.4\n",
      "Generated 39 grasps for object can0\n",
      "\u001b[0;33mcereal0\u001b[0m\n",
      "Extracted Region Cube Size:  0.4\n",
      "Generated 134 grasps for object cereal0\n",
      "\u001b[91mA value of this optimal nodes is lower than maximum value.\u001b[0m\n",
      "Add level_1_node!\n",
      "########### Running time :  91.26233839988708 ##############\n",
      "\n",
      "[1/10] Benchmark: 0, Algo: bai_perturb, C: 2.5, Seed: 17\n",
      "\u001b[95m=========== Search iteration : 8 ===========\u001b[0m\n",
      "\u001b[0;33m[Action]\u001b[0m \u001b[92mRearr ben_cube0\u001b[0m\n",
      "\u001b[0;36mGood Action\u001b[0m\n",
      "\u001b[95m[Reward]\u001b[0m S(0) -> A(2) -> S'(48) Reward : \u001b[4m5.0\u001b[0m\n",
      "\u001b[0;33m[Action]\u001b[0m \u001b[92mRearr can0\u001b[0m\n",
      "\u001b[0;34mplaced another place not goal\u001b[0m\n",
      "\u001b[95m[Reward]\u001b[0m S(48) -> A(49) -> S'(223) Reward : \u001b[4m-1\u001b[0m\n",
      "\u001b[0;33m[Action]\u001b[0m \u001b[92mRearr ben_cube0\u001b[0m\n",
      "\u001b[91mBad Action\u001b[0m\n",
      "\u001b[95m[Reward]\u001b[0m S(223) -> A(224) -> S'(227) Reward : \u001b[4m-6.667\u001b[0m\n",
      "\u001b[0;33m[Action]\u001b[0m \u001b[92mRearr can0\u001b[0m\n",
      "\u001b[0;34mplaced another place not goal\u001b[0m\n",
      "\u001b[95m[Reward]\u001b[0m S(227) -> A(228) -> S'(232) Reward : \u001b[4m-1\u001b[0m\n",
      "\u001b[0;33m[Action]\u001b[0m \u001b[92mRearr cereal0\u001b[0m\n",
      "\u001b[0;34mplaced another place not goal\u001b[0m\n",
      "\u001b[95m[Reward]\u001b[0m S(232) -> A(235) -> S'(237) Reward : \u001b[4m-1\u001b[0m\n",
      "\u001b[0;33m[Action]\u001b[0m \u001b[92mRearr can0\u001b[0m\n",
      "\u001b[0;36mGood Action\u001b[0m\n",
      "\u001b[95m[Reward]\u001b[0m S(237) -> A(240) -> S'(241) Reward : \u001b[4m1.429\u001b[0m\n",
      "\u001b[0;33m[Action]\u001b[0m \u001b[92mRearr ben_cube0\u001b[0m\n",
      "\u001b[0;36mGood Action\u001b[0m\n",
      "\u001b[95m[Reward]\u001b[0m S(241) -> A(243) -> S'(246) Reward : \u001b[4m1.25\u001b[0m\n",
      "\u001b[0;33m[Action]\u001b[0m \u001b[92mRearr cereal0\u001b[0m\n"
     ]
    },
    {
     "ename": "KeyboardInterrupt",
     "evalue": "",
     "output_type": "error",
     "traceback": [
      "\u001b[0;31m---------------------------------------------------------------------------\u001b[0m",
      "\u001b[0;31mKeyboardInterrupt\u001b[0m                         Traceback (most recent call last)",
      "Cell \u001b[0;32mIn[3], line 7\u001b[0m\n\u001b[1;32m      2\u001b[0m \u001b[38;5;28;01mfor\u001b[39;00m i \u001b[38;5;129;01min\u001b[39;00m \u001b[38;5;28mrange\u001b[39m(budgets):\n\u001b[1;32m      3\u001b[0m \u001b[38;5;66;03m# for i in range(10):\u001b[39;00m\n\u001b[1;32m      4\u001b[0m     \u001b[38;5;28mprint\u001b[39m(\n\u001b[1;32m      5\u001b[0m         \u001b[38;5;124mf\u001b[39m\u001b[38;5;124m\"\u001b[39m\u001b[38;5;130;01m\\n\u001b[39;00m\u001b[38;5;124m[\u001b[39m\u001b[38;5;132;01m{\u001b[39;00midx\u001b[38;5;241m+\u001b[39m\u001b[38;5;241m1\u001b[39m\u001b[38;5;132;01m}\u001b[39;00m\u001b[38;5;124m/\u001b[39m\u001b[38;5;132;01m{\u001b[39;00m\u001b[38;5;28mlen\u001b[39m(c_list)\u001b[38;5;132;01m}\u001b[39;00m\u001b[38;5;124m] Benchmark: \u001b[39m\u001b[38;5;132;01m{\u001b[39;00mrearrangement1\u001b[38;5;241m.\u001b[39mscene_mngr\u001b[38;5;241m.\u001b[39mscene\u001b[38;5;241m.\u001b[39mbench_num\u001b[38;5;132;01m}\u001b[39;00m\u001b[38;5;124m, Algo: \u001b[39m\u001b[38;5;132;01m{\u001b[39;00malgo\u001b[38;5;132;01m}\u001b[39;00m\u001b[38;5;124m, C: \u001b[39m\u001b[38;5;132;01m{\u001b[39;00mc\u001b[38;5;132;01m}\u001b[39;00m\u001b[38;5;124m, Seed: \u001b[39m\u001b[38;5;132;01m{\u001b[39;00mseed\u001b[38;5;132;01m}\u001b[39;00m\u001b[38;5;124m\"\u001b[39m\n\u001b[1;32m      6\u001b[0m     )\n\u001b[0;32m----> 7\u001b[0m     \u001b[43mmcts\u001b[49m\u001b[38;5;241;43m.\u001b[39;49m\u001b[43mdo_planning_rearrange\u001b[49m\u001b[43m(\u001b[49m\u001b[43mi\u001b[49m\u001b[43m)\u001b[49m\n\u001b[1;32m      9\u001b[0m     \u001b[38;5;28mprint\u001b[39m(\u001b[38;5;124m\"\u001b[39m\u001b[38;5;124m########### Running time : \u001b[39m\u001b[38;5;124m\"\u001b[39m, time\u001b[38;5;241m.\u001b[39mtime()\u001b[38;5;241m-\u001b[39m start_time, \u001b[38;5;124m\"\u001b[39m\u001b[38;5;124m##############\u001b[39m\u001b[38;5;124m\"\u001b[39m)\n\u001b[1;32m     10\u001b[0m     final_level_1_values\u001b[38;5;241m.\u001b[39mappend(mcts\u001b[38;5;241m.\u001b[39mvalues_for_level_1)\n",
      "File \u001b[0;32m~/anaconda3/envs/contact_graspnet/lib/python3.8/site-packages/pytamp/search/mcts_for_rearragement.py:199\u001b[0m, in \u001b[0;36mMCTS_rearrangement.do_planning_rearrange\u001b[0;34m(self, iter)\u001b[0m\n\u001b[1;32m    196\u001b[0m     \u001b[38;5;28mself\u001b[39m\u001b[38;5;241m.\u001b[39mvisualize_tree(\u001b[38;5;124m\"\u001b[39m\u001b[38;5;124mNext Logical Node\u001b[39m\u001b[38;5;124m\"\u001b[39m, \u001b[38;5;28mself\u001b[39m\u001b[38;5;241m.\u001b[39mtree)\n\u001b[1;32m    197\u001b[0m \u001b[38;5;28mself\u001b[39m\u001b[38;5;241m.\u001b[39msuccess_level_1_leaf_node \u001b[38;5;241m=\u001b[39m \u001b[38;5;28;01mNone\u001b[39;00m\n\u001b[0;32m--> 199\u001b[0m \u001b[38;5;28;43mself\u001b[39;49m\u001b[38;5;241;43m.\u001b[39;49m\u001b[43m_level_wise_1_optimize_rearr\u001b[49m\u001b[43m(\u001b[49m\u001b[43mstate_node\u001b[49m\u001b[38;5;241;43m=\u001b[39;49m\u001b[38;5;241;43m0\u001b[39;49m\u001b[43m,\u001b[49m\u001b[43m \u001b[49m\u001b[43mdepth\u001b[49m\u001b[38;5;241;43m=\u001b[39;49m\u001b[38;5;241;43m0\u001b[39;49m\u001b[43m)\u001b[49m\n\u001b[1;32m    200\u001b[0m max_level_1_value \u001b[38;5;241m=\u001b[39m \u001b[38;5;28mself\u001b[39m\u001b[38;5;241m.\u001b[39mget_max_value_level_1()\n\u001b[1;32m    201\u001b[0m \u001b[38;5;28mself\u001b[39m\u001b[38;5;241m.\u001b[39mvalues_for_level_1\u001b[38;5;241m.\u001b[39mappend(max_level_1_value)\n",
      "File \u001b[0;32m~/anaconda3/envs/contact_graspnet/lib/python3.8/site-packages/pytamp/search/mcts_for_rearragement.py:362\u001b[0m, in \u001b[0;36mMCTS_rearrangement._level_wise_1_optimize_rearr\u001b[0;34m(self, state_node, depth)\u001b[0m\n\u001b[1;32m    357\u001b[0m     \u001b[38;5;28;01mif\u001b[39;00m \u001b[38;5;28mself\u001b[39m\u001b[38;5;241m.\u001b[39mscene_mngr\u001b[38;5;241m.\u001b[39mscene\u001b[38;5;241m.\u001b[39mbench_num \u001b[38;5;241m>\u001b[39m\u001b[38;5;241m=\u001b[39m \u001b[38;5;241m3\u001b[39m:\n\u001b[1;32m    358\u001b[0m         discount_value \u001b[38;5;241m=\u001b[39m \u001b[38;5;241m-\u001b[39m\u001b[38;5;241m0.5\u001b[39m\n\u001b[1;32m    359\u001b[0m     value \u001b[38;5;241m=\u001b[39m (\n\u001b[1;32m    360\u001b[0m         reward\n\u001b[1;32m    361\u001b[0m         \u001b[38;5;241m+\u001b[39m discount_value\n\u001b[0;32m--> 362\u001b[0m         \u001b[38;5;241m+\u001b[39m \u001b[38;5;28mself\u001b[39m\u001b[38;5;241m.\u001b[39mgamma \u001b[38;5;241m*\u001b[39m \u001b[38;5;28;43mself\u001b[39;49m\u001b[38;5;241;43m.\u001b[39;49m\u001b[43m_level_wise_1_optimize_rearr\u001b[49m\u001b[43m(\u001b[49m\u001b[43mnext_state_node\u001b[49m\u001b[43m,\u001b[49m\u001b[43m \u001b[49m\u001b[43mdepth\u001b[49m\u001b[43m \u001b[49m\u001b[38;5;241;43m+\u001b[39;49m\u001b[43m \u001b[49m\u001b[38;5;241;43m1\u001b[39;49m\u001b[43m)\u001b[49m\n\u001b[1;32m    363\u001b[0m     )\n\u001b[1;32m    365\u001b[0m \u001b[38;5;28mself\u001b[39m\u001b[38;5;241m.\u001b[39m_update_value(cur_state_node, value)\n\u001b[1;32m    366\u001b[0m \u001b[38;5;66;03m# print(f\"{sc.MAGENTA}[Backpropagation]{sc.ENDC} Cur state Node : {cur_state_node}, Value : {np.round(value,3)}\")\u001b[39;00m\n\u001b[1;32m    367\u001b[0m \u001b[38;5;66;03m# if self.debug_mode:\u001b[39;00m\n\u001b[1;32m    368\u001b[0m \u001b[38;5;66;03m#     self.visualize_tree(\"Backpropagation\", self.tree)\u001b[39;00m\n",
      "File \u001b[0;32m~/anaconda3/envs/contact_graspnet/lib/python3.8/site-packages/pytamp/search/mcts_for_rearragement.py:362\u001b[0m, in \u001b[0;36mMCTS_rearrangement._level_wise_1_optimize_rearr\u001b[0;34m(self, state_node, depth)\u001b[0m\n\u001b[1;32m    357\u001b[0m     \u001b[38;5;28;01mif\u001b[39;00m \u001b[38;5;28mself\u001b[39m\u001b[38;5;241m.\u001b[39mscene_mngr\u001b[38;5;241m.\u001b[39mscene\u001b[38;5;241m.\u001b[39mbench_num \u001b[38;5;241m>\u001b[39m\u001b[38;5;241m=\u001b[39m \u001b[38;5;241m3\u001b[39m:\n\u001b[1;32m    358\u001b[0m         discount_value \u001b[38;5;241m=\u001b[39m \u001b[38;5;241m-\u001b[39m\u001b[38;5;241m0.5\u001b[39m\n\u001b[1;32m    359\u001b[0m     value \u001b[38;5;241m=\u001b[39m (\n\u001b[1;32m    360\u001b[0m         reward\n\u001b[1;32m    361\u001b[0m         \u001b[38;5;241m+\u001b[39m discount_value\n\u001b[0;32m--> 362\u001b[0m         \u001b[38;5;241m+\u001b[39m \u001b[38;5;28mself\u001b[39m\u001b[38;5;241m.\u001b[39mgamma \u001b[38;5;241m*\u001b[39m \u001b[38;5;28;43mself\u001b[39;49m\u001b[38;5;241;43m.\u001b[39;49m\u001b[43m_level_wise_1_optimize_rearr\u001b[49m\u001b[43m(\u001b[49m\u001b[43mnext_state_node\u001b[49m\u001b[43m,\u001b[49m\u001b[43m \u001b[49m\u001b[43mdepth\u001b[49m\u001b[43m \u001b[49m\u001b[38;5;241;43m+\u001b[39;49m\u001b[43m \u001b[49m\u001b[38;5;241;43m1\u001b[39;49m\u001b[43m)\u001b[49m\n\u001b[1;32m    363\u001b[0m     )\n\u001b[1;32m    365\u001b[0m \u001b[38;5;28mself\u001b[39m\u001b[38;5;241m.\u001b[39m_update_value(cur_state_node, value)\n\u001b[1;32m    366\u001b[0m \u001b[38;5;66;03m# print(f\"{sc.MAGENTA}[Backpropagation]{sc.ENDC} Cur state Node : {cur_state_node}, Value : {np.round(value,3)}\")\u001b[39;00m\n\u001b[1;32m    367\u001b[0m \u001b[38;5;66;03m# if self.debug_mode:\u001b[39;00m\n\u001b[1;32m    368\u001b[0m \u001b[38;5;66;03m#     self.visualize_tree(\"Backpropagation\", self.tree)\u001b[39;00m\n",
      "    \u001b[0;31m[... skipping similar frames: MCTS_rearrangement._level_wise_1_optimize_rearr at line 362 (4 times)]\u001b[0m\n",
      "File \u001b[0;32m~/anaconda3/envs/contact_graspnet/lib/python3.8/site-packages/pytamp/search/mcts_for_rearragement.py:362\u001b[0m, in \u001b[0;36mMCTS_rearrangement._level_wise_1_optimize_rearr\u001b[0;34m(self, state_node, depth)\u001b[0m\n\u001b[1;32m    357\u001b[0m     \u001b[38;5;28;01mif\u001b[39;00m \u001b[38;5;28mself\u001b[39m\u001b[38;5;241m.\u001b[39mscene_mngr\u001b[38;5;241m.\u001b[39mscene\u001b[38;5;241m.\u001b[39mbench_num \u001b[38;5;241m>\u001b[39m\u001b[38;5;241m=\u001b[39m \u001b[38;5;241m3\u001b[39m:\n\u001b[1;32m    358\u001b[0m         discount_value \u001b[38;5;241m=\u001b[39m \u001b[38;5;241m-\u001b[39m\u001b[38;5;241m0.5\u001b[39m\n\u001b[1;32m    359\u001b[0m     value \u001b[38;5;241m=\u001b[39m (\n\u001b[1;32m    360\u001b[0m         reward\n\u001b[1;32m    361\u001b[0m         \u001b[38;5;241m+\u001b[39m discount_value\n\u001b[0;32m--> 362\u001b[0m         \u001b[38;5;241m+\u001b[39m \u001b[38;5;28mself\u001b[39m\u001b[38;5;241m.\u001b[39mgamma \u001b[38;5;241m*\u001b[39m \u001b[38;5;28;43mself\u001b[39;49m\u001b[38;5;241;43m.\u001b[39;49m\u001b[43m_level_wise_1_optimize_rearr\u001b[49m\u001b[43m(\u001b[49m\u001b[43mnext_state_node\u001b[49m\u001b[43m,\u001b[49m\u001b[43m \u001b[49m\u001b[43mdepth\u001b[49m\u001b[43m \u001b[49m\u001b[38;5;241;43m+\u001b[39;49m\u001b[43m \u001b[49m\u001b[38;5;241;43m1\u001b[39;49m\u001b[43m)\u001b[49m\n\u001b[1;32m    363\u001b[0m     )\n\u001b[1;32m    365\u001b[0m \u001b[38;5;28mself\u001b[39m\u001b[38;5;241m.\u001b[39m_update_value(cur_state_node, value)\n\u001b[1;32m    366\u001b[0m \u001b[38;5;66;03m# print(f\"{sc.MAGENTA}[Backpropagation]{sc.ENDC} Cur state Node : {cur_state_node}, Value : {np.round(value,3)}\")\u001b[39;00m\n\u001b[1;32m    367\u001b[0m \u001b[38;5;66;03m# if self.debug_mode:\u001b[39;00m\n\u001b[1;32m    368\u001b[0m \u001b[38;5;66;03m#     self.visualize_tree(\"Backpropagation\", self.tree)\u001b[39;00m\n",
      "File \u001b[0;32m~/anaconda3/envs/contact_graspnet/lib/python3.8/site-packages/pytamp/search/mcts_for_rearragement.py:324\u001b[0m, in \u001b[0;36mMCTS_rearrangement._level_wise_1_optimize_rearr\u001b[0;34m(self, state_node, depth)\u001b[0m\n\u001b[1;32m    318\u001b[0m     \u001b[38;5;28mprint\u001b[39m(\n\u001b[1;32m    319\u001b[0m         \u001b[38;5;124mf\u001b[39m\u001b[38;5;124m\"\u001b[39m\u001b[38;5;132;01m{\u001b[39;00msc\u001b[38;5;241m.\u001b[39mCOLOR_BROWN\u001b[38;5;132;01m}\u001b[39;00m\u001b[38;5;124m[Action]\u001b[39m\u001b[38;5;132;01m{\u001b[39;00msc\u001b[38;5;241m.\u001b[39mENDC\u001b[38;5;132;01m}\u001b[39;00m\u001b[38;5;124m \u001b[39m\u001b[38;5;132;01m{\u001b[39;00msc\u001b[38;5;241m.\u001b[39mOKGREEN\u001b[38;5;132;01m}\u001b[39;00m\u001b[38;5;124mRearr \u001b[39m\u001b[38;5;132;01m{\u001b[39;00mcur_logical_action[\u001b[38;5;28mself\u001b[39m\u001b[38;5;241m.\u001b[39mrearr_action\u001b[38;5;241m.\u001b[39minfo\u001b[38;5;241m.\u001b[39mREARR_OBJ_NAME]\u001b[38;5;132;01m}\u001b[39;00m\u001b[38;5;132;01m{\u001b[39;00msc\u001b[38;5;241m.\u001b[39mENDC\u001b[38;5;132;01m}\u001b[39;00m\u001b[38;5;124m\"\u001b[39m\n\u001b[1;32m    320\u001b[0m     )\n\u001b[1;32m    322\u001b[0m \u001b[38;5;66;03m# ? Select Next State\u001b[39;00m\n\u001b[1;32m    323\u001b[0m \u001b[38;5;66;03m# *======================================================================================================================== #\u001b[39;00m\n\u001b[0;32m--> 324\u001b[0m next_state_node \u001b[38;5;241m=\u001b[39m \u001b[38;5;28;43mself\u001b[39;49m\u001b[38;5;241;43m.\u001b[39;49m\u001b[43m_select_next_state_node\u001b[49m\u001b[43m(\u001b[49m\n\u001b[1;32m    325\u001b[0m \u001b[43m    \u001b[49m\u001b[43mcur_logical_action_node\u001b[49m\u001b[43m,\u001b[49m\n\u001b[1;32m    326\u001b[0m \u001b[43m    \u001b[49m\u001b[43mcur_state\u001b[49m\u001b[43m,\u001b[49m\n\u001b[1;32m    327\u001b[0m \u001b[43m    \u001b[49m\u001b[43mcur_logical_action\u001b[49m\u001b[43m,\u001b[49m\n\u001b[1;32m    328\u001b[0m \u001b[43m    \u001b[49m\u001b[43mdepth\u001b[49m\u001b[43m,\u001b[49m\n\u001b[1;32m    329\u001b[0m \u001b[43m    \u001b[49m\u001b[38;5;28;43mself\u001b[39;49m\u001b[38;5;241;43m.\u001b[39;49m\u001b[43m_sampling_method\u001b[49m\u001b[43m,\u001b[49m\n\u001b[1;32m    330\u001b[0m \u001b[43m\u001b[49m\u001b[43m)\u001b[49m\n\u001b[1;32m    331\u001b[0m \u001b[38;5;66;03m# assert next_state_node is not None, f\"Next state node is None... Why??\"\u001b[39;00m\n\u001b[1;32m    332\u001b[0m \u001b[38;5;28;01mif\u001b[39;00m next_state_node \u001b[38;5;129;01mis\u001b[39;00m \u001b[38;5;129;01mnot\u001b[39;00m \u001b[38;5;28;01mNone\u001b[39;00m:\n",
      "File \u001b[0;32m~/anaconda3/envs/contact_graspnet/lib/python3.8/site-packages/pytamp/search/mcts_for_rearragement.py:598\u001b[0m, in \u001b[0;36mMCTS_rearrangement._select_next_state_node\u001b[0;34m(self, cur_logical_action_node, cur_state, cur_logical_action, depth, exploration_method)\u001b[0m\n\u001b[1;32m    595\u001b[0m visit \u001b[38;5;241m=\u001b[39m \u001b[38;5;28mself\u001b[39m\u001b[38;5;241m.\u001b[39mtree\u001b[38;5;241m.\u001b[39mnodes[cur_logical_action_node][NodeData\u001b[38;5;241m.\u001b[39mVISIT]\n\u001b[1;32m    596\u001b[0m \u001b[38;5;28;01mif\u001b[39;00m visit \u001b[38;5;241m==\u001b[39m \u001b[38;5;241m0\u001b[39m:\n\u001b[1;32m    597\u001b[0m     \u001b[38;5;66;03m# print(f\"Logical action node {cur_logical_action_node} is a leaf node, So expand\")\u001b[39;00m\n\u001b[0;32m--> 598\u001b[0m     \u001b[38;5;28;43mself\u001b[39;49m\u001b[38;5;241;43m.\u001b[39;49m\u001b[43m_expand_next_state_node_arr\u001b[49m\u001b[43m(\u001b[49m\n\u001b[1;32m    599\u001b[0m \u001b[43m        \u001b[49m\u001b[43mcur_logical_action_node\u001b[49m\u001b[43m,\u001b[49m\u001b[43m \u001b[49m\u001b[43mcur_state\u001b[49m\u001b[43m,\u001b[49m\u001b[43m \u001b[49m\u001b[43mcur_logical_action\u001b[49m\u001b[43m,\u001b[49m\u001b[43m \u001b[49m\u001b[43mdepth\u001b[49m\n\u001b[1;32m    600\u001b[0m \u001b[43m    \u001b[49m\u001b[43m)\u001b[49m\n\u001b[1;32m    601\u001b[0m expanded_children \u001b[38;5;241m=\u001b[39m [child \u001b[38;5;28;01mfor\u001b[39;00m child \u001b[38;5;129;01min\u001b[39;00m \u001b[38;5;28mself\u001b[39m\u001b[38;5;241m.\u001b[39mtree\u001b[38;5;241m.\u001b[39mneighbors(cur_logical_action_node)]\n\u001b[1;32m    602\u001b[0m \u001b[38;5;28;01mif\u001b[39;00m \u001b[38;5;129;01mnot\u001b[39;00m expanded_children:\n",
      "File \u001b[0;32m~/anaconda3/envs/contact_graspnet/lib/python3.8/site-packages/pytamp/search/mcts_for_rearragement.py:644\u001b[0m, in \u001b[0;36mMCTS_rearrangement._expand_next_state_node_arr\u001b[0;34m(self, cur_logical_action_node, cur_state, cur_logical_action, depth)\u001b[0m\n\u001b[1;32m    639\u001b[0m     next_states \u001b[38;5;241m=\u001b[39m \u001b[38;5;28mlist\u001b[39m(\n\u001b[1;32m    640\u001b[0m         \u001b[38;5;28mself\u001b[39m\u001b[38;5;241m.\u001b[39mplace_action\u001b[38;5;241m.\u001b[39mget_possible_transitions(cur_state, cur_logical_action)\n\u001b[1;32m    641\u001b[0m     )\n\u001b[1;32m    643\u001b[0m \u001b[38;5;28;01mif\u001b[39;00m logical_action_type \u001b[38;5;241m==\u001b[39m \u001b[38;5;124m\"\u001b[39m\u001b[38;5;124mrearr\u001b[39m\u001b[38;5;124m\"\u001b[39m:\n\u001b[0;32m--> 644\u001b[0m     next_states \u001b[38;5;241m=\u001b[39m \u001b[38;5;28;43mlist\u001b[39;49m\u001b[43m(\u001b[49m\n\u001b[1;32m    645\u001b[0m \u001b[43m        \u001b[49m\u001b[38;5;28;43mself\u001b[39;49m\u001b[38;5;241;43m.\u001b[39;49m\u001b[43mrearr_action\u001b[49m\u001b[38;5;241;43m.\u001b[39;49m\u001b[43mget_possible_transitions\u001b[49m\u001b[43m(\u001b[49m\u001b[43mcur_state\u001b[49m\u001b[43m,\u001b[49m\u001b[43m \u001b[49m\u001b[43mcur_logical_action\u001b[49m\u001b[43m)\u001b[49m\n\u001b[1;32m    646\u001b[0m \u001b[43m    \u001b[49m\u001b[43m)\u001b[49m\n\u001b[1;32m    648\u001b[0m \u001b[38;5;28;01mfor\u001b[39;00m next_state \u001b[38;5;129;01min\u001b[39;00m next_states:\n\u001b[1;32m    649\u001b[0m     next_node \u001b[38;5;241m=\u001b[39m \u001b[38;5;28mself\u001b[39m\u001b[38;5;241m.\u001b[39mtree\u001b[38;5;241m.\u001b[39mnumber_of_nodes()\n",
      "File \u001b[0;32m~/anaconda3/envs/contact_graspnet/lib/python3.8/site-packages/pytamp/action/rearrangement.py:525\u001b[0m, in \u001b[0;36mRearrangementAction.get_possible_transitions\u001b[0;34m(self, scene, action)\u001b[0m\n\u001b[1;32m    523\u001b[0m \u001b[38;5;28;01melse\u001b[39;00m:\n\u001b[1;32m    524\u001b[0m     \u001b[38;5;28;01mfor\u001b[39;00m rearr_pose \u001b[38;5;129;01min\u001b[39;00m action[\u001b[38;5;28mself\u001b[39m\u001b[38;5;241m.\u001b[39minfo\u001b[38;5;241m.\u001b[39mREARR_POSES]:\n\u001b[0;32m--> 525\u001b[0m         next_scene \u001b[38;5;241m=\u001b[39m \u001b[43mdeepcopy\u001b[49m\u001b[43m(\u001b[49m\u001b[43mscene\u001b[49m\u001b[43m)\u001b[49m\n\u001b[1;32m    526\u001b[0m         next_scene\u001b[38;5;241m.\u001b[39mrearr_poses \u001b[38;5;241m=\u001b[39m deepcopy(rearr_pose)\n\u001b[1;32m    527\u001b[0m         next_scene\u001b[38;5;241m.\u001b[39mrearr_obj_default_pose \u001b[38;5;241m=\u001b[39m deepcopy(scene\u001b[38;5;241m.\u001b[39mobjs[name]\u001b[38;5;241m.\u001b[39mh_mat)\n",
      "File \u001b[0;32m~/anaconda3/envs/contact_graspnet/lib/python3.8/copy.py:172\u001b[0m, in \u001b[0;36mdeepcopy\u001b[0;34m(x, memo, _nil)\u001b[0m\n\u001b[1;32m    170\u001b[0m                 y \u001b[38;5;241m=\u001b[39m x\n\u001b[1;32m    171\u001b[0m             \u001b[38;5;28;01melse\u001b[39;00m:\n\u001b[0;32m--> 172\u001b[0m                 y \u001b[38;5;241m=\u001b[39m \u001b[43m_reconstruct\u001b[49m\u001b[43m(\u001b[49m\u001b[43mx\u001b[49m\u001b[43m,\u001b[49m\u001b[43m \u001b[49m\u001b[43mmemo\u001b[49m\u001b[43m,\u001b[49m\u001b[43m \u001b[49m\u001b[38;5;241;43m*\u001b[39;49m\u001b[43mrv\u001b[49m\u001b[43m)\u001b[49m\n\u001b[1;32m    174\u001b[0m \u001b[38;5;66;03m# If is its own copy, don't memoize.\u001b[39;00m\n\u001b[1;32m    175\u001b[0m \u001b[38;5;28;01mif\u001b[39;00m y \u001b[38;5;129;01mis\u001b[39;00m \u001b[38;5;129;01mnot\u001b[39;00m x:\n",
      "File \u001b[0;32m~/anaconda3/envs/contact_graspnet/lib/python3.8/copy.py:270\u001b[0m, in \u001b[0;36m_reconstruct\u001b[0;34m(x, memo, func, args, state, listiter, dictiter, deepcopy)\u001b[0m\n\u001b[1;32m    268\u001b[0m \u001b[38;5;28;01mif\u001b[39;00m state \u001b[38;5;129;01mis\u001b[39;00m \u001b[38;5;129;01mnot\u001b[39;00m \u001b[38;5;28;01mNone\u001b[39;00m:\n\u001b[1;32m    269\u001b[0m     \u001b[38;5;28;01mif\u001b[39;00m deep:\n\u001b[0;32m--> 270\u001b[0m         state \u001b[38;5;241m=\u001b[39m \u001b[43mdeepcopy\u001b[49m\u001b[43m(\u001b[49m\u001b[43mstate\u001b[49m\u001b[43m,\u001b[49m\u001b[43m \u001b[49m\u001b[43mmemo\u001b[49m\u001b[43m)\u001b[49m\n\u001b[1;32m    271\u001b[0m     \u001b[38;5;28;01mif\u001b[39;00m \u001b[38;5;28mhasattr\u001b[39m(y, \u001b[38;5;124m'\u001b[39m\u001b[38;5;124m__setstate__\u001b[39m\u001b[38;5;124m'\u001b[39m):\n\u001b[1;32m    272\u001b[0m         y\u001b[38;5;241m.\u001b[39m__setstate__(state)\n",
      "File \u001b[0;32m~/anaconda3/envs/contact_graspnet/lib/python3.8/copy.py:146\u001b[0m, in \u001b[0;36mdeepcopy\u001b[0;34m(x, memo, _nil)\u001b[0m\n\u001b[1;32m    144\u001b[0m copier \u001b[38;5;241m=\u001b[39m _deepcopy_dispatch\u001b[38;5;241m.\u001b[39mget(\u001b[38;5;28mcls\u001b[39m)\n\u001b[1;32m    145\u001b[0m \u001b[38;5;28;01mif\u001b[39;00m copier \u001b[38;5;129;01mis\u001b[39;00m \u001b[38;5;129;01mnot\u001b[39;00m \u001b[38;5;28;01mNone\u001b[39;00m:\n\u001b[0;32m--> 146\u001b[0m     y \u001b[38;5;241m=\u001b[39m \u001b[43mcopier\u001b[49m\u001b[43m(\u001b[49m\u001b[43mx\u001b[49m\u001b[43m,\u001b[49m\u001b[43m \u001b[49m\u001b[43mmemo\u001b[49m\u001b[43m)\u001b[49m\n\u001b[1;32m    147\u001b[0m \u001b[38;5;28;01melse\u001b[39;00m:\n\u001b[1;32m    148\u001b[0m     \u001b[38;5;28;01mif\u001b[39;00m \u001b[38;5;28missubclass\u001b[39m(\u001b[38;5;28mcls\u001b[39m, \u001b[38;5;28mtype\u001b[39m):\n",
      "File \u001b[0;32m~/anaconda3/envs/contact_graspnet/lib/python3.8/copy.py:230\u001b[0m, in \u001b[0;36m_deepcopy_dict\u001b[0;34m(x, memo, deepcopy)\u001b[0m\n\u001b[1;32m    228\u001b[0m memo[\u001b[38;5;28mid\u001b[39m(x)] \u001b[38;5;241m=\u001b[39m y\n\u001b[1;32m    229\u001b[0m \u001b[38;5;28;01mfor\u001b[39;00m key, value \u001b[38;5;129;01min\u001b[39;00m x\u001b[38;5;241m.\u001b[39mitems():\n\u001b[0;32m--> 230\u001b[0m     y[deepcopy(key, memo)] \u001b[38;5;241m=\u001b[39m \u001b[43mdeepcopy\u001b[49m\u001b[43m(\u001b[49m\u001b[43mvalue\u001b[49m\u001b[43m,\u001b[49m\u001b[43m \u001b[49m\u001b[43mmemo\u001b[49m\u001b[43m)\u001b[49m\n\u001b[1;32m    231\u001b[0m \u001b[38;5;28;01mreturn\u001b[39;00m y\n",
      "File \u001b[0;32m~/anaconda3/envs/contact_graspnet/lib/python3.8/copy.py:172\u001b[0m, in \u001b[0;36mdeepcopy\u001b[0;34m(x, memo, _nil)\u001b[0m\n\u001b[1;32m    170\u001b[0m                 y \u001b[38;5;241m=\u001b[39m x\n\u001b[1;32m    171\u001b[0m             \u001b[38;5;28;01melse\u001b[39;00m:\n\u001b[0;32m--> 172\u001b[0m                 y \u001b[38;5;241m=\u001b[39m \u001b[43m_reconstruct\u001b[49m\u001b[43m(\u001b[49m\u001b[43mx\u001b[49m\u001b[43m,\u001b[49m\u001b[43m \u001b[49m\u001b[43mmemo\u001b[49m\u001b[43m,\u001b[49m\u001b[43m \u001b[49m\u001b[38;5;241;43m*\u001b[39;49m\u001b[43mrv\u001b[49m\u001b[43m)\u001b[49m\n\u001b[1;32m    174\u001b[0m \u001b[38;5;66;03m# If is its own copy, don't memoize.\u001b[39;00m\n\u001b[1;32m    175\u001b[0m \u001b[38;5;28;01mif\u001b[39;00m y \u001b[38;5;129;01mis\u001b[39;00m \u001b[38;5;129;01mnot\u001b[39;00m x:\n",
      "File \u001b[0;32m~/anaconda3/envs/contact_graspnet/lib/python3.8/copy.py:270\u001b[0m, in \u001b[0;36m_reconstruct\u001b[0;34m(x, memo, func, args, state, listiter, dictiter, deepcopy)\u001b[0m\n\u001b[1;32m    268\u001b[0m \u001b[38;5;28;01mif\u001b[39;00m state \u001b[38;5;129;01mis\u001b[39;00m \u001b[38;5;129;01mnot\u001b[39;00m \u001b[38;5;28;01mNone\u001b[39;00m:\n\u001b[1;32m    269\u001b[0m     \u001b[38;5;28;01mif\u001b[39;00m deep:\n\u001b[0;32m--> 270\u001b[0m         state \u001b[38;5;241m=\u001b[39m \u001b[43mdeepcopy\u001b[49m\u001b[43m(\u001b[49m\u001b[43mstate\u001b[49m\u001b[43m,\u001b[49m\u001b[43m \u001b[49m\u001b[43mmemo\u001b[49m\u001b[43m)\u001b[49m\n\u001b[1;32m    271\u001b[0m     \u001b[38;5;28;01mif\u001b[39;00m \u001b[38;5;28mhasattr\u001b[39m(y, \u001b[38;5;124m'\u001b[39m\u001b[38;5;124m__setstate__\u001b[39m\u001b[38;5;124m'\u001b[39m):\n\u001b[1;32m    272\u001b[0m         y\u001b[38;5;241m.\u001b[39m__setstate__(state)\n",
      "File \u001b[0;32m~/anaconda3/envs/contact_graspnet/lib/python3.8/copy.py:146\u001b[0m, in \u001b[0;36mdeepcopy\u001b[0;34m(x, memo, _nil)\u001b[0m\n\u001b[1;32m    144\u001b[0m copier \u001b[38;5;241m=\u001b[39m _deepcopy_dispatch\u001b[38;5;241m.\u001b[39mget(\u001b[38;5;28mcls\u001b[39m)\n\u001b[1;32m    145\u001b[0m \u001b[38;5;28;01mif\u001b[39;00m copier \u001b[38;5;129;01mis\u001b[39;00m \u001b[38;5;129;01mnot\u001b[39;00m \u001b[38;5;28;01mNone\u001b[39;00m:\n\u001b[0;32m--> 146\u001b[0m     y \u001b[38;5;241m=\u001b[39m \u001b[43mcopier\u001b[49m\u001b[43m(\u001b[49m\u001b[43mx\u001b[49m\u001b[43m,\u001b[49m\u001b[43m \u001b[49m\u001b[43mmemo\u001b[49m\u001b[43m)\u001b[49m\n\u001b[1;32m    147\u001b[0m \u001b[38;5;28;01melse\u001b[39;00m:\n\u001b[1;32m    148\u001b[0m     \u001b[38;5;28;01mif\u001b[39;00m \u001b[38;5;28missubclass\u001b[39m(\u001b[38;5;28mcls\u001b[39m, \u001b[38;5;28mtype\u001b[39m):\n",
      "File \u001b[0;32m~/anaconda3/envs/contact_graspnet/lib/python3.8/copy.py:230\u001b[0m, in \u001b[0;36m_deepcopy_dict\u001b[0;34m(x, memo, deepcopy)\u001b[0m\n\u001b[1;32m    228\u001b[0m memo[\u001b[38;5;28mid\u001b[39m(x)] \u001b[38;5;241m=\u001b[39m y\n\u001b[1;32m    229\u001b[0m \u001b[38;5;28;01mfor\u001b[39;00m key, value \u001b[38;5;129;01min\u001b[39;00m x\u001b[38;5;241m.\u001b[39mitems():\n\u001b[0;32m--> 230\u001b[0m     y[deepcopy(key, memo)] \u001b[38;5;241m=\u001b[39m \u001b[43mdeepcopy\u001b[49m\u001b[43m(\u001b[49m\u001b[43mvalue\u001b[49m\u001b[43m,\u001b[49m\u001b[43m \u001b[49m\u001b[43mmemo\u001b[49m\u001b[43m)\u001b[49m\n\u001b[1;32m    231\u001b[0m \u001b[38;5;28;01mreturn\u001b[39;00m y\n",
      "File \u001b[0;32m~/anaconda3/envs/contact_graspnet/lib/python3.8/copy.py:172\u001b[0m, in \u001b[0;36mdeepcopy\u001b[0;34m(x, memo, _nil)\u001b[0m\n\u001b[1;32m    170\u001b[0m                 y \u001b[38;5;241m=\u001b[39m x\n\u001b[1;32m    171\u001b[0m             \u001b[38;5;28;01melse\u001b[39;00m:\n\u001b[0;32m--> 172\u001b[0m                 y \u001b[38;5;241m=\u001b[39m \u001b[43m_reconstruct\u001b[49m\u001b[43m(\u001b[49m\u001b[43mx\u001b[49m\u001b[43m,\u001b[49m\u001b[43m \u001b[49m\u001b[43mmemo\u001b[49m\u001b[43m,\u001b[49m\u001b[43m \u001b[49m\u001b[38;5;241;43m*\u001b[39;49m\u001b[43mrv\u001b[49m\u001b[43m)\u001b[49m\n\u001b[1;32m    174\u001b[0m \u001b[38;5;66;03m# If is its own copy, don't memoize.\u001b[39;00m\n\u001b[1;32m    175\u001b[0m \u001b[38;5;28;01mif\u001b[39;00m y \u001b[38;5;129;01mis\u001b[39;00m \u001b[38;5;129;01mnot\u001b[39;00m x:\n",
      "File \u001b[0;32m~/anaconda3/envs/contact_graspnet/lib/python3.8/copy.py:296\u001b[0m, in \u001b[0;36m_reconstruct\u001b[0;34m(x, memo, func, args, state, listiter, dictiter, deepcopy)\u001b[0m\n\u001b[1;32m    294\u001b[0m     \u001b[38;5;28;01mfor\u001b[39;00m key, value \u001b[38;5;129;01min\u001b[39;00m dictiter:\n\u001b[1;32m    295\u001b[0m         key \u001b[38;5;241m=\u001b[39m deepcopy(key, memo)\n\u001b[0;32m--> 296\u001b[0m         value \u001b[38;5;241m=\u001b[39m \u001b[43mdeepcopy\u001b[49m\u001b[43m(\u001b[49m\u001b[43mvalue\u001b[49m\u001b[43m,\u001b[49m\u001b[43m \u001b[49m\u001b[43mmemo\u001b[49m\u001b[43m)\u001b[49m\n\u001b[1;32m    297\u001b[0m         y[key] \u001b[38;5;241m=\u001b[39m value\n\u001b[1;32m    298\u001b[0m \u001b[38;5;28;01melse\u001b[39;00m:\n",
      "File \u001b[0;32m~/anaconda3/envs/contact_graspnet/lib/python3.8/copy.py:172\u001b[0m, in \u001b[0;36mdeepcopy\u001b[0;34m(x, memo, _nil)\u001b[0m\n\u001b[1;32m    170\u001b[0m                 y \u001b[38;5;241m=\u001b[39m x\n\u001b[1;32m    171\u001b[0m             \u001b[38;5;28;01melse\u001b[39;00m:\n\u001b[0;32m--> 172\u001b[0m                 y \u001b[38;5;241m=\u001b[39m \u001b[43m_reconstruct\u001b[49m\u001b[43m(\u001b[49m\u001b[43mx\u001b[49m\u001b[43m,\u001b[49m\u001b[43m \u001b[49m\u001b[43mmemo\u001b[49m\u001b[43m,\u001b[49m\u001b[43m \u001b[49m\u001b[38;5;241;43m*\u001b[39;49m\u001b[43mrv\u001b[49m\u001b[43m)\u001b[49m\n\u001b[1;32m    174\u001b[0m \u001b[38;5;66;03m# If is its own copy, don't memoize.\u001b[39;00m\n\u001b[1;32m    175\u001b[0m \u001b[38;5;28;01mif\u001b[39;00m y \u001b[38;5;129;01mis\u001b[39;00m \u001b[38;5;129;01mnot\u001b[39;00m x:\n",
      "File \u001b[0;32m~/anaconda3/envs/contact_graspnet/lib/python3.8/copy.py:263\u001b[0m, in \u001b[0;36m_reconstruct\u001b[0;34m(x, memo, func, args, state, listiter, dictiter, deepcopy)\u001b[0m\n\u001b[1;32m    261\u001b[0m deep \u001b[38;5;241m=\u001b[39m memo \u001b[38;5;129;01mis\u001b[39;00m \u001b[38;5;129;01mnot\u001b[39;00m \u001b[38;5;28;01mNone\u001b[39;00m\n\u001b[1;32m    262\u001b[0m \u001b[38;5;28;01mif\u001b[39;00m deep \u001b[38;5;129;01mand\u001b[39;00m args:\n\u001b[0;32m--> 263\u001b[0m     args \u001b[38;5;241m=\u001b[39m (deepcopy(arg, memo) \u001b[38;5;28;01mfor\u001b[39;00m arg \u001b[38;5;129;01min\u001b[39;00m args)\n\u001b[1;32m    264\u001b[0m y \u001b[38;5;241m=\u001b[39m func(\u001b[38;5;241m*\u001b[39margs)\n\u001b[1;32m    265\u001b[0m \u001b[38;5;28;01mif\u001b[39;00m deep:\n",
      "\u001b[0;31mKeyboardInterrupt\u001b[0m: "
     ]
    }
   ],
   "source": [
    "start_time = time.time()\n",
    "for i in range(budgets):\n",
    "# for i in range(10):\n",
    "    print(\n",
    "        f\"\\n[{idx+1}/{len(c_list)}] Benchmark: {rearrangement1.scene_mngr.scene.bench_num}, Algo: {algo}, C: {c}, Seed: {seed}\"\n",
    "    )\n",
    "    mcts.do_planning_rearrange(i)\n",
    "\n",
    "    print(\"########### Running time : \", time.time()- start_time, \"##############\")\n",
    "    final_level_1_values.append(mcts.values_for_level_1)\n"
   ]
  },
  {
   "cell_type": "code",
   "execution_count": 4,
   "id": "4020445f",
   "metadata": {
    "scrolled": true
   },
   "outputs": [
    {
     "name": "stdout",
     "output_type": "stream",
     "text": [
      "15.533333333333333 {0: {'nodes': [0, 2, 48, 52, 53, 56, 57], 'value': 15.533333333333333}, 1: {'nodes': [0, 5, 136, 138, 141, 143, 146, 149, 150], 'value': 11.433333333333334}, 2: {'nodes': [0, 5, 136, 137, 191, 192, 196, 197, 201, 204, 206, 207, 209, 212, 214, 217, 218, 221, 222], 'value': 1.6396825396825396}}\n",
      "Result 0 :  [0, 2, 48, 52, 53, 56, 57]\n",
      "state num : 7\n"
     ]
    }
   ],
   "source": [
    "max_level_1_value = mcts.get_max_value_level_1()\n",
    "print(max_level_1_value, mcts.history_level_1_dict)\n",
    "\n",
    "########## level 1 ##########\n",
    "if mcts.history_level_1_dict:\n",
    "    j, max_value_nodes = mcts.get_max_value_nodes_level_1()\n",
    "    print(f\"Result {j} : \", max_value_nodes)\n",
    "    print(\"state num :\", len(max_value_nodes))\n",
    "    mcts.render_rearr(\"_\", max_value_nodes)"
   ]
  },
  {
   "cell_type": "code",
   "execution_count": 6,
   "id": "5f35994e",
   "metadata": {},
   "outputs": [
    {
     "data": {
      "text/plain": [
       "[0, 2, 48, 52, 53, 56, 57]"
      ]
     },
     "execution_count": 6,
     "metadata": {},
     "output_type": "execute_result"
    }
   ],
   "source": [
    "max_value_nodes"
   ]
  },
  {
   "cell_type": "code",
   "execution_count": 10,
   "id": "97f68b9a",
   "metadata": {
    "scrolled": true
   },
   "outputs": [],
   "source": [
    "for i in mcts.history_level_1_dict[0]['nodes']:\n",
    "    if not mcts.tree.nodes[i]['level1_5']:\n",
    "        print(\"Error\")"
   ]
  },
  {
   "cell_type": "code",
   "execution_count": 8,
   "id": "9a882cf0",
   "metadata": {
    "scrolled": true
   },
   "outputs": [
    {
     "data": {
      "text/plain": [
       "{'number': 48,\n",
       " 'visit': 1,\n",
       " 'depth': 1,\n",
       " 'state': <pytamp.scene.scene.Scene at 0x7fc608279370>,\n",
       " 'action': {'table': array([[ 0.44572288, -0.895171  ,  0.        ,  0.51564123],\n",
       "         [ 0.895171  ,  0.44572288,  0.        , -0.04591909],\n",
       "         [ 0.        ,  0.        ,  1.        ,  0.83529998],\n",
       "         [ 0.        ,  0.        ,  0.        ,  1.        ]]),\n",
       "  'grasp': array([[-0.96316513,  0.25693943,  0.07934082,  0.3690098 ],\n",
       "         [ 0.25597674,  0.96642685, -0.02224937,  0.0322572 ],\n",
       "         [-0.0823938 , -0.00112045, -0.99659918,  0.94638261],\n",
       "         [ 0.        ,  0.        ,  0.        ,  1.        ]]),\n",
       "  'pre_grasp': array([[-0.9631651 ,  0.25693944,  0.07934082,  0.36504275],\n",
       "         [ 0.25597674,  0.96642685, -0.02224937,  0.03336967],\n",
       "         [-0.0823938 , -0.00112045, -0.9965992 ,  0.9962126 ],\n",
       "         [ 0.        ,  0.        ,  0.        ,  1.        ]],\n",
       "        dtype=float32),\n",
       "  'post_grasp': array([[-0.9631651 ,  0.25693944,  0.07934082,  0.3690098 ],\n",
       "         [ 0.25597674,  0.96642685, -0.02224937,  0.0322572 ],\n",
       "         [-0.0823938 , -0.00112045, -0.9965992 ,  0.9963826 ],\n",
       "         [ 0.        ,  0.        ,  0.        ,  1.        ]],\n",
       "        dtype=float32),\n",
       "  'release': array([[ 0.9624381 , -0.2596687 , -0.07927765,  0.5424852 ],\n",
       "         [-0.25869682, -0.9656971 ,  0.02247344, -0.05283376],\n",
       "         [-0.0823938 , -0.00112045, -0.9965992 ,  0.94638264],\n",
       "         [ 0.        ,  0.        ,  0.        ,  1.        ]],\n",
       "        dtype=float32),\n",
       "  'pre_release': array([[ 0.9624381 , -0.2596687 , -0.07927765,  0.5424852 ],\n",
       "         [-0.25869682, -0.9656971 ,  0.02247344, -0.05283376],\n",
       "         [-0.0823938 , -0.00112045, -0.9965992 ,  0.99638265],\n",
       "         [ 0.        ,  0.        ,  0.        ,  1.        ]],\n",
       "        dtype=float32),\n",
       "  'post_release': array([[ 0.9624381 , -0.2596687 , -0.07927765,  0.54644907],\n",
       "         [-0.25869682, -0.9656971 ,  0.02247344, -0.05395743],\n",
       "         [-0.0823938 , -0.00112045, -0.9965992 ,  0.9962126 ],\n",
       "         [ 0.        ,  0.        ,  0.        ,  1.        ]],\n",
       "        dtype=float32)},\n",
       " 'value': 10.633333333333333,\n",
       " 'value_history': [10.633333333333333],\n",
       " 'type': 'state',\n",
       " 'joints': [OrderedDict([('pre_grasp',\n",
       "                [array([ 0.02180869,  0.22792017, -0.02578425, -2.62481683, -0.07033899,\n",
       "                         2.97759505, -0.84661706]),\n",
       "                 array([ 0.04361737,  0.2594908 , -0.0515685 , -2.63163979, -0.14067798,\n",
       "                         3.01359744, -0.90783595]),\n",
       "                 array([ 0.06542606,  0.29106144, -0.07735275, -2.63846275, -0.21101697,\n",
       "                         3.04959984, -0.96905484]),\n",
       "                 array([ 0.08723474,  0.32263207, -0.103137  , -2.64528571, -0.28135595,\n",
       "                         3.08560224, -1.03027373]),\n",
       "                 array([ 0.10904343,  0.3542027 , -0.12892126, -2.65210866, -0.35169494,\n",
       "                         3.12160463, -1.09149263]),\n",
       "                 array([ 0.13085212,  0.38577333, -0.15470551, -2.65893162, -0.42203393,\n",
       "                         3.15760703, -1.15271152]),\n",
       "                 array([ 0.1526608 ,  0.41734396, -0.18048976, -2.66575458, -0.49237292,\n",
       "                         3.19360942, -1.21393041]),\n",
       "                 array([ 0.17446949,  0.44891459, -0.20627401, -2.67257753, -0.56271191,\n",
       "                         3.22961182, -1.2751493 ]),\n",
       "                 array([ 0.19627817,  0.48048523, -0.23205826, -2.67940049, -0.6330509 ,\n",
       "                         3.26561421, -1.33636819]),\n",
       "                 array([ 0.21808686,  0.51205586, -0.25784251, -2.68622345, -0.70338989,\n",
       "                         3.30161661, -1.39758709])]),\n",
       "               ('grasp',\n",
       "                [array([ 0.21808686,  0.51205586, -0.25784251, -2.68622345, -0.70338989,\n",
       "                         3.30161661, -1.39758709]),\n",
       "                 array([ 0.21920514,  0.51416676, -0.25870804, -2.68537033, -0.70293183,\n",
       "                         3.30300507, -1.39747594]),\n",
       "                 array([ 0.22977255,  0.53526877, -0.26668784, -2.67674832, -0.69815541,\n",
       "                         3.31672391, -1.39648597]),\n",
       "                 array([ 0.2391873 ,  0.55620175, -0.2734761 , -2.66797352, -0.69314607,\n",
       "                         3.32999316, -1.39570384]),\n",
       "                 array([ 0.24757502,  0.57695587, -0.2792188 , -2.65903886, -0.68798355,\n",
       "                         3.34281155, -1.39507126]),\n",
       "                 array([ 0.25504829,  0.59752383, -0.28404444, -2.64993983, -0.68272743,\n",
       "                         3.35518094, -1.39454507]),\n",
       "                 array([ 0.26170688,  0.6179004 , -0.28806534, -2.64067381, -0.67742216,\n",
       "                         3.3671053 , -1.39409356]),\n",
       "                 array([ 0.26763863,  0.63808207, -0.29137934, -2.63123955, -0.67210084,\n",
       "                         3.37858999, -1.39369361]),\n",
       "                 array([ 0.27292051,  0.65806672, -0.29407146, -2.62163681, -0.66678814,\n",
       "                         3.38964132, -1.39332856]),\n",
       "                 array([ 0.2776199 ,  0.67785336, -0.29621563, -2.61186607, -0.66150248,\n",
       "                         3.4002662 , -1.39298652]),\n",
       "                 array([ 0.28179569,  0.69744199, -0.29787616, -2.60192829, -0.65625762,\n",
       "                         3.41047191, -1.39265912]),\n",
       "                 array([ 0.28514898,  0.71490309, -0.29900362, -2.59284253, -0.65158072,\n",
       "                         3.41930488, -1.39237218])]),\n",
       "               ('post_grasp',\n",
       "                [array([ 0.28514898,  0.71490309, -0.29900362, -2.59284253, -0.65158072,\n",
       "                         3.41930488, -1.39237218]),\n",
       "                 array([ 0.28464525,  0.71295898, -0.29880861, -2.59375357, -0.65216402,\n",
       "                         3.41822871, -1.39241175]),\n",
       "                 array([ 0.27925631,  0.69336055, -0.29654195, -2.6027686 , -0.6580514 ,\n",
       "                         3.40717602, -1.39281168]),\n",
       "                 array([ 0.27330124,  0.67358974, -0.29373373, -2.61160678, -0.66396372,\n",
       "                         3.39571106, -1.39323222]),\n",
       "                 array([ 0.26671828,  0.65364895, -0.2903154 , -2.62026762, -0.6698836 ,\n",
       "                         3.38382793, -1.39368445]),\n",
       "                 array([ 0.25943765,  0.63354201, -0.28620901, -2.62875119, -0.675788  ,\n",
       "                         3.37152153, -1.39418368]),\n",
       "                 array([ 0.25138046,  0.61327399, -0.28132585, -2.63705844, -0.6816467 ,\n",
       "                         3.3587874 , -1.3947508 ]),\n",
       "                 array([ 0.2424581 ,  0.59285159, -0.2755653 , -2.64519162, -0.68741978,\n",
       "                         3.34562241, -1.39541404]),\n",
       "                 array([ 0.23257191,  0.57228407, -0.2688138 , -2.6531544 , -0.6930545 ,\n",
       "                         3.33202558, -1.39621125]),\n",
       "                 array([ 0.22161267,  0.55158226, -0.26094374, -2.66095293, -0.69848178,\n",
       "                         3.31799809, -1.39719278]),\n",
       "                 array([ 0.20946196,  0.53076067, -0.25181361, -2.66859564, -0.70361101,\n",
       "                         3.30354519, -1.39842481]),\n",
       "                 array([ 0.19740438,  0.51193352, -0.24239208, -2.67535084, -0.70787587,\n",
       "                         3.29018271, -1.39981849])]),\n",
       "               ('default_grasp',\n",
       "                [array([ 0.17766394,  0.48037512, -0.21815287, -2.66961514, -0.63708828,\n",
       "                         3.2553237 , -1.33837646]),\n",
       "                 array([ 0.15792351,  0.44881672, -0.19391366, -2.66387945, -0.5663007 ,\n",
       "                         3.2204647 , -1.27693442]),\n",
       "                 array([ 0.13818307,  0.41725833, -0.16967445, -2.65814375, -0.49551311,\n",
       "                         3.18560569, -1.21549239]),\n",
       "                 array([ 0.11844263,  0.38569993, -0.14543525, -2.65240805, -0.42472552,\n",
       "                         3.15074669, -1.15405036]),\n",
       "                 array([ 0.09870219,  0.35414153, -0.12119604, -2.64667236, -0.35393793,\n",
       "                         3.11588768, -1.09260833]),\n",
       "                 array([ 0.07896175,  0.32258313, -0.09695683, -2.64093666, -0.28315035,\n",
       "                         3.08102867, -1.03116629]),\n",
       "                 array([ 0.05922131,  0.29102473, -0.07271762, -2.63520097, -0.21236276,\n",
       "                         3.04616967, -0.96972426]),\n",
       "                 array([ 0.03948088,  0.25946634, -0.04847842, -2.62946527, -0.14157517,\n",
       "                         3.01131066, -0.90828223]),\n",
       "                 array([ 0.01974044,  0.22790794, -0.02423921, -2.62372957, -0.07078759,\n",
       "                         2.97645166, -0.8468402 ]),\n",
       "                 array([ 0.        ,  0.19634954,  0.        , -2.61799388,  0.        ,\n",
       "                         2.94159265, -0.78539816])]),\n",
       "               ('pre_release',\n",
       "                [array([-1.85482423e-03,  2.13266951e-01, -5.44539363e-03, -2.59352124e+00,\n",
       "                         8.51731813e-03,  2.92194802e+00, -7.04481912e-01]),\n",
       "                 array([-0.00370965,  0.23018436, -0.01089079, -2.5690486 ,  0.01703464,\n",
       "                         2.9023034 , -0.62356566]),\n",
       "                 array([-0.00556447,  0.24710177, -0.01633618, -2.54457597,  0.02555195,\n",
       "                         2.88265877, -0.54264941]),\n",
       "                 array([-0.0074193 ,  0.26401918, -0.02178157, -2.52010333,  0.03406927,\n",
       "                         2.86301414, -0.46173316]),\n",
       "                 array([-0.00927412,  0.28093659, -0.02722697, -2.49563069,  0.04258659,\n",
       "                         2.84336951, -0.3808169 ]),\n",
       "                 array([-0.01112895,  0.297854  , -0.03267236, -2.47115805,  0.05110391,\n",
       "                         2.82372488, -0.29990065]),\n",
       "                 array([-0.01298377,  0.31477141, -0.03811776, -2.44668542,  0.05962123,\n",
       "                         2.80408025, -0.2189844 ]),\n",
       "                 array([-0.01483859,  0.33168882, -0.04356315, -2.42221278,  0.06813855,\n",
       "                         2.78443562, -0.13806815]),\n",
       "                 array([-0.01669342,  0.34860623, -0.04900854, -2.39774014,  0.07665586,\n",
       "                         2.76479099, -0.0571519 ]),\n",
       "                 array([-0.01854824,  0.36552364, -0.05445394, -2.37326751,  0.08517318,\n",
       "                         2.74514636,  0.02376435]),\n",
       "                 array([-0.01379987,  0.39588129, -0.05957486, -2.34918021,  0.09672309,\n",
       "                         2.74167017,  0.10196025]),\n",
       "                 array([-0.00905151,  0.42623895, -0.06469578, -2.32509291,  0.108273  ,\n",
       "                         2.73819397,  0.18015614]),\n",
       "                 array([-0.00430314,  0.45659661, -0.0698167 , -2.30100561,  0.1198229 ,\n",
       "                         2.73471777,  0.25835204]),\n",
       "                 array([ 4.45231927e-04,  4.86954266e-01, -7.49376274e-02, -2.27691831e+00,\n",
       "                         1.31372811e-01,  2.73124157e+00,  3.36547931e-01]),\n",
       "                 array([ 0.0051936 ,  0.51731192, -0.08005855, -2.25283101,  0.14292272,\n",
       "                         2.72776538,  0.41474383]),\n",
       "                 array([ 0.00994197,  0.54766958, -0.08517947, -2.22874371,  0.15447263,\n",
       "                         2.72428918,  0.49293972]),\n",
       "                 array([ 0.01469034,  0.57802724, -0.0903004 , -2.20465641,  0.16602253,\n",
       "                         2.72081298,  0.57113561]),\n",
       "                 array([ 0.01943871,  0.60838489, -0.09542132, -2.18056911,  0.17757244,\n",
       "                         2.71733678,  0.64933151]),\n",
       "                 array([ 0.02418707,  0.63874255, -0.10054224, -2.15648181,  0.18912235,\n",
       "                         2.71386058,  0.7275274 ]),\n",
       "                 array([ 0.02893544,  0.66910021, -0.10566316, -2.13239451,  0.20067226,\n",
       "                         2.71038439,  0.8057233 ])]),\n",
       "               ('release',\n",
       "                [array([ 0.02893544,  0.66910021, -0.10566316, -2.13239451,  0.20067226,\n",
       "                         2.71038439,  0.8057233 ]),\n",
       "                 array([ 0.02871718,  0.67039785, -0.1053892 , -2.13185369,  0.20087687,\n",
       "                         2.71114993,  0.80556036]),\n",
       "                 array([ 0.02653935,  0.68342465, -0.10266538, -2.12631682,  0.20287173,\n",
       "                         2.71873248,  0.80396236]),\n",
       "                 array([ 0.02437689,  0.69650414, -0.09997449, -2.12058942,  0.20477482,\n",
       "                         2.72618422,  0.80242359]),\n",
       "                 array([ 0.02223288,  0.70963499, -0.09732003, -2.11467166,  0.20658688,\n",
       "                         2.73350332,  0.80094395]),\n",
       "                 array([ 0.02011019,  0.72281597, -0.09470518, -2.10856374,  0.20830889,\n",
       "                         2.74068815,  0.79952319]),\n",
       "                 array([ 0.01801156,  0.7360459 , -0.09213296, -2.10226568,  0.20994204,\n",
       "                         2.74773693,  0.79816095]),\n",
       "                 array([ 0.01593954,  0.74932358, -0.08960607, -2.09577764,  0.21148774,\n",
       "                         2.754648  ,  0.79685675]),\n",
       "                 array([ 0.01389652,  0.76264787, -0.08712702, -2.08909961,  0.21294755,\n",
       "                         2.76141961,  0.79561004]),\n",
       "                 array([ 0.01188465,  0.77601798, -0.08469802, -2.08223143,  0.21432321,\n",
       "                         2.76805022,  0.79442014]),\n",
       "                 array([ 0.00990602,  0.78943267, -0.08232115, -2.07517305,  0.21561654,\n",
       "                         2.77453797,  0.7932864 ]),\n",
       "                 array([ 0.00815515,  0.80154334, -0.08022795, -2.06865787,  0.2167118 ,\n",
       "                         2.78025369,  0.79231335])]),\n",
       "               ('post_release',\n",
       "                [array([ 0.00815515,  0.80154334, -0.08022795, -2.06865787,  0.2167118 ,\n",
       "                         2.78025369,  0.79231335]),\n",
       "                 array([ 0.00833903,  0.80026054, -0.08047213, -2.06923956,  0.21657889,\n",
       "                         2.77953783,  0.79242321]),\n",
       "                 array([ 0.01019759,  0.7874496 , -0.08294349, -2.07495718,  0.21520481,\n",
       "                         2.77229746,  0.79355186]),\n",
       "                 array([ 0.01208065,  0.77469764, -0.08545738, -2.0804833 ,  0.21375437,\n",
       "                         2.76492776,  0.79472939]),\n",
       "                 array([ 0.01398596,  0.76200598, -0.08801139, -2.08581783,  0.21222648,\n",
       "                         2.75743052,  0.79595606]),\n",
       "                 array([ 0.01591112,  0.74937596, -0.0906029 , -2.09096089,  0.21062025,\n",
       "                         2.74980769,  0.79723199]),\n",
       "                 array([ 0.01785362,  0.73680904, -0.0932291 , -2.09591223,  0.20893497,\n",
       "                         2.74206108,  0.79855727]),\n",
       "                 array([ 0.01981077,  0.72430671, -0.09588696, -2.10067178,  0.20717013,\n",
       "                         2.73419263,  0.79993181]),\n",
       "                 array([ 0.02177984,  0.71187035, -0.09857329, -2.10523952,  0.20532543,\n",
       "                         2.72620427,  0.80135544]),\n",
       "                 array([ 0.02375798,  0.69950142, -0.10128474, -2.10961513,  0.20340078,\n",
       "                         2.71809767,  0.8028279 ]),\n",
       "                 array([ 0.02574219,  0.68720164, -0.10401773, -2.11379835,  0.20139637,\n",
       "                         2.70987483,  0.80434873]),\n",
       "                 array([ 0.0275306 ,  0.67619232, -0.10649272, -2.1173988 ,  0.19952464,\n",
       "                         2.70237674,  0.80575828])]),\n",
       "               ('default_release',\n",
       "                [array([ 0.02796003,  0.66111256, -0.09876782, -2.12390644,  0.19994465,\n",
       "                         2.70684997,  0.75376803]),\n",
       "                 array([ 0.02838946,  0.64603281, -0.09104292, -2.13041409,  0.20036465,\n",
       "                         2.71132321,  0.70177779]),\n",
       "                 array([ 0.02881889,  0.63095306, -0.08331802, -2.13692174,  0.20078466,\n",
       "                         2.71579644,  0.64978754]),\n",
       "                 array([ 0.02924832,  0.61587331, -0.07559312, -2.14342939,  0.20120466,\n",
       "                         2.72026968,  0.5977973 ]),\n",
       "                 array([ 0.02967775,  0.60079356, -0.06786822, -2.14993704,  0.20162467,\n",
       "                         2.72474291,  0.54580705]),\n",
       "                 array([ 0.03010718,  0.5857138 , -0.06014332, -2.15644468,  0.20204467,\n",
       "                         2.72921615,  0.49381681]),\n",
       "                 array([ 0.03053661,  0.57063405, -0.05241842, -2.16295233,  0.20246467,\n",
       "                         2.73368938,  0.44182656]),\n",
       "                 array([ 0.03096604,  0.5555543 , -0.04469352, -2.16945998,  0.20288468,\n",
       "                         2.73816262,  0.38983632]),\n",
       "                 array([ 0.03139547,  0.54047455, -0.03696862, -2.17596763,  0.20330468,\n",
       "                         2.74263585,  0.33784607]),\n",
       "                 array([ 0.0318249 ,  0.5253948 , -0.02924372, -2.18247527,  0.20372469,\n",
       "                         2.74710909,  0.28585583]),\n",
       "                 array([ 0.02864241,  0.49249027, -0.02631935, -2.22602713,  0.18335222,\n",
       "                         2.76655744,  0.17873043]),\n",
       "                 array([ 0.02545992,  0.45958574, -0.02339497, -2.269579  ,  0.16297975,\n",
       "                         2.7860058 ,  0.07160503]),\n",
       "                 array([ 0.02227743,  0.42668122, -0.0204706 , -2.31313086,  0.14260728,\n",
       "                         2.80545416, -0.03552037]),\n",
       "                 array([ 0.01909494,  0.39377669, -0.01754623, -2.35668272,  0.12223481,\n",
       "                         2.82490251, -0.14264577]),\n",
       "                 array([ 0.01591245,  0.36087217, -0.01462186, -2.40023458,  0.10186234,\n",
       "                         2.84435087, -0.24977117]),\n",
       "                 array([ 0.01272996,  0.32796764, -0.01169749, -2.44378644,  0.08148987,\n",
       "                         2.86379923, -0.35689657]),\n",
       "                 array([ 0.00954747,  0.29506312, -0.00877312, -2.4873383 ,  0.06111741,\n",
       "                         2.88324758, -0.46402197]),\n",
       "                 array([ 0.00636498,  0.26215859, -0.00584874, -2.53089016,  0.04074494,\n",
       "                         2.90269594, -0.57114737]),\n",
       "                 array([ 0.00318249,  0.22925407, -0.00292437, -2.57444202,  0.02037247,\n",
       "                         2.9221443 , -0.67827276]),\n",
       "                 array([ 1.08420217e-19,  1.96349541e-01,  0.00000000e+00, -2.61799388e+00,\n",
       "                         0.00000000e+00,  2.94159265e+00, -7.85398163e-01])])])],\n",
       " 'level1': True,\n",
       " 'level2': True,\n",
       " 'level1_5': True,\n",
       " 'success': True,\n",
       " 'cost': 0.0736,\n",
       " 'test': (None,\n",
       "  array([[ 0.44572288, -0.895171  ,  0.        ,  0.51564123],\n",
       "         [ 0.895171  ,  0.44572288,  0.        , -0.04591909],\n",
       "         [ 0.        ,  0.        ,  1.        ,  0.83529998],\n",
       "         [ 0.        ,  0.        ,  0.        ,  1.        ]]))}"
      ]
     },
     "execution_count": 8,
     "metadata": {},
     "output_type": "execute_result"
    }
   ],
   "source": [
    "mcts.tree.nodes[48]"
   ]
  },
  {
   "cell_type": "code",
   "execution_count": 12,
   "id": "282b56f4",
   "metadata": {
    "scrolled": true
   },
   "outputs": [
    {
     "data": {
      "text/plain": [
       "8"
      ]
     },
     "execution_count": 12,
     "metadata": {},
     "output_type": "execute_result"
    }
   ],
   "source": [
    "len(mcts.tree.nodes[195]['joints'][-1])"
   ]
  },
  {
   "cell_type": "code",
   "execution_count": 23,
   "id": "ebc782e8",
   "metadata": {},
   "outputs": [
    {
     "data": {
      "text/plain": [
       "OrderedDict([('table',\n",
       "              \u001b[95mObject\u001b[0m(name=table, pos=[ 0.9   -0.6    0.043])),\n",
       "             ('ben_cube0',\n",
       "              \u001b[95mObject\u001b[0m(name=ben_cube0, pos=[0.53559528 0.11774429 0.83529998])),\n",
       "             ('can0',\n",
       "              \u001b[95mObject\u001b[0m(name=can0, pos=[ 0.64783705 -0.22660323  0.85059666])),\n",
       "             ('cereal0',\n",
       "              \u001b[95mObject\u001b[0m(name=cereal0, pos=[0.59437074 0.00975296 0.88526188]))])"
      ]
     },
     "execution_count": 23,
     "metadata": {},
     "output_type": "execute_result"
    }
   ],
   "source": [
    "mcts.rearr_action.scene_mngr.init_objects"
   ]
  },
  {
   "cell_type": "code",
   "execution_count": 17,
   "id": "fa28409b",
   "metadata": {},
   "outputs": [
    {
     "data": {
      "text/plain": [
       "False"
      ]
     },
     "execution_count": 17,
     "metadata": {},
     "output_type": "execute_result"
    }
   ],
   "source": [
    "from pytamp.search.node_data import NodeData\n",
    "\n",
    "action = mcts.tree.nodes[195].get(NodeData.ACTION)\n",
    "'grasp' in list(action.keys())"
   ]
  },
  {
   "cell_type": "code",
   "execution_count": 18,
   "id": "bf4a2f91",
   "metadata": {},
   "outputs": [
    {
     "data": {
      "text/plain": [
       "True"
      ]
     },
     "execution_count": 18,
     "metadata": {},
     "output_type": "execute_result"
    }
   ],
   "source": [
    "from pytamp.search.node_data import NodeData\n",
    "\n",
    "visited_nodes = [\n",
    "                True for n in max_value_nodes if mcts.tree.nodes[n][NodeData.LEVEL1_5] is True\n",
    "            ]\n",
    "# visited_nodes.append(False)\n",
    "all(visited_nodes)"
   ]
  },
  {
   "cell_type": "code",
   "execution_count": null,
   "id": "e42866d8",
   "metadata": {},
   "outputs": [],
   "source": [
    "# mcts._level_wise_between_1_and_2_optimize(max_value_nodes)"
   ]
  },
  {
   "cell_type": "code",
   "execution_count": 43,
   "id": "23109f3e",
   "metadata": {},
   "outputs": [],
   "source": [
    "# import random\n",
    "# from copy import deepcopy\n",
    "# from pykin.utils.kin_utils import ShellColors as sc\n",
    "\n",
    "# def get_grasp_action_using_contact_graspnet(success_level_1_sub_nodes):\n",
    "#     node_length = int(len(success_level_1_sub_nodes)/2)\n",
    "#     for i in range(node_length):\n",
    "#         current_node = mcts.tree.nodes[success_level_1_sub_nodes[2*i + 1]]\n",
    "#         next_node = mcts.tree.nodes[success_level_1_sub_nodes[2*i + 2]]\n",
    "#         obj_to_manipulate =current_node['action']['rearr_obj_name']\n",
    "        \n",
    "#         print(f\"{sc.COLOR_BROWN}{obj_to_manipulate}{sc.ENDC}\")\n",
    "#         for _ in range(2):\n",
    "#             grasps = mcts.grasp_generator.get_grasp(\n",
    "#                 init_scene = rearrangement1.init_scene,\n",
    "#                 next_node = next_node,\n",
    "#                 current_node = current_node,\n",
    "#                 )\n",
    "#             if len(grasps)>=1:\n",
    "#                 grasp_poses_not_collision = mcts.grasp_generator.get_all_grasps(grasps)\n",
    "#                 current_node[mcts.rearr_action.info.GRASP_POSES] = grasp_poses_not_collision\n",
    "#                 break\n",
    "#         g_ = random.sample(grasp_poses_not_collision,1)\n",
    "#         next_node['action'].update(deepcopy(g_[0]))\n",
    "        "
   ]
  },
  {
   "cell_type": "code",
   "execution_count": 15,
   "id": "a3f0b790",
   "metadata": {},
   "outputs": [],
   "source": [
    "# get_grasp_action_using_contact_graspnet(max_value_nodes)"
   ]
  },
  {
   "cell_type": "code",
   "execution_count": 16,
   "id": "f55af3a1",
   "metadata": {},
   "outputs": [],
   "source": [
    "# node_length = int(len(max_value_nodes)/2)\n",
    "# node_length\n",
    "\n",
    "# for i in range(node_length):\n",
    "#     success_level_1_sub_nodes = max_value_nodes\n",
    "\n",
    "#     current_node = mcts.tree.nodes[success_level_1_sub_nodes[2*i + 1]]\n",
    "#     next_node = mcts.tree.nodes[success_level_1_sub_nodes[2*i + 2]]\n",
    "#     obj_to_manipulate =current_node['action']['rearr_obj_name']\n",
    "    \n",
    "#     print(obj_to_manipulate)\n",
    "#     for _ in range(2):\n",
    "#         grasps = mcts.grasp_generator.get_grasp(\n",
    "#             init_scene = rearrangement1.init_scene,\n",
    "#             next_node = next_node,\n",
    "#             current_node = current_node,\n",
    "#             )\n",
    "#         if len(grasps)>=1:\n",
    "#             grasp_poses_not_collision = mcts.grasp_generator.get_all_grasps(grasps)\n",
    "#             current_node[mcts.rearr_action.info.GRASP_POSES] = grasp_poses_not_collision\n",
    "#             break\n",
    "            \n",
    "#     g_ = random.sample(grasp_poses_not_collision,1)\n",
    "#     next_node['action'].update(deepcopy(g_[0]))"
   ]
  },
  {
   "cell_type": "code",
   "execution_count": 17,
   "id": "553ca45f",
   "metadata": {
    "scrolled": true
   },
   "outputs": [],
   "source": [
    "i = 2\n",
    "current_node = mcts.tree.nodes[max_value_nodes[2*i + 1]]\n",
    "next_node = mcts.tree.nodes[max_value_nodes[2*i + 2]]"
   ]
  },
  {
   "cell_type": "code",
   "execution_count": 18,
   "id": "eef53b9f",
   "metadata": {},
   "outputs": [
    {
     "data": {
      "text/plain": [
       "('ben_cube0', 'can0')"
      ]
     },
     "execution_count": 18,
     "metadata": {},
     "output_type": "execute_result"
    }
   ],
   "source": [
    "current_node['state'].rearr_obj_name, next_node['state'].rearr_obj_name"
   ]
  },
  {
   "cell_type": "code",
   "execution_count": 19,
   "id": "084c85a5",
   "metadata": {},
   "outputs": [
    {
     "data": {
      "text/plain": [
       "{'number': 259,\n",
       " 'visit': 1,\n",
       " 'depth': 3,\n",
       " 'state': <pytamp.scene.scene.Scene at 0x7f98146becd0>,\n",
       " 'action': {'table': array([[-0.20671508,  0.97840118,  0.        ,  0.58836741],\n",
       "         [-0.97840118, -0.20671508,  0.        ,  0.27068778],\n",
       "         [ 0.        ,  0.        ,  1.        ,  0.85059666],\n",
       "         [ 0.        ,  0.        ,  0.        ,  1.        ]]),\n",
       "  'grasp': array([[ 0.89276624,  0.44949655, -0.03035217,  0.65448833],\n",
       "         [ 0.42871529, -0.86833256, -0.24940282, -0.19825818],\n",
       "         [-0.13846149,  0.20964604, -0.96792403,  0.97077496],\n",
       "         [ 0.        ,  0.        ,  0.        ,  1.        ]]),\n",
       "  'pre_grasp': array([[ 0.89276624,  0.44949654, -0.03035217,  0.6575236 ],\n",
       "         [ 0.4287153 , -0.86833256, -0.24940282, -0.1733179 ],\n",
       "         [-0.13846149,  0.20964605, -0.967924  ,  1.0675673 ],\n",
       "         [ 0.        ,  0.        ,  0.        ,  1.        ]],\n",
       "        dtype=float32),\n",
       "  'post_grasp': array([[ 0.89276624,  0.44949654, -0.03035217,  0.6544883 ],\n",
       "         [ 0.4287153 , -0.86833256, -0.24940282, -0.19825818],\n",
       "         [-0.13846149,  0.20964605, -0.967924  ,  1.0707749 ],\n",
       "         [ 0.        ,  0.        ,  0.        ,  1.        ]],\n",
       "        dtype=float32),\n",
       "  'release': array([[ 0.8989787 , -0.38345814, -0.21165337,  0.6144605 ],\n",
       "         [-0.4155306 , -0.899449  , -0.1353731 ,  0.28360412],\n",
       "         [-0.13846149,  0.20964605, -0.967924  ,  0.97077495],\n",
       "         [ 0.        ,  0.        ,  0.        ,  1.        ]],\n",
       "        dtype=float32),\n",
       "  'pre_release': array([[ 0.8989787 , -0.38345814, -0.21165337,  0.6144605 ],\n",
       "         [-0.4155306 , -0.899449  , -0.1353731 ,  0.28360412],\n",
       "         [-0.13846149,  0.20964605, -0.967924  ,  1.0707749 ],\n",
       "         [ 0.        ,  0.        ,  0.        ,  1.        ]],\n",
       "        dtype=float32),\n",
       "  'post_release': array([[ 0.8989787 , -0.38345814, -0.21165337,  0.63562584],\n",
       "         [-0.4155306 , -0.899449  , -0.1353731 ,  0.29714143],\n",
       "         [-0.13846149,  0.20964605, -0.967924  ,  1.0675673 ],\n",
       "         [ 0.        ,  0.        ,  0.        ,  1.        ]],\n",
       "        dtype=float32)},\n",
       " 'value': 6.9,\n",
       " 'value_history': [6.9],\n",
       " 'type': 'state',\n",
       " 'joints': [],\n",
       " 'level1': True,\n",
       " 'level2': False,\n",
       " 'level1_5': True,\n",
       " 'success': False,\n",
       " 'cost': 0,\n",
       " 'test': ()}"
      ]
     },
     "execution_count": 19,
     "metadata": {},
     "output_type": "execute_result"
    }
   ],
   "source": [
    "next_node"
   ]
  },
  {
   "cell_type": "code",
   "execution_count": 22,
   "id": "3da3731f",
   "metadata": {},
   "outputs": [
    {
     "data": {
      "text/plain": [
       "{'depth': 3,\n",
       " 'state': <pytamp.scene.scene.Scene at 0x7f981431f0d0>,\n",
       " 'action': {'type': 'rearr',\n",
       "  'rearr_obj_name': 'can0',\n",
       "  'place_obj_name': 'table',\n",
       "  'rearr_poses': [{'table': array([[-0.20671508,  0.97840118,  0.        ,  0.58836741],\n",
       "           [-0.97840118, -0.20671508,  0.        ,  0.27068778],\n",
       "           [ 0.        ,  0.        ,  1.        ,  0.85059666],\n",
       "           [ 0.        ,  0.        ,  0.        ,  1.        ]])}]},\n",
       " 'value': 6.9,\n",
       " 'value_history': [6.9],\n",
       " 'visit': 1,\n",
       " 'number': 256,\n",
       " 'type': 'action',\n",
       " 'joints': [],\n",
       " 'level1': True,\n",
       " 'level2': False,\n",
       " 'level1_5': True,\n",
       " 'success': False,\n",
       " 'cost': 0,\n",
       " 'test': (),\n",
       " 'grasp_poses': [{'grasp': array([[ 0.80635342,  0.13385473, -0.57608781,  0.70623901],\n",
       "          [ 0.11603129, -0.99092656, -0.06783328, -0.21882123],\n",
       "          [-0.57994053, -0.01214655, -0.8145683 ,  0.91892139],\n",
       "          [ 0.        ,  0.        ,  0.        ,  1.        ]]),\n",
       "   'pre_grasp': array([[ 0.80635345,  0.13385473, -0.57608783,  0.76384777],\n",
       "          [ 0.11603129, -0.99092656, -0.06783328, -0.2120379 ],\n",
       "          [-0.57994056, -0.01214655, -0.8145683 ,  1.0003783 ],\n",
       "          [ 0.        ,  0.        ,  0.        ,  1.        ]],\n",
       "         dtype=float32),\n",
       "   'post_grasp': array([[ 0.80635345,  0.13385473, -0.57608783,  0.706239  ],\n",
       "          [ 0.11603129, -0.99092656, -0.06783328, -0.21882123],\n",
       "          [-0.57994056, -0.01214655, -0.8145683 ,  1.0189214 ],\n",
       "          [ 0.        ,  0.        ,  0.        ,  1.        ]],\n",
       "         dtype=float32)},\n",
       "  {'grasp': array([[-0.80452418, -0.13977417, -0.57723811,  0.70199116],\n",
       "          [-0.18387014,  0.98278022,  0.01829527, -0.23075828],\n",
       "          [ 0.56474099,  0.12085583, -0.81637081,  0.965768  ],\n",
       "          [ 0.        ,  0.        ,  0.        ,  1.        ]]),\n",
       "   'pre_grasp': array([[-0.8045242 , -0.13977417, -0.5772381 ,  0.75971496],\n",
       "          [-0.18387014,  0.9827802 ,  0.01829527, -0.23258781],\n",
       "          [ 0.564741  ,  0.12085582, -0.8163708 ,  1.0474051 ],\n",
       "          [ 0.        ,  0.        ,  0.        ,  1.        ]],\n",
       "         dtype=float32),\n",
       "   'post_grasp': array([[-0.8045242 , -0.13977417, -0.5772381 ,  0.70199114],\n",
       "          [-0.18387014,  0.9827802 ,  0.01829527, -0.23075828],\n",
       "          [ 0.564741  ,  0.12085582, -0.8163708 ,  1.065768  ],\n",
       "          [ 0.        ,  0.        ,  0.        ,  1.        ]],\n",
       "         dtype=float32)},\n",
       "  {'grasp': array([[ 0.9870429 , -0.14971836,  0.05771087,  0.64089801],\n",
       "          [-0.14295967, -0.98388398, -0.10740032, -0.21451733],\n",
       "          [ 0.07286062,  0.09775835, -0.99253943,  0.96777478],\n",
       "          [ 0.        ,  0.        ,  0.        ,  1.        ]]),\n",
       "   'pre_grasp': array([[ 0.9870429 , -0.14971836,  0.05771087,  0.63512695],\n",
       "          [-0.14295967, -0.983884  , -0.10740032, -0.2037773 ],\n",
       "          [ 0.07286062,  0.09775835, -0.9925394 ,  1.0670288 ],\n",
       "          [ 0.        ,  0.        ,  0.        ,  1.        ]],\n",
       "         dtype=float32),\n",
       "   'post_grasp': array([[ 0.9870429 , -0.14971836,  0.05771087,  0.640898  ],\n",
       "          [-0.14295967, -0.983884  , -0.10740032, -0.21451733],\n",
       "          [ 0.07286062,  0.09775835, -0.9925394 ,  1.0677748 ],\n",
       "          [ 0.        ,  0.        ,  0.        ,  1.        ]],\n",
       "         dtype=float32)},\n",
       "  {'grasp': array([[ 0.89276624,  0.44949655, -0.03035217,  0.65448833],\n",
       "          [ 0.42871529, -0.86833256, -0.24940282, -0.19825818],\n",
       "          [-0.13846149,  0.20964604, -0.96792403,  0.97077496],\n",
       "          [ 0.        ,  0.        ,  0.        ,  1.        ]]),\n",
       "   'pre_grasp': array([[ 0.89276624,  0.44949654, -0.03035217,  0.6575236 ],\n",
       "          [ 0.4287153 , -0.86833256, -0.24940282, -0.1733179 ],\n",
       "          [-0.13846149,  0.20964605, -0.967924  ,  1.0675673 ],\n",
       "          [ 0.        ,  0.        ,  0.        ,  1.        ]],\n",
       "         dtype=float32),\n",
       "   'post_grasp': array([[ 0.89276624,  0.44949654, -0.03035217,  0.6544883 ],\n",
       "          [ 0.4287153 , -0.86833256, -0.24940282, -0.19825818],\n",
       "          [-0.13846149,  0.20964605, -0.967924  ,  1.0707749 ],\n",
       "          [ 0.        ,  0.        ,  0.        ,  1.        ]],\n",
       "         dtype=float32)},\n",
       "  {'grasp': array([[-0.37342699,  0.89018068,  0.26101838,  0.61632453],\n",
       "          [ 0.86564147,  0.43553659, -0.24692649, -0.20269867],\n",
       "          [-0.33349224,  0.13373935, -0.93321844,  0.96858542],\n",
       "          [ 0.        ,  0.        ,  0.        ,  1.        ]]),\n",
       "   'pre_grasp': array([[-0.37342697,  0.8901807 ,  0.2610184 ,  0.5902227 ],\n",
       "          [ 0.8656415 ,  0.4355366 , -0.24692649, -0.17800602],\n",
       "          [-0.33349225,  0.13373935, -0.9332184 ,  1.0619073 ],\n",
       "          [ 0.        ,  0.        ,  0.        ,  1.        ]],\n",
       "         dtype=float32),\n",
       "   'post_grasp': array([[-0.37342697,  0.8901807 ,  0.2610184 ,  0.61632454],\n",
       "          [ 0.8656415 ,  0.4355366 , -0.24692649, -0.20269866],\n",
       "          [-0.33349225,  0.13373935, -0.9332184 ,  1.0685854 ],\n",
       "          [ 0.        ,  0.        ,  0.        ,  1.        ]],\n",
       "         dtype=float32)}]}"
      ]
     },
     "execution_count": 22,
     "metadata": {},
     "output_type": "execute_result"
    }
   ],
   "source": [
    "current_node"
   ]
  },
  {
   "cell_type": "code",
   "execution_count": 23,
   "id": "691dd2a5",
   "metadata": {
    "scrolled": true
   },
   "outputs": [
    {
     "name": "stdout",
     "output_type": "stream",
     "text": [
      "grasp\n",
      "pre_grasp\n",
      "post_grasp\n",
      "release\n",
      "pre_release\n",
      "post_release\n"
     ]
    },
    {
     "data": {
      "image/png": "[encoded data removed]",
      "text/plain": [
       "<Figure size 1200x800 with 1 Axes>"
      ]
     },
     "metadata": {},
     "output_type": "display_data"
    }
   ],
   "source": [
    "fig, ax = p_utils.init_3d_figure(name=\"Level wise 1\")\n",
    "\n",
    "\n",
    "for i,o in current_node['state'].objs.items():\n",
    "    mcts.rearr_action.scene_mngr.set_object_pose(i,o.h_mat)\n",
    "    \n",
    "for action in next_node['action']:\n",
    "    if 'grasp' in action or 'release' in action:\n",
    "    \n",
    "        print(action)\n",
    "        mcts.rearr_action.scene_mngr.set_gripper_pose(next_node['action'][action])\n",
    "        mcts.rearr_action.scene_mngr.render_gripper(ax)\n",
    "\n",
    "#     mcts.rearr_action.scene_mngr.render_axis(ax, grasps['grasp'])\n",
    "#     mcts.rearr_action.scene_mngr.render_axis(ax, grasps['pre_grasp'])\n",
    "#     mcts.rearr_action.scene_mngr.render_axis(ax, grasps['post_grasp'])\n",
    "#     mcts.rearr_action.scene_mngr.render_axis(ax, mcts.rearr_action.scene_mngr.scene.robot.gripper.get_gripper_tcp_pose())\n",
    "    \n",
    "mcts.rearr_action.scene_mngr.render_objects(ax)\n",
    "p_utils.plot_basis(ax)\n",
    "mcts.rearr_action.show()"
   ]
  },
  {
   "cell_type": "code",
   "execution_count": 24,
   "id": "8f27a0df",
   "metadata": {
    "scrolled": true
   },
   "outputs": [
    {
     "name": "stdout",
     "output_type": "stream",
     "text": [
      "grasp\n",
      "pre_grasp\n",
      "post_grasp\n",
      "release\n",
      "pre_release\n",
      "post_release\n"
     ]
    },
    {
     "data": {
      "image/png": "[encoded data removed]",
      "text/plain": [
       "<Figure size 1200x800 with 1 Axes>"
      ]
     },
     "metadata": {},
     "output_type": "display_data"
    }
   ],
   "source": [
    "fig, ax = p_utils.init_3d_figure(name=\"Level wise 1\")\n",
    "\n",
    "\n",
    "for i,o in next_node['state'].objs.items():\n",
    "    mcts.rearr_action.scene_mngr.set_object_pose(i,o.h_mat)\n",
    "    \n",
    "for action in next_node['action']:\n",
    "    if 'grasp' in action or 'release' in action:\n",
    "    \n",
    "        print(action)\n",
    "        mcts.rearr_action.scene_mngr.set_gripper_pose(next_node['action'][action])\n",
    "        mcts.rearr_action.scene_mngr.render_gripper(ax)\n",
    "\n",
    "#     mcts.rearr_action.scene_mngr.render_axis(ax, grasps['grasp'])\n",
    "#     mcts.rearr_action.scene_mngr.render_axis(ax, grasps['pre_grasp'])\n",
    "#     mcts.rearr_action.scene_mngr.render_axis(ax, grasps['post_grasp'])\n",
    "#     mcts.rearr_action.scene_mngr.render_axis(ax, mcts.rearr_action.scene_mngr.scene.robot.gripper.get_gripper_tcp_pose())\n",
    "    \n",
    "mcts.rearr_action.scene_mngr.render_objects(ax)\n",
    "p_utils.plot_basis(ax)\n",
    "mcts.rearr_action.show()"
   ]
  },
  {
   "cell_type": "code",
   "execution_count": null,
   "id": "4e1a2225",
   "metadata": {},
   "outputs": [],
   "source": []
  },
  {
   "cell_type": "code",
   "execution_count": 33,
   "id": "38b4e72e",
   "metadata": {},
   "outputs": [
    {
     "data": {
      "text/plain": [
       "{'table': \u001b[95mObject\u001b[0m(name=table, pos=[ 0.9   -0.6    0.043]),\n",
       " 'ben_cube0': \u001b[95mObject\u001b[0m(name=ben_cube0, pos=[ 0.39377654 -0.05920111  0.83529998]),\n",
       " 'can0': \u001b[95mObject\u001b[0m(name=can0, pos=[0.58836741 0.27068778 0.85059666]),\n",
       " 'cereal0': \u001b[95mObject\u001b[0m(name=cereal0, pos=[0.40992969 0.07529909 0.88526188])}"
      ]
     },
     "execution_count": 33,
     "metadata": {},
     "output_type": "execute_result"
    }
   ],
   "source": [
    "next_node['state'].objs"
   ]
  },
  {
   "cell_type": "code",
   "execution_count": null,
   "id": "02b209cd",
   "metadata": {},
   "outputs": [],
   "source": []
  },
  {
   "cell_type": "code",
   "execution_count": null,
   "id": "2e22794e",
   "metadata": {},
   "outputs": [],
   "source": []
  },
  {
   "cell_type": "code",
   "execution_count": null,
   "id": "26dab684",
   "metadata": {},
   "outputs": [],
   "source": []
  },
  {
   "cell_type": "code",
   "execution_count": null,
   "id": "90cf8819",
   "metadata": {},
   "outputs": [],
   "source": []
  }
 ],
 "metadata": {
  "kernelspec": {
   "display_name": "contact_graspnet",
   "language": "python",
   "name": "contact_graspnet"
  },
  "language_info": {
   "codemirror_mode": {
    "name": "ipython",
    "version": 3
   },
   "file_extension": ".py",
   "mimetype": "text/x-python",
   "name": "python",
   "nbconvert_exporter": "python",
   "pygments_lexer": "ipython3",
   "version": "3.8.16"
  }
 },
 "nbformat": 4,
 "nbformat_minor": 5
}
