{
 "cells": [
  {
   "cell_type": "code",
   "execution_count": 1,
   "id": "e39ba510",
   "metadata": {},
   "outputs": [
    {
     "name": "stderr",
     "output_type": "stream",
     "text": [
      "usage: ipykernel_launcher.py [-h] [--budgets T] [--max_depth H] [--seed i]\n",
      "                             [--algo alg] [--debug_mode DEBUG_MODE]\n",
      "ipykernel_launcher.py: error: unrecognized arguments: -f /home/juju/.local/share/jupyter/runtime/kernel-4b1498d0-5118-4dd2-8609-e0845e4d0687.json\n"
     ]
    },
    {
     "name": "stdout",
     "output_type": "stream",
     "text": [
      "*********************** \u001b[92mLogical States\u001b[0m ***********************\n",
      "OrderedDict([('ben_cube0',\n",
      "              {'on': \u001b[95mObject\u001b[0m(name=table, pos=[ 0.9   -0.6    0.043])}),\n",
      "             ('can0',\n",
      "              {'on': \u001b[95mObject\u001b[0m(name=table, pos=[ 0.9   -0.6    0.043])}),\n",
      "             ('can1',\n",
      "              {'on': \u001b[95mObject\u001b[0m(name=table, pos=[ 0.9   -0.6    0.043])}),\n",
      "             ('milk0',\n",
      "              {'on': \u001b[95mObject\u001b[0m(name=table, pos=[ 0.9   -0.6    0.043])}),\n",
      "             ('cereal0',\n",
      "              {'on': \u001b[95mObject\u001b[0m(name=table, pos=[ 0.9   -0.6    0.043])}),\n",
      "             ('table',\n",
      "              {'static': True,\n",
      "               'support': [\u001b[95mObject\u001b[0m(name=ben_cube0, pos=[ 0.88928902 -0.39350564  0.84779998]),\n",
      "                           \u001b[95mObject\u001b[0m(name=can0, pos=[ 0.87577879 -0.10670371  0.83514841]),\n",
      "                           \u001b[95mObject\u001b[0m(name=can1, pos=[ 0.90771777 -0.53253218  0.85059666]),\n",
      "                           \u001b[95mObject\u001b[0m(name=milk0, pos=[ 0.37113065 -0.3943761   0.83236691]),\n",
      "                           \u001b[95mObject\u001b[0m(name=cereal0, pos=[0.83837891 0.34292741 0.88533808])]}),\n",
      "             ('robotiq140_gripper', {'holding': None})])\n",
      "***************************************************************\n",
      "\n",
      "*********************** \u001b[92mLogical States\u001b[0m ***********************\n",
      "OrderedDict([('ben_cube0',\n",
      "              {'on': \u001b[95mObject\u001b[0m(name=table, pos=[ 0.9   -0.6    0.043])}),\n",
      "             ('can0',\n",
      "              {'on': \u001b[95mObject\u001b[0m(name=table, pos=[ 0.9   -0.6    0.043])}),\n",
      "             ('can1',\n",
      "              {'on': \u001b[95mObject\u001b[0m(name=table, pos=[ 0.9   -0.6    0.043])}),\n",
      "             ('milk0',\n",
      "              {'on': \u001b[95mObject\u001b[0m(name=table, pos=[ 0.9   -0.6    0.043])}),\n",
      "             ('cereal0',\n",
      "              {'on': \u001b[95mObject\u001b[0m(name=table, pos=[ 0.9   -0.6    0.043])}),\n",
      "             ('table',\n",
      "              {'static': True,\n",
      "               'support': [\u001b[95mObject\u001b[0m(name=ben_cube0, pos=[0.70602863 0.47977031 0.84779998]),\n",
      "                           \u001b[95mObject\u001b[0m(name=can0, pos=[ 0.36788903 -0.14801359  0.85059666]),\n",
      "                           \u001b[95mObject\u001b[0m(name=can1, pos=[0.53503895 0.57870727 0.85059666]),\n",
      "                           \u001b[95mObject\u001b[0m(name=milk0, pos=[ 0.89532485 -0.07590889  0.87809554]),\n",
      "                           \u001b[95mObject\u001b[0m(name=cereal0, pos=[0.4225653  0.47756911 0.88526188])]}),\n",
      "             ('robotiq140_gripper', {'holding': None})])\n",
      "***************************************************************\n",
      "\n"
     ]
    }
   ],
   "source": [
    "import numpy as np\n",
    "import argparse\n",
    "import os, time\n",
    "\n",
    "from pykin.utils import plot_utils as p_utils\n",
    "\n",
    "from pytamp.benchmark import Rearrange1\n",
    "\n",
    "from pytamp.action.pick import PickAction\n",
    "from pytamp.action.rearrangement import RearrangementAction\n",
    "\n",
    "from pytamp.benchmark.rearrange1 import make_scene\n",
    "from pytamp.search.mcts_for_rearragement import MCTS_rearrangement\n",
    "from pykin.utils.kin_utils import ShellColors as sc\n",
    "\n",
    "\n",
    "def get_parser():\n",
    "    parser = argparse.ArgumentParser(description=\"Test Rearragement 1.\")\n",
    "    parser.add_argument(\"--budgets\", metavar=\"T\", type=int, default=100, help=\"Horizon\")\n",
    "    parser.add_argument(\"--max_depth\", metavar=\"H\", type=int, default=10, help=\"Max depth\")\n",
    "    parser.add_argument(\"--seed\", metavar=\"i\", type=int, default=8, help=\"A random seed\")\n",
    "    parser.add_argument(\n",
    "        \"--algo\",\n",
    "        metavar=\"alg\",\n",
    "        type=str,\n",
    "        default=\"bai_perturb\",\n",
    "        choices=[\"bai_perturb\", \"bai_ucb\", \"uct\", \"random\", \"greedy\"],\n",
    "        help=\"Choose one (bai_perturb, bai_ucb, uct)\",\n",
    "    )\n",
    "    parser.add_argument(\n",
    "        \"--debug_mode\", default=False, type=lambda x: (str(x).lower() == \"true\"), help=\"Debug mode\"\n",
    "    )\n",
    "#     parser.add_argument(\"--box_number\", metavar=\"N\", type=int, default=6, help=\"Box Number(6 or less)\")\n",
    "    try:\n",
    "        args = parser.parse_args() #call from command line\n",
    "    except:\n",
    "        args = parser.parse_args(args=[]) #call from notebook\n",
    "    return args \n",
    "\n",
    "args = get_parser() \n",
    "\n",
    "debug_mode = args.debug_mode\n",
    "budgets = args.budgets\n",
    "max_depth = args.max_depth\n",
    "algo = args.algo\n",
    "seed = args.seed\n",
    "np.random.seed(seed)\n",
    "\n",
    "object_names, init_scene, goal_scene = make_scene()\n",
    "rearrangement1 = Rearrange1('doosan', object_names, init_scene, goal_scene, is_pyplot=False)\n",
    "\n",
    "final_level_1_values = []\n",
    "final_level_2_values = []\n",
    "final_optimal_nodes = []\n",
    "final_pnp_all_joint_paths = []\n",
    "final_pick_all_objects = []\n",
    "final_place_all_object_poses = []\n",
    "\n",
    "# final_optimal_trees = []\n",
    "c_list = 10 ** np.linspace(-2, 2.0, 10)\n"
   ]
  },
  {
   "cell_type": "code",
   "execution_count": 2,
   "id": "b98284a9",
   "metadata": {},
   "outputs": [],
   "source": [
    "rearrangement1.scene_mngr.heuristic = False\n",
    "pick = PickAction(rearrangement1.scene_mngr, n_contacts=10, n_directions=14)\n",
    "rearr = RearrangementAction(rearrangement1.scene_mngr, n_sample=1)\n",
    "pick.scene_mngr.is_debug_mode = False \n",
    "rearr.scene_mngr.is_debug_mode = False"
   ]
  },
  {
   "cell_type": "code",
   "execution_count": 3,
   "id": "13519404",
   "metadata": {},
   "outputs": [],
   "source": [
    "c = 3\n",
    "idx = 0\n",
    "mcts = MCTS_rearrangement(\n",
    "        scene_mngr=rearrangement1.scene_mngr,\n",
    "        init_scene=rearrangement1.init_scene,\n",
    "        sampling_method=args.algo,\n",
    "        budgets=args.budgets,\n",
    "        max_depth=args.max_depth,\n",
    "        c=c,\n",
    "        debug_mode=args.debug_mode,\n",
    "        use_pick_action=True\n",
    "    )\n",
    "mcts.only_optimize_1 = False"
   ]
  },
  {
   "cell_type": "code",
   "execution_count": 4,
   "id": "9de630f6",
   "metadata": {},
   "outputs": [
    {
     "name": "stdout",
     "output_type": "stream",
     "text": [
      "\n",
      "[1/10] Benchmark: 0, Algo: bai_perturb, C: 3, Seed: 8\n",
      "\u001b[95m=========== Search iteration : 1 ===========\u001b[0m\n"
     ]
    },
    {
     "ename": "KeyError",
     "evalue": "'rearr_poses'",
     "output_type": "error",
     "traceback": [
      "\u001b[0;31m---------------------------------------------------------------------------\u001b[0m",
      "\u001b[0;31mKeyError\u001b[0m                                  Traceback (most recent call last)",
      "Cell \u001b[0;32mIn[4], line 6\u001b[0m\n\u001b[1;32m      2\u001b[0m \u001b[38;5;28;01mfor\u001b[39;00m i \u001b[38;5;129;01min\u001b[39;00m \u001b[38;5;28mrange\u001b[39m(budgets):\n\u001b[1;32m      3\u001b[0m     \u001b[38;5;28mprint\u001b[39m(\n\u001b[1;32m      4\u001b[0m         \u001b[38;5;124mf\u001b[39m\u001b[38;5;124m\"\u001b[39m\u001b[38;5;130;01m\\n\u001b[39;00m\u001b[38;5;124m[\u001b[39m\u001b[38;5;132;01m{\u001b[39;00midx\u001b[38;5;241m+\u001b[39m\u001b[38;5;241m1\u001b[39m\u001b[38;5;132;01m}\u001b[39;00m\u001b[38;5;124m/\u001b[39m\u001b[38;5;132;01m{\u001b[39;00m\u001b[38;5;28mlen\u001b[39m(c_list)\u001b[38;5;132;01m}\u001b[39;00m\u001b[38;5;124m] Benchmark: \u001b[39m\u001b[38;5;132;01m{\u001b[39;00mrearrangement1\u001b[38;5;241m.\u001b[39mscene_mngr\u001b[38;5;241m.\u001b[39mscene\u001b[38;5;241m.\u001b[39mbench_num\u001b[38;5;132;01m}\u001b[39;00m\u001b[38;5;124m, Algo: \u001b[39m\u001b[38;5;132;01m{\u001b[39;00malgo\u001b[38;5;132;01m}\u001b[39;00m\u001b[38;5;124m, C: \u001b[39m\u001b[38;5;132;01m{\u001b[39;00mc\u001b[38;5;132;01m}\u001b[39;00m\u001b[38;5;124m, Seed: \u001b[39m\u001b[38;5;132;01m{\u001b[39;00mseed\u001b[38;5;132;01m}\u001b[39;00m\u001b[38;5;124m\"\u001b[39m\n\u001b[1;32m      5\u001b[0m     )\n\u001b[0;32m----> 6\u001b[0m     \u001b[43mmcts\u001b[49m\u001b[38;5;241;43m.\u001b[39;49m\u001b[43mdo_planning_rearrange\u001b[49m\u001b[43m(\u001b[49m\u001b[43mi\u001b[49m\u001b[43m)\u001b[49m\n\u001b[1;32m      8\u001b[0m     \u001b[38;5;28mprint\u001b[39m(\u001b[38;5;124m\"\u001b[39m\u001b[38;5;124m########### Running time : \u001b[39m\u001b[38;5;124m\"\u001b[39m, time\u001b[38;5;241m.\u001b[39mtime()\u001b[38;5;241m-\u001b[39m start_time, \u001b[38;5;124m\"\u001b[39m\u001b[38;5;124m##############\u001b[39m\u001b[38;5;124m\"\u001b[39m)\n\u001b[1;32m      9\u001b[0m     final_level_1_values\u001b[38;5;241m.\u001b[39mappend(mcts\u001b[38;5;241m.\u001b[39mvalues_for_level_1)\n",
      "File \u001b[0;32m~/anaconda3/envs/contact_graspnet/lib/python3.8/site-packages/pytamp/search/mcts_for_rearragement.py:189\u001b[0m, in \u001b[0;36mMCTS_rearrangement.do_planning_rearrange\u001b[0;34m(self, iter)\u001b[0m\n\u001b[1;32m    186\u001b[0m     \u001b[38;5;28mself\u001b[39m\u001b[38;5;241m.\u001b[39mvisualize_tree(\u001b[38;5;124m\"\u001b[39m\u001b[38;5;124mNext Logical Node\u001b[39m\u001b[38;5;124m\"\u001b[39m, \u001b[38;5;28mself\u001b[39m\u001b[38;5;241m.\u001b[39mtree)\n\u001b[1;32m    187\u001b[0m \u001b[38;5;28mself\u001b[39m\u001b[38;5;241m.\u001b[39msuccess_level_1_leaf_node \u001b[38;5;241m=\u001b[39m \u001b[38;5;28;01mNone\u001b[39;00m\n\u001b[0;32m--> 189\u001b[0m \u001b[38;5;28;43mself\u001b[39;49m\u001b[38;5;241;43m.\u001b[39;49m\u001b[43m_level_wise_1_optimize_rearr\u001b[49m\u001b[43m(\u001b[49m\u001b[43mstate_node\u001b[49m\u001b[38;5;241;43m=\u001b[39;49m\u001b[38;5;241;43m0\u001b[39;49m\u001b[43m,\u001b[49m\u001b[43m \u001b[49m\u001b[43mdepth\u001b[49m\u001b[38;5;241;43m=\u001b[39;49m\u001b[38;5;241;43m0\u001b[39;49m\u001b[43m)\u001b[49m\n\u001b[1;32m    190\u001b[0m max_level_1_value \u001b[38;5;241m=\u001b[39m \u001b[38;5;28mself\u001b[39m\u001b[38;5;241m.\u001b[39mget_max_value_level_1()\n\u001b[1;32m    191\u001b[0m \u001b[38;5;28mself\u001b[39m\u001b[38;5;241m.\u001b[39mvalues_for_level_1\u001b[38;5;241m.\u001b[39mappend(max_level_1_value)\n",
      "File \u001b[0;32m~/anaconda3/envs/contact_graspnet/lib/python3.8/site-packages/pytamp/search/mcts_for_rearragement.py:272\u001b[0m, in \u001b[0;36mMCTS_rearrangement._level_wise_1_optimize_rearr\u001b[0;34m(self, state_node, depth)\u001b[0m\n\u001b[1;32m    268\u001b[0m     \u001b[38;5;28;01mreturn\u001b[39;00m \u001b[38;5;241m0\u001b[39m\n\u001b[1;32m    270\u001b[0m \u001b[38;5;66;03m# ? Select Logical Action\u001b[39;00m\n\u001b[1;32m    271\u001b[0m \u001b[38;5;66;03m# *======================================================================================================================== #\u001b[39;00m\n\u001b[0;32m--> 272\u001b[0m cur_logical_action_node \u001b[38;5;241m=\u001b[39m \u001b[38;5;28;43mself\u001b[39;49m\u001b[38;5;241;43m.\u001b[39;49m\u001b[43m_select_logical_action_node_rearr\u001b[49m\u001b[43m(\u001b[49m\n\u001b[1;32m    273\u001b[0m \u001b[43m    \u001b[49m\u001b[43mcur_state_node\u001b[49m\u001b[43m,\u001b[49m\u001b[43m \u001b[49m\u001b[43mcur_state\u001b[49m\u001b[43m,\u001b[49m\u001b[43m \u001b[49m\u001b[43mdepth\u001b[49m\u001b[43m,\u001b[49m\u001b[43m \u001b[49m\u001b[38;5;28;43mself\u001b[39;49m\u001b[38;5;241;43m.\u001b[39;49m\u001b[43m_sampling_method\u001b[49m\n\u001b[1;32m    274\u001b[0m \u001b[43m\u001b[49m\u001b[43m)\u001b[49m\n\u001b[1;32m    275\u001b[0m cur_logical_action \u001b[38;5;241m=\u001b[39m \u001b[38;5;28;01mNone\u001b[39;00m\n\u001b[1;32m    277\u001b[0m \u001b[38;5;66;03m# #! [DEBUG]\u001b[39;00m\n\u001b[1;32m    278\u001b[0m \u001b[38;5;66;03m# if self.debug_mode:\u001b[39;00m\n\u001b[1;32m    279\u001b[0m \u001b[38;5;66;03m#     self.visualize_tree(\"Next Logical Node\", self.tree)\u001b[39;00m\n",
      "File \u001b[0;32m~/anaconda3/envs/contact_graspnet/lib/python3.8/site-packages/pytamp/search/mcts_for_rearragement.py:380\u001b[0m, in \u001b[0;36mMCTS_rearrangement._select_logical_action_node_rearr\u001b[0;34m(self, cur_state_node, cur_state, depth, exploration_method)\u001b[0m\n\u001b[1;32m    377\u001b[0m visit \u001b[38;5;241m=\u001b[39m \u001b[38;5;28mself\u001b[39m\u001b[38;5;241m.\u001b[39mtree\u001b[38;5;241m.\u001b[39mnodes[cur_state_node][NodeData\u001b[38;5;241m.\u001b[39mVISIT]\n\u001b[1;32m    378\u001b[0m \u001b[38;5;28;01mif\u001b[39;00m visit \u001b[38;5;241m==\u001b[39m \u001b[38;5;241m0\u001b[39m:\n\u001b[1;32m    379\u001b[0m     \u001b[38;5;66;03m# print(f\"Current state node {cur_state_node} is a leaf node, So expand\")\u001b[39;00m\n\u001b[0;32m--> 380\u001b[0m     \u001b[38;5;28;43mself\u001b[39;49m\u001b[38;5;241;43m.\u001b[39;49m\u001b[43m_expand_action_node_rearr\u001b[49m\u001b[43m(\u001b[49m\u001b[43mcur_state_node\u001b[49m\u001b[43m,\u001b[49m\u001b[43m \u001b[49m\u001b[43mcur_state\u001b[49m\u001b[43m,\u001b[49m\u001b[43m \u001b[49m\u001b[43mdepth\u001b[49m\u001b[43m)\u001b[49m\n\u001b[1;32m    381\u001b[0m expanded_children \u001b[38;5;241m=\u001b[39m [child \u001b[38;5;28;01mfor\u001b[39;00m child \u001b[38;5;129;01min\u001b[39;00m \u001b[38;5;28mself\u001b[39m\u001b[38;5;241m.\u001b[39mtree\u001b[38;5;241m.\u001b[39mneighbors(cur_state_node)]\n\u001b[1;32m    382\u001b[0m \u001b[38;5;28;01mif\u001b[39;00m \u001b[38;5;129;01mnot\u001b[39;00m expanded_children:\n",
      "File \u001b[0;32m~/anaconda3/envs/contact_graspnet/lib/python3.8/site-packages/pytamp/search/mcts_for_rearragement.py:437\u001b[0m, in \u001b[0;36mMCTS_rearrangement._expand_action_node_rearr\u001b[0;34m(self, cur_state_node, cur_state, depth)\u001b[0m\n\u001b[1;32m    428\u001b[0m     possible_actions \u001b[38;5;241m=\u001b[39m \u001b[38;5;28mlist\u001b[39m(\n\u001b[1;32m    429\u001b[0m         \u001b[38;5;28mself\u001b[39m\u001b[38;5;241m.\u001b[39mrearr_action\u001b[38;5;241m.\u001b[39mget_possible_actions_level_1(\n\u001b[1;32m    430\u001b[0m             scene\u001b[38;5;241m=\u001b[39mcur_state, \n\u001b[1;32m    431\u001b[0m             scene_for_sample\u001b[38;5;241m=\u001b[39m\u001b[38;5;28mself\u001b[39m\u001b[38;5;241m.\u001b[39minit_scene,\n\u001b[1;32m    432\u001b[0m         )\n\u001b[1;32m    433\u001b[0m     )\n\u001b[1;32m    435\u001b[0m \u001b[38;5;28;01mfor\u001b[39;00m possible_action \u001b[38;5;129;01min\u001b[39;00m possible_actions:\n\u001b[1;32m    436\u001b[0m     \u001b[38;5;66;03m# print(\"possible actions :\" ,possible_action)\u001b[39;00m\n\u001b[0;32m--> 437\u001b[0m     \u001b[38;5;28;01mfor\u001b[39;00m action \u001b[38;5;129;01min\u001b[39;00m \u001b[43mpossible_action\u001b[49m\u001b[43m[\u001b[49m\u001b[38;5;28;43mself\u001b[39;49m\u001b[38;5;241;43m.\u001b[39;49m\u001b[43mrearr_action\u001b[49m\u001b[38;5;241;43m.\u001b[39;49m\u001b[43minfo\u001b[49m\u001b[38;5;241;43m.\u001b[39;49m\u001b[43mREARR_POSES\u001b[49m\u001b[43m]\u001b[49m:\n\u001b[1;32m    438\u001b[0m         action_ \u001b[38;5;241m=\u001b[39m deepcopy(possible_action)\n\u001b[1;32m    439\u001b[0m         action_[\u001b[38;5;28mself\u001b[39m\u001b[38;5;241m.\u001b[39mrearr_action\u001b[38;5;241m.\u001b[39minfo\u001b[38;5;241m.\u001b[39mREARR_POSES] \u001b[38;5;241m=\u001b[39m \u001b[38;5;28mlist\u001b[39m()\n",
      "\u001b[0;31mKeyError\u001b[0m: 'rearr_poses'"
     ]
    }
   ],
   "source": [
    "start_time = time.time()\n",
    "for i in range(budgets):\n",
    "    print(\n",
    "        f\"\\n[{idx+1}/{len(c_list)}] Benchmark: {rearrangement1.scene_mngr.scene.bench_num}, Algo: {algo}, C: {c}, Seed: {seed}\"\n",
    "    )\n",
    "    mcts.do_planning_rearrange(i)\n",
    "\n",
    "    print(\"########### Running time : \", time.time()- start_time, \"##############\")\n",
    "    final_level_1_values.append(mcts.values_for_level_1)\n"
   ]
  },
  {
   "cell_type": "code",
   "execution_count": null,
   "id": "9e1e5f17",
   "metadata": {},
   "outputs": [],
   "source": []
  },
  {
   "cell_type": "code",
   "execution_count": null,
   "id": "f11eebef",
   "metadata": {},
   "outputs": [],
   "source": []
  },
  {
   "cell_type": "code",
   "execution_count": null,
   "id": "d5ab0f66",
   "metadata": {},
   "outputs": [],
   "source": []
  }
 ],
 "metadata": {
  "kernelspec": {
   "display_name": "contact_graspnet",
   "language": "python",
   "name": "contact_graspnet"
  },
  "language_info": {
   "codemirror_mode": {
    "name": "ipython",
    "version": 3
   },
   "file_extension": ".py",
   "mimetype": "text/x-python",
   "name": "python",
   "nbconvert_exporter": "python",
   "pygments_lexer": "ipython3",
   "version": "3.8.16"
  }
 },
 "nbformat": 4,
 "nbformat_minor": 5
}
