{
 "cells": [
  {
   "cell_type": "code",
   "execution_count": 1,
   "id": "cd26506c",
   "metadata": {
    "scrolled": true
   },
   "outputs": [
    {
     "name": "stderr",
     "output_type": "stream",
     "text": [
      "usage: ipykernel_launcher.py [-h] [--budgets T] [--max_depth H] [--seed i]\n",
      "                             [--algo alg] [--debug_mode DEBUG_MODE]\n",
      "ipykernel_launcher.py: error: unrecognized arguments: -f /home/juju/.local/share/jupyter/runtime/kernel-59b89790-b253-4476-984e-7d8798755b93.json\n"
     ]
    },
    {
     "name": "stdout",
     "output_type": "stream",
     "text": [
      "*********************** \u001b[92mLogical States\u001b[0m ***********************\n",
      "OrderedDict([('ben_cube0',\n",
      "              {'on': \u001b[95mObject\u001b[0m(name=table, pos=[ 0.9   -0.6    0.043])}),\n",
      "             ('can0',\n",
      "              {'on': \u001b[95mObject\u001b[0m(name=table, pos=[ 0.9   -0.6    0.043])}),\n",
      "             ('can1',\n",
      "              {'on': \u001b[95mObject\u001b[0m(name=table, pos=[ 0.9   -0.6    0.043])}),\n",
      "             ('milk0',\n",
      "              {'on': \u001b[95mObject\u001b[0m(name=table, pos=[ 0.9   -0.6    0.043])}),\n",
      "             ('cereal0',\n",
      "              {'on': \u001b[95mObject\u001b[0m(name=table, pos=[ 0.9   -0.6    0.043])}),\n",
      "             ('table',\n",
      "              {'static': True,\n",
      "               'support': [\u001b[95mObject\u001b[0m(name=ben_cube0, pos=[ 0.6068322  -0.48750704  0.84779998]),\n",
      "                           \u001b[95mObject\u001b[0m(name=can0, pos=[ 0.28703044 -0.43226677  0.83517396]),\n",
      "                           \u001b[95mObject\u001b[0m(name=can1, pos=[0.80422845 0.03503504 0.85059666]),\n",
      "                           \u001b[95mObject\u001b[0m(name=milk0, pos=[0.86023026 0.45563961 0.83236691]),\n",
      "                           \u001b[95mObject\u001b[0m(name=cereal0, pos=[ 0.65706422 -0.04520481  0.82529568])]}),\n",
      "             ('robotiq140_gripper', {'holding': None})])\n",
      "***************************************************************\n",
      "\n",
      "*********************** \u001b[92mLogical States\u001b[0m ***********************\n",
      "OrderedDict([('ben_cube0',\n",
      "              {'on': \u001b[95mObject\u001b[0m(name=table, pos=[ 0.9   -0.6    0.043])}),\n",
      "             ('can0',\n",
      "              {'on': \u001b[95mObject\u001b[0m(name=table, pos=[ 0.9   -0.6    0.043])}),\n",
      "             ('can1',\n",
      "              {'on': \u001b[95mObject\u001b[0m(name=table, pos=[ 0.9   -0.6    0.043])}),\n",
      "             ('milk0',\n",
      "              {'on': \u001b[95mObject\u001b[0m(name=table, pos=[ 0.9   -0.6    0.043])}),\n",
      "             ('cereal0',\n",
      "              {'on': \u001b[95mObject\u001b[0m(name=table, pos=[ 0.9   -0.6    0.043])}),\n",
      "             ('table',\n",
      "              {'static': True,\n",
      "               'support': [\u001b[95mObject\u001b[0m(name=ben_cube0, pos=[ 0.77804528 -0.17781587  0.84779998]),\n",
      "                           \u001b[95mObject\u001b[0m(name=can0, pos=[0.38799421 0.01720362 0.85059666]),\n",
      "                           \u001b[95mObject\u001b[0m(name=can1, pos=[ 0.609591   -0.22406128  0.85059666]),\n",
      "                           \u001b[95mObject\u001b[0m(name=milk0, pos=[0.81420223 0.27045173 0.87809554]),\n",
      "                           \u001b[95mObject\u001b[0m(name=cereal0, pos=[0.57315191 0.44329834 0.88526188])]}),\n",
      "             ('robotiq140_gripper', {'holding': None})])\n",
      "***************************************************************\n",
      "\n"
     ]
    }
   ],
   "source": [
    "import numpy as np\n",
    "import argparse\n",
    "import os, time\n",
    "\n",
    "from pykin.utils import plot_utils as p_utils\n",
    "\n",
    "from pytamp.benchmark import Rearrange1\n",
    "\n",
    "from pytamp.action.pick import PickAction\n",
    "from pytamp.action.rearrangement import RearrangementAction\n",
    "\n",
    "\n",
    "from pytamp.benchmark.rearrange1 import make_scene\n",
    "from pytamp.search.mcts_for_rearragement import MCTS_rearrangement\n",
    "\n",
    "\n",
    "def get_parser():\n",
    "    parser = argparse.ArgumentParser(description=\"Test Rearragement 1.\")\n",
    "    parser.add_argument(\"--budgets\", metavar=\"T\", type=int, default=100, help=\"Horizon\")\n",
    "    parser.add_argument(\"--max_depth\", metavar=\"H\", type=int, default=10, help=\"Max depth\")\n",
    "    parser.add_argument(\"--seed\", metavar=\"i\", type=int, default=21, help=\"A random seed\")\n",
    "    parser.add_argument(\n",
    "        \"--algo\",\n",
    "        metavar=\"alg\",\n",
    "        type=str,\n",
    "        default=\"bai_perturb\",\n",
    "        choices=[\"bai_perturb\", \"bai_ucb\", \"uct\", \"random\", \"greedy\"],\n",
    "        help=\"Choose one (bai_perturb, bai_ucb, uct)\",\n",
    "    )\n",
    "    parser.add_argument(\n",
    "        \"--debug_mode\", default=False, type=lambda x: (str(x).lower() == \"true\"), help=\"Debug mode\"\n",
    "    )\n",
    "#     parser.add_argument(\"--box_number\", metavar=\"N\", type=int, default=6, help=\"Box Number(6 or less)\")\n",
    "    try:\n",
    "        args = parser.parse_args() #call from command line\n",
    "    except:\n",
    "        args = parser.parse_args(args=[]) #call from notebook\n",
    "    return args \n",
    "\n",
    "args = get_parser() \n",
    "\n",
    "debug_mode = args.debug_mode\n",
    "budgets = args.budgets\n",
    "max_depth = args.max_depth\n",
    "algo = args.algo\n",
    "seed = args.seed\n",
    "np.random.seed(seed)\n",
    "\n",
    "object_names, init_scene, goal_scene = make_scene()\n",
    "rearrangement1 = Rearrange1('doosan', object_names, init_scene, goal_scene, is_pyplot=False)\n",
    "\n",
    "final_level_1_values = []\n",
    "final_level_2_values = []\n",
    "final_optimal_nodes = []\n",
    "final_pnp_all_joint_paths = []\n",
    "final_pick_all_objects = []\n",
    "final_place_all_object_poses = []\n",
    "\n",
    "# final_optimal_trees = []\n",
    "c_list = 10 ** np.linspace(-2, 2.0, 10)\n"
   ]
  },
  {
   "cell_type": "code",
   "execution_count": 2,
   "id": "12c15cbe",
   "metadata": {},
   "outputs": [],
   "source": [
    "rearrangement1.scene_mngr.heuristic = False\n",
    "pick = PickAction(rearrangement1.scene_mngr, n_contacts=20, n_directions=14)\n"
   ]
  },
  {
   "cell_type": "code",
   "execution_count": 3,
   "id": "26ea4d7f",
   "metadata": {},
   "outputs": [
    {
     "data": {
      "text/plain": [
       "<pytamp.scene.render.RenderTriMesh at 0x7f19a6517970>"
      ]
     },
     "execution_count": 3,
     "metadata": {},
     "output_type": "execute_result"
    }
   ],
   "source": [
    "pick.scene_mngr.render"
   ]
  },
  {
   "cell_type": "code",
   "execution_count": 4,
   "id": "2b28b702",
   "metadata": {
    "scrolled": true
   },
   "outputs": [
    {
     "name": "stdout",
     "output_type": "stream",
     "text": [
      "get grasp :  table\n",
      "get grasp :  ben_cube0\n",
      "get grasp :  can0\n",
      "get grasp :  can1\n",
      "get grasp :  milk0\n",
      "get grasp :  cereal0\n"
     ]
    }
   ],
   "source": [
    "actions = list(pick.get_possible_actions_level_1())"
   ]
  },
  {
   "cell_type": "code",
   "execution_count": 5,
   "id": "36a5707e",
   "metadata": {},
   "outputs": [
    {
     "data": {
      "image/png": "[encoded data removed]",
      "text/plain": [
       "<Figure size 1200x800 with 1 Axes>"
      ]
     },
     "metadata": {},
     "output_type": "display_data"
    }
   ],
   "source": [
    "fig, ax = p_utils.init_3d_figure(name=\"Level wise 1\")\n",
    "for pick_actions in actions:\n",
    "    for all_grasp_pose in pick_actions[pick.info.GRASP_POSES]:\n",
    "        pick.scene_mngr.set_gripper_pose(all_grasp_pose[pick.move_data.MOVE_grasp])\n",
    "        pick.scene_mngr.render_axis(ax, all_grasp_pose[pick.move_data.MOVE_grasp])\n",
    "pick.scene_mngr.render_objects(ax)\n",
    "p_utils.plot_basis(ax)\n",
    "pick.show()"
   ]
  },
  {
   "cell_type": "code",
   "execution_count": 6,
   "id": "4b016da2",
   "metadata": {
    "scrolled": true
   },
   "outputs": [
    {
     "name": "stderr",
     "output_type": "stream",
     "text": [
      "\u001b[1;32m[INFO] [RRT Star Planner]: Start to compute RRT-star Planning\u001b[0m\n",
      "\u001b[1;32m[INFO] [RRT Star Planner]: The joint limit has been successfully checked. Pose error is 0.000001\u001b[0m\n"
     ]
    },
    {
     "name": "stdout",
     "output_type": "stream",
     "text": [
      "solve the problem using LM2!! \n",
      "Iterators : 11\n",
      "WorkingTime[inverse_kinematics]: 0.0101 sec\n",
      "\n"
     ]
    },
    {
     "name": "stderr",
     "output_type": "stream",
     "text": [
      "\u001b[1;32m[INFO] [RRT Star Planner]: Generate Path Successfully!!\u001b[0m\n",
      "\u001b[1;32m[INFO] [RRT Star Planner]: Path length 4 --> 30\u001b[0m\n",
      "\u001b[1;32m[INFO] [Cartesian Planner]: Start to compute Cartesian Planning\u001b[0m\n",
      "\u001b[1;32m[INFO] [Cartesian Planner]: Generate Path Successfully!! Error is 0.000001\u001b[0m\n",
      "\u001b[1;32m[INFO] [Cartesian Planner]: Start to compute Cartesian Planning\u001b[0m\n"
     ]
    },
    {
     "name": "stdout",
     "output_type": "stream",
     "text": [
      "Cost is 2.218\n",
      "WorkingTime[run]: 3.1034 sec\n",
      "\n",
      "WorkingTime[run]: 0.0912 sec\n",
      "\n"
     ]
    },
    {
     "name": "stderr",
     "output_type": "stream",
     "text": [
      "\u001b[1;32m[INFO] [Cartesian Planner]: Generate Path Successfully!! Error is 0.000001\u001b[0m\n",
      "\u001b[1;32m[INFO] [RRT Star Planner]: Start to compute RRT-star Planning\u001b[0m\n"
     ]
    },
    {
     "name": "stdout",
     "output_type": "stream",
     "text": [
      "WorkingTime[run]: 0.1282 sec\n",
      "\n"
     ]
    },
    {
     "name": "stderr",
     "output_type": "stream",
     "text": [
      "\u001b[1;32m[INFO] [RRT Star Planner]: Generate Path Successfully!!\u001b[0m\n",
      "\u001b[1;32m[INFO] [RRT Star Planner]: Path length 4 --> 30\u001b[0m\n"
     ]
    },
    {
     "name": "stdout",
     "output_type": "stream",
     "text": [
      "Cost is 2.181\n",
      "WorkingTime[run]: 3.3270 sec\n",
      "\n"
     ]
    }
   ],
   "source": [
    "pick_all_joint_path = []\n",
    "pick_all_objects = []\n",
    "pick_all_object_poses = []\n",
    "\n",
    "pick_path = []\n",
    "pick_objects = []\n",
    "pick_object_poses = []\n",
    "\n",
    "\n",
    "success_joint_path = False\n",
    "for pick_action in actions:\n",
    "    for idx, pick_scene in enumerate(\n",
    "        pick.get_possible_transitions(pick.scene_mngr.scene, action=pick_action)\n",
    "    ):\n",
    "        pick_joint_path = pick.get_possible_joint_path_level_2(\n",
    "            scene=pick_scene, grasp_poses=pick_scene.grasp_poses\n",
    "        )\n",
    "        if pick_joint_path:\n",
    "            success_joint_path = True\n",
    "            pick_path += pick_joint_path\n",
    "            pick_objects.append(pick.scene_mngr.attached_obj_name)\n",
    "            pick_object_poses.append(pick.scene_mngr.scene.robot.gripper.pick_obj_pose)\n",
    "        if success_joint_path:\n",
    "            break\n",
    "    if success_joint_path:\n",
    "        break\n"
   ]
  },
  {
   "cell_type": "code",
   "execution_count": 9,
   "id": "3270a9c7",
   "metadata": {
    "scrolled": true
   },
   "outputs": [],
   "source": [
    "pick_all_joint_path = []\n",
    "pick_all_objects = []\n",
    "pick_all_object_poses = []\n",
    "\n",
    "pick_all_joint_path.append(pick_path)\n",
    "pick_all_objects.append(pick_objects)\n",
    "pick_all_object_poses.append(pick_object_poses)"
   ]
  },
  {
   "cell_type": "code",
   "execution_count": 10,
   "id": "f71173a9",
   "metadata": {},
   "outputs": [
    {
     "data": {
      "text/plain": [
       "[[OrderedDict([('pre_grasp',\n",
       "                [array([-0.0578549 ,  0.06986658,  1.52135155,  0.02120696,  1.59664974,\n",
       "                         0.04937945]),\n",
       "                 array([-0.11570981,  0.13973316,  1.47190678,  0.04241393,  1.62250316,\n",
       "                         0.0987589 ]),\n",
       "                 array([-0.17356471,  0.20959974,  1.42246201,  0.06362089,  1.64835658,\n",
       "                         0.14813836]),\n",
       "                 array([-0.23141961,  0.27946631,  1.37301723,  0.08482786,  1.67421   ,\n",
       "                         0.19751781]),\n",
       "                 array([-0.28927452,  0.34933289,  1.32357246,  0.10603482,  1.70006342,\n",
       "                         0.24689726]),\n",
       "                 array([-0.34712942,  0.41919947,  1.27412769,  0.12724178,  1.72591683,\n",
       "                         0.29627671]),\n",
       "                 array([-0.40498432,  0.48906605,  1.22468291,  0.14844875,  1.75177025,\n",
       "                         0.34565617]),\n",
       "                 array([-0.46283923,  0.55893263,  1.17523814,  0.16965571,  1.77762367,\n",
       "                         0.39503562]),\n",
       "                 array([-0.52069413,  0.62879921,  1.12579337,  0.19086268,  1.80347709,\n",
       "                         0.44441507]),\n",
       "                 array([-0.57854904,  0.69866578,  1.07634859,  0.21206964,  1.8293305 ,\n",
       "                         0.49379452]),\n",
       "                 array([-0.58056848,  0.70142064,  1.07436362,  0.21451862,  1.83049362,\n",
       "                         0.49522355]),\n",
       "                 array([-0.58258793,  0.7041755 ,  1.07237864,  0.21696759,  1.83165673,\n",
       "                         0.49665259]),\n",
       "                 array([-0.58460738,  0.70693036,  1.07039367,  0.21941657,  1.83281985,\n",
       "                         0.49808162]),\n",
       "                 array([-0.58662683,  0.70968522,  1.06840869,  0.22186554,  1.83398296,\n",
       "                         0.49951065]),\n",
       "                 array([-0.58864628,  0.71244008,  1.06642372,  0.22431452,  1.83514608,\n",
       "                         0.50093968]),\n",
       "                 array([-0.59066573,  0.71519494,  1.06443874,  0.22676349,  1.83630919,\n",
       "                         0.50236871]),\n",
       "                 array([-0.59268518,  0.7179498 ,  1.06245376,  0.22921247,  1.83747231,\n",
       "                         0.50379775]),\n",
       "                 array([-0.59470463,  0.72070465,  1.06046879,  0.23166144,  1.83863542,\n",
       "                         0.50522678]),\n",
       "                 array([-0.59672408,  0.72345951,  1.05848381,  0.23411042,  1.83979854,\n",
       "                         0.50665581]),\n",
       "                 array([-0.59874353,  0.72621437,  1.05649884,  0.23655939,  1.84096165,\n",
       "                         0.50808484]),\n",
       "                 array([-0.64981624,  0.79588587,  1.006298  ,  0.29849498,  1.8703773 ,\n",
       "                         0.54422564]),\n",
       "                 array([-0.70088895,  0.86555737,  0.95609716,  0.36043057,  1.89979294,\n",
       "                         0.58036643]),\n",
       "                 array([-0.75196166,  0.93522888,  0.90589632,  0.42236616,  1.92920859,\n",
       "                         0.61650723]),\n",
       "                 array([-0.80303437,  1.00490038,  0.85569548,  0.48430175,  1.95862423,\n",
       "                         0.65264803]),\n",
       "                 array([-0.85410708,  1.07457188,  0.80549464,  0.54623734,  1.98803988,\n",
       "                         0.68878882]),\n",
       "                 array([-0.90517979,  1.14424338,  0.7552938 ,  0.60817293,  2.01745552,\n",
       "                         0.72492962]),\n",
       "                 array([-0.9562525 ,  1.21391488,  0.70509297,  0.67010851,  2.04687117,\n",
       "                         0.76107041]),\n",
       "                 array([-1.00732521,  1.28358638,  0.65489213,  0.7320441 ,  2.07628682,\n",
       "                         0.79721121]),\n",
       "                 array([-1.05839792,  1.35325788,  0.60469129,  0.79397969,  2.10570246,\n",
       "                         0.83335201]),\n",
       "                 array([-1.10947063,  1.42292938,  0.55449045,  0.85591528,  2.13511811,\n",
       "                         0.8694928 ])]),\n",
       "               ('grasp',\n",
       "                [array([-1.10947063,  1.42292938,  0.55449045,  0.85591528,  2.13511811,\n",
       "                         0.8694928 ]),\n",
       "                 array([-1.10884971,  1.42120741,  0.55885366,  0.8551353 ,  2.13295622,\n",
       "                         0.867575  ]),\n",
       "                 array([-1.10259155,  1.40485955,  0.6007292 ,  0.84819768,  2.11184003,\n",
       "                         0.84944151]),\n",
       "                 array([-1.09624768,  1.38999474,  0.63960822,  0.84261955,  2.09162351,\n",
       "                         0.83300785]),\n",
       "                 array([-1.08981688,  1.37636831,  0.67600032,  0.83817047,  2.07216106,\n",
       "                         0.81795191]),\n",
       "                 array([-1.08329795,  1.36380018,  0.71028041,  0.83468135,  2.0533448 ,\n",
       "                         0.80403687]),\n",
       "                 array([-1.07668965,  1.35215331,  0.74273374,  0.83202406,  2.03509212,\n",
       "                         0.79108272]),\n",
       "                 array([-1.06999077,  1.34132056,  0.77358314,  0.83009897,  2.01733812,\n",
       "                         0.77894891]),\n",
       "                 array([-1.06320009,  1.33121632,  0.80300655,  0.82882701,  2.00003076,\n",
       "                         0.7675233 ]),\n",
       "                 array([-1.05631639,  1.32177095,  0.8311486 ,  0.82814432,  1.98312759,\n",
       "                         0.75671476]),\n",
       "                 array([-1.04933844,  1.31292687,  0.85812863,  0.82799864,  1.96659352,\n",
       "                         0.74644812]),\n",
       "                 array([-1.04297671,  1.30544131,  0.88149992,  0.82829071,  1.95200407,\n",
       "                         0.73761931])]),\n",
       "               ('post_grasp',\n",
       "                [array([-1.04297671,  1.30544131,  0.88149992,  0.82829071,  1.95200407,\n",
       "                         0.73761931]),\n",
       "                 array([-1.04297691,  1.30410495,  0.88217712,  0.82848512,  1.95245003,\n",
       "                         0.73814234]),\n",
       "                 array([-1.04297893,  1.29084977,  0.88867668,  0.83049605,  1.95701451,\n",
       "                         0.74351523]),\n",
       "                 array([-1.04298095,  1.27779162,  0.89469858,  0.83262275,  1.96175781,\n",
       "                         0.74913257]),\n",
       "                 array([-1.04298296,  1.264929  ,  0.90024998,  0.83486762,  1.96667464,\n",
       "                         0.75499275]),\n",
       "                 array([-1.04298497,  1.25226083,  0.90533724,  0.83723328,  1.97175984,\n",
       "                         0.76109457]),\n",
       "                 array([-1.04298699,  1.23978638,  0.90996607,  0.83972254,  1.97700845,\n",
       "                         0.76743722]),\n",
       "                 array([-1.04298899,  1.22750528,  0.91414151,  0.8423384 ,  1.98241561,\n",
       "                         0.77402024]),\n",
       "                 array([-1.042991  ,  1.21541746,  0.917868  ,  0.84508409,  1.98797658,\n",
       "                         0.7808435 ]),\n",
       "                 array([-1.042993  ,  1.20352316,  0.92114945,  0.84796299,  1.9936867 ,\n",
       "                         0.78790724]),\n",
       "                 array([-1.042995  ,  1.19182291,  0.9239892 ,  0.8509787 ,  1.99954142,\n",
       "                         0.79521203]),\n",
       "                 array([-1.0429968 ,  1.18145922,  0.92616971,  0.85381294,  2.00493058,\n",
       "                         0.80199317])]),\n",
       "               ('default_grasp',\n",
       "                [array([-1.01246966,  1.15267581,  0.9395704 ,  0.82896321,  1.98970163,\n",
       "                         0.77918352]),\n",
       "                 array([-0.98194251,  1.12389239,  0.9529711 ,  0.80411348,  1.97447269,\n",
       "                         0.75637386]),\n",
       "                 array([-0.95141537,  1.09510898,  0.9663718 ,  0.77926376,  1.95924375,\n",
       "                         0.73356421]),\n",
       "                 array([-0.92088823,  1.06632556,  0.97977249,  0.75441403,  1.94401481,\n",
       "                         0.71075455]),\n",
       "                 array([-0.89036109,  1.03754215,  0.99317319,  0.7295643 ,  1.92878587,\n",
       "                         0.6879449 ]),\n",
       "                 array([-0.85983395,  1.00875873,  1.00657388,  0.70471457,  1.91355693,\n",
       "                         0.66513524]),\n",
       "                 array([-0.82930681,  0.97997532,  1.01997458,  0.67986484,  1.89832799,\n",
       "                         0.64232559]),\n",
       "                 array([-0.79877967,  0.95119191,  1.03337527,  0.65501511,  1.88309905,\n",
       "                         0.61951593]),\n",
       "                 array([-0.76825253,  0.92240849,  1.04677597,  0.63016538,  1.8678701 ,\n",
       "                         0.59670628]),\n",
       "                 array([-0.73772539,  0.89362508,  1.06017667,  0.60531565,  1.85264116,\n",
       "                         0.57389662]),\n",
       "                 array([-0.67936383,  0.82981464,  1.08370001,  0.55136084,  1.83553814,\n",
       "                         0.52320625]),\n",
       "                 array([-0.62100227,  0.7660042 ,  1.10722335,  0.49740603,  1.81843511,\n",
       "                         0.47251587]),\n",
       "                 array([-0.56264072,  0.70219376,  1.13074669,  0.44345122,  1.80133209,\n",
       "                         0.4218255 ]),\n",
       "                 array([-0.50427916,  0.63838331,  1.15427003,  0.38949642,  1.78422906,\n",
       "                         0.37113512]),\n",
       "                 array([-0.4459176 ,  0.57457287,  1.17779337,  0.33554161,  1.76712604,\n",
       "                         0.32044475]),\n",
       "                 array([-0.38755605,  0.51076243,  1.20131671,  0.2815868 ,  1.75002301,\n",
       "                         0.26975437]),\n",
       "                 array([-0.32919449,  0.44695199,  1.22484005,  0.22763199,  1.73291999,\n",
       "                         0.21906399]),\n",
       "                 array([-0.27083293,  0.38314155,  1.24836339,  0.17367718,  1.71581696,\n",
       "                         0.16837362]),\n",
       "                 array([-0.21247137,  0.31933111,  1.27188673,  0.11972237,  1.69871394,\n",
       "                         0.11768324]),\n",
       "                 array([-0.15410982,  0.25552067,  1.29541007,  0.06576756,  1.68161091,\n",
       "                         0.06699287]),\n",
       "                 array([-0.13869883,  0.2299686 ,  1.3229487 ,  0.0591908 ,  1.67052945,\n",
       "                         0.06029358]),\n",
       "                 array([-0.12328785,  0.20441654,  1.35048732,  0.05261405,  1.65944799,\n",
       "                         0.05359429]),\n",
       "                 array([-0.10787687,  0.17886447,  1.37802595,  0.04603729,  1.64836654,\n",
       "                         0.04689501]),\n",
       "                 array([-0.09246589,  0.1533124 ,  1.40556457,  0.03946054,  1.63728508,\n",
       "                         0.04019572]),\n",
       "                 array([-0.07705491,  0.12776033,  1.4331032 ,  0.03288378,  1.62620362,\n",
       "                         0.03349643]),\n",
       "                 array([-0.06164393,  0.10220827,  1.46064182,  0.02630702,  1.61512216,\n",
       "                         0.02679715]),\n",
       "                 array([-0.04623294,  0.0766562 ,  1.48818045,  0.01973027,  1.6040407 ,\n",
       "                         0.02009786]),\n",
       "                 array([-0.03082196,  0.05110413,  1.51571908,  0.01315351,  1.59295924,\n",
       "                         0.01339857]),\n",
       "                 array([-0.01541098,  0.02555207,  1.5432577 ,  0.00657676,  1.58187779,\n",
       "                         0.00669929]),\n",
       "                 array([0.        , 0.        , 1.57079633, 0.        , 1.57079633,\n",
       "                        0.        ])])])]]"
      ]
     },
     "execution_count": 10,
     "metadata": {},
     "output_type": "execute_result"
    }
   ],
   "source": [
    "pick_all_joint_path"
   ]
  },
  {
   "cell_type": "code",
   "execution_count": 9,
   "id": "999b93fb",
   "metadata": {
    "scrolled": true
   },
   "outputs": [],
   "source": [
    "from pykin.utils.kin_utils import apply_robot_to_scene\n",
    "\n",
    "pick.scene_mngr.render.render_objects(pick.scene_mngr.scene.objs)\n",
    "# pick.scene_mngr.render.trimesh_scene = apply_robot_to_scene(\n",
    "#         trimesh_scene=pick.scene_mngr.render.trimesh_scene, \n",
    "#         robot=pick.scene_mngr.scene.robot,\n",
    "#         geom=\"visual\"\n",
    "#             )\n",
    "# pick.scene_mngr.render.set_camera_view()"
   ]
  },
  {
   "cell_type": "code",
   "execution_count": 10,
   "id": "bff2531a",
   "metadata": {},
   "outputs": [
    {
     "data": {
      "text/plain": [
       "<pytamp.scene.render.RenderTriMesh at 0x7fb49fc54400>"
      ]
     },
     "execution_count": 10,
     "metadata": {},
     "output_type": "execute_result"
    }
   ],
   "source": [
    "pick.scene_mngr.render"
   ]
  },
  {
   "cell_type": "code",
   "execution_count": 10,
   "id": "a79321ca",
   "metadata": {
    "scrolled": true
   },
   "outputs": [],
   "source": [
    "img = pick.scene_mngr.render.get_scene_img()"
   ]
  },
  {
   "cell_type": "code",
   "execution_count": 20,
   "id": "2dd073f5",
   "metadata": {},
   "outputs": [
    {
     "ename": "NameError",
     "evalue": "name 'img' is not defined",
     "output_type": "error",
     "traceback": [
      "\u001b[0;31m---------------------------------------------------------------------------\u001b[0m",
      "\u001b[0;31mNameError\u001b[0m                                 Traceback (most recent call last)",
      "Cell \u001b[0;32mIn[20], line 2\u001b[0m\n\u001b[1;32m      1\u001b[0m \u001b[38;5;28;01mimport\u001b[39;00m \u001b[38;5;21;01mmatplotlib\u001b[39;00m\u001b[38;5;21;01m.\u001b[39;00m\u001b[38;5;21;01mpyplot\u001b[39;00m \u001b[38;5;28;01mas\u001b[39;00m \u001b[38;5;21;01mplt\u001b[39;00m\n\u001b[0;32m----> 2\u001b[0m plt\u001b[38;5;241m.\u001b[39mimshow(\u001b[43mimg\u001b[49m)\n",
      "\u001b[0;31mNameError\u001b[0m: name 'img' is not defined"
     ]
    }
   ],
   "source": [
    "import matplotlib.pyplot as plt\n",
    "plt.imshow(img)"
   ]
  },
  {
   "cell_type": "code",
   "execution_count": null,
   "id": "4eaabfdc",
   "metadata": {
    "scrolled": true
   },
   "outputs": [
    {
     "name": "stdout",
     "output_type": "stream",
     "text": [
      "0 scene\n"
     ]
    }
   ],
   "source": [
    "pick.scene_mngr.render.render_objects(pick.scene_mngr.scene.objs)\n",
    "\n",
    "pick.simulate_path(\n",
    "    pick_all_joint_path,\n",
    "    pick_all_objects,\n",
    "    pick_all_object_poses,\n",
    "    is_save=True,\n",
    "    video_name=\"Pick_in_rearr_scene\",\n",
    "    gif=False,\n",
    ")"
   ]
  },
  {
   "cell_type": "code",
   "execution_count": 10,
   "id": "15c625b1",
   "metadata": {},
   "outputs": [
    {
     "name": "stdout",
     "output_type": "stream",
     "text": [
      "table \u001b[95mObject\u001b[0m(name=table, pos=[ 0.9   -0.6    0.043])\n",
      "ben_cube0 \u001b[95mObject\u001b[0m(name=ben_cube0, pos=[ 0.51224777 -0.30205152  0.84779998])\n",
      "can0 \u001b[95mObject\u001b[0m(name=can0, pos=[0.52298875 0.45872414 0.85059666])\n",
      "can1 \u001b[95mObject\u001b[0m(name=can1, pos=[0.57888044 0.07873193 0.83516771])\n",
      "milk0 \u001b[95mObject\u001b[0m(name=milk0, pos=[ 0.82293572 -0.52496244  0.83236691])\n",
      "cereal0 \u001b[95mObject\u001b[0m(name=cereal0, pos=[ 0.4360076  -0.25732616  0.86029978])\n"
     ]
    }
   ],
   "source": [
    "for i, o in pick.scene_mngr.scene.objs.items():\n",
    "    print(i,o)"
   ]
  },
  {
   "cell_type": "code",
   "execution_count": null,
   "id": "392c73cb",
   "metadata": {},
   "outputs": [],
   "source": []
  },
  {
   "cell_type": "code",
   "execution_count": null,
   "id": "2a4560ea",
   "metadata": {},
   "outputs": [],
   "source": []
  },
  {
   "cell_type": "code",
   "execution_count": null,
   "id": "4996ab45",
   "metadata": {},
   "outputs": [],
   "source": [
    "c = 3\n",
    "idx = 0\n",
    "mcts = MCTS_rearrangement(\n",
    "        scene_mngr=rearrangement1.scene_mngr,\n",
    "        init_scene=rearrangement1.init_scene,\n",
    "        sampling_method=args.algo,\n",
    "        budgets=args.budgets,\n",
    "        max_depth=args.max_depth,\n",
    "        c=c,\n",
    "        debug_mode=args.debug_mode,\n",
    "    )\n",
    "mcts.only_optimize_1 = False"
   ]
  },
  {
   "cell_type": "code",
   "execution_count": null,
   "id": "f532d8fb",
   "metadata": {},
   "outputs": [],
   "source": []
  },
  {
   "cell_type": "code",
   "execution_count": 23,
   "id": "a687d311",
   "metadata": {
    "scrolled": false
   },
   "outputs": [
    {
     "data": {
      "image/png": "[encoded data removed]",
      "text/plain": [
       "<Figure size 640x480 with 1 Axes>"
      ]
     },
     "metadata": {},
     "output_type": "display_data"
    }
   ],
   "source": [
    "import trimesh\n",
    "import pyglet\n",
    "import numpy as np\n",
    "from PIL import Image\n",
    "import io\n",
    "\n",
    "import matplotlib.pyplot as plt\n",
    "from matplotlib import animation\n",
    "\n",
    "# trimesh 객체 생성\n",
    "mesh = trimesh.creation.box()\n",
    "scene = trimesh.Scene(mesh)\n",
    "\n",
    "# 프레임 설정\n",
    "num_frames = 60  # 프레임 수\n",
    "rotations = np.linspace(0, 2 * np.pi, num_frames)  # 회전 각도 배열\n",
    "\n",
    "# 이미지 저장 및 프레임 추가\n",
    "images = []\n",
    "for rotation in rotations:\n",
    "    # 회전 변환\n",
    "    transformed_scene = scene.copy()\n",
    "    transformed_scene.apply_transform(trimesh.transformations.rotation_matrix(rotation, [0, 1, 0]))\n",
    "\n",
    "    # 이미지 저장\n",
    "    data = transformed_scene.save_image(resolution=[800, 600])\n",
    "    # byte image를 np.array로 변경 \n",
    "    image = np.array(Image.open(io.BytesIO(data))) \n",
    "    \n",
    "    images.append(image)\n",
    "\n",
    "# 동영상 만들기\n",
    "fig = plt.figure()\n",
    "ax = plt.gca()\n",
    "im = ax.imshow(images[0], cmap='gray')\n",
    "plt.axis('off')\n",
    "\n",
    "# 각 프레임 업데이트 함수\n",
    "def update_frame(frame):\n",
    "    im.set_array(images[frame])\n",
    "    return im,\n",
    "\n",
    "# 애니메이션 생성\n",
    "ani = animation.FuncAnimation(fig, update_frame, frames=num_frames, interval=50, blit=True)\n",
    "\n",
    "# 동영상 저장\n",
    "writer = animation.FFMpegWriter(fps=30)\n",
    "output_filename = 'output.mp4'\n",
    "ani.save(output_filename, writer=writer)"
   ]
  },
  {
   "cell_type": "code",
   "execution_count": 20,
   "id": "f73860b0",
   "metadata": {},
   "outputs": [
    {
     "data": {
      "text/plain": [
       "(None,)"
      ]
     },
     "execution_count": 20,
     "metadata": {},
     "output_type": "execute_result"
    }
   ],
   "source": [
    "im.set_array(images[0]),"
   ]
  }
 ],
 "metadata": {
  "kernelspec": {
   "display_name": "contact_graspnet",
   "language": "python",
   "name": "contact_graspnet"
  },
  "language_info": {
   "codemirror_mode": {
    "name": "ipython",
    "version": 3
   },
   "file_extension": ".py",
   "mimetype": "text/x-python",
   "name": "python",
   "nbconvert_exporter": "python",
   "pygments_lexer": "ipython3",
   "version": "3.8.16"
  }
 },
 "nbformat": 4,
 "nbformat_minor": 5
}
