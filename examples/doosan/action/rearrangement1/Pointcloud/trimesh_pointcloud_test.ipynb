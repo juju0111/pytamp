{
 "cells": [
  {
   "cell_type": "code",
   "execution_count": 5,
   "id": "577ca494",
   "metadata": {
    "scrolled": true
   },
   "outputs": [
    {
     "name": "stderr",
     "output_type": "stream",
     "text": [
      "usage: ipykernel_launcher.py [-h] [--budgets T] [--max_depth H] [--seed i]\n",
      "                             [--algo alg] [--debug_mode DEBUG_MODE]\n",
      "ipykernel_launcher.py: error: unrecognized arguments: -f /home/juju/.local/share/jupyter/runtime/kernel-a3945ad7-6e0d-4e32-822e-4b5f8a9dea26.json\n"
     ]
    },
    {
     "name": "stdout",
     "output_type": "stream",
     "text": [
      "*********************** \u001b[92mLogical States\u001b[0m ***********************\n",
      "OrderedDict([('ben_cube0',\n",
      "              {'on': \u001b[95mObject\u001b[0m(name=table, pos=[ 0.9   -0.6    0.043])}),\n",
      "             ('can0',\n",
      "              {'on': \u001b[95mObject\u001b[0m(name=table, pos=[ 0.9   -0.6    0.043])}),\n",
      "             ('can1',\n",
      "              {'on': \u001b[95mObject\u001b[0m(name=table, pos=[ 0.9   -0.6    0.043])}),\n",
      "             ('milk0',\n",
      "              {'on': \u001b[95mObject\u001b[0m(name=table, pos=[ 0.9   -0.6    0.043])}),\n",
      "             ('cereal0',\n",
      "              {'on': \u001b[95mObject\u001b[0m(name=table, pos=[ 0.9   -0.6    0.043])}),\n",
      "             ('table',\n",
      "              {'static': True,\n",
      "               'support': [\u001b[95mObject\u001b[0m(name=ben_cube0, pos=[0.30355822 0.00852862 0.84779998]),\n",
      "                           \u001b[95mObject\u001b[0m(name=can0, pos=[0.39698326 0.00357495 0.83501831]),\n",
      "                           \u001b[95mObject\u001b[0m(name=can1, pos=[0.76977701 0.03858527 0.83512874]),\n",
      "                           \u001b[95mObject\u001b[0m(name=milk0, pos=[ 0.48530145 -0.34550815  0.83236691]),\n",
      "                           \u001b[95mObject\u001b[0m(name=cereal0, pos=[0.43695543 0.12948806 0.88526188])]}),\n",
      "             ('robotiq140_gripper', {'holding': None})])\n",
      "***************************************************************\n",
      "\n",
      "*********************** \u001b[92mLogical States\u001b[0m ***********************\n",
      "OrderedDict([('ben_cube0',\n",
      "              {'on': \u001b[95mObject\u001b[0m(name=table, pos=[ 0.9   -0.6    0.043])}),\n",
      "             ('can0',\n",
      "              {'on': \u001b[95mObject\u001b[0m(name=table, pos=[ 0.9   -0.6    0.043])}),\n",
      "             ('can1',\n",
      "              {'on': \u001b[95mObject\u001b[0m(name=table, pos=[ 0.9   -0.6    0.043])}),\n",
      "             ('milk0',\n",
      "              {'on': \u001b[95mObject\u001b[0m(name=table, pos=[ 0.9   -0.6    0.043])}),\n",
      "             ('cereal0',\n",
      "              {'on': \u001b[95mObject\u001b[0m(name=table, pos=[ 0.9   -0.6    0.043])}),\n",
      "             ('table',\n",
      "              {'static': True,\n",
      "               'support': [\u001b[95mObject\u001b[0m(name=ben_cube0, pos=[0.5356105  0.17191691 0.84779998]),\n",
      "                           \u001b[95mObject\u001b[0m(name=can0, pos=[0.29896213 0.01771398 0.85059666]),\n",
      "                           \u001b[95mObject\u001b[0m(name=can1, pos=[ 0.4043516  -0.157966    0.85059666]),\n",
      "                           \u001b[95mObject\u001b[0m(name=milk0, pos=[ 0.44086927 -0.03354331  0.87809554]),\n",
      "                           \u001b[95mObject\u001b[0m(name=cereal0, pos=[ 0.42959145 -0.33381047  0.88526188])]}),\n",
      "             ('robotiq140_gripper', {'holding': None})])\n",
      "***************************************************************\n",
      "\n"
     ]
    }
   ],
   "source": [
    "import numpy as np\n",
    "import argparse\n",
    "import os, time\n",
    "\n",
    "from pykin.utils import plot_utils as p_utils\n",
    "\n",
    "from pytamp.benchmark import Rearrange1\n",
    "\n",
    "from pytamp.action.pick import PickAction\n",
    "from pytamp.action.rearrangement import RearrangementAction\n",
    "\n",
    "from pytamp.benchmark.rearrange1 import make_scene\n",
    "from pytamp.search.mcts_for_rearragement import MCTS_rearrangement\n",
    "from pykin.utils.kin_utils import ShellColors as sc\n",
    "from pytamp.utils.point_cloud_utils import *\n",
    "\n",
    "def get_parser():\n",
    "    parser = argparse.ArgumentParser(description=\"Test Rearragement 1.\")\n",
    "    parser.add_argument(\"--budgets\", metavar=\"T\", type=int, default=150, help=\"Horizon\")\n",
    "    parser.add_argument(\"--max_depth\", metavar=\"H\", type=int, default=20, help=\"Max depth\")\n",
    "#     parser.add_argument(\"--seed\", metavar=\"i\", type=int, default=7, help=\"A random seed\")\n",
    "    parser.add_argument(\"--seed\", metavar=\"i\", type=int, default=144, help=\"A random seed\")\n",
    "    parser.add_argument(\n",
    "        \"--algo\",\n",
    "        metavar=\"alg\",\n",
    "        type=str,\n",
    "        default=\"bai_perturb\",\n",
    "        choices=[\"bai_perturb\", \"bai_ucb\", \"uct\", \"random\", \"greedy\"],\n",
    "        help=\"Choose one (bai_perturb, bai_ucb, uct)\",\n",
    "    )\n",
    "    parser.add_argument(\n",
    "        \"--debug_mode\", default=False, type=lambda x: (str(x).lower() == \"true\"), help=\"Debug mode\"\n",
    "    )\n",
    "#     parser.add_argument(\"--box_number\", metavar=\"N\", type=int, default=6, help=\"Box Number(6 or less)\")\n",
    "    try:\n",
    "        args = parser.parse_args() #call from command line\n",
    "    except:\n",
    "        args = parser.parse_args(args=[]) #call from notebook\n",
    "    return args \n",
    "\n",
    "args = get_parser() \n",
    "\n",
    "debug_mode = args.debug_mode\n",
    "budgets = args.budgets\n",
    "max_depth = args.max_depth\n",
    "algo = args.algo\n",
    "seed = args.seed\n",
    "np.random.seed(seed)\n",
    "\n",
    "object_names, init_scene, goal_scene = make_scene()\n",
    "rearrangement1 = Rearrange1('doosan', object_names, init_scene, goal_scene, is_pyplot=False)\n",
    "\n",
    "final_level_1_values = []\n",
    "final_level_2_values = []\n",
    "final_optimal_nodes = []\n",
    "final_pnp_all_joint_paths = []\n",
    "final_pick_all_objects = []\n",
    "final_place_all_object_poses = []\n",
    "\n",
    "# final_optimal_trees = []\n",
    "c_list = 10 ** np.linspace(-2, 2.0, 10)\n"
   ]
  },
  {
   "cell_type": "code",
   "execution_count": 2,
   "id": "ecab49ab",
   "metadata": {
    "scrolled": true
   },
   "outputs": [
    {
     "name": "stdout",
     "output_type": "stream",
     "text": [
      "{'table': \u001b[95mObject\u001b[0m(name=table, pos=[ 0.9   -0.6    0.043]), 'ben_cube0': \u001b[95mObject\u001b[0m(name=ben_cube0, pos=[0.30355822 0.00852862 0.84779998]), 'can0': \u001b[95mObject\u001b[0m(name=can0, pos=[0.39698326 0.00357495 0.83501831]), 'can1': \u001b[95mObject\u001b[0m(name=can1, pos=[0.76977701 0.03858527 0.83512874]), 'milk0': \u001b[95mObject\u001b[0m(name=milk0, pos=[ 0.48530145 -0.34550815  0.83236691]), 'cereal0': \u001b[95mObject\u001b[0m(name=cereal0, pos=[0.43695543 0.12948806 0.88526188])}\n"
     ]
    },
    {
     "data": {
      "image/png": "[encoded data removed]",
      "text/plain": [
       "<Figure size 1200x800 with 1 Axes>"
      ]
     },
     "metadata": {},
     "output_type": "display_data"
    }
   ],
   "source": [
    "#######################\n",
    "fig, ax = p_utils.init_3d_figure(name=\"Rearrangement 1\")\n",
    "# init_scene\n",
    "rearrangement1.scene_mngr.render_scene(ax)\n",
    "rearrangement1.render_axis(rearrangement1.scene_mngr)\n",
    "# rearrangement1.render_axis_2(rearrangement1.scene_mngr)\n",
    "rearrangement1.scene_mngr.show()\n"
   ]
  },
  {
   "cell_type": "code",
   "execution_count": 6,
   "id": "a5a8ed4a",
   "metadata": {
    "scrolled": true
   },
   "outputs": [
    {
     "name": "stdout",
     "output_type": "stream",
     "text": [
      "table [-0.20618468  0.59472148  0.50044544] [-0.21475407  0.59472146  0.52605846] [[ 1.     0.     0.     0.9  ]\n",
      " [ 0.     1.     0.    -0.6  ]\n",
      " [ 0.     0.     1.     0.043]\n",
      " [ 0.     0.     0.     1.   ]]\n",
      "ben_cube0 [0. 0. 0.] [0. 0. 0.] [[ 0.         -0.90181322 -0.43212604  0.30355822]\n",
      " [ 0.          0.43212604 -0.90181322  0.00852862]\n",
      " [ 1.          0.          0.          0.84779998]\n",
      " [ 0.          0.          0.          1.        ]]\n",
      "can0 [ 7.37974419e-05 -2.69046060e-04  1.06250259e-03] [5.55561743e-09 1.07922916e-08 9.06032271e-09] [[-0.51161063 -0.66674519 -0.54194595  0.39698326]\n",
      " [ 0.3299154   0.42995492 -0.84041334  0.00357495]\n",
      " [ 0.79335389 -0.60876072  0.          0.83501831]\n",
      " [ 0.          0.          0.          1.        ]]\n",
      "can1 [ 7.37974419e-05 -2.69046060e-04  1.06250259e-03] [5.55561743e-09 1.07922916e-08 9.06032271e-09] [[-0.49842423  0.64955856 -0.57414891  0.76977701]\n",
      " [-0.3495199   0.45550281  0.8187509   0.03858527]\n",
      " [ 0.79335309  0.60876175  0.          0.83512874]\n",
      " [ 0.          0.          0.          1.        ]]\n",
      "milk0 [ 2.00331979e-10 -5.24675358e-12  5.42170695e-03] [ 7.17335936e-11  7.47862168e-13 -4.03771863e-08] [[ 0.60518668  0.         -0.79608359  0.48530145]\n",
      " [-0.79608359  0.         -0.60518668 -0.34550815]\n",
      " [ 0.          1.          0.          0.83236691]\n",
      " [ 0.          0.          0.          1.        ]]\n",
      "cereal0 [ 5.34733271e-08 -1.18044128e-06  2.70674297e-05] [-1.43940926e-09 -2.84355158e-10 -4.16303691e-09] [[-0.99904397  0.04371656  0.          0.43695543]\n",
      " [-0.04371656 -0.99904397  0.          0.12948806]\n",
      " [ 0.          0.          1.          0.88526188]\n",
      " [ 0.          0.          0.          1.        ]]\n"
     ]
    }
   ],
   "source": [
    "rearrangement1.scene_mngr.scene.objs\n",
    "\n",
    "for name,i in rearrangement1.scene_mngr.scene.objs.items():\n",
    "    print(name ,i.gparam.centroid, i.gparam.center_mass, i.h_mat)"
   ]
  },
  {
   "cell_type": "code",
   "execution_count": 11,
   "id": "a227d5e1",
   "metadata": {},
   "outputs": [
    {
     "data": {
      "text/plain": [
       "(array([[ 0.29978547, -0.03124647,  0.88320583],\n",
       "        [ 0.27663053,  0.03911287,  0.82074663],\n",
       "        [ 0.27692153, -0.01844133,  0.81029998],\n",
       "        ...,\n",
       "        [ 0.42008209,  0.14321756,  0.81029998],\n",
       "        [ 0.41410379,  0.11346946,  0.87990606],\n",
       "        [ 0.43582948,  0.11442014,  0.83816432]]),\n",
       " 3)"
      ]
     },
     "execution_count": 11,
     "metadata": {},
     "output_type": "execute_result"
    }
   ],
   "source": [
    "point_clouds, _"
   ]
  },
  {
   "cell_type": "code",
   "execution_count": 24,
   "id": "d03594b0",
   "metadata": {},
   "outputs": [
    {
     "name": "stdout",
     "output_type": "stream",
     "text": [
      "5000\n"
     ]
    },
    {
     "data": {
      "image/png": "[encoded data removed]",
      "text/plain": [
       "<Figure size 640x480 with 1 Axes>"
      ]
     },
     "metadata": {},
     "output_type": "display_data"
    }
   ],
   "source": [
    "%matplotlib inline\n",
    "import trimesh\n",
    "from trimesh.util import concatenate\n",
    "\n",
    "point_clouds, _ = get_obj_point_clouds(rearrangement1.init_scene,rearrangement1.scene_mngr.scene, \"milk0\")\n",
    "\n",
    "import numpy as np\n",
    "import matplotlib.pyplot as plt\n",
    "from mpl_toolkits.mplot3d import Axes3D\n",
    "print(len(point_clouds))\n",
    "\n",
    "# matplotlib으로 point cloud 시각화하기\n",
    "fig = plt.figure()\n",
    "ax = fig.add_subplot(111, projection='3d')\n",
    "ax.scatter(point_clouds[:, 0], point_clouds[:, 1], point_clouds[:, 2], c='b', marker='.')\n",
    "ax.set_xlim(-0.2,0.8)\n",
    "ax.set_ylim(-0.6,0.6)\n",
    "ax.set_zlim(0,1.3)\n",
    "\n",
    "ax.set_xlabel('X Label')\n",
    "ax.set_ylabel('Y Label')\n",
    "ax.set_zlabel('Z Label')\n",
    "\n",
    "ax.view_init(elev=0, azim=0)\n",
    "\n",
    "plt.show()\n"
   ]
  },
  {
   "cell_type": "code",
   "execution_count": 13,
   "id": "7279249a",
   "metadata": {},
   "outputs": [],
   "source": [
    "support_polys, support_T , sup_obj_name= rearrangement1.init_scene._get_support_polygons()\n",
    "\n",
    "\n",
    "# Sample support index\n",
    "support_index = max(enumerate(support_polys), key=lambda x: x[1].area)[0]"
   ]
  },
  {
   "cell_type": "code",
   "execution_count": 14,
   "id": "51b6d5b8",
   "metadata": {},
   "outputs": [],
   "source": [
    "pts = trimesh.path.polygons.sample(\n",
    "                    support_polys[support_index], count=3000\n",
    "                )\n",
    "\n",
    "# z_arr = np.full((len(pts), 1), support_T[support_index][2,3])\n",
    "z_arr = np.full((len(pts), 1), 0)\n",
    "o_arr = np.full((len(pts), 1), 1)\n",
    "\n",
    "sup_point_cloud = np.hstack((pts, z_arr))\n",
    "sup_point_cloud2 = np.hstack((sup_point_cloud, o_arr))\n",
    "\n",
    "transformed_point_cloud = sup_point_cloud + support_T[support_index][:3,3] + rearrangement1.scene_mngr.scene.objs['table'].h_mat[:3,3]"
   ]
  },
  {
   "cell_type": "code",
   "execution_count": 15,
   "id": "11ce81b5",
   "metadata": {},
   "outputs": [
    {
     "data": {
      "text/plain": [
       "array([[ 0.59912389,  0.53283368,  0.80829998],\n",
       "       [ 0.75319847,  0.18444359,  0.80829998],\n",
       "       [ 0.33218972, -0.50953486,  0.80829998],\n",
       "       ...,\n",
       "       [ 0.5255525 , -0.37498154,  0.80829998],\n",
       "       [ 0.80311619, -0.16152934,  0.80829998],\n",
       "       [ 0.44593141,  0.35115201,  0.80829998]])"
      ]
     },
     "execution_count": 15,
     "metadata": {},
     "output_type": "execute_result"
    }
   ],
   "source": [
    "transformed_point_cloud"
   ]
  },
  {
   "cell_type": "code",
   "execution_count": 16,
   "id": "dba8760c",
   "metadata": {},
   "outputs": [
    {
     "data": {
      "text/plain": [
       "(array([[-0.34087611, -0.09625731,  0.        ,  1.        ],\n",
       "        [-0.18680153, -0.4446474 ,  0.        ,  1.        ],\n",
       "        [-0.60781028, -1.13862585,  0.        ,  1.        ],\n",
       "        ...,\n",
       "        [-0.4144475 , -1.00407253,  0.        ,  1.        ],\n",
       "        [-0.13688381, -0.79062033,  0.        ,  1.        ],\n",
       "        [-0.49406859, -0.27793898,  0.        ,  1.        ]]),\n",
       " array([[1.        , 0.        , 0.        , 0.04      ],\n",
       "        [0.        , 1.        , 0.        , 1.22909099],\n",
       "        [0.        , 0.        , 1.        , 0.76529998]]))"
      ]
     },
     "execution_count": 16,
     "metadata": {},
     "output_type": "execute_result"
    }
   ],
   "source": [
    "sup_point_cloud2 , support_T[support_index][:3]"
   ]
  },
  {
   "cell_type": "code",
   "execution_count": 17,
   "id": "1f55e97a",
   "metadata": {},
   "outputs": [
    {
     "data": {
      "text/plain": [
       "array([[ 0.59912389,  0.53283368,  0.80829998],\n",
       "       [ 0.75319847,  0.18444359,  0.80829998],\n",
       "       [ 0.33218972, -0.50953486,  0.80829998],\n",
       "       ...,\n",
       "       [ 0.5255525 , -0.37498154,  0.80829998],\n",
       "       [ 0.80311619, -0.16152934,  0.80829998],\n",
       "       [ 0.44593141,  0.35115201,  0.80829998]])"
      ]
     },
     "execution_count": 17,
     "metadata": {},
     "output_type": "execute_result"
    }
   ],
   "source": [
    "(np.dot(support_T[support_index][:3], sup_point_cloud2.T).T + rearrangement1.scene_mngr.scene.objs['table'].h_mat[:3,3])"
   ]
  },
  {
   "cell_type": "code",
   "execution_count": 18,
   "id": "3cdaabc3",
   "metadata": {},
   "outputs": [
    {
     "ename": "AttributeError",
     "evalue": "'Rearrange1' object has no attribute 'get_support_space_point_cloud'",
     "output_type": "error",
     "traceback": [
      "\u001b[0;31m---------------------------------------------------------------------------\u001b[0m",
      "\u001b[0;31mAttributeError\u001b[0m                            Traceback (most recent call last)",
      "Cell \u001b[0;32mIn[18], line 1\u001b[0m\n\u001b[0;32m----> 1\u001b[0m pts \u001b[38;5;241m=\u001b[39m \u001b[43mrearrangement1\u001b[49m\u001b[38;5;241;43m.\u001b[39;49m\u001b[43mget_support_space_point_cloud\u001b[49m()\n",
      "\u001b[0;31mAttributeError\u001b[0m: 'Rearrange1' object has no attribute 'get_support_space_point_cloud'"
     ]
    }
   ],
   "source": [
    "pts = rearrangement1.get_support_space_point_cloud()"
   ]
  },
  {
   "cell_type": "code",
   "execution_count": 20,
   "id": "5ae380e8",
   "metadata": {},
   "outputs": [
    {
     "ename": "ValueError",
     "evalue": "all the input array dimensions for the concatenation axis must match exactly, but along dimension 1, the array at index 0 has size 3 and the array at index 1 has size 2",
     "output_type": "error",
     "traceback": [
      "\u001b[0;31m---------------------------------------------------------------------------\u001b[0m",
      "\u001b[0;31mValueError\u001b[0m                                Traceback (most recent call last)",
      "Cell \u001b[0;32mIn[20], line 1\u001b[0m\n\u001b[0;32m----> 1\u001b[0m point_clouds \u001b[38;5;241m=\u001b[39m \u001b[43mnp\u001b[49m\u001b[38;5;241;43m.\u001b[39;49m\u001b[43mvstack\u001b[49m\u001b[43m(\u001b[49m\u001b[43m(\u001b[49m\u001b[43mpoint_clouds\u001b[49m\u001b[43m,\u001b[49m\u001b[43m \u001b[49m\u001b[43mpts\u001b[49m\u001b[43m)\u001b[49m\u001b[43m)\u001b[49m\n",
      "File \u001b[0;32m<__array_function__ internals>:5\u001b[0m, in \u001b[0;36mvstack\u001b[0;34m(*args, **kwargs)\u001b[0m\n",
      "File \u001b[0;32m~/anaconda3/envs/contact_graspnet/lib/python3.8/site-packages/numpy/core/shape_base.py:283\u001b[0m, in \u001b[0;36mvstack\u001b[0;34m(tup)\u001b[0m\n\u001b[1;32m    281\u001b[0m \u001b[38;5;28;01mif\u001b[39;00m \u001b[38;5;129;01mnot\u001b[39;00m \u001b[38;5;28misinstance\u001b[39m(arrs, \u001b[38;5;28mlist\u001b[39m):\n\u001b[1;32m    282\u001b[0m     arrs \u001b[38;5;241m=\u001b[39m [arrs]\n\u001b[0;32m--> 283\u001b[0m \u001b[38;5;28;01mreturn\u001b[39;00m \u001b[43m_nx\u001b[49m\u001b[38;5;241;43m.\u001b[39;49m\u001b[43mconcatenate\u001b[49m\u001b[43m(\u001b[49m\u001b[43marrs\u001b[49m\u001b[43m,\u001b[49m\u001b[43m \u001b[49m\u001b[38;5;241;43m0\u001b[39;49m\u001b[43m)\u001b[49m\n",
      "File \u001b[0;32m<__array_function__ internals>:5\u001b[0m, in \u001b[0;36mconcatenate\u001b[0;34m(*args, **kwargs)\u001b[0m\n",
      "\u001b[0;31mValueError\u001b[0m: all the input array dimensions for the concatenation axis must match exactly, but along dimension 1, the array at index 0 has size 3 and the array at index 1 has size 2"
     ]
    }
   ],
   "source": [
    "point_clouds = np.vstack((point_clouds, pts))"
   ]
  },
  {
   "cell_type": "code",
   "execution_count": 21,
   "id": "d44239cd",
   "metadata": {},
   "outputs": [
    {
     "name": "stdout",
     "output_type": "stream",
     "text": [
      "5000\n"
     ]
    },
    {
     "data": {
      "image/png": "[encoded data removed]",
      "text/plain": [
       "<Figure size 640x480 with 1 Axes>"
      ]
     },
     "metadata": {},
     "output_type": "display_data"
    }
   ],
   "source": [
    "import numpy as np\n",
    "import matplotlib.pyplot as plt\n",
    "from mpl_toolkits.mplot3d import Axes3D\n",
    "print(len(point_clouds))\n",
    "\n",
    "# matplotlib으로 point cloud 시각화하기\n",
    "fig = plt.figure()\n",
    "ax = fig.add_subplot(111, projection='3d')\n",
    "ax.scatter(point_clouds[:, 0], point_clouds[:, 1], point_clouds[:, 2], c='b', marker='.')\n",
    "ax.set_xlim(-0.,0.8)\n",
    "ax.set_ylim(-.6,0.6)\n",
    "ax.set_zlim(0.5,1.3)\n",
    "\n",
    "ax.set_xlabel('X Label')\n",
    "ax.set_ylabel('Y Label')\n",
    "ax.set_zlabel('Z Label')\n",
    "\n",
    "ax.view_init(elev=0, azim=0)\n",
    "\n",
    "plt.show()\n"
   ]
  },
  {
   "cell_type": "markdown",
   "id": "ef461e58",
   "metadata": {},
   "source": [
    "## sd "
   ]
  },
  {
   "cell_type": "code",
   "execution_count": 38,
   "id": "db2d0ad8",
   "metadata": {},
   "outputs": [],
   "source": [
    "obj_name = 'table'\n",
    "from copy import deepcopy\n",
    "support_obj = rearrangement1.scene_mngr.scene.objs[obj_name]\n",
    "copied_mesh = deepcopy(support_obj.gparam)\n",
    "copied_mesh.apply_transform(support_obj.h_mat)\n",
    "center_point = copied_mesh.center_mass"
   ]
  },
  {
   "cell_type": "code",
   "execution_count": 52,
   "id": "4100d3b6",
   "metadata": {},
   "outputs": [],
   "source": [
    "min_area=0.01\n",
    "gravity=np.array([0, 0, -1.0])\n",
    "erosion_distance=0.02\n",
    "\n",
    "support_polygons = []\n",
    "support_polygons_T = []\n",
    "\n",
    "support_facet_indices = np.argsort(copied_mesh.facets_area)\n",
    "\n",
    "support_facet_indices = [\n",
    "    idx\n",
    "    for idx in support_facet_indices\n",
    "    if np.isclose(copied_mesh.facets_normal[idx].dot(-gravity), 1.0, atol=0.5)\n",
    "    and copied_mesh.facets_area[idx] > min_area\n",
    "]\n",
    "\n",
    "for inds in support_facet_indices:\n",
    "    index = inds\n",
    "    normal = copied_mesh.facets_normal[index]\n",
    "    origin = copied_mesh.facets_origin[index]\n",
    "    \n",
    "    T = trimesh.geometry.plane_transform(origin, normal)\n",
    "    vertices = trimesh.transform_points(copied_mesh.vertices, T)[:, :2]\n",
    "    \n",
    "    # find boundary edges for the facet\n",
    "    edges = copied_mesh.edges_sorted.reshape((-1, 6))[\n",
    "        copied_mesh.facets[index]\n",
    "    ].reshape((-1, 2))\n",
    "    group = trimesh.grouping.group_rows(edges, require_count=1)\n",
    "\n",
    "    # run the polygon conversion\n",
    "    polygon = trimesh.path.polygons.edges_to_polygons(\n",
    "        edges=edges[group], vertices=vertices\n",
    "    )\n",
    "\n",
    "    assert len(polygon) == 1\n",
    "\n",
    "    # erode to avoid object on edges\n",
    "    polygon[0] = polygon[0].buffer(-erosion_distance)\n",
    "\n",
    "    if not polygon[0].is_empty and polygon[0].area > min_area:\n",
    "        support_polygons.append(polygon[0])\n",
    "        support_polygons_T.append(trimesh.transformations.inverse_matrix(T))\n",
    "        \n"
   ]
  },
  {
   "cell_type": "code",
   "execution_count": 56,
   "id": "f804b8fb",
   "metadata": {},
   "outputs": [
    {
     "data": {
      "text/plain": [
       "(-0.3399999924004078, -0.6343694943934679)"
      ]
     },
     "execution_count": 56,
     "metadata": {},
     "output_type": "execute_result"
    }
   ],
   "source": [
    "support_polygons[1].centroid.x, support_polygons[1].centroid.y"
   ]
  },
  {
   "cell_type": "code",
   "execution_count": 26,
   "id": "caaa6b80",
   "metadata": {},
   "outputs": [
    {
     "ename": "AttributeError",
     "evalue": "'Polygon' object has no attribute 'sample'",
     "output_type": "error",
     "traceback": [
      "\u001b[0;31m---------------------------------------------------------------------------\u001b[0m",
      "\u001b[0;31mAttributeError\u001b[0m                            Traceback (most recent call last)",
      "Cell \u001b[0;32mIn[26], line 1\u001b[0m\n\u001b[0;32m----> 1\u001b[0m \u001b[43msupport_polys\u001b[49m\u001b[43m[\u001b[49m\u001b[38;5;241;43m1\u001b[39;49m\u001b[43m]\u001b[49m\u001b[38;5;241;43m.\u001b[39;49m\u001b[43msample\u001b[49m(\u001b[38;5;241m100\u001b[39m)\n",
      "\u001b[0;31mAttributeError\u001b[0m: 'Polygon' object has no attribute 'sample'"
     ]
    }
   ],
   "source": [
    "support_polys, support_T , sup_obj_name= rearrangement1.init_scene._get_support_polygons()\n",
    "\n",
    "\n",
    "# Sample support index\n",
    "support_index = max(enumerate(support_polys), key=lambda x: x[1].area)[0]"
   ]
  },
  {
   "cell_type": "code",
   "execution_count": 20,
   "id": "4a62f6bc",
   "metadata": {},
   "outputs": [
    {
     "data": {
      "text/plain": [
       "array([-0.21475407,  0.59472146,  0.52605846])"
      ]
     },
     "execution_count": 20,
     "metadata": {},
     "output_type": "execute_result"
    }
   ],
   "source": [
    "rearrangement1.init_scene._objects['table'].center_mass"
   ]
  },
  {
   "cell_type": "code",
   "execution_count": null,
   "id": "3052d805",
   "metadata": {},
   "outputs": [],
   "source": [
    "def get_sup_polygons(min_area=0.01, \n",
    "                     gravity=np.array([0, 0, -1.0]), \n",
    "                     erosion_distance=0.02\n",
    "    ):\n",
    "    assert np.isclose(np.linalg.norm(gravity), 1.0)\n",
    "\n",
    "    support_polygons = []\n",
    "    support_polygons_T = []\n",
    "    # Add support plane if it is set (although not infinite)\n",
    "    support_meshes = self._support_objects\n",
    "\n",
    "    for obj_name, obj_mesh in support_meshes.items():\n",
    "        # get all facets that are aligned with -gravity and bigger than min_area\n",
    "        support_facet_indices = np.argsort(obj_mesh.facets_area)\n",
    "        support_facet_indices = [\n",
    "            idx\n",
    "            for idx in support_facet_indices\n",
    "            if np.isclose(obj_mesh.facets_normal[idx].dot(-gravity), 1.0, atol=0.5)\n",
    "            and obj_mesh.facets_area[idx] > min_area\n",
    "        ]"
   ]
  },
  {
   "cell_type": "markdown",
   "id": "2063198c",
   "metadata": {},
   "source": [
    "## sd "
   ]
  },
  {
   "cell_type": "code",
   "execution_count": 6,
   "id": "5dda185c",
   "metadata": {},
   "outputs": [
    {
     "data": {
      "text/plain": [
       "[]"
      ]
     },
     "execution_count": 6,
     "metadata": {},
     "output_type": "execute_result"
    }
   ],
   "source": [
    "import numpy as np\n",
    "from trimesh.util import concatenate\n",
    "\n",
    "# 비어있는 TrackedArray 생성\n",
    "tracked_arr = concatenate([])\n",
    "tracked_arr"
   ]
  },
  {
   "cell_type": "code",
   "execution_count": null,
   "id": "ea615622",
   "metadata": {},
   "outputs": [],
   "source": []
  },
  {
   "cell_type": "code",
   "execution_count": 133,
   "id": "8d7cf46e",
   "metadata": {},
   "outputs": [],
   "source": [
    "matrix = np.eye(4).reshape(1, 4, 4) * np.ones((10000, 1, 1))\n",
    "matrix[:,:3,-1] = points"
   ]
  },
  {
   "cell_type": "code",
   "execution_count": 141,
   "id": "f93a0781",
   "metadata": {},
   "outputs": [],
   "source": [
    "can_point_cloud_in_scene = can.h_mat @ matrix"
   ]
  },
  {
   "cell_type": "code",
   "execution_count": 143,
   "id": "044fa3e3",
   "metadata": {},
   "outputs": [
    {
     "data": {
      "text/plain": [
       "(array([   0,    1,    2, ..., 9997, 9998, 9999]),)"
      ]
     },
     "execution_count": 143,
     "metadata": {},
     "output_type": "execute_result"
    }
   ],
   "source": [
    "np.where(can_point_cloud_in_scene[:,2,3])"
   ]
  },
  {
   "cell_type": "code",
   "execution_count": 145,
   "id": "9c7af4fd",
   "metadata": {},
   "outputs": [],
   "source": [
    "support_polys, support_T , sup_obj_name= rearrangement1.init_scene._get_support_polygons()\n",
    "support_index = max(enumerate(support_polys), key=lambda x: x[1].area)[0]\n",
    "\n",
    "\n",
    "support_polys[support_index].centroid.x, support_polys[support_index].centroid.y \n",
    "\n",
    "table_center = support_T[support_index][:3,3]"
   ]
  },
  {
   "cell_type": "code",
   "execution_count": 171,
   "id": "6a658621",
   "metadata": {},
   "outputs": [
    {
     "data": {
      "text/plain": [
       "array([5.55561743e-09, 1.07922916e-08, 9.06032271e-09])"
      ]
     },
     "execution_count": 171,
     "metadata": {},
     "output_type": "execute_result"
    }
   ],
   "source": [
    "rearrangement1.scene_mngr.scene.objs['can0'].gparam.center_mass"
   ]
  },
  {
   "cell_type": "code",
   "execution_count": 176,
   "id": "89faf4ce",
   "metadata": {
    "scrolled": true
   },
   "outputs": [
    {
     "data": {
      "text/plain": [
       "TrackedArray([[ 0.41946963,  0.02725972,  0.81103323],\n",
       "              [ 0.40088323,  0.04788476,  0.83349189],\n",
       "              [ 0.38965373, -0.00497945,  0.85987223],\n",
       "              [ 0.3944567 , -0.03766178,  0.83283635],\n",
       "              [ 0.40483131, -0.01615992,  0.81726176],\n",
       "              [ 0.38258589,  0.02394446,  0.82590808],\n",
       "              [ 0.39890045, -0.01984092,  0.85548574],\n",
       "              [ 0.40507221,  0.01745926,  0.81029998],\n",
       "              [ 0.43843453,  0.02212502,  0.83859324],\n",
       "              [ 0.42005985,  0.03198486,  0.85969224],\n",
       "              [ 0.36517251, -0.01425586,  0.8171664 ],\n",
       "              [ 0.40400739,  0.04676585,  0.85037547],\n",
       "              [ 0.36444992, -0.01831171,  0.84927772],\n",
       "              [ 0.4017177 ,  0.04475045,  0.83462083],\n",
       "              [ 0.41318636,  0.03735481,  0.83456153],\n",
       "              [ 0.4337181 ,  0.02703328,  0.82226535],\n",
       "              [ 0.4317417 ,  0.02538928,  0.82989973],\n",
       "              [ 0.38206844,  0.02356586,  0.82676531],\n",
       "              [ 0.42973487,  0.01546359,  0.82192082],\n",
       "              [ 0.37863267, -0.00890982,  0.85841052],\n",
       "              [ 0.35935789, -0.01107814,  0.82792627],\n",
       "              [ 0.37059556, -0.00997291,  0.85510606],\n",
       "              [ 0.39550153, -0.0039688 ,  0.85987223],\n",
       "              [ 0.3573833 , -0.01221359,  0.83322252],\n",
       "              [ 0.43325237,  0.0144345 ,  0.83087988],\n",
       "              [ 0.39458554,  0.02619841,  0.85542856],\n",
       "              [ 0.40599313, -0.0077805 ,  0.8558179 ],\n",
       "              [ 0.39503394, -0.00900976,  0.81079744],\n",
       "              [ 0.42004217,  0.0329338 ,  0.8197259 ],\n",
       "              [ 0.41107609,  0.03997466,  0.85691043],\n",
       "              [ 0.41492261, -0.01343959,  0.82976654],\n",
       "              [ 0.42650262,  0.02876774,  0.84870529],\n",
       "              [ 0.38801587, -0.03397153,  0.85242914],\n",
       "              [ 0.4114835 ,  0.02503367,  0.81029998],\n",
       "              [ 0.42590362,  0.00915005,  0.82227029],\n",
       "              [ 0.42430843,  0.0156343 ,  0.85377238],\n",
       "              [ 0.37197571, -0.01570655,  0.81260251],\n",
       "              [ 0.39254305,  0.02395582,  0.81503301],\n",
       "              [ 0.40586536,  0.04535478,  0.85260479],\n",
       "              [ 0.37244079, -0.02609064,  0.85377756],\n",
       "              [ 0.36670336, -0.02239082,  0.83343476],\n",
       "              [ 0.39627826,  0.04147773,  0.84794566],\n",
       "              [ 0.36282011, -0.02102974,  0.84944272],\n",
       "              [ 0.39172754,  0.01778288,  0.81349726],\n",
       "              [ 0.40388686,  0.04335165,  0.83620456],\n",
       "              [ 0.40186144,  0.04465776,  0.83948983],\n",
       "              [ 0.43525875,  0.02421544,  0.82650374],\n",
       "              [ 0.39181359, -0.03735876,  0.84079661],\n",
       "              [ 0.37894893,  0.01778427,  0.82521125],\n",
       "              [ 0.3849196 , -0.03219383,  0.85828576],\n",
       "              [ 0.41871338,  0.03379068,  0.81873528],\n",
       "              [ 0.4029551 , -0.01990958,  0.85245514],\n",
       "              [ 0.3702717 , -0.02644253,  0.8151996 ],\n",
       "              [ 0.37333929,  0.01252989,  0.83419838],\n",
       "              [ 0.39935069, -0.02787861,  0.81900666],\n",
       "              [ 0.39058199, -0.03516315,  0.82518062],\n",
       "              [ 0.40444559, -0.01333355,  0.81540586],\n",
       "              [ 0.37665265,  0.01429233,  0.82527601],\n",
       "              [ 0.38741736, -0.0369926 ,  0.85131761],\n",
       "              [ 0.38265033, -0.00600867,  0.85889396],\n",
       "              [ 0.3950794 ,  0.04404924,  0.82738597],\n",
       "              [ 0.4178976 , -0.00806025,  0.82821741],\n",
       "              [ 0.41318741,  0.03735413,  0.84988485],\n",
       "              [ 0.40309352,  0.04094397,  0.81522926],\n",
       "              [ 0.43239423,  0.02496849,  0.83174025],\n",
       "              [ 0.39976783,  0.04029907,  0.85251436],\n",
       "              [ 0.42089453,  0.03238415,  0.81668024],\n",
       "              [ 0.36781433, -0.00682146,  0.81897523],\n",
       "              [ 0.38823902,  0.03258914,  0.84451051],\n",
       "              [ 0.3897836 , -0.03727426,  0.83838847],\n",
       "              [ 0.39391606,  0.04340911,  0.84043226],\n",
       "              [ 0.4146148 , -0.00329866,  0.8516584 ],\n",
       "              [ 0.40064609,  0.00599532,  0.81029998],\n",
       "              [ 0.39172645, -0.0399885 ,  0.82213504],\n",
       "              [ 0.39725475, -0.00266965,  0.85979536],\n",
       "              [ 0.42968366,  0.00843412,  0.83471353],\n",
       "              [ 0.40478971, -0.03016974,  0.83363662],\n",
       "              [ 0.39149034, -0.03674806,  0.82920769],\n",
       "              [ 0.36461171, -0.01841604,  0.84924339],\n",
       "              [ 0.37409605, -0.02584507,  0.85884155],\n",
       "              [ 0.4125157 , -0.01408931,  0.84557562],\n",
       "              [ 0.39189188,  0.03179883,  0.85050197],\n",
       "              [ 0.38685889,  0.0231306 ,  0.8509699 ],\n",
       "              [ 0.38347074, -0.01119303,  0.81034065],\n",
       "              [ 0.38835994, -0.0363562 ,  0.82596789],\n",
       "              [ 0.38169701,  0.006809  ,  0.81493054],\n",
       "              [ 0.36325123, -0.02191534,  0.85030827],\n",
       "              [ 0.40741696, -0.02607687,  0.83178512],\n",
       "              [ 0.41581876,  0.03565729,  0.82367371],\n",
       "              [ 0.38500836, -0.03419492,  0.82525362],\n",
       "              [ 0.38058163, -0.03195976,  0.85583152],\n",
       "              [ 0.41862209,  0.03384954,  0.834936  ],\n",
       "              [ 0.37211106,  0.00799833,  0.84366235],\n",
       "              [ 0.35739881, -0.01814136,  0.84234239],\n",
       "              [ 0.40182307, -0.01038542,  0.81314602],\n",
       "              [ 0.37237572, -0.02604868,  0.8539989 ],\n",
       "              [ 0.41462879, -0.01491196,  0.83336541],\n",
       "              [ 0.38088366, -0.02733054,  0.84036267],\n",
       "              [ 0.40225973, -0.02792049,  0.82265062],\n",
       "              [ 0.39211798, -0.03677697,  0.81775064]])"
      ]
     },
     "execution_count": 176,
     "metadata": {},
     "output_type": "execute_result"
    }
   ],
   "source": [
    "from copy import deepcopy\n",
    "obj_name = 'can0'\n",
    "copied_mesh = rearrangement1.scene_mngr.scene.objs[obj_name].gparam\n",
    "copied_mesh.apply_translation(-copied_mesh.center_mass)\n",
    "copied_mesh.apply_transform(rearrangement1.scene_mngr.scene.objs[obj_name].h_mat)\n",
    "\n",
    "copied_mesh.sample(100)"
   ]
  },
  {
   "cell_type": "code",
   "execution_count": 178,
   "id": "5a66c28b",
   "metadata": {},
   "outputs": [
    {
     "data": {
      "text/plain": [
       "array([0.39698325, 0.00357495, 0.83501823])"
      ]
     },
     "execution_count": 178,
     "metadata": {},
     "output_type": "execute_result"
    }
   ],
   "source": [
    "rearrangement1.scene_mngr.scene.objs[obj_name].gparam.center_mass"
   ]
  }
 ],
 "metadata": {
  "kernelspec": {
   "display_name": "contact_graspnet",
   "language": "python",
   "name": "contact_graspnet"
  },
  "language_info": {
   "codemirror_mode": {
    "name": "ipython",
    "version": 3
   },
   "file_extension": ".py",
   "mimetype": "text/x-python",
   "name": "python",
   "nbconvert_exporter": "python",
   "pygments_lexer": "ipython3",
   "version": "3.8.16"
  }
 },
 "nbformat": 4,
 "nbformat_minor": 5
}
