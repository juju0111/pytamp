{
 "cells": [
  {
   "cell_type": "code",
   "execution_count": 1,
   "id": "30835fd6",
   "metadata": {
    "scrolled": true
   },
   "outputs": [
    {
     "name": "stderr",
     "output_type": "stream",
     "text": [
      "2023-08-04 21:16:32.967632: I tensorflow/stream_executor/platform/default/dso_loader.cc:53] Successfully opened dynamic library libcudart.so.11.0\n",
      "usage: ipykernel_launcher.py [-h] [--budgets T] [--max_depth H] [--seed i]\n",
      "                             [--algo alg] [--debug_mode DEBUG_MODE]\n",
      "ipykernel_launcher.py: error: unrecognized arguments: -f /home/juju/.local/share/jupyter/runtime/kernel-febcd94a-d83a-41a4-b1be-6f34d75052d7.json\n"
     ]
    },
    {
     "name": "stdout",
     "output_type": "stream",
     "text": [
      "*********************** \u001b[92mLogical States\u001b[0m ***********************\n",
      "OrderedDict([('ben_cube0',\n",
      "              {'on': \u001b[95mObject\u001b[0m(name=table, pos=[ 0.9   -0.6    0.043])}),\n",
      "             ('bottle0',\n",
      "              {'on': \u001b[95mObject\u001b[0m(name=table, pos=[ 0.9   -0.6    0.043])}),\n",
      "             ('can0',\n",
      "              {'on': \u001b[95mObject\u001b[0m(name=table, pos=[ 0.9   -0.6    0.043])}),\n",
      "             ('cereal0',\n",
      "              {'on': \u001b[95mObject\u001b[0m(name=table, pos=[ 0.9   -0.6    0.043])}),\n",
      "             ('table',\n",
      "              {'static': True,\n",
      "               'support': [\u001b[95mObject\u001b[0m(name=ben_cube0, pos=[ 0.55993829 -0.00222162  0.83529998]),\n",
      "                           \u001b[95mObject\u001b[0m(name=bottle0, pos=[ 0.68867991 -0.10153264  0.87515735]),\n",
      "                           \u001b[95mObject\u001b[0m(name=can0, pos=[0.63874014 0.27988355 0.85059666]),\n",
      "                           \u001b[95mObject\u001b[0m(name=cereal0, pos=[ 0.42131868 -0.18766674  0.88526188])]}),\n",
      "             ('panda_gripper', {'holding': None})])\n",
      "***************************************************************\n",
      "\n",
      "*********************** \u001b[92mLogical States\u001b[0m ***********************\n",
      "OrderedDict([('ben_cube0',\n",
      "              {'on': \u001b[95mObject\u001b[0m(name=table, pos=[ 0.9   -0.6    0.043])}),\n",
      "             ('bottle0',\n",
      "              {'on': \u001b[95mObject\u001b[0m(name=table, pos=[ 0.9   -0.6    0.043])}),\n",
      "             ('can0',\n",
      "              {'on': \u001b[95mObject\u001b[0m(name=table, pos=[ 0.9   -0.6    0.043])}),\n",
      "             ('cereal0',\n",
      "              {'on': \u001b[95mObject\u001b[0m(name=table, pos=[ 0.9   -0.6    0.043])}),\n",
      "             ('table',\n",
      "              {'static': True,\n",
      "               'support': [\u001b[95mObject\u001b[0m(name=ben_cube0, pos=[ 0.47189415 -0.22862241  0.83529998]),\n",
      "                           \u001b[95mObject\u001b[0m(name=bottle0, pos=[ 0.40412951 -0.10179989  0.87515735]),\n",
      "                           \u001b[95mObject\u001b[0m(name=can0, pos=[ 0.6645213  -0.10141758  0.85059666]),\n",
      "                           \u001b[95mObject\u001b[0m(name=cereal0, pos=[0.42014769 0.00883087 0.88526188])]}),\n",
      "             ('panda_gripper', {'holding': None})])\n",
      "***************************************************************\n",
      "\n"
     ]
    }
   ],
   "source": [
    "import numpy as np\n",
    "import argparse\n",
    "import os, time\n",
    "\n",
    "from pykin.utils import plot_utils as p_utils\n",
    "\n",
    "from pytamp.benchmark import Rearrange1\n",
    "from pytamp.benchmark.rearrange1 import make_scene\n",
    "from pytamp.search.mcts_for_rearragement import MCTS_rearrangement\n",
    "from pytamp.utils import point_cloud_utils as pc_utils\n",
    "\n",
    "def get_parser():\n",
    "    parser = argparse.ArgumentParser(description=\"Test Rearragement 1.\")\n",
    "    parser.add_argument(\"--budgets\", metavar=\"T\", type=int, default=30, help=\"Horizon\")\n",
    "    parser.add_argument(\"--max_depth\", metavar=\"H\", type=int, default=16, help=\"Max depth\")\n",
    "#     parser.add_argument(\"--seed\", metavar=\"i\", type=int, default=7, help=\"A random seed\")\n",
    "#     parser.add_argument(\"--seed\", metavar=\"i\", type=int, default=17, help=\"A random seed\")\n",
    "    parser.add_argument(\"--seed\", metavar=\"i\", type=int, default=22, help=\"A random seed\")\n",
    "    parser.add_argument(\n",
    "        \"--algo\",\n",
    "        metavar=\"alg\",\n",
    "        type=str,\n",
    "        default=\"bai_perturb\",\n",
    "        choices=[\"bai_perturb\", \"bai_ucb\", \"uct\", \"random\", \"greedy\"],\n",
    "        help=\"Choose one (bai_perturb, bai_ucb, uct)\",\n",
    "    )\n",
    "    parser.add_argument(\n",
    "        \"--debug_mode\", default=False, type=lambda x: (str(x).lower() == \"true\"), help=\"Debug mode\"\n",
    "    )\n",
    "#     parser.add_argument(\"--box_number\", metavar=\"N\", type=int, default=6, help=\"Box Number(6 or less)\")\n",
    "    try:\n",
    "        args = parser.parse_args() #call from command line\n",
    "    except:\n",
    "        args = parser.parse_args(args=[]) #call from notebook\n",
    "    return args \n",
    "\n",
    "args = get_parser() \n",
    "\n",
    "debug_mode = args.debug_mode\n",
    "# debug_mode = True\n",
    "budgets = args.budgets\n",
    "max_depth = args.max_depth\n",
    "algo = args.algo\n",
    "seed = args.seed\n",
    "np.random.seed(seed)\n",
    "\n",
    "object_names, init_scene, goal_scene = make_scene()\n",
    "rearrangement1 = Rearrange1('panda', object_names, init_scene, goal_scene, is_pyplot=False)\n",
    "\n",
    "final_level_1_values = []\n",
    "final_level_2_values = []\n",
    "final_optimal_nodes = []\n",
    "final_pnp_all_joint_paths = []\n",
    "final_pick_all_objects = []\n",
    "final_place_all_object_poses = []\n",
    "\n",
    "# final_optimal_trees = []\n",
    "c_list = 10 ** np.linspace(-2, 2.0, 10)\n"
   ]
  },
  {
   "cell_type": "code",
   "execution_count": 2,
   "id": "97474979",
   "metadata": {},
   "outputs": [
    {
     "name": "stdout",
     "output_type": "stream",
     "text": [
      "{'table': \u001b[95mObject\u001b[0m(name=table, pos=[ 0.9   -0.6    0.043]), 'ben_cube0': \u001b[95mObject\u001b[0m(name=ben_cube0, pos=[0.39587317 0.03565069 0.83529998]), 'bottle0': \u001b[95mObject\u001b[0m(name=bottle0, pos=[ 0.62089307 -0.32701184  0.87515735]), 'can0': \u001b[95mObject\u001b[0m(name=can0, pos=[ 0.45938771 -0.22735796  0.85059666]), 'cereal0': \u001b[95mObject\u001b[0m(name=cereal0, pos=[ 0.57663268 -0.00691541  0.88526188])}\n",
      "{'table': \u001b[95mObject\u001b[0m(name=table, pos=[ 0.9   -0.6    0.043]), 'ben_cube0': \u001b[95mObject\u001b[0m(name=ben_cube0, pos=[ 0.55190957 -0.03581815  0.83529998]), 'bottle0': \u001b[95mObject\u001b[0m(name=bottle0, pos=[ 0.41998304 -0.12788834  0.87515735]), 'can0': \u001b[95mObject\u001b[0m(name=can0, pos=[ 0.39348095 -0.01815785  0.85059666]), 'cereal0': \u001b[95mObject\u001b[0m(name=cereal0, pos=[ 0.52829008 -0.30755704  0.88526188])}\n"
     ]
    },
    {
     "data": {
      "image/png": "[encoded data removed]",
      "text/plain": [
       "<Figure size 1200x800 with 1 Axes>"
      ]
     },
     "metadata": {},
     "output_type": "display_data"
    }
   ],
   "source": [
    "# #######################\n",
    "fig, ax = p_utils.init_3d_figure(name=\"Rearrangement 1\")\n",
    "# init_scene\n",
    "rearrangement1.scene_mngr.render_scene(ax)\n",
    "rearrangement1.render_axis(rearrangement1.scene_mngr)\n",
    "rearrangement1.scene_mngr.show()\n",
    "\n",
    "# goal_scene\n",
    "rearrangement1.goal_scene_mngr.render_scene(ax)\n",
    "rearrangement1.render_axis(rearrangement1.goal_scene_mngr)\n",
    "rearrangement1.goal_scene_mngr.show()"
   ]
  },
  {
   "cell_type": "code",
   "execution_count": 2,
   "id": "828caf6e",
   "metadata": {
    "scrolled": true
   },
   "outputs": [],
   "source": [
    "c = 2.5\n",
    "idx = 0\n",
    "mcts = MCTS_rearrangement(\n",
    "        scene_mngr=rearrangement1.scene_mngr,\n",
    "        init_scene=rearrangement1.init_scene,\n",
    "        sampling_method=args.algo,\n",
    "        budgets=args.budgets,\n",
    "        max_depth=args.max_depth,\n",
    "        c=c,\n",
    "        debug_mode=False,\n",
    "        use_pick_action=True,\n",
    "        consider_next_scene=True, \n",
    "    )\n",
    "mcts.only_optimize_1 = False"
   ]
  },
  {
   "cell_type": "code",
   "execution_count": null,
   "id": "b358eaf8",
   "metadata": {
    "scrolled": true
   },
   "outputs": [
    {
     "name": "stdout",
     "output_type": "stream",
     "text": [
      "\n",
      "[1/10] Benchmark: 0, Algo: bai_perturb, C: 2.5, Seed: 22\n",
      "\u001b[95m=========== Search iteration : 1 ===========\u001b[0m\n",
      "\u001b[95m[Reward]\u001b[0m S(0) -> A(2) -> S'(5) Reward : \u001b[4m0\u001b[0m\n",
      "\u001b[0;33m[Action]\u001b[0m \u001b[92mRearr bottle0\u001b[0m\n",
      "\u001b[0;34mplaced another place not goal\u001b[0m\n",
      "\u001b[95m[Reward]\u001b[0m S(5) -> A(6) -> S'(7) Reward : \u001b[4m-1\u001b[0m\n",
      "\u001b[95m[Reward]\u001b[0m S(7) -> A(9) -> S'(14) Reward : \u001b[4m0\u001b[0m\n",
      "\u001b[0;33m[Action]\u001b[0m \u001b[92mRearr can0\u001b[0m\n",
      "\u001b[0;36mGood Action\u001b[0m\n",
      "\u001b[95m[Reward]\u001b[0m S(14) -> A(16) -> S'(17) Reward : \u001b[4m2.857\u001b[0m\n",
      "\u001b[95m[Reward]\u001b[0m S(17) -> A(20) -> S'(22) Reward : \u001b[4m0\u001b[0m\n",
      "\u001b[0;33m[Action]\u001b[0m \u001b[92mRearr cereal0\u001b[0m\n",
      "\u001b[0;34mplaced another place not goal\u001b[0m\n",
      "\u001b[95m[Reward]\u001b[0m S(22) -> A(24) -> S'(26) Reward : \u001b[4m-1\u001b[0m\n",
      "\u001b[95m[Reward]\u001b[0m S(26) -> A(27) -> S'(32) Reward : \u001b[4m0\u001b[0m\n",
      "\u001b[0;33m[Action]\u001b[0m \u001b[92mRearr ben_cube0\u001b[0m\n",
      "\u001b[0;36mGood Action\u001b[0m\n",
      "\u001b[95m[Reward]\u001b[0m S(32) -> A(33) -> S'(34) Reward : \u001b[4m1.818\u001b[0m\n",
      "\u001b[95m[Reward]\u001b[0m S(34) -> A(37) -> S'(38) Reward : \u001b[4m0\u001b[0m\n",
      "\u001b[0;33m[Action]\u001b[0m \u001b[92mRearr cereal0\u001b[0m\n",
      "\u001b[0;34mplaced another place not goal\u001b[0m\n",
      "\u001b[95m[Reward]\u001b[0m S(38) -> A(41) -> S'(43) Reward : \u001b[4m-1\u001b[0m\n",
      "\u001b[95m[Reward]\u001b[0m S(43) -> A(46) -> S'(47) Reward : \u001b[4m0\u001b[0m\n",
      "\u001b[0;33m[Action]\u001b[0m \u001b[92mRearr can0\u001b[0m\n",
      "\u001b[91mBad Action\u001b[0m\n",
      "\u001b[95m[Reward]\u001b[0m S(47) -> A(48) -> S'(49) Reward : \u001b[4m-3.077\u001b[0m\n",
      "\u001b[95m[Reward]\u001b[0m S(49) -> A(50) -> S'(56) Reward : \u001b[4m0\u001b[0m\n",
      "Current logical action is None.. Reward is -7.6923076923076925\n",
      "\u001b[95m[Reward]\u001b[0m S(56) -> A(None) -> S'(None) Reward : \u001b[4m-7.692\u001b[0m\n",
      "########### Running time :  4.278985261917114 ##############\n",
      "\n",
      "[1/10] Benchmark: 0, Algo: bai_perturb, C: 2.5, Seed: 22\n",
      "\u001b[95m=========== Search iteration : 2 ===========\u001b[0m\n",
      "\u001b[95m[Reward]\u001b[0m S(0) -> A(1) -> S'(60) Reward : \u001b[4m0\u001b[0m\n",
      "Current logical action is None.. Reward is -100.0\n",
      "\u001b[95m[Reward]\u001b[0m S(60) -> A(None) -> S'(None) Reward : \u001b[4m-100.0\u001b[0m\n",
      "########### Running time :  4.313105583190918 ##############\n",
      "\n",
      "[1/10] Benchmark: 0, Algo: bai_perturb, C: 2.5, Seed: 22\n",
      "\u001b[95m=========== Search iteration : 3 ===========\u001b[0m\n",
      "\u001b[95m[Reward]\u001b[0m S(0) -> A(3) -> S'(64) Reward : \u001b[4m0\u001b[0m\n",
      "Current logical action is None.. Reward is -100.0\n",
      "\u001b[95m[Reward]\u001b[0m S(64) -> A(None) -> S'(None) Reward : \u001b[4m-100.0\u001b[0m\n",
      "########### Running time :  4.423008918762207 ##############\n",
      "\n",
      "[1/10] Benchmark: 0, Algo: bai_perturb, C: 2.5, Seed: 22\n",
      "\u001b[95m=========== Search iteration : 4 ===========\u001b[0m\n",
      "\u001b[95m[Reward]\u001b[0m S(0) -> A(4) -> S'(65) Reward : \u001b[4m0\u001b[0m\n",
      "\u001b[0;33m[Action]\u001b[0m \u001b[92mRearr cereal0\u001b[0m\n",
      "\u001b[0;36mGood Action\u001b[0m\n",
      "\u001b[95m[Reward]\u001b[0m S(65) -> A(69) -> S'(70) Reward : \u001b[4m4.0\u001b[0m\n",
      "\u001b[95m[Reward]\u001b[0m S(70) -> A(73) -> S'(75) Reward : \u001b[4m0\u001b[0m\n",
      "\u001b[0;33m[Action]\u001b[0m \u001b[92mRearr can0\u001b[0m\n",
      "\u001b[0;34mplaced another place not goal\u001b[0m\n",
      "\u001b[95m[Reward]\u001b[0m S(75) -> A(77) -> S'(78) Reward : \u001b[4m-1\u001b[0m\n",
      "\u001b[95m[Reward]\u001b[0m S(78) -> A(80) -> S'(82) Reward : \u001b[4m0\u001b[0m\n",
      "\u001b[0;33m[Action]\u001b[0m \u001b[92mRearr bottle0\u001b[0m\n",
      "\u001b[0;34mplaced another place not goal\u001b[0m\n",
      "\u001b[95m[Reward]\u001b[0m S(82) -> A(83) -> S'(85) Reward : \u001b[4m-1\u001b[0m\n",
      "\u001b[95m[Reward]\u001b[0m S(85) -> A(87) -> S'(89) Reward : \u001b[4m0\u001b[0m\n",
      "\u001b[0;33m[Action]\u001b[0m \u001b[92mRearr can0\u001b[0m\n",
      "\u001b[0;36mGood Action\u001b[0m\n",
      "\u001b[95m[Reward]\u001b[0m S(89) -> A(90) -> S'(91) Reward : \u001b[4m1.818\u001b[0m\n",
      "\u001b[95m[Reward]\u001b[0m S(91) -> A(92) -> S'(96) Reward : \u001b[4m0\u001b[0m\n",
      "\u001b[0;33m[Action]\u001b[0m \u001b[92mRearr ben_cube0\u001b[0m\n",
      "\u001b[0;36mGood Action\u001b[0m\n",
      "\u001b[95m[Reward]\u001b[0m S(96) -> A(98) -> S'(99) Reward : \u001b[4m1.538\u001b[0m\n",
      "\u001b[95m[Reward]\u001b[0m S(99) -> A(101) -> S'(105) Reward : \u001b[4m0\u001b[0m\n",
      "\u001b[0;33m[Action]\u001b[0m \u001b[92mRearr can0\u001b[0m\n",
      "\u001b[91mBad Action\u001b[0m\n",
      "\u001b[95m[Reward]\u001b[0m S(105) -> A(108) -> S'(109) Reward : \u001b[4m-3.077\u001b[0m\n",
      "\u001b[95m[Reward]\u001b[0m S(109) -> A(112) -> S'(113) Reward : \u001b[4m0\u001b[0m\n",
      "\u001b[0;33m[Action]\u001b[0m \u001b[92mRearr cereal0\u001b[0m\n",
      "\u001b[91mBad Action\u001b[0m\n",
      "\u001b[95m[Reward]\u001b[0m S(113) -> A(114) -> S'(115) Reward : \u001b[4m-2.667\u001b[0m\n",
      "\u001b[95m[Reward]\u001b[0m S(115) -> A(116) -> S'(118) Reward : \u001b[4m0\u001b[0m\n",
      "Current logical action is None.. Reward is -6.666666666666666\n",
      "\u001b[95m[Reward]\u001b[0m S(118) -> A(None) -> S'(None) Reward : \u001b[4m-6.667\u001b[0m\n",
      "########### Running time :  9.327208042144775 ##############\n",
      "\n",
      "[1/10] Benchmark: 0, Algo: bai_perturb, C: 2.5, Seed: 22\n",
      "\u001b[95m=========== Search iteration : 5 ===========\u001b[0m\n",
      "\u001b[95m[Reward]\u001b[0m S(0) -> A(4) -> S'(66) Reward : \u001b[4m0\u001b[0m\n",
      "\u001b[0;33m[Action]\u001b[0m \u001b[92mRearr cereal0\u001b[0m\n",
      "\u001b[0;34mplaced another place not goal\u001b[0m\n",
      "\u001b[95m[Reward]\u001b[0m S(66) -> A(122) -> S'(124) Reward : \u001b[4m-1\u001b[0m\n",
      "\u001b[95m[Reward]\u001b[0m S(124) -> A(127) -> S'(129) Reward : \u001b[4m0\u001b[0m\n",
      "\u001b[0;33m[Action]\u001b[0m \u001b[92mRearr can0\u001b[0m\n",
      "\u001b[0;34mplaced another place not goal\u001b[0m\n",
      "\u001b[95m[Reward]\u001b[0m S(129) -> A(131) -> S'(132) Reward : \u001b[4m-1\u001b[0m\n",
      "\u001b[95m[Reward]\u001b[0m S(132) -> A(135) -> S'(136) Reward : \u001b[4m0\u001b[0m\n",
      "\u001b[0;33m[Action]\u001b[0m \u001b[92mRearr cereal0\u001b[0m\n",
      "\u001b[0;36mGood Action\u001b[0m\n",
      "\u001b[95m[Reward]\u001b[0m S(136) -> A(138) -> S'(139) Reward : \u001b[4m2.222\u001b[0m\n",
      "\u001b[95m[Reward]\u001b[0m S(139) -> A(141) -> S'(144) Reward : \u001b[4m0\u001b[0m\n",
      "\u001b[0;33m[Action]\u001b[0m \u001b[92mRearr bottle0\u001b[0m\n",
      "\u001b[0;34mplaced another place not goal\u001b[0m\n",
      "\u001b[95m[Reward]\u001b[0m S(144) -> A(149) -> S'(150) Reward : \u001b[4m-1\u001b[0m\n",
      "\u001b[95m[Reward]\u001b[0m S(150) -> A(151) -> S'(155) Reward : \u001b[4m0\u001b[0m\n",
      "\u001b[0;33m[Action]\u001b[0m \u001b[92mRearr ben_cube0\u001b[0m\n",
      "\u001b[0;34mplaced another place not goal\u001b[0m\n",
      "\u001b[95m[Reward]\u001b[0m S(155) -> A(158) -> S'(160) Reward : \u001b[4m-1\u001b[0m\n",
      "\u001b[95m[Reward]\u001b[0m S(160) -> A(162) -> S'(164) Reward : \u001b[4m0\u001b[0m\n",
      "\u001b[0;33m[Action]\u001b[0m \u001b[92mRearr can0\u001b[0m\n",
      "\u001b[0;36mGood Action\u001b[0m\n",
      "\u001b[95m[Reward]\u001b[0m S(164) -> A(165) -> S'(166) Reward : \u001b[4m1.333\u001b[0m\n",
      "\u001b[95m[Reward]\u001b[0m S(166) -> A(169) -> S'(170) Reward : \u001b[4m0\u001b[0m\n",
      "\u001b[0;33m[Action]\u001b[0m \u001b[92mRearr cereal0\u001b[0m\n",
      "\u001b[91mBad Action\u001b[0m\n",
      "\u001b[95m[Reward]\u001b[0m S(170) -> A(171) -> S'(172) Reward : \u001b[4m-2.667\u001b[0m\n",
      "\u001b[95m[Reward]\u001b[0m S(172) -> A(174) -> S'(178) Reward : \u001b[4m0\u001b[0m\n",
      "\u001b[0;33m[Action]\u001b[0m \u001b[92mRearr can0\u001b[0m\n",
      "\u001b[91mBad Action\u001b[0m\n",
      "\u001b[95m[Reward]\u001b[0m S(178) -> A(179) -> S'(180) Reward : \u001b[4m-2.353\u001b[0m\n",
      "\u001b[93mExceeded the maximum depth!!\u001b[0m\n",
      "########### Running time :  12.67029094696045 ##############\n",
      "\n",
      "[1/10] Benchmark: 0, Algo: bai_perturb, C: 2.5, Seed: 22\n",
      "\u001b[95m=========== Search iteration : 6 ===========\u001b[0m\n",
      "\u001b[95m[Reward]\u001b[0m S(0) -> A(4) -> S'(67) Reward : \u001b[4m0\u001b[0m\n",
      "\u001b[0;33m[Action]\u001b[0m \u001b[92mRearr cereal0\u001b[0m\n",
      "\u001b[0;34mplaced another place not goal\u001b[0m\n",
      "\u001b[95m[Reward]\u001b[0m S(67) -> A(181) -> S'(183) Reward : \u001b[4m-1\u001b[0m\n",
      "\u001b[95m[Reward]\u001b[0m S(183) -> A(185) -> S'(186) Reward : \u001b[4m0\u001b[0m\n",
      "\u001b[0;33m[Action]\u001b[0m \u001b[92mRearr can0\u001b[0m\n",
      "\u001b[0;34mplaced another place not goal\u001b[0m\n",
      "\u001b[95m[Reward]\u001b[0m S(186) -> A(187) -> S'(188) Reward : \u001b[4m-1\u001b[0m\n",
      "\u001b[95m[Reward]\u001b[0m S(188) -> A(190) -> S'(194) Reward : \u001b[4m0\u001b[0m\n",
      "\u001b[0;33m[Action]\u001b[0m \u001b[92mRearr bottle0\u001b[0m\n",
      "\u001b[0;34mplaced another place not goal\u001b[0m\n",
      "\u001b[95m[Reward]\u001b[0m S(194) -> A(196) -> S'(197) Reward : \u001b[4m-1\u001b[0m\n",
      "\u001b[95m[Reward]\u001b[0m S(197) -> A(198) -> S'(203) Reward : \u001b[4m0\u001b[0m\n",
      "\u001b[0;33m[Action]\u001b[0m \u001b[92mRearr ben_cube0\u001b[0m\n",
      "\u001b[0;36mGood Action\u001b[0m\n",
      "\u001b[95m[Reward]\u001b[0m S(203) -> A(206) -> S'(207) Reward : \u001b[4m1.818\u001b[0m\n",
      "\u001b[95m[Reward]\u001b[0m S(207) -> A(208) -> S'(211) Reward : \u001b[4m0\u001b[0m\n",
      "\u001b[0;33m[Action]\u001b[0m \u001b[92mRearr bottle0\u001b[0m\n",
      "\u001b[0;34mplaced another place not goal\u001b[0m\n",
      "\u001b[95m[Reward]\u001b[0m S(211) -> A(212) -> S'(213) Reward : \u001b[4m-1\u001b[0m\n",
      "\u001b[95m[Reward]\u001b[0m S(213) -> A(214) -> S'(219) Reward : \u001b[4m0\u001b[0m\n",
      "Current logical action is None.. Reward is -9.09090909090909\n",
      "\u001b[95m[Reward]\u001b[0m S(219) -> A(None) -> S'(None) Reward : \u001b[4m-9.091\u001b[0m\n",
      "########### Running time :  16.1760311126709 ##############\n",
      "\n",
      "[1/10] Benchmark: 0, Algo: bai_perturb, C: 2.5, Seed: 22\n",
      "\u001b[95m=========== Search iteration : 7 ===========\u001b[0m\n",
      "\u001b[95m[Reward]\u001b[0m S(0) -> A(4) -> S'(66) Reward : \u001b[4m0\u001b[0m\n",
      "\u001b[0;33m[Action]\u001b[0m \u001b[92mRearr cereal0\u001b[0m\n",
      "\u001b[0;36mGood Action\u001b[0m\n",
      "\u001b[95m[Reward]\u001b[0m S(66) -> A(123) -> S'(222) Reward : \u001b[4m4.0\u001b[0m\n",
      "\u001b[95m[Reward]\u001b[0m S(222) -> A(225) -> S'(226) Reward : \u001b[4m0\u001b[0m\n",
      "\u001b[0;33m[Action]\u001b[0m \u001b[92mRearr can0\u001b[0m\n",
      "\u001b[0;34mplaced another place not goal\u001b[0m\n",
      "\u001b[95m[Reward]\u001b[0m S(226) -> A(227) -> S'(228) Reward : \u001b[4m-1\u001b[0m\n",
      "\u001b[95m[Reward]\u001b[0m S(228) -> A(231) -> S'(232) Reward : \u001b[4m0\u001b[0m\n",
      "\u001b[0;33m[Action]\u001b[0m \u001b[92mRearr cereal0\u001b[0m\n",
      "\u001b[91mBad Action\u001b[0m\n",
      "\u001b[95m[Reward]\u001b[0m S(232) -> A(233) -> S'(234) Reward : \u001b[4m-5.714\u001b[0m\n",
      "\u001b[95m[Reward]\u001b[0m S(234) -> A(236) -> S'(237) Reward : \u001b[4m0\u001b[0m\n",
      "\u001b[0;33m[Action]\u001b[0m \u001b[92mRearr can0\u001b[0m\n",
      "\u001b[0;34mplaced another place not goal\u001b[0m\n",
      "\u001b[95m[Reward]\u001b[0m S(237) -> A(239) -> S'(240) Reward : \u001b[4m-1\u001b[0m\n"
     ]
    },
    {
     "name": "stdout",
     "output_type": "stream",
     "text": [
      "\u001b[95m[Reward]\u001b[0m S(240) -> A(243) -> S'(244) Reward : \u001b[4m0\u001b[0m\n",
      "\u001b[0;33m[Action]\u001b[0m \u001b[92mRearr cereal0\u001b[0m\n",
      "\u001b[0;34mplaced another place not goal\u001b[0m\n",
      "\u001b[95m[Reward]\u001b[0m S(244) -> A(247) -> S'(249) Reward : \u001b[4m-1\u001b[0m\n",
      "\u001b[95m[Reward]\u001b[0m S(249) -> A(250) -> S'(253) Reward : \u001b[4m0\u001b[0m\n",
      "\u001b[0;33m[Action]\u001b[0m \u001b[92mRearr ben_cube0\u001b[0m\n",
      "\u001b[0;36mGood Action\u001b[0m\n",
      "\u001b[95m[Reward]\u001b[0m S(253) -> A(254) -> S'(255) Reward : \u001b[4m1.333\u001b[0m\n",
      "\u001b[95m[Reward]\u001b[0m S(255) -> A(257) -> S'(259) Reward : \u001b[4m0\u001b[0m\n",
      "\u001b[0;33m[Action]\u001b[0m \u001b[92mRearr can0\u001b[0m\n",
      "\u001b[0;34mplaced another place not goal\u001b[0m\n",
      "\u001b[95m[Reward]\u001b[0m S(259) -> A(263) -> S'(264) Reward : \u001b[4m-1\u001b[0m\n",
      "\u001b[95m[Reward]\u001b[0m S(264) -> A(267) -> S'(269) Reward : \u001b[4m0\u001b[0m\n",
      "\u001b[0;33m[Action]\u001b[0m \u001b[92mRearr cereal0\u001b[0m\n",
      "\u001b[0;36mGood Action\u001b[0m\n",
      "\u001b[95m[Reward]\u001b[0m S(269) -> A(274) -> S'(275) Reward : \u001b[4m1.053\u001b[0m\n",
      "\u001b[93mExceeded the maximum depth!!\u001b[0m\n",
      "########### Running time :  20.705994844436646 ##############\n",
      "\n",
      "[1/10] Benchmark: 0, Algo: bai_perturb, C: 2.5, Seed: 22\n",
      "\u001b[95m=========== Search iteration : 8 ===========\u001b[0m\n",
      "\u001b[95m[Reward]\u001b[0m S(0) -> A(4) -> S'(66) Reward : \u001b[4m0\u001b[0m\n",
      "\u001b[0;33m[Action]\u001b[0m \u001b[92mRearr cereal0\u001b[0m\n",
      "\u001b[0;34mplaced another place not goal\u001b[0m\n",
      "\u001b[95m[Reward]\u001b[0m S(66) -> A(122) -> S'(124) Reward : \u001b[4m-1\u001b[0m\n",
      "\u001b[95m[Reward]\u001b[0m S(124) -> A(125) -> S'(276) Reward : \u001b[4m0\u001b[0m\n",
      "\u001b[0;33m[Action]\u001b[0m \u001b[92mRearr ben_cube0\u001b[0m\n",
      "\u001b[0;36mGood Action\u001b[0m\n",
      "\u001b[95m[Reward]\u001b[0m S(276) -> A(281) -> S'(282) Reward : \u001b[4m2.857\u001b[0m\n",
      "\u001b[95m[Reward]\u001b[0m S(282) -> A(285) -> S'(286) Reward : \u001b[4m0\u001b[0m\n",
      "\u001b[0;33m[Action]\u001b[0m \u001b[92mRearr cereal0\u001b[0m\n",
      "\u001b[0;36mGood Action\u001b[0m\n",
      "\u001b[95m[Reward]\u001b[0m S(286) -> A(288) -> S'(289) Reward : \u001b[4m2.222\u001b[0m\n",
      "\u001b[95m[Reward]\u001b[0m S(289) -> A(291) -> S'(295) Reward : \u001b[4m0\u001b[0m\n",
      "\u001b[0;33m[Action]\u001b[0m \u001b[92mRearr bottle0\u001b[0m\n",
      "\u001b[0;36mGood Action\u001b[0m\n",
      "\u001b[95m[Reward]\u001b[0m S(295) -> A(299) -> S'(300) Reward : \u001b[4m1.818\u001b[0m\n",
      "\u001b[95m[Reward]\u001b[0m S(300) -> A(303) -> S'(304) Reward : \u001b[4m0\u001b[0m\n",
      "\u001b[0;33m[Action]\u001b[0m \u001b[92mRearr cereal0\u001b[0m\n",
      "\u001b[91mBad Action\u001b[0m\n",
      "\u001b[95m[Reward]\u001b[0m S(304) -> A(305) -> S'(306) Reward : \u001b[4m-3.636\u001b[0m\n",
      "\u001b[95m[Reward]\u001b[0m S(306) -> A(309) -> S'(310) Reward : \u001b[4m0\u001b[0m\n",
      "\u001b[0;33m[Action]\u001b[0m \u001b[92mRearr can0\u001b[0m\n",
      "\u001b[0;36mGood Action\u001b[0m\n",
      "\u001b[95m[Reward]\u001b[0m S(310) -> A(313) -> S'(314) Reward : \u001b[4m1.333\u001b[0m\n",
      "\u001b[95m[Reward]\u001b[0m S(314) -> A(316) -> S'(318) Reward : \u001b[4m0\u001b[0m\n",
      "Current logical action is None.. Reward is -7.6923076923076925\n",
      "\u001b[95m[Reward]\u001b[0m S(318) -> A(None) -> S'(None) Reward : \u001b[4m-7.692\u001b[0m\n",
      "########### Running time :  22.795771598815918 ##############\n",
      "\n",
      "[1/10] Benchmark: 0, Algo: bai_perturb, C: 2.5, Seed: 22\n",
      "\u001b[95m=========== Search iteration : 9 ===========\u001b[0m\n",
      "\u001b[95m[Reward]\u001b[0m S(0) -> A(4) -> S'(66) Reward : \u001b[4m0\u001b[0m\n",
      "\u001b[0;33m[Action]\u001b[0m \u001b[92mRearr cereal0\u001b[0m\n",
      "\u001b[0;34mplaced another place not goal\u001b[0m\n",
      "\u001b[95m[Reward]\u001b[0m S(66) -> A(122) -> S'(124) Reward : \u001b[4m-1\u001b[0m\n",
      "\u001b[95m[Reward]\u001b[0m S(124) -> A(126) -> S'(319) Reward : \u001b[4m0\u001b[0m\n",
      "\u001b[0;33m[Action]\u001b[0m \u001b[92mRearr bottle0\u001b[0m\n",
      "\u001b[0;34mplaced another place not goal\u001b[0m\n",
      "\u001b[95m[Reward]\u001b[0m S(319) -> A(323) -> S'(325) Reward : \u001b[4m-1\u001b[0m\n",
      "\u001b[95m[Reward]\u001b[0m S(325) -> A(326) -> S'(335) Reward : \u001b[4m0\u001b[0m\n",
      "\u001b[0;33m[Action]\u001b[0m \u001b[92mRearr ben_cube0\u001b[0m\n",
      "\u001b[0;36mGood Action\u001b[0m\n",
      "\u001b[95m[Reward]\u001b[0m S(335) -> A(338) -> S'(339) Reward : \u001b[4m2.222\u001b[0m\n",
      "\u001b[95m[Reward]\u001b[0m S(339) -> A(342) -> S'(344) Reward : \u001b[4m0\u001b[0m\n",
      "\u001b[0;33m[Action]\u001b[0m \u001b[92mRearr cereal0\u001b[0m\n",
      "\u001b[0;34mplaced another place not goal\u001b[0m\n",
      "\u001b[95m[Reward]\u001b[0m S(344) -> A(346) -> S'(348) Reward : \u001b[4m-1\u001b[0m\n",
      "\u001b[95m[Reward]\u001b[0m S(348) -> A(350) -> S'(353) Reward : \u001b[4m0\u001b[0m\n",
      "\u001b[0;33m[Action]\u001b[0m \u001b[92mRearr can0\u001b[0m\n",
      "\u001b[0;36mGood Action\u001b[0m\n",
      "\u001b[95m[Reward]\u001b[0m S(353) -> A(357) -> S'(358) Reward : \u001b[4m1.538\u001b[0m\n",
      "\u001b[95m[Reward]\u001b[0m S(358) -> A(360) -> S'(364) Reward : \u001b[4m0\u001b[0m\n",
      "\u001b[0;33m[Action]\u001b[0m \u001b[92mRearr bottle0\u001b[0m\n",
      "\u001b[0;34mplaced another place not goal\u001b[0m\n",
      "\u001b[95m[Reward]\u001b[0m S(364) -> A(365) -> S'(367) Reward : \u001b[4m-1\u001b[0m\n",
      "\u001b[95m[Reward]\u001b[0m S(367) -> A(369) -> S'(371) Reward : \u001b[4m0\u001b[0m\n",
      "Current logical action is None.. Reward is -7.6923076923076925\n",
      "\u001b[95m[Reward]\u001b[0m S(371) -> A(None) -> S'(None) Reward : \u001b[4m-7.692\u001b[0m\n",
      "########### Running time :  26.501129627227783 ##############\n",
      "\n",
      "[1/10] Benchmark: 0, Algo: bai_perturb, C: 2.5, Seed: 22\n",
      "\u001b[95m=========== Search iteration : 10 ===========\u001b[0m\n",
      "\u001b[95m[Reward]\u001b[0m S(0) -> A(4) -> S'(66) Reward : \u001b[4m0\u001b[0m\n",
      "\u001b[0;33m[Action]\u001b[0m \u001b[92mRearr cereal0\u001b[0m\n",
      "\u001b[0;34mplaced another place not goal\u001b[0m\n",
      "\u001b[95m[Reward]\u001b[0m S(66) -> A(122) -> S'(124) Reward : \u001b[4m-1\u001b[0m\n",
      "\u001b[95m[Reward]\u001b[0m S(124) -> A(127) -> S'(128) Reward : \u001b[4m0\u001b[0m\n",
      "\u001b[0;33m[Action]\u001b[0m \u001b[92mRearr can0\u001b[0m\n",
      "\u001b[0;34mplaced another place not goal\u001b[0m\n",
      "\u001b[95m[Reward]\u001b[0m S(128) -> A(372) -> S'(373) Reward : \u001b[4m-1\u001b[0m\n",
      "\u001b[95m[Reward]\u001b[0m S(373) -> A(374) -> S'(378) Reward : \u001b[4m0\u001b[0m\n",
      "\u001b[0;33m[Action]\u001b[0m \u001b[92mRearr ben_cube0\u001b[0m\n",
      "\u001b[0;36mGood Action\u001b[0m\n",
      "\u001b[95m[Reward]\u001b[0m S(378) -> A(383) -> S'(384) Reward : \u001b[4m2.222\u001b[0m\n",
      "\u001b[95m[Reward]\u001b[0m S(384) -> A(386) -> S'(391) Reward : \u001b[4m0\u001b[0m\n",
      "\u001b[0;33m[Action]\u001b[0m \u001b[92mRearr can0\u001b[0m\n",
      "\u001b[0;34mplaced another place not goal\u001b[0m\n",
      "\u001b[95m[Reward]\u001b[0m S(391) -> A(392) -> S'(393) Reward : \u001b[4m-1\u001b[0m\n",
      "\u001b[95m[Reward]\u001b[0m S(393) -> A(395) -> S'(400) Reward : \u001b[4m0\u001b[0m\n",
      "\u001b[0;33m[Action]\u001b[0m \u001b[92mRearr bottle0\u001b[0m\n",
      "\u001b[0;34mplaced another place not goal\u001b[0m\n",
      "\u001b[95m[Reward]\u001b[0m S(400) -> A(401) -> S'(403) Reward : \u001b[4m-1\u001b[0m\n",
      "\u001b[95m[Reward]\u001b[0m S(403) -> A(404) -> S'(407) Reward : \u001b[4m0\u001b[0m\n",
      "Current logical action is None.. Reward is -9.09090909090909\n",
      "\u001b[95m[Reward]\u001b[0m S(407) -> A(None) -> S'(None) Reward : \u001b[4m-9.091\u001b[0m\n",
      "########### Running time :  28.848528623580933 ##############\n",
      "\n",
      "[1/10] Benchmark: 0, Algo: bai_perturb, C: 2.5, Seed: 22\n",
      "\u001b[95m=========== Search iteration : 11 ===========\u001b[0m\n",
      "\u001b[95m[Reward]\u001b[0m S(0) -> A(4) -> S'(66) Reward : \u001b[4m0\u001b[0m\n",
      "\u001b[0;33m[Action]\u001b[0m \u001b[92mRearr cereal0\u001b[0m\n",
      "\u001b[0;34mplaced another place not goal\u001b[0m\n",
      "\u001b[95m[Reward]\u001b[0m S(66) -> A(122) -> S'(124) Reward : \u001b[4m-1\u001b[0m\n",
      "\u001b[95m[Reward]\u001b[0m S(124) -> A(127) -> S'(130) Reward : \u001b[4m0\u001b[0m\n",
      "\u001b[0;33m[Action]\u001b[0m \u001b[92mRearr can0\u001b[0m\n",
      "\u001b[0;34mplaced another place not goal\u001b[0m\n",
      "\u001b[95m[Reward]\u001b[0m S(130) -> A(409) -> S'(410) Reward : \u001b[4m-1\u001b[0m\n",
      "\u001b[95m[Reward]\u001b[0m S(410) -> A(411) -> S'(416) Reward : \u001b[4m0\u001b[0m\n",
      "\u001b[0;33m[Action]\u001b[0m \u001b[92mRearr ben_cube0\u001b[0m\n",
      "\u001b[0;36mGood Action\u001b[0m\n",
      "\u001b[95m[Reward]\u001b[0m S(416) -> A(419) -> S'(420) Reward : \u001b[4m2.222\u001b[0m\n",
      "\u001b[95m[Reward]\u001b[0m S(420) -> A(421) -> S'(424) Reward : \u001b[4m0\u001b[0m\n",
      "\u001b[0;33m[Action]\u001b[0m \u001b[92mRearr bottle0\u001b[0m\n",
      "\u001b[0;36mGood Action\u001b[0m\n",
      "\u001b[95m[Reward]\u001b[0m S(424) -> A(425) -> S'(426) Reward : \u001b[4m1.818\u001b[0m\n",
      "\u001b[95m[Reward]\u001b[0m S(426) -> A(427) -> S'(430) Reward : \u001b[4m0\u001b[0m\n",
      "\u001b[0;33m[Action]\u001b[0m \u001b[92mRearr ben_cube0\u001b[0m\n",
      "\u001b[91mBad Action\u001b[0m\n",
      "\u001b[95m[Reward]\u001b[0m S(430) -> A(432) -> S'(433) Reward : \u001b[4m-3.636\u001b[0m\n",
      "\u001b[95m[Reward]\u001b[0m S(433) -> A(436) -> S'(440) Reward : \u001b[4m0\u001b[0m\n",
      "\u001b[0;33m[Action]\u001b[0m \u001b[92mRearr cereal0\u001b[0m\n",
      "\u001b[0;36mGood Action\u001b[0m\n",
      "\u001b[95m[Reward]\u001b[0m S(440) -> A(441) -> S'(442) Reward : \u001b[4m1.333\u001b[0m\n",
      "\u001b[95m[Reward]\u001b[0m S(442) -> A(443) -> S'(450) Reward : \u001b[4m0\u001b[0m\n",
      "\u001b[0;33m[Action]\u001b[0m \u001b[92mRearr ben_cube0\u001b[0m\n",
      "\u001b[0;36mGood Action\u001b[0m\n",
      "\u001b[95m[Reward]\u001b[0m S(450) -> A(453) -> S'(454) Reward : \u001b[4m1.176\u001b[0m\n",
      "\u001b[95m[Reward]\u001b[0m S(454) -> A(457) -> S'(458) Reward : \u001b[4m0\u001b[0m\n",
      "Current logical action is None.. Reward is -6.666666666666666\n",
      "\u001b[95m[Reward]\u001b[0m S(458) -> A(None) -> S'(None) Reward : \u001b[4m-6.667\u001b[0m\n",
      "########### Running time :  33.50905203819275 ##############\n",
      "\n",
      "[1/10] Benchmark: 0, Algo: bai_perturb, C: 2.5, Seed: 22\n",
      "\u001b[95m=========== Search iteration : 12 ===========\u001b[0m\n",
      "\u001b[95m[Reward]\u001b[0m S(0) -> A(4) -> S'(66) Reward : \u001b[4m0\u001b[0m\n",
      "\u001b[0;33m[Action]\u001b[0m \u001b[92mRearr cereal0\u001b[0m\n",
      "\u001b[0;34mplaced another place not goal\u001b[0m\n",
      "\u001b[95m[Reward]\u001b[0m S(66) -> A(122) -> S'(124) Reward : \u001b[4m-1\u001b[0m\n",
      "\u001b[95m[Reward]\u001b[0m S(124) -> A(127) -> S'(129) Reward : \u001b[4m0\u001b[0m\n",
      "\u001b[0;33m[Action]\u001b[0m \u001b[92mRearr can0\u001b[0m\n",
      "\u001b[0;34mplaced another place not goal\u001b[0m\n",
      "\u001b[95m[Reward]\u001b[0m S(129) -> A(131) -> S'(132) Reward : \u001b[4m-1\u001b[0m\n",
      "\u001b[95m[Reward]\u001b[0m S(132) -> A(133) -> S'(462) Reward : \u001b[4m0\u001b[0m\n",
      "\u001b[0;33m[Action]\u001b[0m \u001b[92mRearr ben_cube0\u001b[0m\n",
      "\u001b[0;34mplaced another place not goal\u001b[0m\n",
      "\u001b[95m[Reward]\u001b[0m S(462) -> A(463) -> S'(465) Reward : \u001b[4m-1\u001b[0m\n",
      "\u001b[95m[Reward]\u001b[0m S(465) -> A(466) -> S'(469) Reward : \u001b[4m0\u001b[0m\n",
      "\u001b[0;33m[Action]\u001b[0m \u001b[92mRearr bottle0\u001b[0m\n",
      "\u001b[0;36mGood Action\u001b[0m\n",
      "\u001b[95m[Reward]\u001b[0m S(469) -> A(471) -> S'(472) Reward : \u001b[4m1.818\u001b[0m\n"
     ]
    },
    {
     "name": "stdout",
     "output_type": "stream",
     "text": [
      "\u001b[95m[Reward]\u001b[0m S(472) -> A(475) -> S'(476) Reward : \u001b[4m0\u001b[0m\n",
      "\u001b[0;33m[Action]\u001b[0m \u001b[92mRearr cereal0\u001b[0m\n",
      "\u001b[0;34mplaced another place not goal\u001b[0m\n",
      "\u001b[95m[Reward]\u001b[0m S(476) -> A(477) -> S'(478) Reward : \u001b[4m-1\u001b[0m\n",
      "\u001b[95m[Reward]\u001b[0m S(478) -> A(479) -> S'(483) Reward : \u001b[4m0\u001b[0m\n",
      "\u001b[0;33m[Action]\u001b[0m \u001b[92mRearr ben_cube0\u001b[0m\n",
      "\u001b[0;36mGood Action\u001b[0m\n",
      "\u001b[95m[Reward]\u001b[0m S(483) -> A(485) -> S'(486) Reward : \u001b[4m1.333\u001b[0m\n",
      "\u001b[95m[Reward]\u001b[0m S(486) -> A(489) -> S'(490) Reward : \u001b[4m0\u001b[0m\n",
      "\u001b[0;33m[Action]\u001b[0m \u001b[92mRearr cereal0\u001b[0m\n",
      "\u001b[0;34mplaced another place not goal\u001b[0m\n",
      "\u001b[95m[Reward]\u001b[0m S(490) -> A(491) -> S'(493) Reward : \u001b[4m-1\u001b[0m\n",
      "\u001b[95m[Reward]\u001b[0m S(493) -> A(495) -> S'(497) Reward : \u001b[4m0\u001b[0m\n",
      "\u001b[0;33m[Action]\u001b[0m \u001b[92mRearr bottle0\u001b[0m\n",
      "\u001b[91mBad Action\u001b[0m\n",
      "\u001b[95m[Reward]\u001b[0m S(497) -> A(498) -> S'(499) Reward : \u001b[4m-2.353\u001b[0m\n",
      "\u001b[93mExceeded the maximum depth!!\u001b[0m\n",
      "########### Running time :  35.34124231338501 ##############\n",
      "\n",
      "[1/10] Benchmark: 0, Algo: bai_perturb, C: 2.5, Seed: 22\n",
      "\u001b[95m=========== Search iteration : 13 ===========\u001b[0m\n",
      "\u001b[95m[Reward]\u001b[0m S(0) -> A(4) -> S'(66) Reward : \u001b[4m0\u001b[0m\n",
      "\u001b[0;33m[Action]\u001b[0m \u001b[92mRearr cereal0\u001b[0m\n",
      "\u001b[0;34mplaced another place not goal\u001b[0m\n",
      "\u001b[95m[Reward]\u001b[0m S(66) -> A(122) -> S'(124) Reward : \u001b[4m-1\u001b[0m\n",
      "\u001b[95m[Reward]\u001b[0m S(124) -> A(127) -> S'(129) Reward : \u001b[4m0\u001b[0m\n",
      "\u001b[0;33m[Action]\u001b[0m \u001b[92mRearr can0\u001b[0m\n",
      "\u001b[0;34mplaced another place not goal\u001b[0m\n",
      "\u001b[95m[Reward]\u001b[0m S(129) -> A(131) -> S'(132) Reward : \u001b[4m-1\u001b[0m\n",
      "\u001b[95m[Reward]\u001b[0m S(132) -> A(134) -> S'(500) Reward : \u001b[4m0\u001b[0m\n",
      "\u001b[0;33m[Action]\u001b[0m \u001b[92mRearr bottle0\u001b[0m\n",
      "\u001b[0;36mGood Action\u001b[0m\n",
      "\u001b[95m[Reward]\u001b[0m S(500) -> A(502) -> S'(503) Reward : \u001b[4m2.222\u001b[0m\n",
      "\u001b[95m[Reward]\u001b[0m S(503) -> A(506) -> S'(507) Reward : \u001b[4m0\u001b[0m\n",
      "\u001b[0;33m[Action]\u001b[0m \u001b[92mRearr cereal0\u001b[0m\n",
      "\u001b[0;36mGood Action\u001b[0m\n",
      "\u001b[95m[Reward]\u001b[0m S(507) -> A(509) -> S'(510) Reward : \u001b[4m1.818\u001b[0m\n",
      "\u001b[95m[Reward]\u001b[0m S(510) -> A(511) -> S'(518) Reward : \u001b[4m0\u001b[0m\n",
      "\u001b[0;33m[Action]\u001b[0m \u001b[92mRearr ben_cube0\u001b[0m\n",
      "\u001b[0;36mGood Action\u001b[0m\n",
      "\u001b[95m[Reward]\u001b[0m S(518) -> A(519) -> S'(520) Reward : \u001b[4m1.538\u001b[0m\n"
     ]
    },
    {
     "name": "stderr",
     "output_type": "stream",
     "text": [
      "\u001b[1;32m[INFO] [RRT Star Planner]: Start to compute RRT-star Planning\u001b[0m\n",
      "\u001b[1;32m[INFO] [RRT Star Planner]: The joint limit has been successfully checked. Pose error is 0.000111\u001b[0m\n"
     ]
    },
    {
     "name": "stdout",
     "output_type": "stream",
     "text": [
      "\u001b[95m[Reward]\u001b[0m S(520) -> A(522) -> S'(525) Reward : \u001b[4m0\u001b[0m\n",
      "\u001b[0;33m[Action]\u001b[0m \u001b[92mRearr can0\u001b[0m\n",
      "\u001b[0;36mGood Action\u001b[0m\n",
      "\u001b[95m[Reward]\u001b[0m S(525) -> A(529) -> S'(530) Reward : \u001b[4m1.333\u001b[0m\n",
      "##########['bottle0', 'cereal0', 'ben_cube0', 'can0']#############\n",
      "\u001b[94mSuccess!!!!!\u001b[0m\n",
      "Terminal State! Reward is 5\n",
      "Action Node: 4 \u001b[92mAction: Pick cereal0\u001b[0m\n",
      "Action Node: 127 \u001b[92mAction: Pick can0\u001b[0m\n",
      "Action Node: 134 \u001b[92mAction: Pick bottle0\u001b[0m\n",
      "Action Node: 506 \u001b[92mAction: Pick cereal0\u001b[0m\n",
      "Action Node: 511 \u001b[92mAction: Pick ben_cube0\u001b[0m\n",
      "Action Node: 522 \u001b[92mAction: Pick can0\u001b[0m\n",
      "\u001b[1;33mpick cereal0\u001b[0m\n",
      "solve with LM1\n",
      "Iterators : 7\n",
      "WorkingTime[inverse_kinematics]: 0.0090 sec\n",
      "\n"
     ]
    },
    {
     "name": "stderr",
     "output_type": "stream",
     "text": [
      "\u001b[1;32m[INFO] [RRT Star Planner]: Generate Path Successfully!!\u001b[0m\n",
      "\u001b[1;32m[INFO] [RRT Star Planner]: Path length 2 --> 10\u001b[0m\n",
      "\u001b[1;32m[INFO] [Cartesian Planner]: Start to compute Cartesian Planning\u001b[0m\n",
      "\u001b[1;32m[INFO] [Cartesian Planner]: Generate Path Successfully!! Error is 0.000002\u001b[0m\n",
      "\u001b[1;32m[INFO] [Cartesian Planner]: Start to compute Cartesian Planning\u001b[0m\n",
      "\u001b[1;32m[INFO] [Cartesian Planner]: Generate Path Successfully!! Error is 0.000002\u001b[0m\n",
      "\u001b[1;32m[INFO] [RRT Star Planner]: Start to compute RRT-star Planning\u001b[0m\n"
     ]
    },
    {
     "name": "stdout",
     "output_type": "stream",
     "text": [
      "Cost is 0.861\n",
      "WorkingTime[run]: 3.3245 sec\n",
      "\n",
      "WorkingTime[run]: 0.0476 sec\n",
      "\n",
      "WorkingTime[run]: 0.0526 sec\n",
      "\n"
     ]
    },
    {
     "name": "stderr",
     "output_type": "stream",
     "text": [
      "\u001b[1;32m[INFO] [RRT Star Planner]: Generate Path Successfully!!\u001b[0m\n",
      "\u001b[1;32m[INFO] [RRT Star Planner]: Path length 2 --> 10\u001b[0m\n",
      "\u001b[1;32m[INFO] [RRT Star Planner]: Start to compute RRT-star Planning\u001b[0m\n",
      "\u001b[1;32m[INFO] [RRT Star Planner]: The joint limit has been successfully checked. Pose error is 0.000141\u001b[0m\n"
     ]
    },
    {
     "name": "stdout",
     "output_type": "stream",
     "text": [
      "Cost is 0.861\n",
      "WorkingTime[run]: 4.5524 sec\n",
      "\n",
      "\u001b[1;33mplace cereal0 on table\u001b[0m\n",
      "solve with LM1\n",
      "Iterators : 11\n",
      "WorkingTime[inverse_kinematics]: 0.0057 sec\n",
      "\n"
     ]
    },
    {
     "name": "stderr",
     "output_type": "stream",
     "text": [
      "\u001b[1;32m[INFO] [RRT Star Planner]: Generate Path Successfully!!\u001b[0m\n",
      "\u001b[1;32m[INFO] [RRT Star Planner]: Path length 3 --> 20\u001b[0m\n",
      "\u001b[1;32m[INFO] [Cartesian Planner]: Start to compute Cartesian Planning\u001b[0m\n",
      "\u001b[1;32m[INFO] [Cartesian Planner]: Generate Path Successfully!! Error is 0.000002\u001b[0m\n",
      "\u001b[1;32m[INFO] [Cartesian Planner]: Start to compute Cartesian Planning\u001b[0m\n",
      "\u001b[1;32m[INFO] [Cartesian Planner]: Generate Path Successfully!! Error is 0.000002\u001b[0m\n",
      "\u001b[1;32m[INFO] [RRT Star Planner]: Start to compute RRT-star Planning\u001b[0m\n"
     ]
    },
    {
     "name": "stdout",
     "output_type": "stream",
     "text": [
      "Cost is 1.677\n",
      "WorkingTime[run]: 4.2345 sec\n",
      "\n",
      "WorkingTime[run]: 0.0523 sec\n",
      "\n",
      "WorkingTime[run]: 0.0535 sec\n",
      "\n"
     ]
    },
    {
     "name": "stderr",
     "output_type": "stream",
     "text": [
      "\u001b[1;32m[INFO] [RRT Star Planner]: Generate Path Successfully!!\u001b[0m\n",
      "\u001b[1;32m[INFO] [RRT Star Planner]: Path length 3 --> 20\u001b[0m\n",
      "\u001b[1;32m[INFO] [RRT Star Planner]: Start to compute RRT-star Planning\u001b[0m\n",
      "\u001b[1;32m[INFO] [RRT Star Planner]: The joint limit has been successfully checked. Pose error is 0.000001\u001b[0m\n"
     ]
    },
    {
     "name": "stdout",
     "output_type": "stream",
     "text": [
      "Cost is 1.74\n",
      "WorkingTime[run]: 3.2329 sec\n",
      "\n",
      "Success pnp\n",
      "\u001b[1;33mpick can0\u001b[0m\n",
      "solve with LM1\n",
      "Iterators : 8\n",
      "WorkingTime[inverse_kinematics]: 0.0044 sec\n",
      "\n"
     ]
    },
    {
     "name": "stderr",
     "output_type": "stream",
     "text": [
      "\u001b[1;32m[INFO] [RRT Star Planner]: Generate Path Successfully!!\u001b[0m\n",
      "\u001b[1;32m[INFO] [RRT Star Planner]: Path length 3 --> 20\u001b[0m\n",
      "\u001b[1;32m[INFO] [Cartesian Planner]: Start to compute Cartesian Planning\u001b[0m\n",
      "\u001b[1;32m[INFO] [Cartesian Planner]: Generate Path Successfully!! Error is 0.000003\u001b[0m\n",
      "\u001b[1;32m[INFO] [Cartesian Planner]: Start to compute Cartesian Planning\u001b[0m\n",
      "\u001b[1;32m[INFO] [Cartesian Planner]: Generate Path Successfully!! Error is 0.000001\u001b[0m\n",
      "\u001b[1;32m[INFO] [RRT Star Planner]: Start to compute RRT-star Planning\u001b[0m\n"
     ]
    },
    {
     "name": "stdout",
     "output_type": "stream",
     "text": [
      "Cost is 1.843\n",
      "WorkingTime[run]: 3.5288 sec\n",
      "\n",
      "WorkingTime[run]: 0.0492 sec\n",
      "\n",
      "WorkingTime[run]: 0.0492 sec\n",
      "\n"
     ]
    },
    {
     "name": "stderr",
     "output_type": "stream",
     "text": [
      "\u001b[1;32m[INFO] [RRT Star Planner]: Generate Path Successfully!!\u001b[0m\n",
      "\u001b[1;32m[INFO] [RRT Star Planner]: Path length 5 --> 40\u001b[0m\n",
      "\u001b[1;32m[INFO] [RRT Star Planner]: Start to compute RRT-star Planning\u001b[0m\n",
      "\u001b[1;32m[INFO] [RRT Star Planner]: The joint limit has been successfully checked. Pose error is 0.000003\u001b[0m\n"
     ]
    },
    {
     "name": "stdout",
     "output_type": "stream",
     "text": [
      "Cost is 1.819\n",
      "WorkingTime[run]: 4.5977 sec\n",
      "\n",
      "\u001b[1;33mplace can0 on table\u001b[0m\n",
      "solve with LM1\n",
      "Iterators : 12\n",
      "WorkingTime[inverse_kinematics]: 0.0060 sec\n",
      "\n"
     ]
    },
    {
     "name": "stderr",
     "output_type": "stream",
     "text": [
      "\u001b[1;32m[INFO] [RRT Star Planner]: Generate Path Successfully!!\u001b[0m\n",
      "\u001b[1;32m[INFO] [RRT Star Planner]: Path length 3 --> 20\u001b[0m\n",
      "\u001b[1;32m[INFO] [Cartesian Planner]: Start to compute Cartesian Planning\u001b[0m\n",
      "\u001b[1;32m[INFO] [Cartesian Planner]: Generate Path Successfully!! Error is 0.000001\u001b[0m\n",
      "\u001b[1;32m[INFO] [Cartesian Planner]: Start to compute Cartesian Planning\u001b[0m\n",
      "\u001b[1;32m[INFO] [Cartesian Planner]: Generate Path Successfully!! Error is 0.000001\u001b[0m\n",
      "\u001b[1;32m[INFO] [RRT Star Planner]: Start to compute RRT-star Planning\u001b[0m\n"
     ]
    },
    {
     "name": "stdout",
     "output_type": "stream",
     "text": [
      "Cost is 2.083\n",
      "WorkingTime[run]: 4.2910 sec\n",
      "\n",
      "WorkingTime[run]: 0.0500 sec\n",
      "\n",
      "WorkingTime[run]: 0.0501 sec\n",
      "\n"
     ]
    },
    {
     "name": "stderr",
     "output_type": "stream",
     "text": [
      "\u001b[1;32m[INFO] [RRT Star Planner]: Generate Path Successfully!!\u001b[0m\n",
      "\u001b[1;32m[INFO] [RRT Star Planner]: Path length 3 --> 20\u001b[0m\n",
      "\u001b[1;32m[INFO] [RRT Star Planner]: Start to compute RRT-star Planning\u001b[0m\n",
      "\u001b[1;32m[INFO] [RRT Star Planner]: The joint limit has been successfully checked. Pose error is 0.000001\u001b[0m\n"
     ]
    },
    {
     "name": "stdout",
     "output_type": "stream",
     "text": [
      "Cost is 2.122\n",
      "WorkingTime[run]: 3.3005 sec\n",
      "\n",
      "Success pnp\n",
      "\u001b[1;33mpick bottle0\u001b[0m\n",
      "solve with LM1\n",
      "Iterators : 17\n",
      "WorkingTime[inverse_kinematics]: 0.0082 sec\n",
      "\n"
     ]
    },
    {
     "name": "stderr",
     "output_type": "stream",
     "text": [
      "\u001b[1;32m[INFO] [RRT Star Planner]: Generate Path Successfully!!\u001b[0m\n",
      "\u001b[1;32m[INFO] [RRT Star Planner]: Path length 12 --> 110\u001b[0m\n",
      "\u001b[1;32m[INFO] [Cartesian Planner]: Start to compute Cartesian Planning\u001b[0m\n",
      "\u001b[1;32m[INFO] [Cartesian Planner]: Generate Path Successfully!! Error is 0.000006\u001b[0m\n",
      "\u001b[1;32m[INFO] [Cartesian Planner]: Start to compute Cartesian Planning\u001b[0m\n",
      "\u001b[1;32m[INFO] [Cartesian Planner]: Generate Path Successfully!! Error is 0.000002\u001b[0m\n",
      "\u001b[1;32m[INFO] [RRT Star Planner]: Start to compute RRT-star Planning\u001b[0m\n"
     ]
    },
    {
     "name": "stdout",
     "output_type": "stream",
     "text": [
      "Cost is 3.525\n",
      "WorkingTime[run]: 3.4069 sec\n",
      "\n",
      "WorkingTime[run]: 0.0515 sec\n",
      "\n",
      "WorkingTime[run]: 0.0516 sec\n",
      "\n"
     ]
    },
    {
     "name": "stderr",
     "output_type": "stream",
     "text": [
      "\u001b[1;32m[INFO] [RRT Star Planner]: Generate Path Successfully!!\u001b[0m\n",
      "\u001b[1;32m[INFO] [RRT Star Planner]: Path length 5 --> 40\u001b[0m\n",
      "\u001b[1;32m[INFO] [RRT Star Planner]: Start to compute RRT-star Planning\u001b[0m\n",
      "\u001b[1;32m[INFO] [RRT Star Planner]: The joint limit has been successfully checked. Pose error is 0.000000\u001b[0m\n"
     ]
    },
    {
     "name": "stdout",
     "output_type": "stream",
     "text": [
      "Cost is 3.629\n",
      "WorkingTime[run]: 4.6431 sec\n",
      "\n",
      "\u001b[1;33mplace bottle0 on table\u001b[0m\n",
      "solve with LM1\n",
      "Iterators : 10\n",
      "WorkingTime[inverse_kinematics]: 0.0053 sec\n",
      "\n"
     ]
    },
    {
     "name": "stderr",
     "output_type": "stream",
     "text": [
      "\u001b[1;32m[INFO] [RRT Star Planner]: Generate Path Successfully!!\u001b[0m\n",
      "\u001b[1;32m[INFO] [RRT Star Planner]: Path length 3 --> 20\u001b[0m\n",
      "\u001b[1;32m[INFO] [Cartesian Planner]: Start to compute Cartesian Planning\u001b[0m\n",
      "\u001b[1;32m[INFO] [Cartesian Planner]: Generate Path Successfully!! Error is 0.000001\u001b[0m\n",
      "\u001b[1;32m[INFO] [Cartesian Planner]: Start to compute Cartesian Planning\u001b[0m\n",
      "\u001b[1;32m[INFO] [Cartesian Planner]: Generate Path Successfully!! Error is 0.000001\u001b[0m\n",
      "\u001b[1;32m[INFO] [RRT Star Planner]: Start to compute RRT-star Planning\u001b[0m\n"
     ]
    },
    {
     "name": "stdout",
     "output_type": "stream",
     "text": [
      "Cost is 2.319\n",
      "WorkingTime[run]: 4.3095 sec\n",
      "\n",
      "WorkingTime[run]: 0.0483 sec\n",
      "\n",
      "WorkingTime[run]: 0.0475 sec\n",
      "\n"
     ]
    },
    {
     "name": "stderr",
     "output_type": "stream",
     "text": [
      "\u001b[1;32m[INFO] [RRT Star Planner]: Generate Path Successfully!!\u001b[0m\n",
      "\u001b[1;32m[INFO] [RRT Star Planner]: Path length 4 --> 30\u001b[0m\n",
      "\u001b[1;32m[INFO] [RRT Star Planner]: Start to compute RRT-star Planning\u001b[0m\n",
      "\u001b[1;32m[INFO] [RRT Star Planner]: The joint limit has been successfully checked. Pose error is 0.000000\u001b[0m\n"
     ]
    },
    {
     "name": "stdout",
     "output_type": "stream",
     "text": [
      "Cost is 2.465\n",
      "WorkingTime[run]: 3.2372 sec\n",
      "\n",
      "Success pnp\n",
      "\u001b[1;33mpick cereal0\u001b[0m\n",
      "solve with LM1\n",
      "Iterators : 24\n",
      "WorkingTime[inverse_kinematics]: 0.0114 sec\n",
      "\n",
      "solve with LM1\n",
      "Iterators : 15\n",
      "WorkingTime[inverse_kinematics]: 0.0070 sec\n",
      "\n",
      "solve with LM1\n",
      "Iterators : 25\n",
      "WorkingTime[inverse_kinematics]: 0.0114 sec\n",
      "\n",
      "solve with LM1\n",
      "Iterators : 12\n",
      "WorkingTime[inverse_kinematics]: 0.0058 sec\n",
      "\n",
      "solve with LM1\n",
      "Iterators : 22\n",
      "WorkingTime[inverse_kinematics]: 0.0101 sec\n",
      "\n",
      "solve with LM1\n",
      "Iterators : 23\n",
      "WorkingTime[inverse_kinematics]: 0.0106 sec\n",
      "\n"
     ]
    },
    {
     "name": "stderr",
     "output_type": "stream",
     "text": [
      "\u001b[1;32m[INFO] [RRT Star Planner]: Generate Path Successfully!!\u001b[0m\n",
      "\u001b[1;32m[INFO] [RRT Star Planner]: Path length 4 --> 30\u001b[0m\n",
      "\u001b[1;32m[INFO] [Cartesian Planner]: Start to compute Cartesian Planning\u001b[0m\n",
      "\u001b[1;32m[INFO] [Cartesian Planner]: Generate Path Successfully!! Error is 0.000002\u001b[0m\n",
      "\u001b[1;32m[INFO] [Cartesian Planner]: Start to compute Cartesian Planning\u001b[0m\n",
      "\u001b[1;32m[INFO] [Cartesian Planner]: Generate Path Successfully!! Error is 0.000006\u001b[0m\n",
      "\u001b[1;32m[INFO] [RRT Star Planner]: Start to compute RRT-star Planning\u001b[0m\n"
     ]
    },
    {
     "name": "stdout",
     "output_type": "stream",
     "text": [
      "Cost is 2.98\n",
      "WorkingTime[run]: 3.3639 sec\n",
      "\n",
      "WorkingTime[run]: 0.0505 sec\n",
      "\n",
      "WorkingTime[run]: 0.0555 sec\n",
      "\n"
     ]
    },
    {
     "name": "stderr",
     "output_type": "stream",
     "text": [
      "\u001b[1;32m[INFO] [RRT Star Planner]: Generate Path Successfully!!\u001b[0m\n",
      "\u001b[1;32m[INFO] [RRT Star Planner]: Path length 4 --> 30\u001b[0m\n",
      "\u001b[1;32m[INFO] [RRT Star Planner]: Start to compute RRT-star Planning\u001b[0m\n",
      "\u001b[1;32m[INFO] [RRT Star Planner]: The joint limit has been successfully checked. Pose error is 0.000001\u001b[0m\n"
     ]
    },
    {
     "name": "stdout",
     "output_type": "stream",
     "text": [
      "Cost is 3.025\n",
      "WorkingTime[run]: 4.5587 sec\n",
      "\n",
      "\u001b[1;33mplace cereal0 on table\u001b[0m\n",
      "solve with LM1\n",
      "Iterators : 9\n",
      "WorkingTime[inverse_kinematics]: 0.0046 sec\n",
      "\n"
     ]
    },
    {
     "name": "stderr",
     "output_type": "stream",
     "text": [
      "\u001b[1;32m[INFO] [RRT Star Planner]: Generate Path Successfully!!\u001b[0m\n",
      "\u001b[1;32m[INFO] [RRT Star Planner]: Path length 3 --> 20\u001b[0m\n",
      "\u001b[1;32m[INFO] [Cartesian Planner]: Start to compute Cartesian Planning\u001b[0m\n",
      "\u001b[1;32m[INFO] [Cartesian Planner]: Generate Path Successfully!! Error is 0.000001\u001b[0m\n",
      "\u001b[1;32m[INFO] [Cartesian Planner]: Start to compute Cartesian Planning\u001b[0m\n",
      "\u001b[1;32m[INFO] [Cartesian Planner]: Generate Path Successfully!! Error is 0.000001\u001b[0m\n",
      "\u001b[1;32m[INFO] [RRT Star Planner]: Start to compute RRT-star Planning\u001b[0m\n"
     ]
    },
    {
     "name": "stdout",
     "output_type": "stream",
     "text": [
      "Cost is 2.078\n",
      "WorkingTime[run]: 4.2053 sec\n",
      "\n",
      "WorkingTime[run]: 0.0499 sec\n",
      "\n",
      "WorkingTime[run]: 0.0520 sec\n",
      "\n"
     ]
    },
    {
     "name": "stderr",
     "output_type": "stream",
     "text": [
      "\u001b[1;32m[INFO] [RRT Star Planner]: Generate Path Successfully!!\u001b[0m\n",
      "\u001b[1;32m[INFO] [RRT Star Planner]: Path length 3 --> 20\u001b[0m\n",
      "\u001b[1;32m[INFO] [RRT Star Planner]: Start to compute RRT-star Planning\u001b[0m\n",
      "\u001b[1;32m[INFO] [RRT Star Planner]: The joint limit has been successfully checked. Pose error is 0.000003\u001b[0m\n"
     ]
    },
    {
     "name": "stdout",
     "output_type": "stream",
     "text": [
      "Cost is 2.232\n",
      "WorkingTime[run]: 3.2570 sec\n",
      "\n",
      "Success pnp\n",
      "\u001b[1;33mpick ben_cube0\u001b[0m\n",
      "solve with LM1\n",
      "Iterators : 10\n",
      "WorkingTime[inverse_kinematics]: 0.0076 sec\n",
      "\n"
     ]
    },
    {
     "name": "stderr",
     "output_type": "stream",
     "text": [
      "\u001b[1;32m[INFO] [RRT Star Planner]: Generate Path Successfully!!\u001b[0m\n",
      "\u001b[1;32m[INFO] [RRT Star Planner]: Path length 3 --> 20\u001b[0m\n",
      "\u001b[1;32m[INFO] [Cartesian Planner]: Start to compute Cartesian Planning\u001b[0m\n",
      "\u001b[1;32m[INFO] [Cartesian Planner]: Generate Path Successfully!! Error is 0.000001\u001b[0m\n",
      "\u001b[1;32m[INFO] [Cartesian Planner]: Start to compute Cartesian Planning\u001b[0m\n",
      "\u001b[1;32m[INFO] [Cartesian Planner]: Generate Path Successfully!! Error is 0.000001\u001b[0m\n",
      "\u001b[1;32m[INFO] [RRT Star Planner]: Start to compute RRT-star Planning\u001b[0m\n"
     ]
    },
    {
     "name": "stdout",
     "output_type": "stream",
     "text": [
      "Cost is 2.392\n",
      "WorkingTime[run]: 3.2452 sec\n",
      "\n",
      "WorkingTime[run]: 0.0495 sec\n",
      "\n",
      "WorkingTime[run]: 0.0472 sec\n",
      "\n"
     ]
    }
   ],
   "source": [
    "start_time = time.time()\n",
    "for i in range(budgets):\n",
    "# for i in range(10):\n",
    "    print(\n",
    "        f\"\\n[{idx+1}/{len(c_list)}] Benchmark: {rearrangement1.scene_mngr.scene.bench_num}, Algo: {algo}, C: {c}, Seed: {seed}\"\n",
    "    )\n",
    "    mcts.do_planning_rearrange(i)\n",
    "\n",
    "    print(\"########### Running time : \", time.time()- start_time, \"##############\")\n",
    "    final_level_1_values.append(mcts.values_for_level_1)\n"
   ]
  },
  {
   "cell_type": "code",
   "execution_count": 5,
   "id": "a5c260f9",
   "metadata": {},
   "outputs": [
    {
     "name": "stdout",
     "output_type": "stream",
     "text": [
      "[0, 5, 323, 325, 330, 335, 1889, 1892, 1894, 1897, 1898]\n",
      "[0, 5, 323, 325, 330, 335, 1889, 1892, 1894, 1897, 1898]\n"
     ]
    }
   ],
   "source": [
    "print(mcts.get_best_node())\n",
    "\n",
    "\n",
    "print(mcts.get_minimum_cost_node())"
   ]
  },
  {
   "cell_type": "code",
   "execution_count": null,
   "id": "621656ad",
   "metadata": {},
   "outputs": [],
   "source": [
    "mcts.time_used_in_level_1 ,mcts.time_used_in_level_1_5 ,mcts.time_used_in_level_2 \n"
   ]
  },
  {
   "cell_type": "code",
   "execution_count": 4,
   "id": "3dd87522",
   "metadata": {},
   "outputs": [
    {
     "data": {
      "text/plain": [
       "17"
      ]
     },
     "execution_count": 4,
     "metadata": {},
     "output_type": "execute_result"
    }
   ],
   "source": [
    "mcts.get_visit_node_num()"
   ]
  },
  {
   "cell_type": "code",
   "execution_count": 6,
   "id": "16942014",
   "metadata": {
    "scrolled": false
   },
   "outputs": [
    {
     "name": "stdout",
     "output_type": "stream",
     "text": [
      "13.0 {0: {'nodes': [0, 1, 88, 92, 93, 96, 99, 103, 105, 109, 111, 115, 116, 119, 121, 124, 126, 128, 132, 134, 138, 142, 143], 'value': 4.451948051948053}, 1: {'nodes': [0, 5, 323, 325, 330, 331, 336, 339, 341, 343, 347, 350, 352, 353, 356, 359, 360, 361, 366, 371, 372, 377, 378, 382, 384, 388, 389, 391, 394], 'value': 1.3172827172827155}, 2: {'nodes': [0, 1, 88, 92, 93, 94, 887, 890, 892, 895, 898, 901, 904, 905, 910, 914, 916, 917, 922, 923, 926, 929, 931, 935, 936, 940, 941, 942, 945], 'value': 0.37644577644577426}, 3: {'nodes': [0, 1, 88, 92, 93, 95, 1028, 1032, 1033, 1034, 1038, 1040, 1044, 1050, 1051, 1055, 1057, 1058, 1062, 1066, 1067, 1068, 1072, 1074, 1076, 1080, 1081, 1086, 1087, 1089, 1092, 1096, 1097], 'value': -3.208193277310924}, 4: {'nodes': [0, 1, 88, 92, 93, 96, 99, 101, 1614, 1616, 1619, 1620, 1624, 1626, 1629, 1632, 1634, 1638, 1640, 1642, 1646, 1647, 1650], 'value': 4.80909090909091}, 5: {'nodes': [0, 5, 323, 325, 330, 332, 1728, 1730, 1734, 1735, 1739, 1743, 1745, 1747, 1749, 1754, 1755, 1759, 1760], 'value': 6.294444444444446}, 6: {'nodes': [0, 5, 323, 325, 330, 333, 1761, 1766, 1767, 1770, 1771, 1773, 1775, 1777, 1780, 1782, 1785, 1788, 1790, 1791, 1795, 1799, 1800, 1802, 1806, 1811, 1812, 1814, 1816], 'value': 2.265334665334663}, 7: {'nodes': [0, 5, 323, 325, 330, 335, 1889, 1892, 1894, 1897, 1898], 'value': 13.0}}\n",
      "\n",
      "Result 7 :  [0, 5, 323, 325, 330, 335, 1889, 1892, 1894, 1897, 1898]\n",
      "state num : 11\n"
     ]
    }
   ],
   "source": [
    "max_level_1_value = mcts.get_max_value_level_1()\n",
    "print(max_level_1_value, mcts.history_level_1_dict)\n",
    "\n",
    "########## level 1 ##########\n",
    "if mcts.history_level_1_dict:\n",
    "    j, max_value_nodes = mcts.get_max_value_nodes_level_1()\n",
    "    \n",
    "    print()\n",
    "    print(f\"Result {j} : \", max_value_nodes)\n",
    "    print(\"state num :\", len(max_value_nodes))\n",
    "#     mcts.render_rearr(\"_\", max_value_nodes)"
   ]
  },
  {
   "cell_type": "code",
   "execution_count": 8,
   "id": "143197e0",
   "metadata": {
    "scrolled": true
   },
   "outputs": [
    {
     "data": {
      "text/plain": [
       "{0: {'nodes': [0,\n",
       "   4,\n",
       "   66,\n",
       "   122,\n",
       "   124,\n",
       "   127,\n",
       "   129,\n",
       "   131,\n",
       "   132,\n",
       "   134,\n",
       "   500,\n",
       "   502,\n",
       "   503,\n",
       "   506,\n",
       "   507,\n",
       "   509,\n",
       "   510,\n",
       "   511,\n",
       "   518,\n",
       "   519,\n",
       "   520,\n",
       "   522,\n",
       "   525,\n",
       "   529,\n",
       "   530],\n",
       "  'value': 9.001399},\n",
       " 1: {'nodes': [0,\n",
       "   4,\n",
       "   66,\n",
       "   122,\n",
       "   124,\n",
       "   127,\n",
       "   129,\n",
       "   131,\n",
       "   132,\n",
       "   134,\n",
       "   500,\n",
       "   502,\n",
       "   503,\n",
       "   506,\n",
       "   507,\n",
       "   509,\n",
       "   510,\n",
       "   511,\n",
       "   514,\n",
       "   770,\n",
       "   771,\n",
       "   772,\n",
       "   776,\n",
       "   779,\n",
       "   780],\n",
       "  'value': 9.014599}}"
      ]
     },
     "execution_count": 8,
     "metadata": {},
     "output_type": "execute_result"
    }
   ],
   "source": [
    "mcts.history_level_2_dict"
   ]
  },
  {
   "cell_type": "code",
   "execution_count": 7,
   "id": "1c2739e8",
   "metadata": {
    "scrolled": true
   },
   "outputs": [
    {
     "data": {
      "text/plain": [
       "[]"
      ]
     },
     "execution_count": 7,
     "metadata": {},
     "output_type": "execute_result"
    }
   ],
   "source": [
    "mcts.infeasible_sub_nodes"
   ]
  },
  {
   "cell_type": "markdown",
   "id": "6cb000ef",
   "metadata": {},
   "source": [
    "# Contact graspnet 사용 하는 버전 전용 디버깅"
   ]
  },
  {
   "cell_type": "markdown",
   "id": "b5d20d85",
   "metadata": {},
   "source": [
    "## 실패를 했음. 그 와중에 Level 1.5는 다 생성했음. "
   ]
  },
  {
   "cell_type": "code",
   "execution_count": 36,
   "id": "19ae3fe9",
   "metadata": {
    "scrolled": true
   },
   "outputs": [
    {
     "name": "stdout",
     "output_type": "stream",
     "text": [
      "nodes [0, 3, 10, 172, 173, 175, 180, 388, 389, 392, 591, 592, 593, 594, 598, 601, 602, 604, 607, 609, 610]\n",
      "Here doesn't have grasp\n"
     ]
    },
    {
     "data": {
      "image/png": "[encoded data removed]",
      "text/plain": [
       "<Figure size 1200x800 with 1 Axes>"
      ]
     },
     "metadata": {},
     "output_type": "display_data"
    }
   ],
   "source": [
    "max_level_1_value = mcts.get_max_value_level_1()\n",
    "\n",
    "\n",
    "fig, ax = p_utils.init_3d_figure(name=\"Level wise 1\")\n",
    "\n",
    "# nodes = mcts.infeasible_sub_nodes[0]\n",
    "# nodes = mcts.history_level_1_dict[4]['nodes']\n",
    "j, nodes = mcts.get_max_value_nodes_level_1()\n",
    "\n",
    "print(\"nodes\", nodes)\n",
    "i = 0\n",
    "for i in range(len(nodes)//2):\n",
    "    mcts.rearr_action.deepcopy_scene(mcts.tree.nodes[nodes[2*(i)+1]]['state'])\n",
    "    \n",
    "    grasp = mcts.tree.nodes[nodes[2*(i)+1]].get('grasp_poses')\n",
    "    if grasp:\n",
    "        grasp = grasp[0]['grasp']\n",
    "    else:\n",
    "        print(\"Here doesn't have grasp\")\n",
    "        \n",
    "        mcts.rearr_action.scene_mngr.render_objects(ax)\n",
    "        p_utils.plot_basis(ax)\n",
    "        mcts.rearr_action.show()\n",
    "        break\n",
    "    mcts.rearr_action.scene_mngr.set_gripper_pose(grasp)\n",
    "    \n",
    "    gripper_kinematics_info = mcts.rearr_action.scene_mngr.scene.robot.gripper.get_gripper_fk()\n",
    "\n",
    "    gripper_tip_poses = mcts.scene_mngr.scene.robot.gripper.compute_gripper_tip_pose_from_gripper_pose()\n",
    "\n",
    "\n",
    "    mcts.rearr_action.scene_mngr.render_axis(ax, gripper_kinematics_info['leftfinger'])\n",
    "    mcts.rearr_action.scene_mngr.render_axis(ax, gripper_kinematics_info['rightfinger'])\n",
    "    mcts.rearr_action.scene_mngr.render_axis(ax, mcts.scene_mngr.scene.robot.gripper.compute_gripper_tip_pose_from_gripper_pose(gripper_kinematics_info['rightfinger']))\n",
    "    mcts.rearr_action.scene_mngr.render_axis(ax, mcts.scene_mngr.scene.robot.gripper.compute_gripper_tip_pose_from_gripper_pose(gripper_kinematics_info['leftfinger']))\n",
    "\n",
    "    mcts.rearr_action.scene_mngr.render_axis(ax, mcts.rearr_action.scene_mngr.scene.robot.gripper.get_gripper_tcp_pose())\n",
    "    mcts.rearr_action.scene_mngr.render_gripper(ax)\n",
    "\n",
    "    mcts.rearr_action.scene_mngr.render_objects(ax)\n",
    "    p_utils.plot_basis(ax)\n",
    "    mcts.rearr_action.show()"
   ]
  },
  {
   "cell_type": "markdown",
   "id": "c39ce712",
   "metadata": {},
   "source": [
    "각 node에서 생성한 grasp을 inverse kinematics를 풀어보자 \n",
    "\n",
    "\n",
    "엄청 쉬워보이는 자세인데 왜 IK 실패를 할까"
   ]
  },
  {
   "cell_type": "code",
   "execution_count": 39,
   "id": "edd3cadb",
   "metadata": {},
   "outputs": [],
   "source": [
    "def show_curernt_scene(q, pose):\n",
    "    fig, ax = p_utils.init_3d_figure(name=\"Level wise 1\")\n",
    "    \n",
    "    mcts.rearr_action.scene_mngr.set_robot_eef_pose(q)\n",
    "    mcts.rearr_action.scene_mngr.render_axis(ax, mcts.rearr_action.scene_mngr.scene.robot.gripper.get_gripper_pose())\n",
    "    mcts.rearr_action.scene_mngr.render_gripper(ax)\n",
    "    \n",
    "    mcts.rearr_action.scene_mngr.set_gripper_pose(pose)\n",
    "    mcts.rearr_action.scene_mngr.render_axis(ax, mcts.rearr_action.scene_mngr.scene.robot.gripper.get_gripper_pose())\n",
    "    mcts.rearr_action.scene_mngr.render_gripper(ax)\n",
    "\n",
    "    mcts.rearr_action.scene_mngr.render_objects(ax)\n",
    "    p_utils.plot_basis(ax)\n",
    "    mcts.rearr_action.show()"
   ]
  },
  {
   "cell_type": "markdown",
   "id": "259a9dd3",
   "metadata": {},
   "source": [
    "여기서 실패가 나는게 말이 안됨.."
   ]
  },
  {
   "cell_type": "code",
   "execution_count": 40,
   "id": "a50c26b0",
   "metadata": {
    "scrolled": true
   },
   "outputs": [
    {
     "name": "stdout",
     "output_type": "stream",
     "text": [
      "Current state node num :  10\n",
      "Current state is came from last action\n",
      "[[ 1.7347235e-18  3.7369016e-01  9.2755359e-01  2.7714780e-01]\n",
      " [-4.5109000e-02  9.2660940e-01 -3.7330979e-01 -1.5398476e-01]\n",
      " [-9.9898207e-01 -4.1841015e-02  1.6856790e-02  8.5422677e-01]\n",
      " [ 0.0000000e+00  0.0000000e+00  0.0000000e+00  1.0000000e+00]]\n"
     ]
    },
    {
     "ename": "KeyError",
     "evalue": "'pre_release'",
     "output_type": "error",
     "traceback": [
      "\u001b[0;31m---------------------------------------------------------------------------\u001b[0m",
      "\u001b[0;31mKeyError\u001b[0m                                  Traceback (most recent call last)",
      "Cell \u001b[0;32mIn[40], line 22\u001b[0m\n\u001b[1;32m     19\u001b[0m grasp_pose \u001b[38;5;241m=\u001b[39m current_state_node[\u001b[38;5;124m'\u001b[39m\u001b[38;5;124maction\u001b[39m\u001b[38;5;124m'\u001b[39m][\u001b[38;5;124m'\u001b[39m\u001b[38;5;124mgrasp\u001b[39m\u001b[38;5;124m'\u001b[39m]\n\u001b[1;32m     20\u001b[0m post_grasp_pose \u001b[38;5;241m=\u001b[39m current_state_node[\u001b[38;5;124m'\u001b[39m\u001b[38;5;124maction\u001b[39m\u001b[38;5;124m'\u001b[39m][\u001b[38;5;124m'\u001b[39m\u001b[38;5;124mpost_grasp\u001b[39m\u001b[38;5;124m'\u001b[39m]\n\u001b[0;32m---> 22\u001b[0m pre_release_pose \u001b[38;5;241m=\u001b[39m \u001b[43mcurrent_state_node\u001b[49m\u001b[43m[\u001b[49m\u001b[38;5;124;43m'\u001b[39;49m\u001b[38;5;124;43maction\u001b[39;49m\u001b[38;5;124;43m'\u001b[39;49m\u001b[43m]\u001b[49m\u001b[43m[\u001b[49m\u001b[38;5;124;43m'\u001b[39;49m\u001b[38;5;124;43mpre_release\u001b[39;49m\u001b[38;5;124;43m'\u001b[39;49m\u001b[43m]\u001b[49m\n\u001b[1;32m     23\u001b[0m release_pose \u001b[38;5;241m=\u001b[39m current_state_node[\u001b[38;5;124m'\u001b[39m\u001b[38;5;124maction\u001b[39m\u001b[38;5;124m'\u001b[39m][\u001b[38;5;124m'\u001b[39m\u001b[38;5;124mrelease\u001b[39m\u001b[38;5;124m'\u001b[39m]\n\u001b[1;32m     24\u001b[0m post_release_pose \u001b[38;5;241m=\u001b[39m current_state_node[\u001b[38;5;124m'\u001b[39m\u001b[38;5;124maction\u001b[39m\u001b[38;5;124m'\u001b[39m][\u001b[38;5;124m'\u001b[39m\u001b[38;5;124mpost_release\u001b[39m\u001b[38;5;124m'\u001b[39m]\n",
      "\u001b[0;31mKeyError\u001b[0m: 'pre_release'"
     ]
    }
   ],
   "source": [
    "default_thetas = mcts.rearr_action.scene_mngr.scene.robot.init_qpos\n",
    "\n",
    "for _, i in enumerate(nodes):\n",
    "    if _ < 1:\n",
    "        continue\n",
    "    if _%2 == 1:\n",
    "        continue\n",
    "        \n",
    "    print(\"Current state node num : \",i)\n",
    "    print(\"Current state is came from last action\")\n",
    "    \n",
    "    mcts.rearr_action.deepcopy_scene(mcts.tree.nodes[nodes[2*_-1]]['state'])\n",
    "\n",
    "    last_action_node = mcts.tree.nodes[nodes[2*_+1]]\n",
    "    current_state_node = mcts.tree.nodes[i]\n",
    "    \n",
    "    print(current_state_node['action']['pre_grasp'])\n",
    "    pre_grasp_pose = current_state_node['action']['pre_grasp']\n",
    "    grasp_pose = current_state_node['action']['grasp']\n",
    "    post_grasp_pose = current_state_node['action']['post_grasp']\n",
    "    \n",
    "    pre_release_pose = current_state_node['action']['pre_release']\n",
    "    release_pose = current_state_node['action']['release']\n",
    "    post_release_pose = current_state_node['action']['post_release']\n",
    "    \n",
    "    obj_release_pose = current_state_node['action']['table']\n",
    "    # Set Scene\n",
    "    mcts.rearr_action.scene_mngr.set_robot_eef_pose(default_thetas)\n",
    "    rearr_obj_name = current_state_node['state'].rearr_obj_name\n",
    "    rearr_default_pose = current_state_node['state'].rearr_obj_default_pose\n",
    "    print(\"rearr_obj_name : \", rearr_obj_name)\n",
    "    \n",
    "    mcts.rearr_action.scene_mngr.set_object_pose(rearr_obj_name, rearr_default_pose)\n",
    "\n",
    "    show_curernt_scene(default_thetas ,pre_grasp_pose)\n",
    "    print(\"default 부터 Pre grasp까지 IK 품\")\n",
    "    \n",
    "    goal_q = mcts.rearr_action.scene_mngr.scene.robot.inverse_kin(\n",
    "            default_thetas, pre_grasp_pose, max_iter=100\n",
    "        )\n",
    "    \n",
    "    show_curernt_scene(goal_q, grasp_pose)\n",
    "    print(\"pre_grasp 부터 grasp까지 IK 품\")\n",
    "    goal_q = mcts.rearr_action.scene_mngr.scene.robot.inverse_kin(\n",
    "        goal_q, grasp_pose, max_iter=100\n",
    "    )\n",
    "    \n",
    "    show_curernt_scene(goal_q, post_grasp_pose)\n",
    "    print(\"grasp 부터 post_grasp까지 IK 품\")\n",
    "    goal_q = mcts.rearr_action.scene_mngr.scene.robot.inverse_kin(\n",
    "        goal_q, post_grasp_pose, max_iter=100\n",
    "    )\n",
    "    \n",
    "    mcts.rearr_action.scene_mngr.set_robot_eef_pose(default_thetas)\n",
    "\n",
    "    mcts.rearr_action.scene_mngr.set_object_pose(rearr_obj_name, obj_release_pose)\n",
    "\n",
    "    show_curernt_scene(default_thetas, post_release_pose)\n",
    "    print(\"default 부터 post_release까지 IK 품\")\n",
    "    goal_q = mcts.rearr_action.scene_mngr.scene.robot.inverse_kin(\n",
    "        default_thetas, pre_release_pose, max_iter=100\n",
    "    )\n",
    "    \n",
    "    show_curernt_scene(goal_q, release_pose)\n",
    "    print(\"release 부터 post_release까지 IK 품\")\n",
    "    goal_q = mcts.rearr_action.scene_mngr.scene.robot.inverse_kin(\n",
    "        goal_q, release_pose, max_iter=100\n",
    "    )\n",
    "    \n",
    "    show_curernt_scene(goal_q, post_release_pose)\n",
    "    print(\"post_release 부터 post_release까지 IK 품\")\n",
    "    goal_q = mcts.rearr_action.scene_mngr.scene.robot.inverse_kin(\n",
    "        goal_q, release_pose, max_iter=100\n",
    "    )\n",
    "    \n",
    "    break"
   ]
  },
  {
   "cell_type": "code",
   "execution_count": 41,
   "id": "5060b789",
   "metadata": {},
   "outputs": [],
   "source": [
    "########## level 1 ##########\n",
    "if mcts.history_level_2_dict:\n",
    "    j, max_value_nodes = mcts.get_max_value_nodes_level_1()\n",
    "    print(f\"Result {j} : \", max_value_nodes)\n",
    "    print(\"state num :\", len(max_value_nodes))\n",
    "    mcts.render_rearr(\"_\", max_value_nodes)"
   ]
  },
  {
   "cell_type": "code",
   "execution_count": null,
   "id": "44713b7a",
   "metadata": {},
   "outputs": [],
   "source": []
  },
  {
   "cell_type": "code",
   "execution_count": 68,
   "id": "804ca7e3",
   "metadata": {},
   "outputs": [
    {
     "data": {
      "text/plain": [
       "{'release': array([[-0.035319  ,  0.49304995, -0.8692838 ,  0.6695346 ],\n",
       "        [ 0.02806048, -0.8689943 , -0.49402586,  0.3249112 ],\n",
       "        [-0.9989821 , -0.04184102,  0.01685679,  0.85591245],\n",
       "        [ 0.        ,  0.        ,  0.        ,  1.        ]],\n",
       "       dtype=float32),\n",
       " 'pre_release': array([[-0.035319  ,  0.49304995, -0.8692838 ,  0.6695346 ],\n",
       "        [ 0.02806048, -0.8689943 , -0.49402586,  0.3249112 ],\n",
       "        [-0.9989821 , -0.04184102,  0.01685679,  0.90591246],\n",
       "        [ 0.        ,  0.        ,  0.        ,  1.        ]],\n",
       "       dtype=float32),\n",
       " 'post_release': array([[-0.035319  ,  0.49304995, -0.8692838 ,  0.7129988 ],\n",
       "        [ 0.02806048, -0.8689943 , -0.49402586,  0.3496125 ],\n",
       "        [-0.9989821 , -0.04184102,  0.01685679,  0.85506964],\n",
       "        [ 0.        ,  0.        ,  0.        ,  1.        ]],\n",
       "       dtype=float32)}"
      ]
     },
     "execution_count": 68,
     "metadata": {},
     "output_type": "execute_result"
    }
   ],
   "source": [
    "mcts.tree.nodes[172]['action']['rearr_poses'][0][0]"
   ]
  },
  {
   "cell_type": "markdown",
   "id": "bad31b8b",
   "metadata": {},
   "source": [
    "# Pick action 사용하는 버전 전용 디버깅"
   ]
  },
  {
   "cell_type": "code",
   "execution_count": 10,
   "id": "9ec37c4c",
   "metadata": {},
   "outputs": [
    {
     "name": "stdout",
     "output_type": "stream",
     "text": [
      "nodes [0, 1, 29, 136, 137, 139, 211, 214, 215, 218, 219, 223, 224, 225, 231, 236, 237, 238, 243, 247, 248, 251, 255, 258, 259, 260, 267, 268, 269]\n",
      "1\n",
      "136\n",
      "139\n",
      "214\n",
      "218\n",
      "223\n",
      "225\n",
      "236\n",
      "238\n",
      "247\n",
      "251\n",
      "258\n",
      "260\n",
      "268\n"
     ]
    },
    {
     "data": {
      "image/png": "[encoded data removed]",
      "text/plain": [
       "<Figure size 1200x800 with 1 Axes>"
      ]
     },
     "metadata": {},
     "output_type": "display_data"
    }
   ],
   "source": [
    "max_level_1_value = mcts.get_max_value_level_1()\n",
    "\n",
    "fig, ax = p_utils.init_3d_figure(name=\"Level wise 1\")\n",
    "\n",
    "j, nodes = mcts.get_max_value_nodes_level_1()\n",
    "\n",
    "print(\"nodes\", nodes)\n",
    "i = 0\n",
    "for i in range(len(nodes)//2):\n",
    "    print(nodes[2*(i)+1])\n",
    "    mcts.rearr_action.deepcopy_scene(mcts.tree.nodes[nodes[2*(i)+1]]['state'])\n",
    "    \n",
    "    action_type = mcts.tree.nodes[nodes[2*(i)+1]].get('action').get('type')\n",
    "    if action_type == 'pick':\n",
    "        grasp = mcts.tree.nodes[nodes[2*(i)+1]].get('action').get('grasp_poses')\n",
    "        if grasp:\n",
    "            grasp = grasp[0]['grasp']\n",
    "        else:\n",
    "            print(\"Here doesn't have grasp\")\n",
    "            mcts.rearr_action.scene_mngr.render_objects(ax)\n",
    "            p_utils.plot_basis(ax)\n",
    "            mcts.rearr_action.show()\n",
    "            break\n",
    "    if action_type == 'rearr':\n",
    "        grasp = mcts.tree.nodes[nodes[2*(i)+1]].get('action').get('rearr_poses')[0]\n",
    "        if grasp:\n",
    "            grasp = grasp[0].get('release')\n",
    "        else:\n",
    "            print(\"Here doesn't have grasp\")\n",
    "\n",
    "            mcts.rearr_action.scene_mngr.render_objects(ax)\n",
    "            p_utils.plot_basis(ax)\n",
    "            mcts.rearr_action.show()\n",
    "            break\n",
    "    mcts.rearr_action.scene_mngr.set_gripper_pose(grasp)\n",
    "    \n",
    "    gripper_kinematics_info = mcts.rearr_action.scene_mngr.scene.robot.gripper.get_gripper_fk()\n",
    "\n",
    "    gripper_tip_poses = mcts.scene_mngr.scene.robot.gripper.compute_gripper_tip_pose_from_gripper_pose()\n",
    "\n",
    "\n",
    "    mcts.rearr_action.scene_mngr.render_axis(ax, gripper_kinematics_info['leftfinger'])\n",
    "    mcts.rearr_action.scene_mngr.render_axis(ax, gripper_kinematics_info['rightfinger'])\n",
    "    mcts.rearr_action.scene_mngr.render_axis(ax, mcts.scene_mngr.scene.robot.gripper.compute_gripper_tip_pose_from_gripper_pose(gripper_kinematics_info['rightfinger']))\n",
    "    mcts.rearr_action.scene_mngr.render_axis(ax, mcts.scene_mngr.scene.robot.gripper.compute_gripper_tip_pose_from_gripper_pose(gripper_kinematics_info['leftfinger']))\n",
    "\n",
    "    mcts.rearr_action.scene_mngr.render_axis(ax, mcts.rearr_action.scene_mngr.scene.robot.gripper.get_gripper_tcp_pose())\n",
    "    mcts.rearr_action.scene_mngr.render_gripper(ax)\n",
    "\n",
    "    mcts.rearr_action.scene_mngr.render_objects(ax)\n",
    "    p_utils.plot_basis(ax)\n",
    "    mcts.rearr_action.show()"
   ]
  },
  {
   "cell_type": "code",
   "execution_count": null,
   "id": "b16b9a91",
   "metadata": {},
   "outputs": [],
   "source": []
  },
  {
   "cell_type": "code",
   "execution_count": null,
   "id": "454e7bc9",
   "metadata": {},
   "outputs": [],
   "source": []
  },
  {
   "cell_type": "code",
   "execution_count": null,
   "id": "05a702c3",
   "metadata": {},
   "outputs": [],
   "source": []
  },
  {
   "cell_type": "code",
   "execution_count": null,
   "id": "a02612cc",
   "metadata": {},
   "outputs": [],
   "source": []
  },
  {
   "cell_type": "code",
   "execution_count": null,
   "id": "1f328116",
   "metadata": {},
   "outputs": [],
   "source": []
  },
  {
   "cell_type": "code",
   "execution_count": null,
   "id": "00f245f0",
   "metadata": {},
   "outputs": [],
   "source": []
  },
  {
   "cell_type": "code",
   "execution_count": null,
   "id": "452d9b4c",
   "metadata": {},
   "outputs": [],
   "source": []
  },
  {
   "cell_type": "code",
   "execution_count": null,
   "id": "bfcfa743",
   "metadata": {},
   "outputs": [],
   "source": []
  },
  {
   "cell_type": "code",
   "execution_count": 9,
   "id": "936af052",
   "metadata": {},
   "outputs": [],
   "source": [
    "max_value_nodes = mcts.get_minimum_cost_node()"
   ]
  },
  {
   "cell_type": "markdown",
   "id": "542e40b7",
   "metadata": {},
   "source": [
    "## Save path "
   ]
  },
  {
   "cell_type": "code",
   "execution_count": 10,
   "id": "5ee956dc",
   "metadata": {},
   "outputs": [],
   "source": [
    "final_level_1_values = []\n",
    "final_level_2_values = []\n",
    "final_optimal_nodes = []\n",
    "final_pnp_all_joint_paths = []\n",
    "final_pick_all_objects = []\n",
    "final_place_all_object_poses = []\n",
    "if mcts.level_wise_2_success:\n",
    "    (\n",
    "        pnp_all_joint_paths,\n",
    "        pick_all_objects,\n",
    "        place_all_object_poses,\n",
    "    ) = mcts.get_all_joint_path(max_value_nodes)\n",
    "    final_pnp_all_joint_paths.append(pnp_all_joint_paths)\n",
    "    final_pick_all_objects.append(pick_all_objects)\n",
    "    final_place_all_object_poses.append(place_all_object_poses)\n",
    "    final_optimal_nodes.append(mcts.optimal_nodes)\n",
    "else:\n",
    "    final_pnp_all_joint_paths.append([])\n",
    "    final_pick_all_objects.append([])\n",
    "    final_place_all_object_poses.append([])\n",
    "    final_optimal_nodes.append([])"
   ]
  },
  {
   "cell_type": "code",
   "execution_count": 11,
   "id": "1e5ce639",
   "metadata": {
    "scrolled": true
   },
   "outputs": [
    {
     "name": "stdout",
     "output_type": "stream",
     "text": [
      "Error 1.5 0\n",
      "Error 1.5 4\n",
      "Error 1.5 66\n",
      "Error 1.5 122\n",
      "Error 1.5 124\n",
      "Error 1.5 127\n",
      "Error 1.5 129\n",
      "Error 1.5 131\n",
      "Error 1.5 132\n",
      "Error 1.5 134\n",
      "Error 1.5 500\n",
      "Error 1.5 502\n",
      "Error 1.5 503\n",
      "Error 1.5 506\n",
      "Error 1.5 507\n",
      "Error 1.5 509\n",
      "Error 1.5 510\n",
      "Error 1.5 511\n",
      "Error 1.5 518\n",
      "Error 1.5 519\n",
      "Error 1.5 520\n",
      "Error 1.5 522\n",
      "Error 1.5 525\n",
      "Error 1.5 529\n",
      "Error 1.5 530\n"
     ]
    }
   ],
   "source": [
    "for i in max_value_nodes:\n",
    "    if not mcts.tree.nodes[i]['level1_5']:\n",
    "        print(\"Error 1.5\", i)\n",
    "for i in max_value_nodes:\n",
    "    if not mcts.tree.nodes[i]['level2']:\n",
    "        print(\"Error 2\", i)\n",
    "        "
   ]
  },
  {
   "cell_type": "code",
   "execution_count": 12,
   "id": "4b013d0b",
   "metadata": {
    "scrolled": true
   },
   "outputs": [
    {
     "name": "stdout",
     "output_type": "stream",
     "text": [
      "0 scene\n",
      "100 scene\n",
      "200 scene\n",
      "300 scene\n",
      "400 scene\n",
      "500 scene\n",
      "600 scene\n",
      "700 scene\n",
      "800 scene\n",
      "900 scene\n",
      "Animation Finished..\n",
      "PWD :  /home/juju/pytamp/examples/doosan/action/rearrangement1/movie_dir\n",
      "Save finished..\n"
     ]
    },
    {
     "data": {
      "image/png": "[encoded data removed]",
      "text/plain": [
       "<Figure size 1200x800 with 1 Axes>"
      ]
     },
     "metadata": {},
     "output_type": "display_data"
    },
    {
     "data": {
      "image/png": "[encoded data removed]",
      "text/plain": [
       "<Figure size 640x480 with 1 Axes>"
      ]
     },
     "metadata": {},
     "output_type": "display_data"
    }
   ],
   "source": [
    "from pykin.utils.kin_utils import apply_robot_to_scene\n",
    "\n",
    "mcts.rearr_action.scene_mngr.render.render_objects(mcts.tree.nodes[0]['state'].objs)\n",
    "# pick.scene_mngr.render.trimesh_scene = apply_robot_to_scene(\n",
    "#         trimesh_scene=pick.scene_mngr.render.trimesh_scene, \n",
    "#         robot=pick.scene_mngr.scene.robot,\n",
    "#         geom=\"visual\"\n",
    "#             )\n",
    "# pick.scene_mngr.render.set_camera_view()\n",
    "\n",
    "mcts.rearr_action.simulate_path(\n",
    "    final_pnp_all_joint_paths[0],\n",
    "    final_pick_all_objects[0],\n",
    "    final_place_all_object_poses[0],\n",
    "    is_save=True,\n",
    "#     video_name=\"pick_rearrangement1_only_current_scene\",\n",
    "    video_name=\"pick_rearrangement1_using_pick_action_minimum_cost_nodes\",\n",
    ")\n"
   ]
  },
  {
   "cell_type": "code",
   "execution_count": 20,
   "id": "ea33a8fd",
   "metadata": {},
   "outputs": [
    {
     "data": {
      "text/plain": [
       "24"
      ]
     },
     "execution_count": 20,
     "metadata": {},
     "output_type": "execute_result"
    }
   ],
   "source": [
    "count = 0\n",
    "for i in mcts.tree.nodes:\n",
    "    if mcts.tree.nodes[i]['visit']>1:\n",
    "        count += 1\n",
    "count"
   ]
  },
  {
   "cell_type": "code",
   "execution_count": 7,
   "id": "197f1eb7",
   "metadata": {},
   "outputs": [
    {
     "data": {
      "text/plain": [
       "17"
      ]
     },
     "execution_count": 7,
     "metadata": {},
     "output_type": "execute_result"
    }
   ],
   "source": [
    "count = 0\n",
    "for i in mcts.tree.nodes:\n",
    "    if mcts.tree.nodes[i]['visit']>1:\n",
    "        count += 1\n",
    "count"
   ]
  },
  {
   "cell_type": "code",
   "execution_count": 30,
   "id": "26048edb",
   "metadata": {},
   "outputs": [
    {
     "data": {
      "text/plain": [
       "{'depth': 1,\n",
       " 'state': <pytamp.scene.scene.Scene at 0x7fda17004a00>,\n",
       " 'action': {'type': 'pick',\n",
       "  'pick_obj_name': 'can0',\n",
       "  'grasp_poses': [{'grasp': array([[ 0.        ,  0.59427848,  0.80425934,  0.38289493],\n",
       "           [ 0.00525198,  0.80424825, -0.59427028, -0.17083556],\n",
       "           [-0.99998621,  0.00422396, -0.00312114,  0.86611772],\n",
       "           [ 0.        ,  0.        ,  0.        ,  1.        ]]),\n",
       "    'pre_grasp': array([[ 0.        ,  0.59427845,  0.80425936,  0.30246902],\n",
       "           [ 0.00525198,  0.8042483 , -0.5942703 , -0.11140853],\n",
       "           [-0.99998623,  0.00422396, -0.00312114,  0.8664298 ],\n",
       "           [ 0.        ,  0.        ,  0.        ,  1.        ]],\n",
       "          dtype=float32),\n",
       "    'post_grasp': array([[ 0.        ,  0.59427845,  0.80425936,  0.38289493],\n",
       "           [ 0.00525198,  0.8042483 , -0.5942703 , -0.17083555],\n",
       "           [-0.99998623,  0.00422396, -0.00312114,  0.96611774],\n",
       "           [ 0.        ,  0.        ,  0.        ,  1.        ]],\n",
       "          dtype=float32)},\n",
       "   {'grasp': array([[-8.04259342e-01,  5.94278480e-01,  1.06188044e-14,\n",
       "             4.60908091e-01],\n",
       "           [ 5.94270284e-01,  8.04248249e-01,  5.25198430e-03,\n",
       "            -2.28989218e-01],\n",
       "           [ 3.12114125e-03,  4.22395744e-03, -9.99986208e-01,\n",
       "             9.62813633e-01],\n",
       "           [ 0.00000000e+00,  0.00000000e+00,  0.00000000e+00,\n",
       "             1.00000000e+00]]),\n",
       "    'pre_grasp': array([[-8.0425936e-01,  5.9427845e-01,  1.0618804e-14,  4.6090809e-01],\n",
       "           [ 5.9427029e-01,  8.0424827e-01,  5.2519841e-03, -2.2951442e-01],\n",
       "           [ 3.1211413e-03,  4.2239577e-03, -9.9998623e-01,  1.0628122e+00],\n",
       "           [ 0.0000000e+00,  0.0000000e+00,  0.0000000e+00,  1.0000000e+00]],\n",
       "          dtype=float32),\n",
       "    'post_grasp': array([[-8.0425936e-01,  5.9427845e-01,  1.0618804e-14,  4.6090809e-01],\n",
       "           [ 5.9427029e-01,  8.0424827e-01,  5.2519841e-03, -2.2898921e-01],\n",
       "           [ 3.1211413e-03,  4.2239577e-03, -9.9998623e-01,  1.0628136e+00],\n",
       "           [ 0.0000000e+00,  0.0000000e+00,  0.0000000e+00,  1.0000000e+00]],\n",
       "          dtype=float32)},\n",
       "   {'grasp': array([[ 8.67361738e-19,  6.93705492e-02,  9.97590962e-01,\n",
       "             3.64132064e-01],\n",
       "           [ 6.12110789e-02,  9.95720323e-01, -6.92404686e-02,\n",
       "            -2.20765634e-01],\n",
       "           [-9.98124844e-01,  6.10636191e-02, -4.24624616e-03,\n",
       "             8.71653369e-01],\n",
       "           [ 0.00000000e+00,  0.00000000e+00,  0.00000000e+00,\n",
       "             1.00000000e+00]]),\n",
       "    'pre_grasp': array([[ 8.6736174e-19,  6.9370553e-02,  9.9759096e-01,  2.6437297e-01],\n",
       "           [ 6.1211079e-02,  9.9572033e-01, -6.9240466e-02, -2.1384159e-01],\n",
       "           [-9.9812484e-01,  6.1063617e-02, -4.2462461e-03,  8.7207800e-01],\n",
       "           [ 0.0000000e+00,  0.0000000e+00,  0.0000000e+00,  1.0000000e+00]],\n",
       "          dtype=float32),\n",
       "    'post_grasp': array([[ 8.6736174e-19,  6.9370553e-02,  9.9759096e-01,  3.6413208e-01],\n",
       "           [ 6.1211079e-02,  9.9572033e-01, -6.9240466e-02, -2.2076564e-01],\n",
       "           [-9.9812484e-01,  6.1063617e-02, -4.2462461e-03,  9.7165334e-01],\n",
       "           [ 0.0000000e+00,  0.0000000e+00,  0.0000000e+00,  1.0000000e+00]],\n",
       "          dtype=float32)},\n",
       "   {'grasp': array([[-9.97590962e-01,  6.93705492e-02,  2.87805025e-16,\n",
       "             4.60898388e-01],\n",
       "           [ 6.92404686e-02,  9.95720323e-01,  6.12110789e-02,\n",
       "            -2.33419435e-01],\n",
       "           [ 4.24624616e-03,  6.10636191e-02, -9.98124844e-01,\n",
       "             9.68059593e-01],\n",
       "           [ 0.00000000e+00,  0.00000000e+00,  0.00000000e+00,\n",
       "             1.00000000e+00]]),\n",
       "    'pre_grasp': array([[-9.9759096e-01,  6.9370553e-02,  2.8780501e-16,  4.6089840e-01],\n",
       "           [ 6.9240466e-02,  9.9572033e-01,  6.1211079e-02, -2.3954055e-01],\n",
       "           [ 4.2462461e-03,  6.1063617e-02, -9.9812484e-01,  1.0678720e+00],\n",
       "           [ 0.0000000e+00,  0.0000000e+00,  0.0000000e+00,  1.0000000e+00]],\n",
       "          dtype=float32),\n",
       "    'post_grasp': array([[-9.9759096e-01,  6.9370553e-02,  2.8780501e-16,  4.6089840e-01],\n",
       "           [ 6.9240466e-02,  9.9572033e-01,  6.1211079e-02, -2.3341943e-01],\n",
       "           [ 4.2462461e-03,  6.1063617e-02, -9.9812484e-01,  1.0680596e+00],\n",
       "           [ 0.0000000e+00,  0.0000000e+00,  0.0000000e+00,  1.0000000e+00]],\n",
       "          dtype=float32)},\n",
       "   {'grasp': array([[ 8.32667268e-17,  7.83753656e-01, -6.21071821e-01,\n",
       "             5.19137509e-01],\n",
       "           [ 1.52720020e-01, -6.13786335e-01, -7.74559830e-01,\n",
       "            -1.52742894e-01],\n",
       "           [-9.88269495e-01, -9.48501012e-02, -1.19694874e-01,\n",
       "             8.51534137e-01],\n",
       "           [ 0.00000000e+00,  0.00000000e+00,  0.00000000e+00,\n",
       "             1.00000000e+00]]),\n",
       "    'pre_grasp': array([[ 8.3266727e-17,  7.8375363e-01, -6.2107182e-01,  5.8124471e-01],\n",
       "           [ 1.5272002e-01, -6.1378634e-01, -7.7455986e-01, -7.5286910e-02],\n",
       "           [-9.8826951e-01, -9.4850101e-02, -1.1969487e-01,  8.6350363e-01],\n",
       "           [ 0.0000000e+00,  0.0000000e+00,  0.0000000e+00,  1.0000000e+00]],\n",
       "          dtype=float32),\n",
       "    'post_grasp': array([[ 8.3266727e-17,  7.8375363e-01, -6.2107182e-01,  5.1913750e-01],\n",
       "           [ 1.5272002e-01, -6.1378634e-01, -7.7455986e-01, -1.5274289e-01],\n",
       "           [-9.8826951e-01, -9.4850101e-02, -1.1969487e-01,  9.5153415e-01],\n",
       "           [ 0.0000000e+00,  0.0000000e+00,  0.0000000e+00,  1.0000000e+00]],\n",
       "          dtype=float32)},\n",
       "   {'grasp': array([[ 1.73472348e-18,  3.73690170e-01,  9.27553587e-01,\n",
       "             3.69903150e-01],\n",
       "           [-4.51089992e-02,  9.26609403e-01, -3.73309780e-01,\n",
       "            -1.91315731e-01],\n",
       "           [-9.98982071e-01, -4.18410140e-02,  1.68567896e-02,\n",
       "             8.55912436e-01],\n",
       "           [ 0.00000000e+00,  0.00000000e+00,  0.00000000e+00,\n",
       "             1.00000000e+00]]),\n",
       "    'pre_grasp': array([[ 1.7347235e-18,  3.7369016e-01,  9.2755359e-01,  2.7714780e-01],\n",
       "           [-4.5109000e-02,  9.2660940e-01, -3.7330979e-01, -1.5398476e-01],\n",
       "           [-9.9898207e-01, -4.1841015e-02,  1.6856790e-02,  8.5422677e-01],\n",
       "           [ 0.0000000e+00,  0.0000000e+00,  0.0000000e+00,  1.0000000e+00]],\n",
       "          dtype=float32),\n",
       "    'post_grasp': array([[ 1.7347235e-18,  3.7369016e-01,  9.2755359e-01,  3.6990315e-01],\n",
       "           [-4.5109000e-02,  9.2660940e-01, -3.7330979e-01, -1.9131573e-01],\n",
       "           [-9.9898207e-01, -4.1841015e-02,  1.6856790e-02,  9.5591241e-01],\n",
       "           [ 0.0000000e+00,  0.0000000e+00,  0.0000000e+00,  1.0000000e+00]],\n",
       "          dtype=float32)}]},\n",
       " 'value': 4.548773448773449,\n",
       " 'value_history': [-8.866666666666667,\n",
       "  -20.0,\n",
       "  -8.06013986013986,\n",
       "  -8.399999999999999,\n",
       "  -7.0285714285714285,\n",
       "  -3.4825396825396835,\n",
       "  -13.314102564102562,\n",
       "  -8.866666666666667,\n",
       "  -13.499999999999996,\n",
       "  -7.707070707070704,\n",
       "  -7.9090909090909065,\n",
       "  -10.876984126984127,\n",
       "  -8.399999999999999,\n",
       "  -8.399999999999999,\n",
       "  -8.02222222222222,\n",
       "  -9.52222222222222,\n",
       "  -8.707070707070704,\n",
       "  -5.4,\n",
       "  4.548773448773449,\n",
       "  -10.149859943977589,\n",
       "  -12.919480519480517,\n",
       "  -8.547295841413488,\n",
       "  -8.885531135531135,\n",
       "  -9.467320261437905,\n",
       "  -2.0472958414134896,\n",
       "  -10.969230769230768,\n",
       "  -3.4825396825396835,\n",
       "  -3.4825396825396835,\n",
       "  -13.230769230769228,\n",
       "  -8.852991452991452,\n",
       "  -8.038748832866478,\n",
       "  -3.4825396825396835,\n",
       "  -12.804761904761904,\n",
       "  -5.593650793650795,\n",
       "  -8.389610389610388,\n",
       "  4.548773448773449,\n",
       "  -3.4825396825396835,\n",
       "  4.548773448773449,\n",
       "  -6.482539682539683,\n",
       "  -5.278499278499279,\n",
       "  -10.055555555555554,\n",
       "  -8.54065934065934,\n",
       "  -9.457142857142856,\n",
       "  -9.210317460317459,\n",
       "  -9.96410256410256,\n",
       "  -3.4825396825396835,\n",
       "  4.548773448773449,\n",
       "  -10.943900543900542,\n",
       "  4.548773448773449,\n",
       "  -5.4,\n",
       "  -8.54065934065934,\n",
       "  -5.593650793650795,\n",
       "  4.548773448773449,\n",
       "  4.548773448773449,\n",
       "  -5.593650793650795,\n",
       "  4.548773448773449,\n",
       "  4.548773448773449,\n",
       "  -3.4825396825396835,\n",
       "  -8.865445665445664,\n",
       "  -8.80065359477124,\n",
       "  -4.028571428571429,\n",
       "  -5.4,\n",
       "  -8.389610389610388,\n",
       "  -3.4825396825396835,\n",
       "  -9.467320261437905,\n",
       "  -8.54065934065934,\n",
       "  -11.07142857142857,\n",
       "  -3.4825396825396835,\n",
       "  -5.593650793650795,\n",
       "  -3.4825396825396835,\n",
       "  -4.028571428571429,\n",
       "  -5.593650793650795,\n",
       "  4.548773448773449,\n",
       "  -10.309890109890109,\n",
       "  -5.278499278499279,\n",
       "  4.548773448773449,\n",
       "  -6.4571428571428555,\n",
       "  -3.4825396825396835,\n",
       "  -6.4571428571428555,\n",
       "  -14.738461538461536,\n",
       "  4.548773448773449,\n",
       "  -7.865445665445664,\n",
       "  -5.4,\n",
       "  -8.399999999999999,\n",
       "  -5.4,\n",
       "  -3.4825396825396835,\n",
       "  -5.4],\n",
       " 'visit': 87,\n",
       " 'number': 3,\n",
       " 'type': 'action',\n",
       " 'joints': [],\n",
       " 'level1': True,\n",
       " 'level2': True,\n",
       " 'level1_5': False,\n",
       " 'success': False,\n",
       " 'cost': 0,\n",
       " 'test': ()}"
      ]
     },
     "execution_count": 30,
     "metadata": {},
     "output_type": "execute_result"
    }
   ],
   "source": [
    "for i in raz"
   ]
  },
  {
   "cell_type": "code",
   "execution_count": 28,
   "id": "f4fcae9a",
   "metadata": {},
   "outputs": [],
   "source": [
    "nodes = [0, 3, 10, 172, 173, 175, 180, 388, 389, 392, 591, 592, 593, 594, 598, 601, 602, 604, 607, 609, 610]"
   ]
  },
  {
   "cell_type": "code",
   "execution_count": 33,
   "id": "71bfb353",
   "metadata": {},
   "outputs": [
    {
     "name": "stdout",
     "output_type": "stream",
     "text": [
      "True\n",
      "True\n",
      "True\n",
      "False\n",
      "False\n",
      "False\n",
      "False\n",
      "False\n",
      "False\n",
      "False\n",
      "False\n",
      "False\n",
      "False\n",
      "False\n",
      "False\n",
      "False\n",
      "False\n",
      "False\n",
      "False\n",
      "False\n",
      "False\n"
     ]
    }
   ],
   "source": [
    "for i in nodes:\n",
    "    print(mcts.tree.nodes[i][\"level2\"])"
   ]
  },
  {
   "cell_type": "code",
   "execution_count": null,
   "id": "db58bf99",
   "metadata": {},
   "outputs": [],
   "source": []
  },
  {
   "cell_type": "code",
   "execution_count": null,
   "id": "29ccb6d6",
   "metadata": {},
   "outputs": [],
   "source": []
  },
  {
   "cell_type": "markdown",
   "id": "69028021",
   "metadata": {},
   "source": [
    "\n",
    "# Level 1에서 무조건 좋아질 조합 찾고 Path 계산해도 Cost가 무조건 좋아져야하는데 안됨. \n",
    "\n",
    "분석  : 이미 성공한 list에서 cost 계산\n"
   ]
  },
  {
   "cell_type": "code",
   "execution_count": 62,
   "id": "6733fe04",
   "metadata": {},
   "outputs": [
    {
     "data": {
      "text/plain": [
       "[0, 1, 82, 84, 88, 94, 1254, 1256, 1473, 1476, 1478]"
      ]
     },
     "execution_count": 62,
     "metadata": {},
     "output_type": "execute_result"
    }
   ],
   "source": [
    "mcts.get_best_node()"
   ]
  },
  {
   "cell_type": "code",
   "execution_count": 63,
   "id": "dddf37e8",
   "metadata": {},
   "outputs": [
    {
     "data": {
      "text/plain": [
       "[0, 4, 205, 206, 706, 709, 1608, 1610, 1614, 1618, 1619]"
      ]
     },
     "execution_count": 63,
     "metadata": {},
     "output_type": "execute_result"
    }
   ],
   "source": [
    "max_value_nodes"
   ]
  },
  {
   "cell_type": "code",
   "execution_count": 20,
   "id": "3ea1f245",
   "metadata": {},
   "outputs": [],
   "source": [
    "def get_minimum_cost_node():\n",
    "    min_cost = 100\n",
    "    min_cost_nodes = []\n",
    "    for i, n in mcts.history_level_2_dict.items():\n",
    "        cost = 0\n",
    "        print(i,n)\n",
    "        for n_num in n['nodes']:\n",
    "            cost += mcts.tree.nodes[n_num].get('cost')\n",
    "        if min_cost > cost:\n",
    "            min_cost = cost\n",
    "            min_cost_nodes = n['nodes']\n",
    "    return min_cost_nodes\n",
    "        "
   ]
  },
  {
   "cell_type": "code",
   "execution_count": 21,
   "id": "482ab92a",
   "metadata": {},
   "outputs": [
    {
     "name": "stdout",
     "output_type": "stream",
     "text": [
      "0 {'nodes': [0, 7, 446, 449, 644, 645, 650, 654, 656, 661, 662, 664, 668, 669, 674, 678, 679, 682, 684], 'value': 8.053283}\n",
      "1 {'nodes': [0, 7, 446, 449, 644, 647, 802, 804, 808, 812, 814, 818, 819, 822, 823, 825, 828, 832, 833, 837, 838], 'value': 8.525124}\n",
      "2 {'nodes': [0, 7, 446, 449, 644, 648, 839, 843, 845, 846, 849], 'value': 14.897667}\n",
      "3 {'nodes': [0, 7, 446, 449, 644, 648, 839, 841, 1193, 1194, 1196], 'value': 14.938767}\n",
      "4 {'nodes': [0, 7, 446, 450, 452, 454, 1487, 1490, 1492], 'value': 14.938767}\n"
     ]
    },
    {
     "data": {
      "text/plain": [
       "[0, 7, 446, 450, 452, 454, 1487, 1490, 1492]"
      ]
     },
     "execution_count": 21,
     "metadata": {},
     "output_type": "execute_result"
    }
   ],
   "source": [
    "get_minimum_cost_node()"
   ]
  },
  {
   "cell_type": "code",
   "execution_count": null,
   "id": "926acae3",
   "metadata": {},
   "outputs": [],
   "source": []
  },
  {
   "cell_type": "code",
   "execution_count": null,
   "id": "eb72cb72",
   "metadata": {},
   "outputs": [],
   "source": []
  },
  {
   "cell_type": "code",
   "execution_count": null,
   "id": "f55c939b",
   "metadata": {},
   "outputs": [],
   "source": []
  },
  {
   "cell_type": "code",
   "execution_count": null,
   "id": "b1b64ecb",
   "metadata": {},
   "outputs": [],
   "source": []
  },
  {
   "cell_type": "code",
   "execution_count": null,
   "id": "a50f45ec",
   "metadata": {},
   "outputs": [],
   "source": []
  }
 ],
 "metadata": {
  "kernelspec": {
   "display_name": "contact_graspnet",
   "language": "python",
   "name": "contact_graspnet"
  },
  "language_info": {
   "codemirror_mode": {
    "name": "ipython",
    "version": 3
   },
   "file_extension": ".py",
   "mimetype": "text/x-python",
   "name": "python",
   "nbconvert_exporter": "python",
   "pygments_lexer": "ipython3",
   "version": "3.8.16"
  }
 },
 "nbformat": 4,
 "nbformat_minor": 5
}
