{
 "cells": [
  {
   "cell_type": "code",
   "execution_count": 1,
   "id": "8ef7feee",
   "metadata": {},
   "outputs": [
    {
     "name": "stderr",
     "output_type": "stream",
     "text": [
      "usage: ipykernel_launcher.py [-h] [--budgets T] [--max_depth H] [--seed i]\n",
      "                             [--algo alg] [--debug_mode DEBUG_MODE]\n",
      "ipykernel_launcher.py: error: unrecognized arguments: -f /home/juju/.local/share/jupyter/runtime/kernel-fc483fde-943f-46ef-8e73-bfdca6b1a8e3.json\n"
     ]
    }
   ],
   "source": [
    "import numpy as np\n",
    "import argparse\n",
    "import os\n",
    "\n",
    "from pykin.utils import plot_utils as p_utils\n",
    "from pytamp.benchmark import Benchmark1\n",
    "from pytamp.search.mcts import MCTS\n",
    "\n",
    "\n",
    "def get_parser():\n",
    "    parser = argparse.ArgumentParser(description=\"Test Rearragement 1.\")\n",
    "    parser.add_argument(\"--budgets\", metavar=\"T\", type=int, default=100, help=\"Horizon\")\n",
    "    parser.add_argument(\"--max_depth\", metavar=\"H\", type=int, default=10, help=\"Max depth\")\n",
    "    parser.add_argument(\"--seed\", metavar=\"i\", type=int, default=29, help=\"A random seed\")\n",
    "    parser.add_argument(\n",
    "        \"--algo\",\n",
    "        metavar=\"alg\",\n",
    "        type=str,\n",
    "        default=\"bai_perturb\",\n",
    "        choices=[\"bai_perturb\", \"bai_ucb\", \"uct\", \"random\", \"greedy\"],\n",
    "        help=\"Choose one (bai_perturb, bai_ucb, uct)\",\n",
    "    )\n",
    "    parser.add_argument(\n",
    "        \"--debug_mode\", default=False, type=lambda x: (str(x).lower() == \"true\"), help=\"Debug mode\"\n",
    "    )\n",
    "#     parser.add_argument(\"--box_number\", metavar=\"N\", type=int, default=6, help=\"Box Number(6 or less)\")\n",
    "    try:\n",
    "        args = parser.parse_args() #call from command line\n",
    "    except:\n",
    "        args = parser.parse_args(args=[]) #call from notebook\n",
    "    return args \n",
    "\n",
    "args = get_parser() \n",
    "\n",
    "debug_mode = args.debug_mode\n",
    "budgets = args.budgets\n",
    "max_depth = args.max_depth\n",
    "algo = args.algo\n",
    "seed = args.seed\n",
    "np.random.seed(seed)"
   ]
  },
  {
   "cell_type": "code",
   "execution_count": 2,
   "id": "dc1a3d74",
   "metadata": {},
   "outputs": [
    {
     "name": "stdout",
     "output_type": "stream",
     "text": [
      "box_pose [Transform(\u001b[95mpos\u001b[0m=[0.6        0.         0.93129998], \u001b[95mrot\u001b[0m=[0.96592583 0.1830127  0.1830127  0.        ]), Transform(\u001b[95mpos\u001b[0m=[ 0.6        -0.2         0.85829998], \u001b[95mrot\u001b[0m=[1. 0. 0. 0.]), Transform(\u001b[95mpos\u001b[0m=[0.6        0.2        0.85829998], \u001b[95mrot\u001b[0m=[1. 0. 0. 0.]), Transform(\u001b[95mpos\u001b[0m=[0.6        0.2        0.95829998], \u001b[95mrot\u001b[0m=[1. 0. 0. 0.]), Transform(\u001b[95mpos\u001b[0m=[ 0.6        -0.2         0.95829998], \u001b[95mrot\u001b[0m=[1. 0. 0. 0.]), Transform(\u001b[95mpos\u001b[0m=[ 0.6        -0.2         1.05829998], \u001b[95mrot\u001b[0m=[1. 0. 0. 0.]), Transform(\u001b[95mpos\u001b[0m=[ 0.6        -0.2         1.15829998], \u001b[95mrot\u001b[0m=[1. 0. 0. 0.]), Transform(\u001b[95mpos\u001b[0m=[0.8        0.2        0.85829998], \u001b[95mrot\u001b[0m=[1. 0. 0. 0.])]\n",
      "*********************** \u001b[92mLogical States\u001b[0m ***********************\n",
      "OrderedDict([('A_box',\n",
      "              {'on': \u001b[95mObject\u001b[0m(name=table, pos=[ 1.    -0.6    0.043])}),\n",
      "             ('B_box',\n",
      "              {'on': \u001b[95mObject\u001b[0m(name=table, pos=[ 1.    -0.6    0.043])}),\n",
      "             ('C_box',\n",
      "              {'on': \u001b[95mObject\u001b[0m(name=table, pos=[ 1.    -0.6    0.043])}),\n",
      "             ('tray_red', {'static': True}),\n",
      "             ('table',\n",
      "              {'static': True,\n",
      "               'support': [\u001b[95mObject\u001b[0m(name=A_box, pos=[0.6        0.         0.93129998]),\n",
      "                           \u001b[95mObject\u001b[0m(name=B_box, pos=[ 0.6        -0.2         0.85829998]),\n",
      "                           \u001b[95mObject\u001b[0m(name=C_box, pos=[0.6        0.2        0.85829998])]}),\n",
      "             ('robotiq140_gripper', {'holding': None})])\n",
      "***************************************************************\n",
      "\n"
     ]
    }
   ],
   "source": [
    "benchmark1 = Benchmark1(\n",
    "    robot_name=\"doosan\", geom=\"collision\", is_pyplot=True, box_num=3\n",
    ")\n",
    "\n",
    "final_level_1_values = []\n",
    "final_level_2_values = []\n",
    "final_optimal_nodes = []\n",
    "final_pnp_all_joint_paths = []\n",
    "final_pick_all_objects = []\n",
    "final_place_all_object_poses = []\n",
    "# final_optimal_trees = []\n",
    "c_list = 10 ** np.linspace(-2, 2.0, 10)\n",
    "\n",
    "c = c_list[5]"
   ]
  },
  {
   "cell_type": "code",
   "execution_count": 3,
   "id": "f36387b7",
   "metadata": {},
   "outputs": [],
   "source": [
    "mcts = MCTS(\n",
    "    scene_mngr=benchmark1.scene_mngr,\n",
    "    sampling_method=algo,\n",
    "    budgets=budgets,\n",
    "    max_depth=max_depth,\n",
    "    c=c,\n",
    "    debug_mode=debug_mode,\n",
    ")"
   ]
  },
  {
   "cell_type": "code",
   "execution_count": 4,
   "id": "73e93b0b",
   "metadata": {
    "scrolled": true
   },
   "outputs": [
    {
     "name": "stdout",
     "output_type": "stream",
     "text": [
      "\n",
      "[1/10] Benchmark: 1, Algo: bai_perturb, C: 0.01, Seed: 29\n",
      "\u001b[95m=========== Search iteration : 1 ===========\u001b[0m\n",
      "\u001b[0;33m[Action]\u001b[0m \u001b[92mPick B_box\u001b[0m\n",
      "\u001b[95m[Reward]\u001b[0m S(0) -> A(2) -> S'(4) Reward : \u001b[4m-1\u001b[0m\n",
      "0.0505\n",
      "\u001b[0;33m[Action]\u001b[0m \u001b[92mPlace B_box on tray_red\u001b[0m\n",
      "\u001b[95m[Reward]\u001b[0m S(4) -> A(5) -> S'(6) Reward : \u001b[4m-1\u001b[0m\n",
      "\u001b[0;33m[Action]\u001b[0m \u001b[92mPick A_box\u001b[0m\n",
      "\u001b[95m[Reward]\u001b[0m S(6) -> A(7) -> S'(9) Reward : \u001b[4m-1\u001b[0m\n",
      "0.0505\n",
      "Current logical action is None.. Reward is -33.333333333333336\n",
      "\u001b[95m[Reward]\u001b[0m S(9) -> A(None) -> S'(None) Reward : \u001b[4m-33.333\u001b[0m\n",
      "\n",
      "[1/10] Benchmark: 1, Algo: bai_perturb, C: 0.01, Seed: 29\n",
      "\u001b[95m=========== Search iteration : 2 ===========\u001b[0m\n",
      "\u001b[0;33m[Action]\u001b[0m \u001b[92mPick A_box\u001b[0m\n",
      "\u001b[95m[Reward]\u001b[0m S(0) -> A(1) -> S'(10) Reward : \u001b[4m-1\u001b[0m\n",
      "0.0505\n",
      "\u001b[0;33m[Action]\u001b[0m \u001b[92mPlace A_box on tray_red\u001b[0m\n",
      "\u001b[0;36mGood Action\u001b[0m\n",
      "\u001b[95m[Reward]\u001b[0m S(10) -> A(11) -> S'(12) Reward : \u001b[4m10.0\u001b[0m\n",
      "\u001b[0;33m[Action]\u001b[0m \u001b[92mPick C_box\u001b[0m\n",
      "\u001b[95m[Reward]\u001b[0m S(12) -> A(14) -> S'(15) Reward : \u001b[4m-1\u001b[0m\n",
      "0.0505\n",
      "0.0505\n",
      "0.0505\n",
      "\u001b[0;33m[Action]\u001b[0m \u001b[92mPlace C_box on A_box\u001b[0m\n",
      "\u001b[95m[Reward]\u001b[0m S(15) -> A(16) -> S'(18) Reward : \u001b[4m-1\u001b[0m\n",
      "\u001b[0;33m[Action]\u001b[0m \u001b[92mPick B_box\u001b[0m\n",
      "\u001b[95m[Reward]\u001b[0m S(18) -> A(19) -> S'(20) Reward : \u001b[4m-1\u001b[0m\n",
      "0.0505\n",
      "0.0505\n",
      "Current logical action is None.. Reward is -20.0\n",
      "\u001b[95m[Reward]\u001b[0m S(20) -> A(None) -> S'(None) Reward : \u001b[4m-20.0\u001b[0m\n",
      "\n",
      "[1/10] Benchmark: 1, Algo: bai_perturb, C: 0.01, Seed: 29\n",
      "\u001b[95m=========== Search iteration : 3 ===========\u001b[0m\n",
      "\u001b[0;33m[Action]\u001b[0m \u001b[92mPick C_box\u001b[0m\n",
      "\u001b[95m[Reward]\u001b[0m S(0) -> A(3) -> S'(21) Reward : \u001b[4m-1\u001b[0m\n",
      "0.0505\n",
      "0.0505\n",
      "\u001b[0;33m[Action]\u001b[0m \u001b[92mPlace C_box on tray_red\u001b[0m\n",
      "\u001b[95m[Reward]\u001b[0m S(21) -> A(23) -> S'(24) Reward : \u001b[4m-1\u001b[0m\n",
      "\u001b[0;33m[Action]\u001b[0m \u001b[92mPick A_box\u001b[0m\n",
      "\u001b[95m[Reward]\u001b[0m S(24) -> A(25) -> S'(27) Reward : \u001b[4m-1\u001b[0m\n",
      "0.0505\n",
      "Current logical action is None.. Reward is -33.333333333333336\n",
      "\u001b[95m[Reward]\u001b[0m S(27) -> A(None) -> S'(None) Reward : \u001b[4m-33.333\u001b[0m\n",
      "\n",
      "[1/10] Benchmark: 1, Algo: bai_perturb, C: 0.01, Seed: 29\n",
      "\u001b[95m=========== Search iteration : 4 ===========\u001b[0m\n",
      "\u001b[0;33m[Action]\u001b[0m \u001b[92mPick A_box\u001b[0m\n",
      "\u001b[95m[Reward]\u001b[0m S(0) -> A(1) -> S'(10) Reward : \u001b[4m-1\u001b[0m\n",
      "\u001b[0;33m[Action]\u001b[0m \u001b[92mPlace A_box on tray_red\u001b[0m\n",
      "\u001b[0;36mGood Action\u001b[0m\n",
      "\u001b[95m[Reward]\u001b[0m S(10) -> A(11) -> S'(12) Reward : \u001b[4m10.0\u001b[0m\n",
      "\u001b[0;33m[Action]\u001b[0m \u001b[92mPick B_box\u001b[0m\n",
      "\u001b[95m[Reward]\u001b[0m S(12) -> A(13) -> S'(28) Reward : \u001b[4m-1\u001b[0m\n",
      "0.0505\n",
      "0.0505\n",
      "\u001b[0;33m[Action]\u001b[0m \u001b[92mPlace B_box on A_box\u001b[0m\n",
      "\u001b[0;36mGood Action\u001b[0m\n",
      "\u001b[95m[Reward]\u001b[0m S(28) -> A(29) -> S'(30) Reward : \u001b[4m5.0\u001b[0m\n",
      "\u001b[0;33m[Action]\u001b[0m \u001b[92mPick C_box\u001b[0m\n",
      "\u001b[95m[Reward]\u001b[0m S(30) -> A(31) -> S'(32) Reward : \u001b[4m-1\u001b[0m\n",
      "0.0505\n",
      "0.0505\n"
     ]
    },
    {
     "name": "stderr",
     "output_type": "stream",
     "text": [
      "\u001b[1;32m[INFO] [RRT Star Planner]: Start to compute RRT-star Planning\u001b[0m\n",
      "\u001b[1;32m[INFO] [RRT Star Planner]: The joint limit has been successfully checked. Pose error is 0.000000\u001b[0m\n"
     ]
    },
    {
     "name": "stdout",
     "output_type": "stream",
     "text": [
      "0.0505\n",
      "\u001b[0;33m[Action]\u001b[0m \u001b[92mPlace C_box on B_box\u001b[0m\n",
      "\u001b[0;36mGood Action\u001b[0m\n",
      "\u001b[95m[Reward]\u001b[0m S(32) -> A(33) -> S'(34) Reward : \u001b[4m3.333\u001b[0m\n",
      "\u001b[94mSuccess!!!!!\u001b[0m\n",
      "Terminal State! Reward is 5\n",
      "Action Node: 1 \u001b[92mAction: Pick A_box\u001b[0m\n",
      "Action Node: 11  \u001b[92mAction: Place A_box on tray_red\u001b[0m\n",
      "Action Node: 13 \u001b[92mAction: Pick B_box\u001b[0m\n",
      "Action Node: 29  \u001b[92mAction: Place B_box on A_box\u001b[0m\n",
      "Action Node: 31 \u001b[92mAction: Pick C_box\u001b[0m\n",
      "Action Node: 33  \u001b[92mAction: Place C_box on B_box\u001b[0m\n",
      "\u001b[1;33mpick A_box\u001b[0m\n",
      "solve the problem using LM2!! \n",
      "Iterators : 8\n",
      "WorkingTime[inverse_kinematics]: 0.0067 sec\n",
      "\n"
     ]
    },
    {
     "name": "stderr",
     "output_type": "stream",
     "text": [
      "\u001b[1;32m[INFO] [RRT Star Planner]: Generate Path Successfully!!\u001b[0m\n",
      "\u001b[1;32m[INFO] [RRT Star Planner]: Path length 7 --> 60\u001b[0m\n",
      "\u001b[1;32m[INFO] [Cartesian Planner]: Start to compute Cartesian Planning\u001b[0m\n",
      "\u001b[1;32m[INFO] [Cartesian Planner]: Generate Path Successfully!! Error is 0.000004\u001b[0m\n",
      "\u001b[1;32m[INFO] [Cartesian Planner]: Start to compute Cartesian Planning\u001b[0m\n",
      "\u001b[1;32m[INFO] [Cartesian Planner]: Generate Path Successfully!! Error is 0.000008\u001b[0m\n",
      "\u001b[1;32m[INFO] [RRT Star Planner]: Start to compute RRT-star Planning\u001b[0m\n"
     ]
    },
    {
     "name": "stdout",
     "output_type": "stream",
     "text": [
      "Cost is 2.638\n",
      "WorkingTime[run]: 2.5029 sec\n",
      "\n",
      "WorkingTime[run]: 0.0761 sec\n",
      "\n",
      "WorkingTime[run]: 0.0770 sec\n",
      "\n"
     ]
    },
    {
     "name": "stderr",
     "output_type": "stream",
     "text": [
      "\u001b[1;32m[INFO] [RRT Star Planner]: Generate Path Successfully!!\u001b[0m\n",
      "\u001b[1;32m[INFO] [RRT Star Planner]: Path length 4 --> 30\u001b[0m\n",
      "\u001b[1;32m[INFO] [RRT Star Planner]: Start to compute RRT-star Planning\u001b[0m\n",
      "\u001b[1;32m[INFO] [RRT Star Planner]: The joint limit has been successfully checked. Pose error is 0.000000\u001b[0m\n"
     ]
    },
    {
     "name": "stdout",
     "output_type": "stream",
     "text": [
      "Cost is 2.429\n",
      "WorkingTime[run]: 2.7875 sec\n",
      "\n",
      "\u001b[1;33mplace A_box on tray_red\u001b[0m\n",
      "solve the problem using LM2!! \n",
      "Iterators : 11\n",
      "WorkingTime[inverse_kinematics]: 0.0090 sec\n",
      "\n"
     ]
    },
    {
     "name": "stderr",
     "output_type": "stream",
     "text": [
      "\u001b[1;32m[INFO] [RRT Star Planner]: Generate Path Successfully!!\u001b[0m\n",
      "\u001b[1;32m[INFO] [RRT Star Planner]: Path length 7 --> 60\u001b[0m\n",
      "\u001b[1;32m[INFO] [Cartesian Planner]: Start to compute Cartesian Planning\u001b[0m\n",
      "\u001b[1;32m[INFO] [Cartesian Planner]: Generate Path Successfully!! Error is 0.000002\u001b[0m\n",
      "\u001b[1;32m[INFO] [Cartesian Planner]: Start to compute Cartesian Planning\u001b[0m\n",
      "\u001b[1;32m[INFO] [Cartesian Planner]: Generate Path Successfully!! Error is 0.000004\u001b[0m\n",
      "\u001b[1;32m[INFO] [RRT Star Planner]: Start to compute RRT-star Planning\u001b[0m\n"
     ]
    },
    {
     "name": "stdout",
     "output_type": "stream",
     "text": [
      "Cost is 3.281\n",
      "WorkingTime[run]: 2.8245 sec\n",
      "\n",
      "WorkingTime[run]: 0.0756 sec\n",
      "\n",
      "WorkingTime[run]: 0.0753 sec\n",
      "\n"
     ]
    },
    {
     "name": "stderr",
     "output_type": "stream",
     "text": [
      "\u001b[1;32m[INFO] [RRT Star Planner]: Generate Path Successfully!!\u001b[0m\n",
      "\u001b[1;32m[INFO] [RRT Star Planner]: Path length 5 --> 40\u001b[0m\n",
      "\u001b[1;32m[INFO] [RRT Star Planner]: Start to compute RRT-star Planning\u001b[0m\n",
      "\u001b[1;32m[INFO] [RRT Star Planner]: The joint limit has been successfully checked. Pose error is 0.000001\u001b[0m\n"
     ]
    },
    {
     "name": "stdout",
     "output_type": "stream",
     "text": [
      "Cost is 3.548\n",
      "WorkingTime[run]: 2.5667 sec\n",
      "\n",
      "Success pnp\n",
      "\u001b[1;33mpick B_box\u001b[0m\n",
      "solve the problem using LM2!! \n",
      "Iterators : 8\n",
      "WorkingTime[inverse_kinematics]: 0.0067 sec\n",
      "\n"
     ]
    },
    {
     "name": "stderr",
     "output_type": "stream",
     "text": [
      "\u001b[1;32m[INFO] [RRT Star Planner]: Generate Path Successfully!!\u001b[0m\n",
      "\u001b[1;32m[INFO] [RRT Star Planner]: Path length 5 --> 40\u001b[0m\n",
      "\u001b[1;32m[INFO] [Cartesian Planner]: Start to compute Cartesian Planning\u001b[0m\n",
      "\u001b[1;32m[INFO] [Cartesian Planner]: Generate Path Successfully!! Error is 0.000001\u001b[0m\n",
      "\u001b[1;32m[INFO] [Cartesian Planner]: Start to compute Cartesian Planning\u001b[0m\n",
      "\u001b[1;32m[INFO] [Cartesian Planner]: Generate Path Successfully!! Error is 0.000003\u001b[0m\n",
      "\u001b[1;32m[INFO] [RRT Star Planner]: Start to compute RRT-star Planning\u001b[0m\n"
     ]
    },
    {
     "name": "stdout",
     "output_type": "stream",
     "text": [
      "Cost is 3.5\n",
      "WorkingTime[run]: 2.6842 sec\n",
      "\n",
      "WorkingTime[run]: 0.0794 sec\n",
      "\n",
      "WorkingTime[run]: 0.0749 sec\n",
      "\n"
     ]
    },
    {
     "name": "stderr",
     "output_type": "stream",
     "text": [
      "\n",
      "KeyboardInterrupt\n",
      "\n"
     ]
    }
   ],
   "source": [
    "for idx, c in enumerate(c_list):\n",
    "    mcts = MCTS(\n",
    "        scene_mngr=benchmark1.scene_mngr,\n",
    "        sampling_method=algo,\n",
    "        budgets=budgets,\n",
    "        max_depth=max_depth,\n",
    "        c=c,\n",
    "        debug_mode=debug_mode,\n",
    "    )\n",
    "    for i in range(budgets):\n",
    "        print(\n",
    "            f\"\\n[{idx+1}/{len(c_list)}] Benchmark: {benchmark1.scene_mngr.scene.bench_num}, Algo: {algo}, C: {c}, Seed: {seed}\"\n",
    "        )\n",
    "        mcts.do_planning(i)\n",
    "\n",
    "    final_level_1_values.append(mcts.values_for_level_1)\n",
    "    final_level_2_values.append(mcts.values_for_level_2)\n",
    "\n",
    "    if mcts.level_wise_2_success:\n",
    "        (\n",
    "            pnp_all_joint_paths,\n",
    "            pick_all_objects,\n",
    "            place_all_object_poses,\n",
    "        ) = mcts.get_all_joint_path(mcts.optimal_nodes)\n",
    "        final_pnp_all_joint_paths.append(pnp_all_joint_paths)\n",
    "        final_pick_all_objects.append(pick_all_objects)\n",
    "        final_place_all_object_poses.append(place_all_object_poses)\n",
    "        final_optimal_nodes.append(mcts.optimal_nodes)\n",
    "        break\n",
    "    else:\n",
    "        final_pnp_all_joint_paths.append([])\n",
    "        final_pick_all_objects.append([])\n",
    "        final_place_all_object_poses.append([])\n",
    "        final_optimal_nodes.append([])\n",
    "        # final_optimal_trees.append(mcts.tree.nodes)\n",
    "    del mcts\n",
    "    # print(final_optimal_trees)\n",
    "    print(\"delete mcts\")"
   ]
  },
  {
   "cell_type": "code",
   "execution_count": 6,
   "id": "6a602a96",
   "metadata": {},
   "outputs": [
    {
     "data": {
      "text/plain": [
       "1"
      ]
     },
     "execution_count": 6,
     "metadata": {},
     "output_type": "execute_result"
    }
   ],
   "source": [
    "len(final_pnp_all_joint_paths)"
   ]
  },
  {
   "cell_type": "code",
   "execution_count": 7,
   "id": "600eb563",
   "metadata": {},
   "outputs": [
    {
     "name": "stdout",
     "output_type": "stream",
     "text": [
      "PWD :  /home/juju/pytamp/examples/doosan/action/rearrangement1\n",
      "Animation Finished..\n",
      "Save finished..\n"
     ]
    },
    {
     "data": {
      "image/png": "[encoded data removed]",
      "text/plain": [
       "<Figure size 1200x800 with 1 Axes>"
      ]
     },
     "metadata": {},
     "output_type": "display_data"
    }
   ],
   "source": [
    "mcts.place_action.simulate_path(\n",
    "    final_pnp_all_joint_paths[0],\n",
    "    pick_all_objects,\n",
    "    place_all_object_poses,\n",
    "    is_save=True,\n",
    "    video_name=\"MCTS_origin_pytamp\",\n",
    "#     gif=False,\n",
    ")\n"
   ]
  },
  {
   "cell_type": "code",
   "execution_count": null,
   "id": "68af7139",
   "metadata": {},
   "outputs": [],
   "source": []
  }
 ],
 "metadata": {
  "kernelspec": {
   "display_name": "contact_graspnet",
   "language": "python",
   "name": "contact_graspnet"
  },
  "language_info": {
   "codemirror_mode": {
    "name": "ipython",
    "version": 3
   },
   "file_extension": ".py",
   "mimetype": "text/x-python",
   "name": "python",
   "nbconvert_exporter": "python",
   "pygments_lexer": "ipython3",
   "version": "3.8.16"
  }
 },
 "nbformat": 4,
 "nbformat_minor": 5
}
