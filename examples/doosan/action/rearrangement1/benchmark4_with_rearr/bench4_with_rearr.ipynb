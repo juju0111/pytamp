{
 "cells": [
  {
   "cell_type": "code",
   "execution_count": 1,
   "id": "edc8d8a2",
   "metadata": {
    "scrolled": true
   },
   "outputs": [
    {
     "name": "stderr",
     "output_type": "stream",
     "text": [
      "2023-08-06 15:20:59.683459: I tensorflow/stream_executor/platform/default/dso_loader.cc:53] Successfully opened dynamic library libcudart.so.11.0\n",
      "usage: ipykernel_launcher.py [-h] [--budgets T] [--max_depth H] [--seed i]\n",
      "                             [--algo alg] [--debug_mode DEBUG_MODE]\n",
      "ipykernel_launcher.py: error: unrecognized arguments: -f /home/juju/.local/share/jupyter/runtime/kernel-47c236b0-599e-4672-ab9a-33cca3dcad6c.json\n"
     ]
    },
    {
     "name": "stdout",
     "output_type": "stream",
     "text": [
      "hanoi_disk_0\n",
      "hanoi_disk_1\n",
      "hanoi_disk_2\n",
      "*********************** \u001b[92mLogical States\u001b[0m ***********************\n",
      "OrderedDict([('peg_1',\n",
      "              {'hung': [\u001b[95mObject\u001b[0m(name=hanoi_disk_0, pos=[0.69991433 0.3        0.75529998]),\n",
      "                        \u001b[95mObject\u001b[0m(name=hanoi_disk_1, pos=[0.69991433 0.3        0.79529998]),\n",
      "                        \u001b[95mObject\u001b[0m(name=hanoi_disk_2, pos=[0.69991433 0.3        0.83529997])],\n",
      "               'on': \u001b[95mObject\u001b[0m(name=table, pos=[ 1.   -0.6  -0.03]),\n",
      "               'static': True}),\n",
      "             ('peg_2',\n",
      "              {'on': \u001b[95mObject\u001b[0m(name=table, pos=[ 1.   -0.6  -0.03]),\n",
      "               'static': True}),\n",
      "             ('peg_3',\n",
      "              {'on': \u001b[95mObject\u001b[0m(name=table, pos=[ 1.   -0.6  -0.03]),\n",
      "               'static': True}),\n",
      "             ('hanoi_disk_0',\n",
      "              {'hang': \u001b[95mObject\u001b[0m(name=peg_1, pos=[0.7        0.3        0.83529998]),\n",
      "               'on': \u001b[95mObject\u001b[0m(name=table, pos=[ 1.   -0.6  -0.03]),\n",
      "               'support': [\u001b[95mObject\u001b[0m(name=hanoi_disk_1, pos=[0.69991433 0.3        0.79529998])]}),\n",
      "             ('hanoi_disk_1',\n",
      "              {'hang': \u001b[95mObject\u001b[0m(name=peg_1, pos=[0.7        0.3        0.83529998]),\n",
      "               'on': \u001b[95mObject\u001b[0m(name=hanoi_disk_0, pos=[0.69991433 0.3        0.75529998]),\n",
      "               'support': [\u001b[95mObject\u001b[0m(name=hanoi_disk_2, pos=[0.69991433 0.3        0.83529997])]}),\n",
      "             ('hanoi_disk_2',\n",
      "              {'hang': \u001b[95mObject\u001b[0m(name=peg_1, pos=[0.7        0.3        0.83529998]),\n",
      "               'on': \u001b[95mObject\u001b[0m(name=hanoi_disk_1, pos=[0.69991433 0.3        0.79529998])}),\n",
      "             ('table',\n",
      "              {'holding': None,\n",
      "               'static': True,\n",
      "               'support': [\u001b[95mObject\u001b[0m(name=peg_1, pos=[0.7        0.3        0.83529998]),\n",
      "                           \u001b[95mObject\u001b[0m(name=peg_2, pos=[0.7        0.         0.83529998]),\n",
      "                           \u001b[95mObject\u001b[0m(name=peg_3, pos=[ 0.7        -0.3         0.83529998]),\n",
      "                           \u001b[95mObject\u001b[0m(name=hanoi_disk_0, pos=[0.69991433 0.3        0.75529998])]}),\n",
      "             ('panda_gripper', {'holding': None})])\n",
      "***************************************************************\n",
      "\n"
     ]
    }
   ],
   "source": [
    "import numpy as np\n",
    "import argparse\n",
    "import os, time\n",
    "\n",
    "from pykin.utils import plot_utils as p_utils\n",
    "\n",
    "from pytamp.benchmark import Benchmark4\n",
    "from pytamp.search.mcts_for_rearragement import MCTS_rearrangement\n",
    "\n",
    "def get_parser():\n",
    "    parser = argparse.ArgumentParser(description=\"Test Rearragement 4.\")\n",
    "    parser.add_argument(\"--budgets\", metavar=\"T\", type=int, default=10, help=\"Horizon\")\n",
    "    parser.add_argument(\"--max_depth\", metavar=\"H\", type=int, default=14, help=\"Max depth\")\n",
    "#     parser.add_argument(\"--seed\", metavar=\"i\", type=int, default=7, help=\"A random seed\")\n",
    "    parser.add_argument(\"--seed\", metavar=\"i\", type=int, default=29, help=\"A random seed\")\n",
    "#     parser.add_argument(\"--seed\", metavar=\"i\", type=int, default=22, help=\"A random seed\")\n",
    "    parser.add_argument(\n",
    "        \"--algo\",\n",
    "        metavar=\"alg\",\n",
    "        type=str,\n",
    "        default=\"uct\",\n",
    "        choices=[\"bai_perturb\", \"bai_ucb\", \"uct\", \"random\", \"greedy\"],\n",
    "        help=\"Choose one (bai_perturb, bai_ucb, uct)\",\n",
    "    )\n",
    "    parser.add_argument(\n",
    "        \"--debug_mode\", default=False, type=lambda x: (str(x).lower() == \"true\"), help=\"Debug mode\"\n",
    "    )\n",
    "#     parser.add_argument(\"--box_number\", metavar=\"N\", type=int, default=6, help=\"Box Number(6 or less)\")\n",
    "    try:\n",
    "        args = parser.parse_args() #call from command line\n",
    "    except:\n",
    "        args = parser.parse_args(args=[]) #call from notebook\n",
    "    return args \n",
    "\n",
    "args = get_parser() \n",
    "\n",
    "debug_mode = args.debug_mode\n",
    "# debug_mode = True\n",
    "budgets = args.budgets\n",
    "max_depth = args.max_depth\n",
    "algo = args.algo\n",
    "seed = args.seed\n",
    "np.random.seed(seed)\n",
    "\n",
    "benchmark4 = Benchmark4(\n",
    "    robot_name=\"panda\", geom=\"visual\", is_pyplot=False, disk_num=3\n",
    ")\n",
    "\n",
    "final_level_1_values = []\n",
    "final_level_2_values = []\n",
    "final_optimal_nodes = []\n",
    "final_pnp_all_joint_paths = []\n",
    "final_pick_all_objects = []\n",
    "final_place_all_object_poses = []\n",
    "\n",
    "# final_optimal_trees = []\n",
    "c_list = 10 ** np.linspace(-2, 2.0, 10)\n"
   ]
  },
  {
   "cell_type": "code",
   "execution_count": 2,
   "id": "2722a5aa",
   "metadata": {
    "scrolled": true
   },
   "outputs": [
    {
     "name": "stderr",
     "output_type": "stream",
     "text": [
      "2023-08-06 15:21:00.848475: I tensorflow/stream_executor/platform/default/dso_loader.cc:53] Successfully opened dynamic library libcuda.so.1\n",
      "2023-08-06 15:21:00.869200: I tensorflow/stream_executor/cuda/cuda_gpu_executor.cc:937] successful NUMA node read from SysFS had negative value (-1), but there must be at least one NUMA node, so returning NUMA node zero\n",
      "2023-08-06 15:21:00.869272: I tensorflow/core/common_runtime/gpu/gpu_device.cc:1733] Found device 0 with properties: \n",
      "pciBusID: 0000:01:00.0 name: NVIDIA GeForce RTX 3080 computeCapability: 8.6\n",
      "coreClock: 1.74GHz coreCount: 68 deviceMemorySize: 9.77GiB deviceMemoryBandwidth: 707.88GiB/s\n",
      "2023-08-06 15:21:00.869293: I tensorflow/stream_executor/platform/default/dso_loader.cc:53] Successfully opened dynamic library libcudart.so.11.0\n",
      "2023-08-06 15:21:00.870734: I tensorflow/stream_executor/platform/default/dso_loader.cc:53] Successfully opened dynamic library libcublas.so.11\n",
      "2023-08-06 15:21:00.870781: I tensorflow/stream_executor/platform/default/dso_loader.cc:53] Successfully opened dynamic library libcublasLt.so.11\n",
      "2023-08-06 15:21:00.871306: I tensorflow/stream_executor/platform/default/dso_loader.cc:53] Successfully opened dynamic library libcufft.so.10\n",
      "2023-08-06 15:21:00.871436: I tensorflow/stream_executor/platform/default/dso_loader.cc:53] Successfully opened dynamic library libcurand.so.10\n",
      "2023-08-06 15:21:00.871836: I tensorflow/stream_executor/platform/default/dso_loader.cc:53] Successfully opened dynamic library libcusolver.so.11\n",
      "2023-08-06 15:21:00.872198: I tensorflow/stream_executor/platform/default/dso_loader.cc:53] Successfully opened dynamic library libcusparse.so.11\n",
      "2023-08-06 15:21:00.872265: I tensorflow/stream_executor/platform/default/dso_loader.cc:53] Successfully opened dynamic library libcudnn.so.8\n",
      "2023-08-06 15:21:00.872313: I tensorflow/stream_executor/cuda/cuda_gpu_executor.cc:937] successful NUMA node read from SysFS had negative value (-1), but there must be at least one NUMA node, so returning NUMA node zero\n",
      "2023-08-06 15:21:00.872383: I tensorflow/stream_executor/cuda/cuda_gpu_executor.cc:937] successful NUMA node read from SysFS had negative value (-1), but there must be at least one NUMA node, so returning NUMA node zero\n",
      "2023-08-06 15:21:00.872419: I tensorflow/core/common_runtime/gpu/gpu_device.cc:1871] Adding visible gpu devices: 0\n"
     ]
    },
    {
     "name": "stdout",
     "output_type": "stream",
     "text": [
      "/home/juju/contact_graspnet/pointnet2/tf_ops/sampling\n",
      "<module 'contact_graspnet.contact_graspnet' from '/home/juju/contact_graspnet/contact_graspnet/contact_graspnet.py'>\n",
      "--- Get model\n",
      "WARNING:tensorflow:From /home/juju/anaconda3/envs/contact_graspnet/lib/python3.8/site-packages/tensorflow/python/keras/layers/normalization.py:534: _colocate_with (from tensorflow.python.framework.ops) is deprecated and will be removed in a future version.\n",
      "Instructions for updating:\n",
      "Colocations handled automatically by placer.\n"
     ]
    },
    {
     "name": "stderr",
     "output_type": "stream",
     "text": [
      "/home/juju/contact_graspnet/contact_graspnet/config_utils.py:42: YAMLLoadWarning: calling yaml.load() without Loader=... is deprecated, as the default Loader is unsafe. Please read https://msg.pyyaml.org/load for full details.\n",
      "  global_config = yaml.load(f)\n",
      "/home/juju/anaconda3/envs/contact_graspnet/lib/python3.8/site-packages/tensorflow/python/keras/legacy_tf_layers/normalization.py:307: UserWarning: `tf.layers.batch_normalization` is deprecated and will be removed in a future version. Please use `tf.keras.layers.BatchNormalization` instead. In particular, `tf.control_dependencies(tf.GraphKeys.UPDATE_OPS)` should not be used (consult the `tf.keras.layers.BatchNormalization` documentation).\n",
      "  warnings.warn(\n",
      "/home/juju/anaconda3/envs/contact_graspnet/lib/python3.8/site-packages/tensorflow/python/keras/engine/base_layer_v1.py:1692: UserWarning: `layer.apply` is deprecated and will be removed in a future version. Please use `layer.__call__` method instead.\n",
      "  warnings.warn('`layer.apply` is deprecated and '\n"
     ]
    },
    {
     "name": "stdout",
     "output_type": "stream",
     "text": [
      "WARNING:tensorflow:From /home/juju/anaconda3/envs/contact_graspnet/lib/python3.8/site-packages/tensorflow/python/util/deprecation.py:602: calling conv1d (from tensorflow.python.ops.nn_ops) with data_format=NHWC is deprecated and will be removed in a future version.\n",
      "Instructions for updating:\n",
      "`NHWC` for data_format is deprecated, use `NWC` instead\n",
      "WARNING:tensorflow:From /home/juju/anaconda3/envs/contact_graspnet/lib/python3.8/site-packages/tensorflow/python/util/dispatch.py:206: calling dropout (from tensorflow.python.ops.nn_ops) with keep_prob is deprecated and will be removed in a future version.\n",
      "Instructions for updating:\n",
      "Please use `rate` instead of `keep_prob`. Rate should be set to `rate = 1 - keep_prob`.\n"
     ]
    },
    {
     "name": "stderr",
     "output_type": "stream",
     "text": [
      "2023-08-06 15:21:03.001413: I tensorflow/core/platform/cpu_feature_guard.cc:142] This TensorFlow binary is optimized with oneAPI Deep Neural Network Library (oneDNN) to use the following CPU instructions in performance-critical operations:  AVX2 FMA\n",
      "To enable them in other operations, rebuild TensorFlow with the appropriate compiler flags.\n",
      "2023-08-06 15:21:03.002137: I tensorflow/stream_executor/cuda/cuda_gpu_executor.cc:937] successful NUMA node read from SysFS had negative value (-1), but there must be at least one NUMA node, so returning NUMA node zero\n",
      "2023-08-06 15:21:03.002257: I tensorflow/core/common_runtime/gpu/gpu_device.cc:1733] Found device 0 with properties: \n",
      "pciBusID: 0000:01:00.0 name: NVIDIA GeForce RTX 3080 computeCapability: 8.6\n",
      "coreClock: 1.74GHz coreCount: 68 deviceMemorySize: 9.77GiB deviceMemoryBandwidth: 707.88GiB/s\n",
      "2023-08-06 15:21:03.002318: I tensorflow/stream_executor/cuda/cuda_gpu_executor.cc:937] successful NUMA node read from SysFS had negative value (-1), but there must be at least one NUMA node, so returning NUMA node zero\n",
      "2023-08-06 15:21:03.002367: I tensorflow/stream_executor/cuda/cuda_gpu_executor.cc:937] successful NUMA node read from SysFS had negative value (-1), but there must be at least one NUMA node, so returning NUMA node zero\n",
      "2023-08-06 15:21:03.002400: I tensorflow/core/common_runtime/gpu/gpu_device.cc:1871] Adding visible gpu devices: 0\n",
      "2023-08-06 15:21:03.002434: I tensorflow/stream_executor/platform/default/dso_loader.cc:53] Successfully opened dynamic library libcudart.so.11.0\n"
     ]
    },
    {
     "name": "stdout",
     "output_type": "stream",
     "text": [
      "INFO:tensorflow:Restoring parameters from /home/juju/contact_graspnet/checkpoints/scene_test_2048_bs3_hor_sigma_001/model.ckpt-144144\n"
     ]
    },
    {
     "name": "stderr",
     "output_type": "stream",
     "text": [
      "2023-08-06 15:21:03.271246: I tensorflow/core/common_runtime/gpu/gpu_device.cc:1258] Device interconnect StreamExecutor with strength 1 edge matrix:\n",
      "2023-08-06 15:21:03.271271: I tensorflow/core/common_runtime/gpu/gpu_device.cc:1264]      0 \n",
      "2023-08-06 15:21:03.271274: I tensorflow/core/common_runtime/gpu/gpu_device.cc:1277] 0:   N \n",
      "2023-08-06 15:21:03.271444: I tensorflow/stream_executor/cuda/cuda_gpu_executor.cc:937] successful NUMA node read from SysFS had negative value (-1), but there must be at least one NUMA node, so returning NUMA node zero\n",
      "2023-08-06 15:21:03.271571: I tensorflow/stream_executor/cuda/cuda_gpu_executor.cc:937] successful NUMA node read from SysFS had negative value (-1), but there must be at least one NUMA node, so returning NUMA node zero\n",
      "2023-08-06 15:21:03.271625: I tensorflow/stream_executor/cuda/cuda_gpu_executor.cc:937] successful NUMA node read from SysFS had negative value (-1), but there must be at least one NUMA node, so returning NUMA node zero\n",
      "2023-08-06 15:21:03.271677: I tensorflow/core/common_runtime/gpu/gpu_device.cc:1418] Created TensorFlow device (/job:localhost/replica:0/task:0/device:GPU:0 with 434 MB memory) -> physical GPU (device: 0, name: NVIDIA GeForce RTX 3080, pci bus id: 0000:01:00.0, compute capability: 8.6)\n",
      "2023-08-06 15:21:03.370634: I tensorflow/core/platform/profile_utils/cpu_utils.cc:114] CPU Frequency: 3609600000 Hz\n"
     ]
    }
   ],
   "source": [
    "c = 5\n",
    "idx = 0\n",
    "mcts = MCTS_rearrangement(\n",
    "    scene_mngr=benchmark4.scene_mngr,\n",
    "#     init_scene=benchmark1.init_scene,\n",
    "    sampling_method=algo,\n",
    "    budgets=budgets,\n",
    "    max_depth=max_depth,\n",
    "    c=c,\n",
    "    debug_mode=False,\n",
    "    use_pick_action=False,\n",
    "    consider_next_scene=True, \n",
    ")\n",
    "\n",
    "mcts.only_optimize_1 = False "
   ]
  },
  {
   "cell_type": "code",
   "execution_count": 3,
   "id": "f31cdf59",
   "metadata": {},
   "outputs": [],
   "source": [
    "# fig, ax = p_utils.init_3d_figure(name=\"Benchamrk 1\")\n",
    "# # init_scene\n",
    "# benchmark4.scene_mngr.render_scene(ax)\n",
    "# benchmark4.render_axis(benchmark4.scene_mngr)\n",
    "# benchmark4.scene_mngr.show()\n"
   ]
  },
  {
   "cell_type": "code",
   "execution_count": 7,
   "id": "7ef4fe97",
   "metadata": {},
   "outputs": [
    {
     "data": {
      "text/plain": [
       "['hanoi_disk_0', 'hanoi_disk_1', 'hanoi_disk_2']"
      ]
     },
     "execution_count": 7,
     "metadata": {},
     "output_type": "execute_result"
    }
   ],
   "source": [
    "benchmark4.scene_mngr.scene.goal_objects"
   ]
  },
  {
   "cell_type": "code",
   "execution_count": 4,
   "id": "73c5ff2d",
   "metadata": {},
   "outputs": [
    {
     "name": "stdout",
     "output_type": "stream",
     "text": [
      "\n",
      "[1/10] Benchmark: 4, Algo: uct, C: 5, Seed: 29\n",
      "\u001b[95m=========== Search iteration : 1 ===========\u001b[0m\n",
      "obj_name hanoi_disk_2 sup_obj_name :  table\n",
      "obj_name hanoi_disk_2 sup_obj_name :  hanoi_disk_0\n"
     ]
    },
    {
     "ename": "AttributeError",
     "evalue": "'MCTS_rearrangement' object has no attribute 'infeasible_reward'",
     "output_type": "error",
     "traceback": [
      "\u001b[0;31m---------------------------------------------------------------------------\u001b[0m",
      "\u001b[0;31mAttributeError\u001b[0m                            Traceback (most recent call last)",
      "Cell \u001b[0;32mIn[4], line 7\u001b[0m\n\u001b[1;32m      2\u001b[0m \u001b[38;5;28;01mfor\u001b[39;00m i \u001b[38;5;129;01min\u001b[39;00m \u001b[38;5;28mrange\u001b[39m(budgets):\n\u001b[1;32m      3\u001b[0m \u001b[38;5;66;03m# for i in range(10):\u001b[39;00m\n\u001b[1;32m      4\u001b[0m     \u001b[38;5;28mprint\u001b[39m(\n\u001b[1;32m      5\u001b[0m         \u001b[38;5;124mf\u001b[39m\u001b[38;5;124m\"\u001b[39m\u001b[38;5;130;01m\\n\u001b[39;00m\u001b[38;5;124m[\u001b[39m\u001b[38;5;132;01m{\u001b[39;00midx\u001b[38;5;241m+\u001b[39m\u001b[38;5;241m1\u001b[39m\u001b[38;5;132;01m}\u001b[39;00m\u001b[38;5;124m/\u001b[39m\u001b[38;5;132;01m{\u001b[39;00m\u001b[38;5;28mlen\u001b[39m(c_list)\u001b[38;5;132;01m}\u001b[39;00m\u001b[38;5;124m] Benchmark: \u001b[39m\u001b[38;5;132;01m{\u001b[39;00mbenchmark4\u001b[38;5;241m.\u001b[39mscene_mngr\u001b[38;5;241m.\u001b[39mscene\u001b[38;5;241m.\u001b[39mbench_num\u001b[38;5;132;01m}\u001b[39;00m\u001b[38;5;124m, Algo: \u001b[39m\u001b[38;5;132;01m{\u001b[39;00malgo\u001b[38;5;132;01m}\u001b[39;00m\u001b[38;5;124m, C: \u001b[39m\u001b[38;5;132;01m{\u001b[39;00mc\u001b[38;5;132;01m}\u001b[39;00m\u001b[38;5;124m, Seed: \u001b[39m\u001b[38;5;132;01m{\u001b[39;00mseed\u001b[38;5;132;01m}\u001b[39;00m\u001b[38;5;124m\"\u001b[39m\n\u001b[1;32m      6\u001b[0m     )\n\u001b[0;32m----> 7\u001b[0m     \u001b[43mmcts\u001b[49m\u001b[38;5;241;43m.\u001b[39;49m\u001b[43mdo_planning_rearrange\u001b[49m\u001b[43m(\u001b[49m\u001b[43mi\u001b[49m\u001b[43m)\u001b[49m\n\u001b[1;32m      9\u001b[0m     \u001b[38;5;28mprint\u001b[39m(\u001b[38;5;124m\"\u001b[39m\u001b[38;5;124m########### Running time : \u001b[39m\u001b[38;5;124m\"\u001b[39m, time\u001b[38;5;241m.\u001b[39mtime()\u001b[38;5;241m-\u001b[39m start_time, \u001b[38;5;124m\"\u001b[39m\u001b[38;5;124m##############\u001b[39m\u001b[38;5;124m\"\u001b[39m)\n\u001b[1;32m     10\u001b[0m     final_level_1_values\u001b[38;5;241m.\u001b[39mappend(mcts\u001b[38;5;241m.\u001b[39mvalues_for_level_1)\n",
      "File \u001b[0;32m~/anaconda3/envs/contact_graspnet/lib/python3.8/pytamp/search/mcts_for_rearragement.py:218\u001b[0m, in \u001b[0;36mMCTS_rearrangement.do_planning_rearrange\u001b[0;34m(self, iter)\u001b[0m\n\u001b[1;32m    215\u001b[0m \u001b[38;5;28mself\u001b[39m\u001b[38;5;241m.\u001b[39msuccess_level_1_leaf_node \u001b[38;5;241m=\u001b[39m \u001b[38;5;28;01mNone\u001b[39;00m\n\u001b[1;32m    217\u001b[0m level_1_start_time \u001b[38;5;241m=\u001b[39m time\u001b[38;5;241m.\u001b[39mtime()\n\u001b[0;32m--> 218\u001b[0m \u001b[38;5;28;43mself\u001b[39;49m\u001b[38;5;241;43m.\u001b[39;49m\u001b[43m_level_wise_1_optimize_rearr\u001b[49m\u001b[43m(\u001b[49m\u001b[43mstate_node\u001b[49m\u001b[38;5;241;43m=\u001b[39;49m\u001b[38;5;241;43m0\u001b[39;49m\u001b[43m,\u001b[49m\u001b[43m \u001b[49m\u001b[43mdepth\u001b[49m\u001b[38;5;241;43m=\u001b[39;49m\u001b[38;5;241;43m0\u001b[39;49m\u001b[43m)\u001b[49m\n\u001b[1;32m    219\u001b[0m \u001b[38;5;28mself\u001b[39m\u001b[38;5;241m.\u001b[39mtime_used_in_level_1 \u001b[38;5;241m+\u001b[39m\u001b[38;5;241m=\u001b[39m time\u001b[38;5;241m.\u001b[39mtime() \u001b[38;5;241m-\u001b[39m level_1_start_time\n\u001b[1;32m    220\u001b[0m max_level_1_value \u001b[38;5;241m=\u001b[39m \u001b[38;5;28mself\u001b[39m\u001b[38;5;241m.\u001b[39mget_max_value_level_1()\n",
      "File \u001b[0;32m~/anaconda3/envs/contact_graspnet/lib/python3.8/pytamp/search/mcts_for_rearragement.py:395\u001b[0m, in \u001b[0;36mMCTS_rearrangement._level_wise_1_optimize_rearr\u001b[0;34m(self, state_node, depth)\u001b[0m\n\u001b[1;32m    392\u001b[0m     \u001b[38;5;28;01mpass\u001b[39;00m\n\u001b[1;32m    393\u001b[0m \u001b[38;5;66;03m# ? Get reward\u001b[39;00m\n\u001b[1;32m    394\u001b[0m \u001b[38;5;66;03m# *======================================================================================================================== #\u001b[39;00m\n\u001b[0;32m--> 395\u001b[0m reward \u001b[38;5;241m=\u001b[39m \u001b[38;5;28;43mself\u001b[39;49m\u001b[38;5;241;43m.\u001b[39;49m\u001b[43m_get_reward\u001b[49m\u001b[43m(\u001b[49m\u001b[43mcur_state\u001b[49m\u001b[43m,\u001b[49m\u001b[43m \u001b[49m\u001b[43mcur_logical_action\u001b[49m\u001b[43m,\u001b[49m\u001b[43m \u001b[49m\u001b[43mnext_state\u001b[49m\u001b[43m,\u001b[49m\u001b[43m \u001b[49m\u001b[43mdepth\u001b[49m\u001b[43m)\u001b[49m\n\u001b[1;32m    396\u001b[0m \u001b[38;5;28mself\u001b[39m\u001b[38;5;241m.\u001b[39mprev_rearr_obj_num \u001b[38;5;241m=\u001b[39m \u001b[38;5;28mself\u001b[39m\u001b[38;5;241m.\u001b[39mnext_rearr_obj_num\n\u001b[1;32m    397\u001b[0m \u001b[38;5;28mprint\u001b[39m(\n\u001b[1;32m    398\u001b[0m     \u001b[38;5;124mf\u001b[39m\u001b[38;5;124m\"\u001b[39m\u001b[38;5;132;01m{\u001b[39;00msc\u001b[38;5;241m.\u001b[39mMAGENTA\u001b[38;5;132;01m}\u001b[39;00m\u001b[38;5;124m[Reward]\u001b[39m\u001b[38;5;132;01m{\u001b[39;00msc\u001b[38;5;241m.\u001b[39mENDC\u001b[38;5;132;01m}\u001b[39;00m\u001b[38;5;124m S(\u001b[39m\u001b[38;5;132;01m{\u001b[39;00mcur_state_node\u001b[38;5;132;01m}\u001b[39;00m\u001b[38;5;124m) -> A(\u001b[39m\u001b[38;5;132;01m{\u001b[39;00mcur_logical_action_node\u001b[38;5;132;01m}\u001b[39;00m\u001b[38;5;124m) -> S\u001b[39m\u001b[38;5;124m'\u001b[39m\u001b[38;5;124m(\u001b[39m\u001b[38;5;132;01m{\u001b[39;00mnext_state_node\u001b[38;5;132;01m}\u001b[39;00m\u001b[38;5;124m) Reward : \u001b[39m\u001b[38;5;132;01m{\u001b[39;00msc\u001b[38;5;241m.\u001b[39mUNDERLINE\u001b[38;5;132;01m}\u001b[39;00m\u001b[38;5;132;01m{\u001b[39;00mnp\u001b[38;5;241m.\u001b[39mround(reward,\u001b[38;5;241m3\u001b[39m)\u001b[38;5;132;01m}\u001b[39;00m\u001b[38;5;132;01m{\u001b[39;00msc\u001b[38;5;241m.\u001b[39mENDC\u001b[38;5;132;01m}\u001b[39;00m\u001b[38;5;124m\"\u001b[39m\n\u001b[1;32m    399\u001b[0m )\n",
      "File \u001b[0;32m~/anaconda3/envs/contact_graspnet/lib/python3.8/pytamp/search/mcts_for_rearragement.py:846\u001b[0m, in \u001b[0;36mMCTS_rearrangement._get_reward\u001b[0;34m(self, cur_state, cur_logical_action, next_state, depth, is_terminal)\u001b[0m\n\u001b[1;32m    843\u001b[0m     inf_reward \u001b[38;5;241m=\u001b[39m \u001b[38;5;28mself\u001b[39m\u001b[38;5;241m.\u001b[39minfeasible_reward \u001b[38;5;241m/\u001b[39m (\u001b[38;5;28mmax\u001b[39m(\u001b[38;5;241m1\u001b[39m, depth)) \u001b[38;5;241m*\u001b[39m \u001b[38;5;241m2\u001b[39m\n\u001b[1;32m    845\u001b[0m \u001b[38;5;28;01melif\u001b[39;00m \u001b[38;5;28mself\u001b[39m\u001b[38;5;241m.\u001b[39mscene_mngr\u001b[38;5;241m.\u001b[39mscene\u001b[38;5;241m.\u001b[39mbench_num \u001b[38;5;241m==\u001b[39m \u001b[38;5;241m4\u001b[39m:\n\u001b[0;32m--> 846\u001b[0m     inf_reward \u001b[38;5;241m=\u001b[39m \u001b[38;5;28;43mself\u001b[39;49m\u001b[38;5;241;43m.\u001b[39;49m\u001b[43minfeasible_reward\u001b[49m \u001b[38;5;241m/\u001b[39m (\u001b[38;5;28mmax\u001b[39m(\u001b[38;5;241m1\u001b[39m, depth)) \u001b[38;5;241m*\u001b[39m \u001b[38;5;241m2\u001b[39m\n\u001b[1;32m    848\u001b[0m \u001b[38;5;28;01mif\u001b[39;00m cur_state \u001b[38;5;129;01mis\u001b[39;00m \u001b[38;5;28;01mNone\u001b[39;00m:\n\u001b[1;32m    849\u001b[0m     \u001b[38;5;28mprint\u001b[39m(\u001b[38;5;124mf\u001b[39m\u001b[38;5;124m\"\u001b[39m\u001b[38;5;124mCurrent state is None.. Reward is \u001b[39m\u001b[38;5;132;01m{\u001b[39;00minf_reward\u001b[38;5;132;01m}\u001b[39;00m\u001b[38;5;124m\"\u001b[39m)\n",
      "\u001b[0;31mAttributeError\u001b[0m: 'MCTS_rearrangement' object has no attribute 'infeasible_reward'"
     ]
    }
   ],
   "source": [
    "start_time = time.time()\n",
    "for i in range(budgets):\n",
    "# for i in range(10):\n",
    "    print(\n",
    "        f\"\\n[{idx+1}/{len(c_list)}] Benchmark: {benchmark4.scene_mngr.scene.bench_num}, Algo: {algo}, C: {c}, Seed: {seed}\"\n",
    "    )\n",
    "    mcts.do_planning_rearrange(i)\n",
    "\n",
    "    print(\"########### Running time : \", time.time()- start_time, \"##############\")\n",
    "    final_level_1_values.append(mcts.values_for_level_1)\n"
   ]
  },
  {
   "cell_type": "code",
   "execution_count": null,
   "id": "b888c09f",
   "metadata": {},
   "outputs": [],
   "source": []
  }
 ],
 "metadata": {
  "kernelspec": {
   "display_name": "contact_graspnet",
   "language": "python",
   "name": "contact_graspnet"
  },
  "language_info": {
   "codemirror_mode": {
    "name": "ipython",
    "version": 3
   },
   "file_extension": ".py",
   "mimetype": "text/x-python",
   "name": "python",
   "nbconvert_exporter": "python",
   "pygments_lexer": "ipython3",
   "version": "3.8.16"
  }
 },
 "nbformat": 4,
 "nbformat_minor": 5
}
