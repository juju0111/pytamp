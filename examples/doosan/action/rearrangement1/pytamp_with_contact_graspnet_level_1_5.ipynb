{
 "cells": [
  {
   "cell_type": "code",
   "execution_count": 1,
   "id": "9b065c0e",
   "metadata": {},
   "outputs": [
    {
     "name": "stderr",
     "output_type": "stream",
     "text": [
      "2023-07-18 18:50:32.051860: I tensorflow/stream_executor/platform/default/dso_loader.cc:53] Successfully opened dynamic library libcudart.so.11.0\n",
      "usage: ipykernel_launcher.py [-h] [--budgets T] [--max_depth H] [--seed i]\n",
      "                             [--algo alg] [--debug_mode DEBUG_MODE]\n",
      "ipykernel_launcher.py: error: unrecognized arguments: -f /home/juju/.local/share/jupyter/runtime/kernel-d589b091-a512-4caa-9b65-8e9bed74ebf1.json\n"
     ]
    },
    {
     "name": "stdout",
     "output_type": "stream",
     "text": [
      "*********************** \u001b[92mLogical States\u001b[0m ***********************\n",
      "OrderedDict([('ben_cube0',\n",
      "              {'on': \u001b[95mObject\u001b[0m(name=table, pos=[ 0.9   -0.6    0.043])}),\n",
      "             ('can0',\n",
      "              {'on': \u001b[95mObject\u001b[0m(name=table, pos=[ 0.9   -0.6    0.043])}),\n",
      "             ('cereal0',\n",
      "              {'on': \u001b[95mObject\u001b[0m(name=table, pos=[ 0.9   -0.6    0.043])}),\n",
      "             ('table',\n",
      "              {'static': True,\n",
      "               'support': [\u001b[95mObject\u001b[0m(name=ben_cube0, pos=[0.53559528 0.11774429 0.83529998]),\n",
      "                           \u001b[95mObject\u001b[0m(name=can0, pos=[ 0.64783705 -0.22660323  0.85059666]),\n",
      "                           \u001b[95mObject\u001b[0m(name=cereal0, pos=[0.59437074 0.00975296 0.88526188])]}),\n",
      "             ('panda_gripper', {'holding': None})])\n",
      "***************************************************************\n",
      "\n",
      "*********************** \u001b[92mLogical States\u001b[0m ***********************\n",
      "OrderedDict([('ben_cube0',\n",
      "              {'on': \u001b[95mObject\u001b[0m(name=table, pos=[ 0.9   -0.6    0.043])}),\n",
      "             ('can0',\n",
      "              {'on': \u001b[95mObject\u001b[0m(name=table, pos=[ 0.9   -0.6    0.043])}),\n",
      "             ('cereal0',\n",
      "              {'on': \u001b[95mObject\u001b[0m(name=table, pos=[ 0.9   -0.6    0.043])}),\n",
      "             ('table',\n",
      "              {'static': True,\n",
      "               'support': [\u001b[95mObject\u001b[0m(name=ben_cube0, pos=[ 0.39377654 -0.05920111  0.83529998]),\n",
      "                           \u001b[95mObject\u001b[0m(name=can0, pos=[0.58836741 0.27068778 0.85059666]),\n",
      "                           \u001b[95mObject\u001b[0m(name=cereal0, pos=[0.40992969 0.07529909 0.88526188])]}),\n",
      "             ('panda_gripper', {'holding': None})])\n",
      "***************************************************************\n",
      "\n"
     ]
    }
   ],
   "source": [
    "import numpy as np\n",
    "import argparse\n",
    "import os, time\n",
    "\n",
    "from pykin.utils import plot_utils as p_utils\n",
    "\n",
    "from pytamp.benchmark import Rearrange1\n",
    "from pytamp.benchmark.rearrange1 import make_scene\n",
    "from pytamp.search.mcts_for_rearragement import MCTS_rearrangement\n",
    "from pytamp.utils import point_cloud_utils as pc_utils\n",
    "\n",
    "def get_parser():\n",
    "    parser = argparse.ArgumentParser(description=\"Test Rearragement 1.\")\n",
    "    parser.add_argument(\"--budgets\", metavar=\"T\", type=int, default=10, help=\"Horizon\")\n",
    "    parser.add_argument(\"--max_depth\", metavar=\"H\", type=int, default=10, help=\"Max depth\")\n",
    "    parser.add_argument(\"--seed\", metavar=\"i\", type=int, default=7, help=\"A random seed\")\n",
    "#     parser.add_argument(\"--seed\", metavar=\"i\", type=int, default=17, help=\"A random seed\")\n",
    "#     parser.add_argument(\"--seed\", metavar=\"i\", type=int, default=144, help=\"A random seed\")\n",
    "    parser.add_argument(\n",
    "        \"--algo\",\n",
    "        metavar=\"alg\",\n",
    "        type=str,\n",
    "        default=\"bai_perturb\",\n",
    "        choices=[\"bai_perturb\", \"bai_ucb\", \"uct\", \"random\", \"greedy\"],\n",
    "        help=\"Choose one (bai_perturb, bai_ucb, uct)\",\n",
    "    )\n",
    "    parser.add_argument(\n",
    "        \"--debug_mode\", default=False, type=lambda x: (str(x).lower() == \"true\"), help=\"Debug mode\"\n",
    "    )\n",
    "#     parser.add_argument(\"--box_number\", metavar=\"N\", type=int, default=6, help=\"Box Number(6 or less)\")\n",
    "    try:\n",
    "        args = parser.parse_args() #call from command line\n",
    "    except:\n",
    "        args = parser.parse_args(args=[]) #call from notebook\n",
    "    return args \n",
    "\n",
    "args = get_parser() \n",
    "\n",
    "debug_mode = args.debug_mode\n",
    "budgets = args.budgets\n",
    "max_depth = args.max_depth\n",
    "algo = args.algo\n",
    "seed = args.seed\n",
    "np.random.seed(seed)\n",
    "\n",
    "object_names, init_scene, goal_scene = make_scene()\n",
    "rearrangement1 = Rearrange1('panda', object_names, init_scene, goal_scene, is_pyplot=False)\n",
    "\n",
    "final_level_1_values = []\n",
    "final_level_2_values = []\n",
    "final_optimal_nodes = []\n",
    "final_pnp_all_joint_paths = []\n",
    "final_pick_all_objects = []\n",
    "final_place_all_object_poses = []\n",
    "\n",
    "# final_optimal_trees = []\n",
    "c_list = 10 ** np.linspace(-2, 2.0, 10)\n"
   ]
  },
  {
   "cell_type": "code",
   "execution_count": 2,
   "id": "63d1d7cd",
   "metadata": {
    "scrolled": true
   },
   "outputs": [
    {
     "name": "stderr",
     "output_type": "stream",
     "text": [
      "2023-07-18 18:50:33.852956: I tensorflow/stream_executor/platform/default/dso_loader.cc:53] Successfully opened dynamic library libcuda.so.1\n",
      "2023-07-18 18:50:33.902055: I tensorflow/stream_executor/cuda/cuda_gpu_executor.cc:937] successful NUMA node read from SysFS had negative value (-1), but there must be at least one NUMA node, so returning NUMA node zero\n",
      "2023-07-18 18:50:33.902124: I tensorflow/core/common_runtime/gpu/gpu_device.cc:1733] Found device 0 with properties: \n",
      "pciBusID: 0000:01:00.0 name: NVIDIA GeForce RTX 3080 computeCapability: 8.6\n",
      "coreClock: 1.74GHz coreCount: 68 deviceMemorySize: 9.77GiB deviceMemoryBandwidth: 707.88GiB/s\n",
      "2023-07-18 18:50:33.902147: I tensorflow/stream_executor/platform/default/dso_loader.cc:53] Successfully opened dynamic library libcudart.so.11.0\n",
      "2023-07-18 18:50:33.903671: I tensorflow/stream_executor/platform/default/dso_loader.cc:53] Successfully opened dynamic library libcublas.so.11\n",
      "2023-07-18 18:50:33.903730: I tensorflow/stream_executor/platform/default/dso_loader.cc:53] Successfully opened dynamic library libcublasLt.so.11\n",
      "2023-07-18 18:50:33.904234: I tensorflow/stream_executor/platform/default/dso_loader.cc:53] Successfully opened dynamic library libcufft.so.10\n",
      "2023-07-18 18:50:33.904371: I tensorflow/stream_executor/platform/default/dso_loader.cc:53] Successfully opened dynamic library libcurand.so.10\n",
      "2023-07-18 18:50:33.904807: I tensorflow/stream_executor/platform/default/dso_loader.cc:53] Successfully opened dynamic library libcusolver.so.11\n",
      "2023-07-18 18:50:33.905163: I tensorflow/stream_executor/platform/default/dso_loader.cc:53] Successfully opened dynamic library libcusparse.so.11\n",
      "2023-07-18 18:50:33.905238: I tensorflow/stream_executor/platform/default/dso_loader.cc:53] Successfully opened dynamic library libcudnn.so.8\n",
      "2023-07-18 18:50:33.905287: I tensorflow/stream_executor/cuda/cuda_gpu_executor.cc:937] successful NUMA node read from SysFS had negative value (-1), but there must be at least one NUMA node, so returning NUMA node zero\n",
      "2023-07-18 18:50:33.905390: I tensorflow/stream_executor/cuda/cuda_gpu_executor.cc:937] successful NUMA node read from SysFS had negative value (-1), but there must be at least one NUMA node, so returning NUMA node zero\n",
      "2023-07-18 18:50:33.905428: I tensorflow/core/common_runtime/gpu/gpu_device.cc:1871] Adding visible gpu devices: 0\n"
     ]
    },
    {
     "name": "stdout",
     "output_type": "stream",
     "text": [
      "/home/juju/contact_graspnet/pointnet2/tf_ops/sampling\n",
      "<module 'contact_graspnet.contact_graspnet' from '/home/juju/contact_graspnet/contact_graspnet/contact_graspnet.py'>\n",
      "--- Get model\n",
      "WARNING:tensorflow:From /home/juju/anaconda3/envs/contact_graspnet/lib/python3.8/site-packages/tensorflow/python/keras/layers/normalization.py:534: _colocate_with (from tensorflow.python.framework.ops) is deprecated and will be removed in a future version.\n",
      "Instructions for updating:\n",
      "Colocations handled automatically by placer.\n"
     ]
    },
    {
     "name": "stderr",
     "output_type": "stream",
     "text": [
      "/home/juju/contact_graspnet/contact_graspnet/config_utils.py:42: YAMLLoadWarning: calling yaml.load() without Loader=... is deprecated, as the default Loader is unsafe. Please read https://msg.pyyaml.org/load for full details.\n",
      "  global_config = yaml.load(f)\n",
      "/home/juju/anaconda3/envs/contact_graspnet/lib/python3.8/site-packages/tensorflow/python/keras/legacy_tf_layers/normalization.py:307: UserWarning: `tf.layers.batch_normalization` is deprecated and will be removed in a future version. Please use `tf.keras.layers.BatchNormalization` instead. In particular, `tf.control_dependencies(tf.GraphKeys.UPDATE_OPS)` should not be used (consult the `tf.keras.layers.BatchNormalization` documentation).\n",
      "  warnings.warn(\n",
      "/home/juju/anaconda3/envs/contact_graspnet/lib/python3.8/site-packages/tensorflow/python/keras/engine/base_layer_v1.py:1692: UserWarning: `layer.apply` is deprecated and will be removed in a future version. Please use `layer.__call__` method instead.\n",
      "  warnings.warn('`layer.apply` is deprecated and '\n"
     ]
    },
    {
     "name": "stdout",
     "output_type": "stream",
     "text": [
      "WARNING:tensorflow:From /home/juju/anaconda3/envs/contact_graspnet/lib/python3.8/site-packages/tensorflow/python/util/deprecation.py:602: calling conv1d (from tensorflow.python.ops.nn_ops) with data_format=NHWC is deprecated and will be removed in a future version.\n",
      "Instructions for updating:\n",
      "`NHWC` for data_format is deprecated, use `NWC` instead\n",
      "WARNING:tensorflow:From /home/juju/anaconda3/envs/contact_graspnet/lib/python3.8/site-packages/tensorflow/python/util/dispatch.py:206: calling dropout (from tensorflow.python.ops.nn_ops) with keep_prob is deprecated and will be removed in a future version.\n",
      "Instructions for updating:\n",
      "Please use `rate` instead of `keep_prob`. Rate should be set to `rate = 1 - keep_prob`.\n"
     ]
    },
    {
     "name": "stderr",
     "output_type": "stream",
     "text": [
      "2023-07-18 18:50:36.142288: I tensorflow/core/platform/cpu_feature_guard.cc:142] This TensorFlow binary is optimized with oneAPI Deep Neural Network Library (oneDNN) to use the following CPU instructions in performance-critical operations:  AVX2 FMA\n",
      "To enable them in other operations, rebuild TensorFlow with the appropriate compiler flags.\n",
      "2023-07-18 18:50:36.143025: I tensorflow/stream_executor/cuda/cuda_gpu_executor.cc:937] successful NUMA node read from SysFS had negative value (-1), but there must be at least one NUMA node, so returning NUMA node zero\n",
      "2023-07-18 18:50:36.143131: I tensorflow/core/common_runtime/gpu/gpu_device.cc:1733] Found device 0 with properties: \n",
      "pciBusID: 0000:01:00.0 name: NVIDIA GeForce RTX 3080 computeCapability: 8.6\n",
      "coreClock: 1.74GHz coreCount: 68 deviceMemorySize: 9.77GiB deviceMemoryBandwidth: 707.88GiB/s\n",
      "2023-07-18 18:50:36.143227: I tensorflow/stream_executor/cuda/cuda_gpu_executor.cc:937] successful NUMA node read from SysFS had negative value (-1), but there must be at least one NUMA node, so returning NUMA node zero\n",
      "2023-07-18 18:50:36.143302: I tensorflow/stream_executor/cuda/cuda_gpu_executor.cc:937] successful NUMA node read from SysFS had negative value (-1), but there must be at least one NUMA node, so returning NUMA node zero\n",
      "2023-07-18 18:50:36.143349: I tensorflow/core/common_runtime/gpu/gpu_device.cc:1871] Adding visible gpu devices: 0\n",
      "2023-07-18 18:50:36.143388: I tensorflow/stream_executor/platform/default/dso_loader.cc:53] Successfully opened dynamic library libcudart.so.11.0\n"
     ]
    },
    {
     "name": "stdout",
     "output_type": "stream",
     "text": [
      "INFO:tensorflow:Restoring parameters from /home/juju/contact_graspnet/checkpoints/scene_test_2048_bs3_hor_sigma_001/model.ckpt-144144\n"
     ]
    },
    {
     "name": "stderr",
     "output_type": "stream",
     "text": [
      "2023-07-18 18:50:36.823370: I tensorflow/core/common_runtime/gpu/gpu_device.cc:1258] Device interconnect StreamExecutor with strength 1 edge matrix:\n",
      "2023-07-18 18:50:36.823392: I tensorflow/core/common_runtime/gpu/gpu_device.cc:1264]      0 \n",
      "2023-07-18 18:50:36.823396: I tensorflow/core/common_runtime/gpu/gpu_device.cc:1277] 0:   N \n",
      "2023-07-18 18:50:36.823558: I tensorflow/stream_executor/cuda/cuda_gpu_executor.cc:937] successful NUMA node read from SysFS had negative value (-1), but there must be at least one NUMA node, so returning NUMA node zero\n",
      "2023-07-18 18:50:36.823688: I tensorflow/stream_executor/cuda/cuda_gpu_executor.cc:937] successful NUMA node read from SysFS had negative value (-1), but there must be at least one NUMA node, so returning NUMA node zero\n",
      "2023-07-18 18:50:36.823746: I tensorflow/stream_executor/cuda/cuda_gpu_executor.cc:937] successful NUMA node read from SysFS had negative value (-1), but there must be at least one NUMA node, so returning NUMA node zero\n",
      "2023-07-18 18:50:36.823794: I tensorflow/core/common_runtime/gpu/gpu_device.cc:1418] Created TensorFlow device (/job:localhost/replica:0/task:0/device:GPU:0 with 3339 MB memory) -> physical GPU (device: 0, name: NVIDIA GeForce RTX 3080, pci bus id: 0000:01:00.0, compute capability: 8.6)\n",
      "2023-07-18 18:50:36.921531: I tensorflow/core/platform/profile_utils/cpu_utils.cc:114] CPU Frequency: 3609600000 Hz\n"
     ]
    }
   ],
   "source": [
    "c = 2.5\n",
    "idx = 0\n",
    "mcts = MCTS_rearrangement(\n",
    "        scene_mngr=rearrangement1.scene_mngr,\n",
    "        init_scene=rearrangement1.init_scene,\n",
    "        sampling_method=args.algo,\n",
    "        budgets=args.budgets,\n",
    "        max_depth=args.max_depth,\n",
    "        c=c,\n",
    "        debug_mode=args.debug_mode,\n",
    "        use_pick_action=False,\n",
    "    )\n",
    "mcts.only_optimize_1 = False"
   ]
  },
  {
   "cell_type": "code",
   "execution_count": 3,
   "id": "5460afd4",
   "metadata": {
    "scrolled": true
   },
   "outputs": [
    {
     "name": "stdout",
     "output_type": "stream",
     "text": [
      "\n",
      "[1/10] Benchmark: 0, Algo: bai_perturb, C: 2.5, Seed: 7\n",
      "\u001b[95m=========== Search iteration : 1 ===========\u001b[0m\n",
      "\u001b[0;33m[Action]\u001b[0m \u001b[92mRearr can0\u001b[0m\n",
      "\u001b[0;34mplaced another place not goal\u001b[0m\n",
      "\u001b[95m[Reward]\u001b[0m S(0) -> A(3) -> S'(7) Reward : \u001b[4m-1\u001b[0m\n",
      "\u001b[0;33m[Action]\u001b[0m \u001b[92mRearr cereal0\u001b[0m\n",
      "\u001b[0;34mplaced another place not goal\u001b[0m\n",
      "\u001b[95m[Reward]\u001b[0m S(7) -> A(10) -> S'(12) Reward : \u001b[4m-1\u001b[0m\n",
      "\u001b[0;33m[Action]\u001b[0m \u001b[92mRearr can0\u001b[0m\n",
      "\u001b[0;36mGood Action\u001b[0m\n",
      "\u001b[95m[Reward]\u001b[0m S(12) -> A(16) -> S'(17) Reward : \u001b[4m2.5\u001b[0m\n",
      "\u001b[0;33m[Action]\u001b[0m \u001b[92mRearr ben_cube0\u001b[0m\n",
      "\u001b[0;34mplaced another place not goal\u001b[0m\n",
      "\u001b[95m[Reward]\u001b[0m S(17) -> A(18) -> S'(22) Reward : \u001b[4m-1\u001b[0m\n",
      "\u001b[0;33m[Action]\u001b[0m \u001b[92mRearr can0\u001b[0m\n",
      "\u001b[91mBad Action\u001b[0m\n",
      "\u001b[95m[Reward]\u001b[0m S(22) -> A(23) -> S'(26) Reward : \u001b[4m-4.0\u001b[0m\n",
      "\u001b[0;33m[Action]\u001b[0m \u001b[92mRearr cereal0\u001b[0m\n",
      "\u001b[0;36mGood Action\u001b[0m\n",
      "\u001b[95m[Reward]\u001b[0m S(26) -> A(30) -> S'(31) Reward : \u001b[4m1.429\u001b[0m\n",
      "\u001b[0;33m[Action]\u001b[0m \u001b[92mRearr ben_cube0\u001b[0m\n",
      "\u001b[0;34mplaced another place not goal\u001b[0m\n",
      "\u001b[95m[Reward]\u001b[0m S(31) -> A(32) -> S'(36) Reward : \u001b[4m-1\u001b[0m\n",
      "\u001b[0;33m[Action]\u001b[0m \u001b[92mRearr can0\u001b[0m\n",
      "\u001b[0;34mplaced another place not goal\u001b[0m\n",
      "\u001b[95m[Reward]\u001b[0m S(36) -> A(37) -> S'(40) Reward : \u001b[4m-1\u001b[0m\n",
      "\u001b[0;33m[Action]\u001b[0m \u001b[92mRearr ben_cube0\u001b[0m\n",
      "\u001b[0;36mGood Action\u001b[0m\n",
      "\u001b[95m[Reward]\u001b[0m S(40) -> A(41) -> S'(43) Reward : \u001b[4m1.0\u001b[0m\n",
      "\u001b[0;33m[Action]\u001b[0m \u001b[92mRearr can0\u001b[0m\n",
      "\u001b[0;34mplaced another place not goal\u001b[0m\n",
      "\u001b[95m[Reward]\u001b[0m S(43) -> A(44) -> S'(47) Reward : \u001b[4m-1\u001b[0m\n",
      "\u001b[93mExceeded the maximum depth!!\u001b[0m\n",
      "########### Running time :  0.5695939064025879 ##############\n",
      "\n",
      "[1/10] Benchmark: 0, Algo: bai_perturb, C: 2.5, Seed: 7\n",
      "\u001b[95m=========== Search iteration : 2 ===========\u001b[0m\n",
      "\u001b[0;33m[Action]\u001b[0m \u001b[92mRearr ben_cube0\u001b[0m\n",
      "\u001b[0;34mplaced another place not goal\u001b[0m\n",
      "\u001b[95m[Reward]\u001b[0m S(0) -> A(1) -> S'(48) Reward : \u001b[4m-1\u001b[0m\n",
      "\u001b[0;33m[Action]\u001b[0m \u001b[92mRearr cereal0\u001b[0m\n",
      "\u001b[0;34mplaced another place not goal\u001b[0m\n",
      "\u001b[95m[Reward]\u001b[0m S(48) -> A(51) -> S'(53) Reward : \u001b[4m-1\u001b[0m\n",
      "\u001b[0;33m[Action]\u001b[0m \u001b[92mRearr ben_cube0\u001b[0m\n",
      "\u001b[0;36mGood Action\u001b[0m\n",
      "\u001b[95m[Reward]\u001b[0m S(53) -> A(55) -> S'(58) Reward : \u001b[4m2.5\u001b[0m\n",
      "\u001b[0;33m[Action]\u001b[0m \u001b[92mRearr can0\u001b[0m\n",
      "\u001b[0;36mGood Action\u001b[0m\n",
      "\u001b[95m[Reward]\u001b[0m S(58) -> A(60) -> S'(63) Reward : \u001b[4m2.0\u001b[0m\n",
      "\u001b[0;33m[Action]\u001b[0m \u001b[92mRearr ben_cube0\u001b[0m\n",
      "\u001b[91mBad Action\u001b[0m\n",
      "\u001b[95m[Reward]\u001b[0m S(63) -> A(64) -> S'(67) Reward : \u001b[4m-4.0\u001b[0m\n",
      "\u001b[0;33m[Action]\u001b[0m \u001b[92mRearr can0\u001b[0m\n",
      "\u001b[91mBad Action\u001b[0m\n",
      "\u001b[95m[Reward]\u001b[0m S(67) -> A(68) -> S'(71) Reward : \u001b[4m-3.333\u001b[0m\n",
      "\u001b[0;33m[Action]\u001b[0m \u001b[92mRearr cereal0\u001b[0m\n",
      "\u001b[0;34mplaced another place not goal\u001b[0m\n",
      "\u001b[95m[Reward]\u001b[0m S(71) -> A(74) -> S'(76) Reward : \u001b[4m-1\u001b[0m\n",
      "\u001b[0;33m[Action]\u001b[0m \u001b[92mRearr ben_cube0\u001b[0m\n",
      "\u001b[0;34mplaced another place not goal\u001b[0m\n",
      "\u001b[95m[Reward]\u001b[0m S(76) -> A(77) -> S'(80) Reward : \u001b[4m-1\u001b[0m\n",
      "\u001b[0;33m[Action]\u001b[0m \u001b[92mRearr can0\u001b[0m\n",
      "\u001b[0;34mplaced another place not goal\u001b[0m\n",
      "\u001b[95m[Reward]\u001b[0m S(80) -> A(81) -> S'(85) Reward : \u001b[4m-1\u001b[0m\n",
      "\u001b[0;33m[Action]\u001b[0m \u001b[92mRearr ben_cube0\u001b[0m\n",
      "\u001b[0;36mGood Action\u001b[0m\n",
      "\u001b[95m[Reward]\u001b[0m S(85) -> A(87) -> S'(90) Reward : \u001b[4m0.909\u001b[0m\n",
      "\u001b[93mExceeded the maximum depth!!\u001b[0m\n",
      "########### Running time :  1.105440616607666 ##############\n",
      "\n",
      "[1/10] Benchmark: 0, Algo: bai_perturb, C: 2.5, Seed: 7\n",
      "\u001b[95m=========== Search iteration : 3 ===========\u001b[0m\n",
      "\u001b[0;33m[Action]\u001b[0m \u001b[92mRearr ben_cube0\u001b[0m\n",
      "\u001b[0;36mGood Action\u001b[0m\n",
      "\u001b[95m[Reward]\u001b[0m S(0) -> A(2) -> S'(91) Reward : \u001b[4m5.0\u001b[0m\n",
      "\u001b[0;33m[Action]\u001b[0m \u001b[92mRearr can0\u001b[0m\n",
      "\u001b[0;36mGood Action\u001b[0m\n",
      "\u001b[95m[Reward]\u001b[0m S(91) -> A(93) -> S'(96) Reward : \u001b[4m3.333\u001b[0m\n",
      "\u001b[0;33m[Action]\u001b[0m \u001b[92mRearr ben_cube0\u001b[0m\n",
      "\u001b[91mBad Action\u001b[0m\n",
      "\u001b[95m[Reward]\u001b[0m S(96) -> A(97) -> S'(100) Reward : \u001b[4m-6.667\u001b[0m\n",
      "\u001b[0;33m[Action]\u001b[0m \u001b[92mRearr cereal0\u001b[0m\n",
      "\u001b[0;36mGood Action\u001b[0m\n",
      "\u001b[95m[Reward]\u001b[0m S(100) -> A(103) -> S'(104) Reward : \u001b[4m2.0\u001b[0m\n",
      "\u001b[0;33m[Action]\u001b[0m \u001b[92mRearr can0\u001b[0m\n",
      "\u001b[91mBad Action\u001b[0m\n",
      "\u001b[95m[Reward]\u001b[0m S(104) -> A(107) -> S'(108) Reward : \u001b[4m-4.0\u001b[0m\n",
      "\u001b[0;33m[Action]\u001b[0m \u001b[92mRearr ben_cube0\u001b[0m\n",
      "\u001b[0;34mplaced another place not goal\u001b[0m\n",
      "\u001b[95m[Reward]\u001b[0m S(108) -> A(109) -> S'(112) Reward : \u001b[4m-1\u001b[0m\n",
      "\u001b[0;33m[Action]\u001b[0m \u001b[92mRearr can0\u001b[0m\n",
      "\u001b[0;36mGood Action\u001b[0m\n",
      "\u001b[95m[Reward]\u001b[0m S(112) -> A(114) -> S'(116) Reward : \u001b[4m1.25\u001b[0m\n",
      "\u001b[0;33m[Action]\u001b[0m \u001b[92mRearr cereal0\u001b[0m\n",
      "\u001b[91mBad Action\u001b[0m\n",
      "\u001b[95m[Reward]\u001b[0m S(116) -> A(119) -> S'(120) Reward : \u001b[4m-2.5\u001b[0m\n",
      "\u001b[0;33m[Action]\u001b[0m \u001b[92mRearr ben_cube0\u001b[0m\n",
      "\u001b[0;34mplaced another place not goal\u001b[0m\n",
      "\u001b[95m[Reward]\u001b[0m S(120) -> A(121) -> S'(124) Reward : \u001b[4m-1\u001b[0m\n",
      "\u001b[0;33m[Action]\u001b[0m \u001b[92mRearr cereal0\u001b[0m\n",
      "\u001b[0;36mGood Action\u001b[0m\n",
      "\u001b[95m[Reward]\u001b[0m S(124) -> A(127) -> S'(128) Reward : \u001b[4m0.909\u001b[0m\n",
      "\u001b[93mExceeded the maximum depth!!\u001b[0m\n",
      "########### Running time :  1.7581932544708252 ##############\n",
      "\n",
      "[1/10] Benchmark: 0, Algo: bai_perturb, C: 2.5, Seed: 7\n",
      "\u001b[95m=========== Search iteration : 4 ===========\u001b[0m\n",
      "\u001b[0;33m[Action]\u001b[0m \u001b[92mRearr can0\u001b[0m\n",
      "\u001b[0;36mGood Action\u001b[0m\n",
      "\u001b[95m[Reward]\u001b[0m S(0) -> A(4) -> S'(129) Reward : \u001b[4m5.0\u001b[0m\n",
      "\u001b[0;33m[Action]\u001b[0m \u001b[92mRearr cereal0\u001b[0m\n",
      "\u001b[0;36mGood Action\u001b[0m\n",
      "\u001b[95m[Reward]\u001b[0m S(129) -> A(133) -> S'(134) Reward : \u001b[4m3.333\u001b[0m\n",
      "\u001b[0;33m[Action]\u001b[0m \u001b[92mRearr ben_cube0\u001b[0m\n",
      "\u001b[0;34mplaced another place not goal\u001b[0m\n",
      "\u001b[95m[Reward]\u001b[0m S(134) -> A(135) -> S'(138) Reward : \u001b[4m-1\u001b[0m\n",
      "\u001b[0;33m[Action]\u001b[0m \u001b[92mRearr cereal0\u001b[0m\n",
      "\u001b[91mBad Action\u001b[0m\n",
      "\u001b[95m[Reward]\u001b[0m S(138) -> A(139) -> S'(140) Reward : \u001b[4m-5.0\u001b[0m\n",
      "\u001b[0;33m[Action]\u001b[0m \u001b[92mRearr ben_cube0\u001b[0m\n",
      "\u001b[0;34mplaced another place not goal\u001b[0m\n",
      "\u001b[95m[Reward]\u001b[0m S(140) -> A(141) -> S'(144) Reward : \u001b[4m-1\u001b[0m\n",
      "\u001b[0;33m[Action]\u001b[0m \u001b[92mRearr cereal0\u001b[0m\n",
      "\u001b[0;36mGood Action\u001b[0m\n",
      "\u001b[95m[Reward]\u001b[0m S(144) -> A(146) -> S'(147) Reward : \u001b[4m1.429\u001b[0m\n",
      "\u001b[0;33m[Action]\u001b[0m \u001b[92mRearr ben_cube0\u001b[0m\n",
      "\u001b[0;34mplaced another place not goal\u001b[0m\n",
      "\u001b[95m[Reward]\u001b[0m S(147) -> A(148) -> S'(151) Reward : \u001b[4m-1\u001b[0m\n",
      "\u001b[0;33m[Action]\u001b[0m \u001b[92mRearr cereal0\u001b[0m\n",
      "\u001b[91mBad Action\u001b[0m\n",
      "\u001b[95m[Reward]\u001b[0m S(151) -> A(153) -> S'(154) Reward : \u001b[4m-2.5\u001b[0m\n",
      "\u001b[0;33m[Action]\u001b[0m \u001b[92mRearr ben_cube0\u001b[0m\n",
      "\u001b[0;34mplaced another place not goal\u001b[0m\n",
      "\u001b[95m[Reward]\u001b[0m S(154) -> A(155) -> S'(158) Reward : \u001b[4m-1\u001b[0m\n",
      "\u001b[0;33m[Action]\u001b[0m \u001b[92mRearr cereal0\u001b[0m\n",
      "\u001b[0;36mGood Action\u001b[0m\n",
      "\u001b[95m[Reward]\u001b[0m S(158) -> A(161) -> S'(162) Reward : \u001b[4m0.909\u001b[0m\n",
      "\u001b[93mExceeded the maximum depth!!\u001b[0m\n",
      "########### Running time :  2.357783555984497 ##############\n",
      "\n",
      "[1/10] Benchmark: 0, Algo: bai_perturb, C: 2.5, Seed: 7\n",
      "\u001b[95m=========== Search iteration : 5 ===========\u001b[0m\n",
      "\u001b[0;33m[Action]\u001b[0m \u001b[92mRearr cereal0\u001b[0m\n",
      "\u001b[0;34mplaced another place not goal\u001b[0m\n",
      "\u001b[95m[Reward]\u001b[0m S(0) -> A(5) -> S'(163) Reward : \u001b[4m-1\u001b[0m\n",
      "\u001b[0;33m[Action]\u001b[0m \u001b[92mRearr can0\u001b[0m\n",
      "\u001b[0;34mplaced another place not goal\u001b[0m\n",
      "\u001b[95m[Reward]\u001b[0m S(163) -> A(166) -> S'(168) Reward : \u001b[4m-1\u001b[0m\n",
      "\u001b[0;33m[Action]\u001b[0m \u001b[92mRearr cereal0\u001b[0m\n",
      "\u001b[0;36mGood Action\u001b[0m\n",
      "\u001b[95m[Reward]\u001b[0m S(168) -> A(172) -> S'(173) Reward : \u001b[4m2.5\u001b[0m\n",
      "\u001b[0;33m[Action]\u001b[0m \u001b[92mRearr ben_cube0\u001b[0m\n",
      "\u001b[0;34mplaced another place not goal\u001b[0m\n",
      "\u001b[95m[Reward]\u001b[0m S(173) -> A(174) -> S'(178) Reward : \u001b[4m-1\u001b[0m\n",
      "\u001b[0;33m[Action]\u001b[0m \u001b[92mRearr can0\u001b[0m\n",
      "\u001b[0;36mGood Action\u001b[0m\n",
      "\u001b[95m[Reward]\u001b[0m S(178) -> A(180) -> S'(182) Reward : \u001b[4m1.667\u001b[0m\n",
      "\u001b[0;33m[Action]\u001b[0m \u001b[92mRearr cereal0\u001b[0m\n",
      "\u001b[91mBad Action\u001b[0m\n",
      "\u001b[95m[Reward]\u001b[0m S(182) -> A(185) -> S'(186) Reward : \u001b[4m-3.333\u001b[0m\n",
      "\u001b[0;33m[Action]\u001b[0m \u001b[92mRearr ben_cube0\u001b[0m\n",
      "\u001b[0;36mGood Action\u001b[0m\n",
      "\u001b[95m[Reward]\u001b[0m S(186) -> A(188) -> S'(190) Reward : \u001b[4m1.25\u001b[0m\n",
      "\u001b[0;33m[Action]\u001b[0m \u001b[92mRearr cereal0\u001b[0m\n",
      "\u001b[0;36mGood Action\u001b[0m\n",
      "\u001b[95m[Reward]\u001b[0m S(190) -> A(193) -> S'(194) Reward : \u001b[4m1.111\u001b[0m\n",
      "##########['can0', 'ben_cube0', 'cereal0']#############\n",
      "\u001b[94mSuccess!!!!!\u001b[0m\n",
      "Terminal State! Reward is 5\n",
      "\u001b[0;33mcereal0\u001b[0m\n",
      "Extracted Region Cube Size:  0.4\n"
     ]
    },
    {
     "name": "stderr",
     "output_type": "stream",
     "text": [
      "2023-07-18 18:50:40.531197: I tensorflow/stream_executor/platform/default/dso_loader.cc:53] Successfully opened dynamic library libcudnn.so.8\n",
      "2023-07-18 18:50:41.256890: I tensorflow/stream_executor/cuda/cuda_dnn.cc:359] Loaded cuDNN version 8201\n",
      "2023-07-18 18:50:42.198972: I tensorflow/stream_executor/platform/default/dso_loader.cc:53] Successfully opened dynamic library libcublas.so.11\n",
      "2023-07-18 18:50:43.003898: I tensorflow/stream_executor/platform/default/dso_loader.cc:53] Successfully opened dynamic library libcublasLt.so.11\n",
      "2023-07-18 18:50:43.953715: W tensorflow/core/common_runtime/bfc_allocator.cc:337] Garbage collection: deallocate free memory regions (i.e., allocations) so that we can re-allocate a larger region to avoid OOM due to memory fragmentation. If you see this message frequently, you are running near the threshold of the available device memory and re-allocation may incur great performance overhead. You may try smaller batch sizes to observe the performance impact. Set TF_ENABLE_GPU_GARBAGE_COLLECTION=false if you'd like to disable this feature.\n"
     ]
    },
    {
     "name": "stdout",
     "output_type": "stream",
     "text": [
      "Generated 134 grasps for object cereal0\n",
      "Generated Grasp in world coord : (134, 4, 4)\n",
      "Collision free grasps step 1 :  (108, 4, 4)\n",
      "\u001b[0;33mcan0\u001b[0m\n",
      "Extracted Region Cube Size:  0.4\n",
      "Generated 32 grasps for object can0\n",
      "Generated Grasp in world coord : (32, 4, 4)\n",
      "Collision free grasps step 1 :  (26, 4, 4)\n",
      "\u001b[0;33mcereal0\u001b[0m\n",
      "Extracted Region Cube Size:  0.4\n",
      "Generated 142 grasps for object cereal0\n",
      "Generated Grasp in world coord : (142, 4, 4)\n",
      "Collision free grasps step 1 :  (121, 4, 4)\n",
      "\u001b[0;33mben_cube0\u001b[0m\n",
      "Extracted Region Cube Size:  0.4\n",
      "Generated 9 grasps for object ben_cube0\n",
      "Generated Grasp in world coord : (9, 4, 4)\n",
      "Collision free grasps step 1 :  (0,)\n",
      "Augment 1 _z axis 90' rotation  (9, 4, 4) (9, 4, 4)\n",
      "Collision free grasps step 2 :  (7, 4, 4)\n",
      "\u001b[0;33mcan0\u001b[0m\n",
      "Extracted Region Cube Size:  0.4\n",
      "Generated 188 grasps for object can0\n",
      "Generated Grasp in world coord : (188, 4, 4)\n",
      "Collision free grasps step 1 :  (160, 4, 4)\n",
      "\u001b[0;33mcereal0\u001b[0m\n",
      "Extracted Region Cube Size:  0.4\n",
      "Generated 131 grasps for object cereal0\n",
      "Generated Grasp in world coord : (131, 4, 4)\n",
      "Collision free grasps step 1 :  (105, 4, 4)\n",
      "\u001b[0;33mben_cube0\u001b[0m\n",
      "Extracted Region Cube Size:  0.4\n",
      "Generated 148 grasps for object ben_cube0\n",
      "Generated Grasp in world coord : (148, 4, 4)\n",
      "Collision free grasps step 1 :  (147, 4, 4)\n",
      "\u001b[0;33mcereal0\u001b[0m\n",
      "Extracted Region Cube Size:  0.4\n",
      "Generated 137 grasps for object cereal0\n",
      "Generated Grasp in world coord : (137, 4, 4)\n",
      "Collision free grasps step 1 :  (49, 4, 4)\n",
      "\u001b[1;33mpick None\u001b[0m\n"
     ]
    },
    {
     "ename": "KeyError",
     "evalue": "None",
     "output_type": "error",
     "traceback": [
      "\u001b[0;31m---------------------------------------------------------------------------\u001b[0m",
      "\u001b[0;31mKeyError\u001b[0m                                  Traceback (most recent call last)",
      "Cell \u001b[0;32mIn[3], line 7\u001b[0m\n\u001b[1;32m      2\u001b[0m \u001b[38;5;28;01mfor\u001b[39;00m i \u001b[38;5;129;01min\u001b[39;00m \u001b[38;5;28mrange\u001b[39m(budgets):\n\u001b[1;32m      3\u001b[0m \u001b[38;5;66;03m# for i in range(10):\u001b[39;00m\n\u001b[1;32m      4\u001b[0m     \u001b[38;5;28mprint\u001b[39m(\n\u001b[1;32m      5\u001b[0m         \u001b[38;5;124mf\u001b[39m\u001b[38;5;124m\"\u001b[39m\u001b[38;5;130;01m\\n\u001b[39;00m\u001b[38;5;124m[\u001b[39m\u001b[38;5;132;01m{\u001b[39;00midx\u001b[38;5;241m+\u001b[39m\u001b[38;5;241m1\u001b[39m\u001b[38;5;132;01m}\u001b[39;00m\u001b[38;5;124m/\u001b[39m\u001b[38;5;132;01m{\u001b[39;00m\u001b[38;5;28mlen\u001b[39m(c_list)\u001b[38;5;132;01m}\u001b[39;00m\u001b[38;5;124m] Benchmark: \u001b[39m\u001b[38;5;132;01m{\u001b[39;00mrearrangement1\u001b[38;5;241m.\u001b[39mscene_mngr\u001b[38;5;241m.\u001b[39mscene\u001b[38;5;241m.\u001b[39mbench_num\u001b[38;5;132;01m}\u001b[39;00m\u001b[38;5;124m, Algo: \u001b[39m\u001b[38;5;132;01m{\u001b[39;00malgo\u001b[38;5;132;01m}\u001b[39;00m\u001b[38;5;124m, C: \u001b[39m\u001b[38;5;132;01m{\u001b[39;00mc\u001b[38;5;132;01m}\u001b[39;00m\u001b[38;5;124m, Seed: \u001b[39m\u001b[38;5;132;01m{\u001b[39;00mseed\u001b[38;5;132;01m}\u001b[39;00m\u001b[38;5;124m\"\u001b[39m\n\u001b[1;32m      6\u001b[0m     )\n\u001b[0;32m----> 7\u001b[0m     \u001b[43mmcts\u001b[49m\u001b[38;5;241;43m.\u001b[39;49m\u001b[43mdo_planning_rearrange\u001b[49m\u001b[43m(\u001b[49m\u001b[43mi\u001b[49m\u001b[43m)\u001b[49m\n\u001b[1;32m      9\u001b[0m     \u001b[38;5;28mprint\u001b[39m(\u001b[38;5;124m\"\u001b[39m\u001b[38;5;124m########### Running time : \u001b[39m\u001b[38;5;124m\"\u001b[39m, time\u001b[38;5;241m.\u001b[39mtime()\u001b[38;5;241m-\u001b[39m start_time, \u001b[38;5;124m\"\u001b[39m\u001b[38;5;124m##############\u001b[39m\u001b[38;5;124m\"\u001b[39m)\n\u001b[1;32m     10\u001b[0m     final_level_1_values\u001b[38;5;241m.\u001b[39mappend(mcts\u001b[38;5;241m.\u001b[39mvalues_for_level_1)\n",
      "File \u001b[0;32m~/anaconda3/envs/contact_graspnet/lib/python3.8/pytamp/search/mcts_for_rearragement.py:236\u001b[0m, in \u001b[0;36mMCTS_rearrangement.do_planning_rearrange\u001b[0;34m(self, iter)\u001b[0m\n\u001b[1;32m    231\u001b[0m \u001b[38;5;66;03m# TODO\u001b[39;00m\n\u001b[1;32m    232\u001b[0m \u001b[38;5;28;01melse\u001b[39;00m:\n\u001b[1;32m    233\u001b[0m     \u001b[38;5;28mself\u001b[39m\u001b[38;5;241m.\u001b[39m_level_wise_between_1_and_2_optimize(\n\u001b[1;32m    234\u001b[0m         success_level_1_sub_nodes, \u001b[38;5;28mself\u001b[39m\u001b[38;5;241m.\u001b[39mconsider_next_scene\n\u001b[1;32m    235\u001b[0m     )\n\u001b[0;32m--> 236\u001b[0m     \u001b[38;5;28;43mself\u001b[39;49m\u001b[38;5;241;43m.\u001b[39;49m\u001b[43m_level_wise_2_optimize\u001b[49m\u001b[43m(\u001b[49m\u001b[43msuccess_level_1_sub_nodes\u001b[49m\u001b[43m)\u001b[49m\n\u001b[1;32m    237\u001b[0m     \u001b[38;5;28mself\u001b[39m\u001b[38;5;241m.\u001b[39m_update_success_level_1_and_2(success_level_1_sub_nodes)\n\u001b[1;32m    238\u001b[0m     \u001b[38;5;28mself\u001b[39m\u001b[38;5;241m.\u001b[39mvalues_for_level_2\u001b[38;5;241m.\u001b[39mappend(\n\u001b[1;32m    239\u001b[0m         \u001b[38;5;28mself\u001b[39m\u001b[38;5;241m.\u001b[39mget_max_value_level_2(success_level_1_sub_nodes)\n\u001b[1;32m    240\u001b[0m     )\n",
      "File \u001b[0;32m~/anaconda3/envs/contact_graspnet/lib/python3.8/pytamp/search/mcts_for_rearragement.py:967\u001b[0m, in \u001b[0;36mMCTS_rearrangement._level_wise_2_optimize\u001b[0;34m(self, sub_optimal_nodes)\u001b[0m\n\u001b[1;32m    964\u001b[0m \u001b[38;5;28;01mif\u001b[39;00m \u001b[38;5;129;01mnot\u001b[39;00m init_thetas:\n\u001b[1;32m    965\u001b[0m     init_theta \u001b[38;5;241m=\u001b[39m \u001b[38;5;28mself\u001b[39m\u001b[38;5;241m.\u001b[39mpick_action\u001b[38;5;241m.\u001b[39mscene_mngr\u001b[38;5;241m.\u001b[39mscene\u001b[38;5;241m.\u001b[39mrobot\u001b[38;5;241m.\u001b[39minit_qpos\n\u001b[0;32m--> 967\u001b[0m pick_joint_path \u001b[38;5;241m=\u001b[39m \u001b[38;5;28;43mself\u001b[39;49m\u001b[38;5;241;43m.\u001b[39;49m\u001b[43mpick_action\u001b[49m\u001b[38;5;241;43m.\u001b[39;49m\u001b[43mget_possible_joint_path_level_2\u001b[49m\u001b[43m(\u001b[49m\n\u001b[1;32m    968\u001b[0m \u001b[43m    \u001b[49m\u001b[43mscene\u001b[49m\u001b[38;5;241;43m=\u001b[39;49m\u001b[43mpick_scene\u001b[49m\u001b[43m,\u001b[49m\n\u001b[1;32m    969\u001b[0m \u001b[43m    \u001b[49m\u001b[43mgrasp_poses\u001b[49m\u001b[38;5;241;43m=\u001b[39;49m\u001b[43mpick_scene\u001b[49m\u001b[38;5;241;43m.\u001b[39;49m\u001b[43mgrasp_poses\u001b[49m\u001b[43m,\u001b[49m\n\u001b[1;32m    970\u001b[0m \u001b[43m    \u001b[49m\u001b[43minit_thetas\u001b[49m\u001b[38;5;241;43m=\u001b[39;49m\u001b[43minit_theta\u001b[49m\u001b[43m,\u001b[49m\n\u001b[1;32m    971\u001b[0m \u001b[43m\u001b[49m\u001b[43m)\u001b[49m\n\u001b[1;32m    972\u001b[0m \u001b[38;5;28;01mif\u001b[39;00m pick_joint_path:\n\u001b[1;32m    973\u001b[0m     success_pick \u001b[38;5;241m=\u001b[39m \u001b[38;5;28;01mTrue\u001b[39;00m\n",
      "File \u001b[0;32m~/anaconda3/envs/contact_graspnet/lib/python3.8/pytamp/action/pick.py:210\u001b[0m, in \u001b[0;36mPickAction.get_possible_joint_path_level_2\u001b[0;34m(self, scene, grasp_poses, init_thetas)\u001b[0m\n\u001b[1;32m    208\u001b[0m \u001b[38;5;66;03m# planning 시작에 앞서 collision manager의 scene을 scene을 transition 이전의 상태로 돌리고 planning 한다.\u001b[39;00m\n\u001b[1;32m    209\u001b[0m pick_obj \u001b[38;5;241m=\u001b[39m \u001b[38;5;28mself\u001b[39m\u001b[38;5;241m.\u001b[39mscene_mngr\u001b[38;5;241m.\u001b[39mscene\u001b[38;5;241m.\u001b[39mrobot\u001b[38;5;241m.\u001b[39mgripper\u001b[38;5;241m.\u001b[39mattached_obj_name\n\u001b[0;32m--> 210\u001b[0m \u001b[38;5;28;43mself\u001b[39;49m\u001b[38;5;241;43m.\u001b[39;49m\u001b[43mscene_mngr\u001b[49m\u001b[38;5;241;43m.\u001b[39;49m\u001b[43mscene\u001b[49m\u001b[38;5;241;43m.\u001b[39;49m\u001b[43mobjs\u001b[49m\u001b[43m[\u001b[49m\n\u001b[1;32m    211\u001b[0m \u001b[43m    \u001b[49m\u001b[43mpick_obj\u001b[49m\n\u001b[1;32m    212\u001b[0m \u001b[43m\u001b[49m\u001b[43m]\u001b[49m\u001b[38;5;241m.\u001b[39mh_mat \u001b[38;5;241m=\u001b[39m \u001b[38;5;28mself\u001b[39m\u001b[38;5;241m.\u001b[39mscene_mngr\u001b[38;5;241m.\u001b[39mscene\u001b[38;5;241m.\u001b[39mrobot\u001b[38;5;241m.\u001b[39mgripper\u001b[38;5;241m.\u001b[39mpick_obj_pose\n\u001b[1;32m    213\u001b[0m \u001b[38;5;28;01mfor\u001b[39;00m obj_name \u001b[38;5;129;01min\u001b[39;00m \u001b[38;5;28mself\u001b[39m\u001b[38;5;241m.\u001b[39mscene_mngr\u001b[38;5;241m.\u001b[39mscene\u001b[38;5;241m.\u001b[39mobjs:\n\u001b[1;32m    214\u001b[0m     obj_pose \u001b[38;5;241m=\u001b[39m \u001b[38;5;28mself\u001b[39m\u001b[38;5;241m.\u001b[39mscene_mngr\u001b[38;5;241m.\u001b[39mscene\u001b[38;5;241m.\u001b[39mobjs[obj_name]\u001b[38;5;241m.\u001b[39mh_mat\n",
      "\u001b[0;31mKeyError\u001b[0m: None"
     ]
    }
   ],
   "source": [
    "start_time = time.time()\n",
    "for i in range(budgets):\n",
    "# for i in range(10):\n",
    "    print(\n",
    "        f\"\\n[{idx+1}/{len(c_list)}] Benchmark: {rearrangement1.scene_mngr.scene.bench_num}, Algo: {algo}, C: {c}, Seed: {seed}\"\n",
    "    )\n",
    "    mcts.do_planning_rearrange(i)\n",
    "\n",
    "    print(\"########### Running time : \", time.time()- start_time, \"##############\")\n",
    "    final_level_1_values.append(mcts.values_for_level_1)\n"
   ]
  },
  {
   "cell_type": "code",
   "execution_count": null,
   "id": "4020445f",
   "metadata": {
    "scrolled": true
   },
   "outputs": [],
   "source": [
    "max_level_1_value = mcts.get_max_value_level_1()\n",
    "print(max_level_1_value, mcts.history_level_1_dict)\n",
    "\n",
    "########## level 1 ##########\n",
    "if mcts.history_level_1_dict:\n",
    "    j, max_value_nodes = mcts.get_max_value_nodes_level_1()\n",
    "    print(f\"Result {j} : \", max_value_nodes)\n",
    "    print(\"state num :\", len(max_value_nodes))\n",
    "#     mcts.render_rearr(\"_\", max_value_nodes)"
   ]
  },
  {
   "cell_type": "code",
   "execution_count": null,
   "id": "5f35994e",
   "metadata": {},
   "outputs": [],
   "source": [
    "max_value_nodes"
   ]
  },
  {
   "cell_type": "code",
   "execution_count": null,
   "id": "97f68b9a",
   "metadata": {
    "scrolled": true
   },
   "outputs": [],
   "source": [
    "for i in mcts.history_level_1_dict[3]['nodes']:\n",
    "    if not mcts.tree.nodes[i]['level1_5']:\n",
    "        print(\"Error\")"
   ]
  },
  {
   "cell_type": "code",
   "execution_count": null,
   "id": "4d263b7a",
   "metadata": {
    "scrolled": true
   },
   "outputs": [],
   "source": [
    "mcts.tree.nodes[6]"
   ]
  },
  {
   "cell_type": "code",
   "execution_count": null,
   "id": "2293f428",
   "metadata": {
    "scrolled": false
   },
   "outputs": [],
   "source": [
    "mcts.tree.nodes[195]"
   ]
  },
  {
   "cell_type": "code",
   "execution_count": 21,
   "id": "fa28409b",
   "metadata": {},
   "outputs": [
    {
     "data": {
      "text/plain": [
       "True"
      ]
     },
     "execution_count": 21,
     "metadata": {},
     "output_type": "execute_result"
    }
   ],
   "source": [
    "from pytamp.search.node_data import NodeData\n",
    "\n",
    "action = mcts.tree.nodes[195].get(NodeData.ACTION)\n",
    "'grasp' in list(action.keys())"
   ]
  },
  {
   "cell_type": "code",
   "execution_count": 36,
   "id": "bf4a2f91",
   "metadata": {},
   "outputs": [
    {
     "data": {
      "text/plain": [
       "True"
      ]
     },
     "execution_count": 36,
     "metadata": {},
     "output_type": "execute_result"
    }
   ],
   "source": [
    "from pytamp.search.node_data import NodeData\n",
    "\n",
    "visited_nodes = [\n",
    "                True for n in max_value_nodes if mcts.tree.nodes[n][NodeData.LEVEL1_5] is True\n",
    "            ]\n",
    "# visited_nodes.append(False)\n",
    "all(visited_nodes)"
   ]
  },
  {
   "cell_type": "code",
   "execution_count": null,
   "id": "e42866d8",
   "metadata": {},
   "outputs": [],
   "source": [
    "# mcts._level_wise_between_1_and_2_optimize(max_value_nodes)"
   ]
  },
  {
   "cell_type": "code",
   "execution_count": 43,
   "id": "23109f3e",
   "metadata": {},
   "outputs": [],
   "source": [
    "# import random\n",
    "# from copy import deepcopy\n",
    "# from pykin.utils.kin_utils import ShellColors as sc\n",
    "\n",
    "# def get_grasp_action_using_contact_graspnet(success_level_1_sub_nodes):\n",
    "#     node_length = int(len(success_level_1_sub_nodes)/2)\n",
    "#     for i in range(node_length):\n",
    "#         current_node = mcts.tree.nodes[success_level_1_sub_nodes[2*i + 1]]\n",
    "#         next_node = mcts.tree.nodes[success_level_1_sub_nodes[2*i + 2]]\n",
    "#         obj_to_manipulate =current_node['action']['rearr_obj_name']\n",
    "        \n",
    "#         print(f\"{sc.COLOR_BROWN}{obj_to_manipulate}{sc.ENDC}\")\n",
    "#         for _ in range(2):\n",
    "#             grasps = mcts.grasp_generator.get_grasp(\n",
    "#                 init_scene = rearrangement1.init_scene,\n",
    "#                 next_node = next_node,\n",
    "#                 current_node = current_node,\n",
    "#                 )\n",
    "#             if len(grasps)>=1:\n",
    "#                 grasp_poses_not_collision = mcts.grasp_generator.get_all_grasps(grasps)\n",
    "#                 current_node[mcts.rearr_action.info.GRASP_POSES] = grasp_poses_not_collision\n",
    "#                 break\n",
    "#         g_ = random.sample(grasp_poses_not_collision,1)\n",
    "#         next_node['action'].update(deepcopy(g_[0]))\n",
    "        "
   ]
  },
  {
   "cell_type": "code",
   "execution_count": 44,
   "id": "a3f0b790",
   "metadata": {},
   "outputs": [
    {
     "name": "stdout",
     "output_type": "stream",
     "text": [
      "\u001b[0;33mcereal0\u001b[0m\n",
      "Extracted Region Cube Size:  0.4\n",
      "Generated 159 grasps for object cereal0\n",
      "Generated Grasp in world coord : (159, 4, 4)\n",
      "Collision free grasps step 1 :  (115, 4, 4)\n",
      "\u001b[0;33mben_cube0\u001b[0m\n",
      "Extracted Region Cube Size:  0.4\n",
      "Generated 21 grasps for object ben_cube0\n",
      "Generated Grasp in world coord : (21, 4, 4)\n",
      "Collision free grasps step 1 :  (0,)\n",
      "Augment 1 _z axis 90' rotation  (21, 4, 4) (21, 4, 4)\n",
      "Collision free grasps step 2 :  (0,)\n",
      "Augment 2 y axis rotation from -pi/3 ~ pi/3 :  (126, 4, 4)\n",
      "Collision free grasps step 3 :  (17, 4, 4)\n",
      "\u001b[0;33mcan0\u001b[0m\n",
      "Extracted Region Cube Size:  0.4\n",
      "Generated 81 grasps for object can0\n",
      "Generated Grasp in world coord : (81, 4, 4)\n",
      "Collision free grasps step 1 :  (73, 4, 4)\n"
     ]
    }
   ],
   "source": [
    "# get_grasp_action_using_contact_graspnet(max_value_nodes)"
   ]
  },
  {
   "cell_type": "code",
   "execution_count": 29,
   "id": "f55af3a1",
   "metadata": {},
   "outputs": [
    {
     "name": "stdout",
     "output_type": "stream",
     "text": [
      "cereal0\n",
      "Extracted Region Cube Size:  0.4\n",
      "Generated 156 grasps for object cereal0\n",
      "Generated Grasp in world coord : (156, 4, 4)\n",
      "Collision free grasps step 1 :  (116, 4, 4)\n",
      "ben_cube0\n",
      "Extracted Region Cube Size:  0.4\n",
      "Generated 4 grasps for object ben_cube0\n",
      "Generated Grasp in world coord : (4, 4, 4)\n",
      "Collision free grasps step 1 :  (0,)\n",
      "Augment 1 _z axis 90' rotation  (4, 4, 4) (4, 4, 4)\n",
      "Collision free grasps step 2 :  (0,)\n",
      "Augment 2 y axis rotation from -pi/3 ~ pi/3 :  (24, 4, 4)\n",
      "Collision free grasps step 3 :  (4, 4, 4)\n",
      "can0\n",
      "Extracted Region Cube Size:  0.4\n",
      "Generated 134 grasps for object can0\n",
      "Generated Grasp in world coord : (134, 4, 4)\n",
      "Collision free grasps step 1 :  (107, 4, 4)\n"
     ]
    }
   ],
   "source": [
    "# node_length = int(len(max_value_nodes)/2)\n",
    "# node_length\n",
    "\n",
    "# for i in range(node_length):\n",
    "#     success_level_1_sub_nodes = max_value_nodes\n",
    "\n",
    "#     current_node = mcts.tree.nodes[success_level_1_sub_nodes[2*i + 1]]\n",
    "#     next_node = mcts.tree.nodes[success_level_1_sub_nodes[2*i + 2]]\n",
    "#     obj_to_manipulate =current_node['action']['rearr_obj_name']\n",
    "    \n",
    "#     print(obj_to_manipulate)\n",
    "#     for _ in range(2):\n",
    "#         grasps = mcts.grasp_generator.get_grasp(\n",
    "#             init_scene = rearrangement1.init_scene,\n",
    "#             next_node = next_node,\n",
    "#             current_node = current_node,\n",
    "#             )\n",
    "#         if len(grasps)>=1:\n",
    "#             grasp_poses_not_collision = mcts.grasp_generator.get_all_grasps(grasps)\n",
    "#             current_node[mcts.rearr_action.info.GRASP_POSES] = grasp_poses_not_collision\n",
    "#             break\n",
    "            \n",
    "#     g_ = random.sample(grasp_poses_not_collision,1)\n",
    "#     next_node['action'].update(deepcopy(g_[0]))"
   ]
  },
  {
   "cell_type": "code",
   "execution_count": 16,
   "id": "553ca45f",
   "metadata": {
    "scrolled": true
   },
   "outputs": [],
   "source": [
    "i = 2\n",
    "current_node = mcts.tree.nodes[max_value_nodes[2*i + 1]]\n",
    "next_node = mcts.tree.nodes[max_value_nodes[2*i + 2]]"
   ]
  },
  {
   "cell_type": "code",
   "execution_count": 17,
   "id": "222c44bc",
   "metadata": {},
   "outputs": [
    {
     "data": {
      "text/plain": [
       "array([[ 0.62290299,  0.78229909,  0.        ,  0.64783705],\n",
       "       [-0.78229909,  0.62290299,  0.        , -0.22660323],\n",
       "       [ 0.        ,  0.        ,  1.        ,  0.85059666],\n",
       "       [ 0.        ,  0.        ,  0.        ,  1.        ]])"
      ]
     },
     "execution_count": 17,
     "metadata": {},
     "output_type": "execute_result"
    }
   ],
   "source": [
    "current_node['state'].objs['can0'].h_mat"
   ]
  },
  {
   "cell_type": "code",
   "execution_count": 18,
   "id": "3da3731f",
   "metadata": {},
   "outputs": [
    {
     "data": {
      "text/plain": [
       "array([[-0.20671508,  0.97840118,  0.        ,  0.58836741],\n",
       "       [-0.97840118, -0.20671508,  0.        ,  0.27068778],\n",
       "       [ 0.        ,  0.        ,  1.        ,  0.85059666],\n",
       "       [ 0.        ,  0.        ,  0.        ,  1.        ]])"
      ]
     },
     "execution_count": 18,
     "metadata": {},
     "output_type": "execute_result"
    }
   ],
   "source": [
    "next_node['state'].objs['can0'].h_mat"
   ]
  },
  {
   "cell_type": "code",
   "execution_count": 19,
   "id": "691dd2a5",
   "metadata": {
    "scrolled": true
   },
   "outputs": [
    {
     "name": "stdout",
     "output_type": "stream",
     "text": [
      "{'grasp': array([[-0.99661827,  0.08016982,  0.01802237,  0.65041571],\n",
      "       [ 0.08011892,  0.99677908, -0.00353011, -0.22813675],\n",
      "       [-0.0182473 , -0.00207418, -0.99983133,  0.98160718],\n",
      "       [ 0.        ,  0.        ,  0.        ,  1.        ]]), 'pre_grasp': array([[-0.9966183 ,  0.08016982,  0.01802237,  0.64861345],\n",
      "       [ 0.08011892,  0.9967791 , -0.00353011, -0.22778374],\n",
      "       [-0.0182473 , -0.00207418, -0.9998313 ,  1.0815903 ],\n",
      "       [ 0.        ,  0.        ,  0.        ,  1.        ]],\n",
      "      dtype=float32), 'post_grasp': array([[-0.9966183 ,  0.08016982,  0.01802237,  0.6504157 ],\n",
      "       [ 0.08011892,  0.9967791 , -0.00353011, -0.22813675],\n",
      "       [-0.0182473 , -0.00207418, -0.9998313 ,  1.0816072 ],\n",
      "       [ 0.        ,  0.        ,  0.        ,  1.        ]],\n",
      "      dtype=float32)}\n",
      "{'grasp': array([[-0.85476411,  0.50344304,  0.12618814,  0.63636042],\n",
      "       [ 0.47788331,  0.85826552, -0.18710381, -0.20925424],\n",
      "       [-0.20249905, -0.0996264 , -0.97420156,  0.96610308],\n",
      "       [ 0.        ,  0.        ,  0.        ,  1.        ]]), 'pre_grasp': array([[-0.8547641 ,  0.50344306,  0.12618814,  0.6237416 ],\n",
      "       [ 0.4778833 ,  0.8582655 , -0.18710381, -0.19054386],\n",
      "       [-0.20249905, -0.0996264 , -0.97420156,  1.0635233 ],\n",
      "       [ 0.        ,  0.        ,  0.        ,  1.        ]],\n",
      "      dtype=float32), 'post_grasp': array([[-0.8547641 ,  0.50344306,  0.12618814,  0.6363604 ],\n",
      "       [ 0.4778833 ,  0.8582655 , -0.18710381, -0.20925424],\n",
      "       [-0.20249905, -0.0996264 , -0.97420156,  1.0661031 ],\n",
      "       [ 0.        ,  0.        ,  0.        ,  1.        ]],\n",
      "      dtype=float32)}\n",
      "{'grasp': array([[-0.52583815,  0.82357672,  0.21263938,  0.62161937],\n",
      "       [ 0.78408629,  0.5662384 , -0.25413117, -0.20303512],\n",
      "       [-0.32970112,  0.03309573, -0.94350507,  0.97132831],\n",
      "       [ 0.        ,  0.        ,  0.        ,  1.        ]]), 'pre_grasp': array([[-0.52583814,  0.82357675,  0.21263938,  0.60035545],\n",
      "       [ 0.7840863 ,  0.5662384 , -0.25413117, -0.177622  ],\n",
      "       [-0.32970113,  0.03309573, -0.94350505,  1.0656788 ],\n",
      "       [ 0.        ,  0.        ,  0.        ,  1.        ]],\n",
      "      dtype=float32), 'post_grasp': array([[-0.52583814,  0.82357675,  0.21263938,  0.62161934],\n",
      "       [ 0.7840863 ,  0.5662384 , -0.25413117, -0.20303512],\n",
      "       [-0.32970113,  0.03309573, -0.94350505,  1.0713283 ],\n",
      "       [ 0.        ,  0.        ,  0.        ,  1.        ]],\n",
      "      dtype=float32)}\n",
      "{'grasp': array([[-0.80838965,  0.52124532,  0.27351329,  0.62069507],\n",
      "       [ 0.47184145,  0.85159725, -0.22835915, -0.20483162],\n",
      "       [-0.35195429, -0.05554826, -0.93436741,  0.97094416],\n",
      "       [ 0.        ,  0.        ,  0.        ,  1.        ]]), 'pre_grasp': array([[-0.80838966,  0.5212453 ,  0.2735133 ,  0.59334373],\n",
      "       [ 0.47184145,  0.85159725, -0.22835915, -0.1819957 ],\n",
      "       [-0.35195428, -0.05554826, -0.9343674 ,  1.0643809 ],\n",
      "       [ 0.        ,  0.        ,  0.        ,  1.        ]],\n",
      "      dtype=float32), 'post_grasp': array([[-0.80838966,  0.5212453 ,  0.2735133 ,  0.62069505],\n",
      "       [ 0.47184145,  0.85159725, -0.22835915, -0.20483162],\n",
      "       [-0.35195428, -0.05554826, -0.9343674 ,  1.0709442 ],\n",
      "       [ 0.        ,  0.        ,  0.        ,  1.        ]],\n",
      "      dtype=float32)}\n",
      "{'grasp': array([[-0.94702612,  0.32114634, -0.0025698 ,  0.6488211 ],\n",
      "       [ 0.31978473,  0.94221163, -0.09987485, -0.21738732],\n",
      "       [-0.02965314, -0.09540586, -0.99499671,  0.96729281],\n",
      "       [ 0.        ,  0.        ,  0.        ,  1.        ]]), 'pre_grasp': array([[-0.94702613,  0.32114634, -0.0025698 ,  0.6490781 ],\n",
      "       [ 0.31978473,  0.9422116 , -0.09987485, -0.20739985],\n",
      "       [-0.02965314, -0.09540586, -0.9949967 ,  1.0667925 ],\n",
      "       [ 0.        ,  0.        ,  0.        ,  1.        ]],\n",
      "      dtype=float32), 'post_grasp': array([[-0.94702613,  0.32114634, -0.0025698 ,  0.6488211 ],\n",
      "       [ 0.31978473,  0.9422116 , -0.09987485, -0.21738732],\n",
      "       [-0.02965314, -0.09540586, -0.9949967 ,  1.0672928 ],\n",
      "       [ 0.        ,  0.        ,  0.        ,  1.        ]],\n",
      "      dtype=float32)}\n"
     ]
    },
    {
     "data": {
      "image/png": "[encoded data removed]",
      "text/plain": [
       "<Figure size 1200x800 with 1 Axes>"
      ]
     },
     "metadata": {},
     "output_type": "display_data"
    }
   ],
   "source": [
    "fig, ax = p_utils.init_3d_figure(name=\"Level wise 1\")\n",
    "\n",
    "for grasps in current_node['grasp_poses']:\n",
    "    for i,o in current_node['state'].objs.items():\n",
    "        mcts.rearr_action.scene_mngr.set_object_pose(i,o.h_mat)\n",
    "    print(grasps)\n",
    "    mcts.rearr_action.scene_mngr.set_gripper_pose(grasps['grasp'])\n",
    "    mcts.rearr_action.scene_mngr.render_gripper(ax)\n",
    "\n",
    "    mcts.rearr_action.scene_mngr.render_axis(ax, grasps['grasp'])\n",
    "    mcts.rearr_action.scene_mngr.render_axis(ax, grasps['pre_grasp'])\n",
    "    mcts.rearr_action.scene_mngr.render_axis(ax, grasps['post_grasp'])\n",
    "#     mcts.rearr_action.scene_mngr.render_axis(ax, mcts.rearr_action.scene_mngr.scene.robot.gripper.get_gripper_tcp_pose())\n",
    "    \n",
    "mcts.rearr_action.scene_mngr.render_objects(ax)\n",
    "p_utils.plot_basis(ax)\n",
    "mcts.rearr_action.show()"
   ]
  },
  {
   "cell_type": "code",
   "execution_count": 33,
   "id": "38b4e72e",
   "metadata": {},
   "outputs": [
    {
     "data": {
      "text/plain": [
       "{'table': \u001b[95mObject\u001b[0m(name=table, pos=[ 0.9   -0.6    0.043]),\n",
       " 'ben_cube0': \u001b[95mObject\u001b[0m(name=ben_cube0, pos=[ 0.39377654 -0.05920111  0.83529998]),\n",
       " 'can0': \u001b[95mObject\u001b[0m(name=can0, pos=[0.58836741 0.27068778 0.85059666]),\n",
       " 'cereal0': \u001b[95mObject\u001b[0m(name=cereal0, pos=[0.40992969 0.07529909 0.88526188])}"
      ]
     },
     "execution_count": 33,
     "metadata": {},
     "output_type": "execute_result"
    }
   ],
   "source": [
    "next_node['state'].objs"
   ]
  },
  {
   "cell_type": "code",
   "execution_count": null,
   "id": "02b209cd",
   "metadata": {},
   "outputs": [],
   "source": []
  },
  {
   "cell_type": "code",
   "execution_count": null,
   "id": "2e22794e",
   "metadata": {},
   "outputs": [],
   "source": []
  },
  {
   "cell_type": "code",
   "execution_count": null,
   "id": "26dab684",
   "metadata": {},
   "outputs": [],
   "source": []
  },
  {
   "cell_type": "code",
   "execution_count": null,
   "id": "90cf8819",
   "metadata": {},
   "outputs": [],
   "source": []
  }
 ],
 "metadata": {
  "kernelspec": {
   "display_name": "contact_graspnet",
   "language": "python",
   "name": "contact_graspnet"
  },
  "language_info": {
   "codemirror_mode": {
    "name": "ipython",
    "version": 3
   },
   "file_extension": ".py",
   "mimetype": "text/x-python",
   "name": "python",
   "nbconvert_exporter": "python",
   "pygments_lexer": "ipython3",
   "version": "3.8.16"
  }
 },
 "nbformat": 4,
 "nbformat_minor": 5
}
